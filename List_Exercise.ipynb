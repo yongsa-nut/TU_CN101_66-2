{
  "nbformat": 4,
  "nbformat_minor": 0,
  "metadata": {
    "colab": {
      "provenance": [],
      "authorship_tag": "ABX9TyOtK2xByfAbhuWTh7inJc0+",
      "include_colab_link": true
    },
    "kernelspec": {
      "name": "python3",
      "display_name": "Python 3"
    },
    "language_info": {
      "name": "python"
    }
  },
  "cells": [
    {
      "cell_type": "markdown",
      "metadata": {
        "id": "view-in-github",
        "colab_type": "text"
      },
      "source": [
        "<a href=\"https://colab.research.google.com/github/yongsa-nut/TU_Intro_Prog/blob/main/List_Exercise.ipynb\" target=\"_parent\"><img src=\"https://colab.research.google.com/assets/colab-badge.svg\" alt=\"Open In Colab\"/></a>"
      ]
    },
    {
      "cell_type": "markdown",
      "source": [
        "**Q1** What will the following code print out?\n",
        "\n",
        "```\n",
        "seq1 = [1,2,3,4,5,4,3,2,1]\n",
        "print(seq1[0], seq1[2], seq1[5], seq1[-1])\n",
        "```"
      ],
      "metadata": {
        "id": "hmleSOT4acuU"
      }
    },
    {
      "cell_type": "code",
      "execution_count": null,
      "metadata": {
        "id": "wRDTo93haaB1"
      },
      "outputs": [],
      "source": []
    },
    {
      "cell_type": "markdown",
      "source": [
        "**Q2:** What will the following code print out?\n",
        "\n",
        "```\n",
        "temp = [5,5,4,4,4,3,3]\n",
        "temp[0] = 1\n",
        "temp[1] = len(temp)\n",
        "temp[len(temp)-1] = temp[0]*2\n",
        "print(temp)\n",
        "```"
      ],
      "metadata": {
        "id": "j-Pnl7Nnajhv"
      }
    },
    {
      "cell_type": "code",
      "source": [],
      "metadata": {
        "id": "dXU9l0G3amPN"
      },
      "execution_count": null,
      "outputs": []
    },
    {
      "cell_type": "markdown",
      "source": [
        "**Q3**: What will the following code print out?\n",
        "\n",
        "```\n",
        "names = ['Adam','Lily','Sarah','Thomas','Zara']\n",
        "\n",
        "for i in range(len(names)):\n",
        "  print(i, names[i], end=',')\n",
        "\n",
        "```"
      ],
      "metadata": {
        "id": "woGfD20-al2o"
      }
    },
    {
      "cell_type": "code",
      "source": [],
      "metadata": {
        "id": "NvDUos7xcKZ3"
      },
      "execution_count": null,
      "outputs": []
    },
    {
      "cell_type": "markdown",
      "source": [
        "**Q4**: What will the following code print out?\n",
        "\n",
        "```\n",
        "chars = ['A','B','C','D','E','F','G']\n",
        "print(chars[1], chars[1:2], chars[1:3], chars[-1:-3:-1])\n",
        "print(char[4:])\n",
        "print(chars[::-1])\n",
        "```"
      ],
      "metadata": {
        "id": "sXb22WDicKn1"
      }
    },
    {
      "cell_type": "code",
      "source": [],
      "metadata": {
        "id": "oEgFdutbc-ta"
      },
      "execution_count": null,
      "outputs": []
    },
    {
      "cell_type": "markdown",
      "source": [
        "**Q5**: Fill in the blank so that the program print out [3, 5, 7].\n",
        "\n",
        "```\n",
        "temp = [1,2,3] + [4,5,6] + [7,8,9]\n",
        "print(temp[___])\n",
        "```"
      ],
      "metadata": {
        "id": "jgkbw1rCdZ7Y"
      }
    },
    {
      "cell_type": "code",
      "source": [],
      "metadata": {
        "id": "x9JecI6ndZnH"
      },
      "execution_count": null,
      "outputs": []
    },
    {
      "cell_type": "markdown",
      "source": [
        "**Q6**: What will the following program print out?\n",
        "\n",
        "```\n",
        "target = 'E'\n",
        "if target in ['A','B','C']:\n",
        "  print([target]*1)\n",
        "elif target in ['A','D','FE']:\n",
        "  print([target]*2)\n",
        "elif target in ['A','E','I','O','U']:\n",
        "  print([target]*3)\n",
        "else:\n",
        "  print([target]*4)\n",
        "```"
      ],
      "metadata": {
        "id": "hmTMTPe6eXMM"
      }
    },
    {
      "cell_type": "code",
      "source": [],
      "metadata": {
        "id": "L9oNhTQCeWz2"
      },
      "execution_count": null,
      "outputs": []
    },
    {
      "cell_type": "markdown",
      "source": [
        "**Q7**: What will the following program print out?\n",
        "\n",
        "```\n",
        "results = []\n",
        "for i in range(1,11):\n",
        "  if i%2 == 0:\n",
        "    results.append(i+1)\n",
        "print(results)\n",
        "```"
      ],
      "metadata": {
        "id": "k47W65AwfD4J"
      }
    },
    {
      "cell_type": "markdown",
      "source": [
        "**Q8:** What will the following program print out?\n",
        "\n",
        "```\n",
        "list1 = [1,2,3]\n",
        "list1.insert(2,55)\n",
        "list1.insert(2,44)\n",
        "list1.remove(1)\n",
        "list1.reverse()\n",
        "print(list1)\n",
        "```"
      ],
      "metadata": {
        "id": "Iaz26AWAfvrh"
      }
    },
    {
      "cell_type": "code",
      "source": [],
      "metadata": {
        "id": "EwQd4IHygSio"
      },
      "execution_count": null,
      "outputs": []
    },
    {
      "cell_type": "markdown",
      "source": [
        "**Q9**: What will the following program print out?\n",
        "```\n",
        "list1 = [1,2,3,4,5]\n",
        "list2 = list1\n",
        "list1[0] = 9\n",
        "list2[1] = 7\n",
        "list1[-1] = list2[0]*list1[1]\n",
        "print(list2)\n",
        "```"
      ],
      "metadata": {
        "id": "dE9kPszxgW9K"
      }
    },
    {
      "cell_type": "code",
      "source": [],
      "metadata": {
        "id": "FB5FJqGhgcUQ"
      },
      "execution_count": null,
      "outputs": []
    },
    {
      "cell_type": "markdown",
      "source": [
        "**Q10**: What will the following program print out?\n",
        "```\n",
        "# pass by reference\n",
        "\n",
        "def do_x(seq):\n",
        "  seq[0][1] = 9\n",
        "  seq[2][1] = 'x'\n",
        "  print(seq)\n",
        "\n",
        "my_list = [[1,2],[3,4],[5,6]]\n",
        "do_x(my_list)\n",
        "print(my_list)\n",
        "```"
      ],
      "metadata": {
        "id": "Zm-kCYyPgcgr"
      }
    },
    {
      "cell_type": "code",
      "source": [],
      "metadata": {
        "id": "RaRj6yUIgf-A"
      },
      "execution_count": null,
      "outputs": []
    },
    {
      "cell_type": "markdown",
      "source": [
        "**Q11**: FizzBuzz\n",
        "\n",
        "Given an integer $n$, return a list $answer$ where:\n",
        "\n",
        "* $\\texttt{answer[i] == \"FizzBuzz\"}$ if $\\texttt{i}$ is divisible by 3 and 5.\n",
        "* $\\texttt{answer[i] == \"Fizz\"}$ if $\\texttt{i}$ is divisible by 3.\n",
        "* $\\texttt{answer[i] == \"Buzz\"}$ if $\\texttt{i}$ is divisible by 5.\n",
        "* $\\texttt{answer[i] == i}$ if none of the above conditions are true.\n",
        "\n",
        "Note:\n",
        "* You must create a function $\\texttt{FizzBuzz}$ that takes in one integer and return a list.\n",
        "* Special: for people who would like some challenge, try to solve this problem without using $\\texttt{%}$.\n",
        "* This is a famous problem, read more here if you are interested in its history: [The original post](https://blog.codinghorror.com/why-cant-programmers-program/), [some drama](https://www.reddit.com/r/programming/comments/35mq2s/designer_applies_for_js_job_fails_at_fizzbuzz/), and [a more recent post](https://www.reddit.com/r/cscareerquestions/comments/wmfqs5/does_anyone_else_still_get_asked_fizzbuzz/).\n",
        "\n",
        "Example 1:\n",
        "\n",
        "```\n",
        "Enter n: 3\n",
        "[\"1\",\"2\",\"Fizz\"]\n",
        "```\n",
        "\n",
        "Example 2:\n",
        "\n",
        "```\n",
        "Enter n: 5\n",
        "[\"1\",\"2\",\"Fizz\",\"4\",\"Buzz\"]\n",
        "```\n",
        "\n",
        "Example 3:\n",
        "\n",
        "```\n",
        "Enter n: 15\n",
        "[\"1\",\"2\",\"Fizz\",\"4\",\"Buzz\",\"Fizz\",\"7\",\"8\",\"Fizz\",\"Buzz\",\"11\",\"Fizz\",\"13\",\"14\",\"FizzBuzz\"]\n",
        "```"
      ],
      "metadata": {
        "id": "x7zz-AuliMn7"
      }
    },
    {
      "cell_type": "code",
      "source": [],
      "metadata": {
        "id": "J_Plg-7ViM4O"
      },
      "execution_count": null,
      "outputs": []
    }
  ]
}