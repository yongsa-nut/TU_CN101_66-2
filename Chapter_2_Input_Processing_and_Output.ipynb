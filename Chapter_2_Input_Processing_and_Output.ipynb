{
  "nbformat": 4,
  "nbformat_minor": 0,
  "metadata": {
    "colab": {
      "provenance": [],
      "authorship_tag": "ABX9TyODFBozZ9kR5si+25Vem1ec",
      "include_colab_link": true
    },
    "kernelspec": {
      "name": "python3",
      "display_name": "Python 3"
    },
    "language_info": {
      "name": "python"
    }
  },
  "cells": [
    {
      "cell_type": "markdown",
      "metadata": {
        "id": "view-in-github",
        "colab_type": "text"
      },
      "source": [
        "<a href=\"https://colab.research.google.com/github/yongsa-nut/TU_Intro_Prog/blob/main/Chapter_2_Input_Processing_and_Output.ipynb\" target=\"_parent\"><img src=\"https://colab.research.google.com/assets/colab-badge.svg\" alt=\"Open In Colab\"/></a>"
      ]
    },
    {
      "cell_type": "markdown",
      "source": [
        "# Chapter 2: Input, Processing, and Output\n",
        "\n",
        "https://github.com/yongsa-nut/TU_Intro_Prog/"
      ],
      "metadata": {
        "id": "2kZGr2bMHJOh"
      }
    },
    {
      "cell_type": "markdown",
      "source": [
        "## Logistic (01/15/2024)\n",
        "\n",
        "* No Team yet. They are fixing it.\n",
        "\n",
        "* Meanwhile, we have discord: https://discord.gg/fZWwETk2\n",
        "\n",
        "* Google account for google colab!\n",
        "\n",
        "* Each topic is built on top of each other. Make sure you understand today's material.\n",
        "\n",
        "* Ask questions, come talk to me after class or discord if you don't understand anything."
      ],
      "metadata": {
        "id": "bxG11hLfgHUj"
      }
    },
    {
      "cell_type": "markdown",
      "source": [
        "## Using Colab\n",
        "* Save the notebook to your google drive first!\n",
        "  * File > Save a copy in drive\n",
        "  * Or else you won't be able to save changes you make\n",
        "\n",
        "![save_to_drive.png](https://drive.google.com/uc?export=view&id=1OYaR1Dp_OdoShe0nWmcbpuQqYf-kuZAz)"
      ],
      "metadata": {
        "id": "TqdJ1Vi-gKW_"
      }
    },
    {
      "cell_type": "markdown",
      "source": [
        "![google_colab.png](https://drive.google.com/uc?export=view&id=1OTYo_sTEuz6nGkrrIEBp7DYWHa-BzSkp)"
      ],
      "metadata": {
        "id": "lrlsuReAgbHn"
      }
    },
    {
      "cell_type": "markdown",
      "source": [
        "## Program Development Cycle\n",
        "* Programs must be designed before they are written\n",
        "* Program development cycle:\n",
        "\n",
        "![programing flow.png](https://drive.google.com/uc?export=view&id=1PW9mzTOPbNXibgqIBYTLP7NQ9NeOXHBs)"
      ],
      "metadata": {
        "id": "WDN4Xyx-HdnQ"
      }
    },
    {
      "cell_type": "markdown",
      "source": [
        "## Designing a problem:\n",
        "  1. Understanding the task or problem\n",
        "  \n",
        "  2. Break down the task into a series of steps or subtasks\n",
        "  \n",
        "  3. Create an algorithm, listing logical steps that must be taken\n",
        "\n",
        "* Algorithm (Algo): a set of well-defined logical instructions"
      ],
      "metadata": {
        "id": "8lumOlTIKj6y"
      }
    },
    {
      "cell_type": "markdown",
      "source": [
        "## Pseudocode\n",
        "\n",
        "* Informal description of a program or algorithm\n",
        "* Example:\n",
        "  * A program to calculate and display the gross pay for an hourly paid employee\n",
        "  * Pseudocode:\n",
        "     * Input the hours worked\n",
        "     * Input the hourly pay rate\n",
        "     * Gross pay = hours worked multiplied by pay rate\n",
        "     * Display the gross pay\n",
        "\n",
        "\n"
      ],
      "metadata": {
        "id": "u51kWamGK0FD"
      }
    },
    {
      "cell_type": "markdown",
      "source": [
        "## Flowcharts\n",
        "\n",
        "* **Flowchart**: diagram that graphically depicts the steps in a program\n",
        "\n",
        "* **Ovals** are terminal symbols\n",
        "\n",
        "* **Parallelograms** are input and output symbols\n",
        "\n",
        "* **Rectangles** are processing symbols\n",
        "\n",
        "* **Diamonds** are decision symbols\n",
        "\n",
        "* Symbols are connected by arrows that represent the flow of the program\n"
      ],
      "metadata": {
        "id": "jcN_YgWuQ6RC"
      }
    },
    {
      "cell_type": "code",
      "source": [
        "#@title Flowchat example\n",
        "from graphviz import Digraph\n",
        "# Create Digraph object\n",
        "dot = Digraph()\n",
        "\n",
        "# Add nodes 1 and 2\n",
        "dot.node('1','Start', shape = 'oval')\n",
        "dot.node('2','Input the hours worked', shape = 'parallelogram')\n",
        "dot.node('3','Input the hourly pay rate', shape = 'parallelogram')\n",
        "dot.node('4','Gross pay = hours worked multiplied by pay rate', shape ='box')\n",
        "dot.node('5','Display the gross pay', shape ='parallelogram')\n",
        "dot.node('6','End', shape = 'oval')\n",
        "\n",
        "# Add edge between 1 and 2\n",
        "dot.edges(['12','23','34','45','56'])\n",
        "\n",
        "dot"
      ],
      "metadata": {
        "colab": {
          "base_uri": "https://localhost:8080/",
          "height": 560
        },
        "id": "t-CfTuvQRjk3",
        "outputId": "fb31a134-0464-41b2-8762-db46a68e393b",
        "cellView": "form"
      },
      "execution_count": null,
      "outputs": [
        {
          "output_type": "execute_result",
          "data": {
            "image/svg+xml": "<?xml version=\"1.0\" encoding=\"UTF-8\" standalone=\"no\"?>\n<!DOCTYPE svg PUBLIC \"-//W3C//DTD SVG 1.1//EN\"\n \"http://www.w3.org/Graphics/SVG/1.1/DTD/svg11.dtd\">\n<!-- Generated by graphviz version 2.43.0 (0)\n -->\n<!-- Title: %3 Pages: 1 -->\n<svg width=\"298pt\" height=\"404pt\"\n viewBox=\"0.00 0.00 297.69 404.00\" xmlns=\"http://www.w3.org/2000/svg\" xmlns:xlink=\"http://www.w3.org/1999/xlink\">\n<g id=\"graph0\" class=\"graph\" transform=\"scale(1 1) rotate(0) translate(4 400)\">\n<title>%3</title>\n<polygon fill=\"white\" stroke=\"transparent\" points=\"-4,4 -4,-400 293.69,-400 293.69,4 -4,4\"/>\n<!-- 1 -->\n<g id=\"node1\" class=\"node\">\n<title>1</title>\n<ellipse fill=\"none\" stroke=\"black\" cx=\"144.85\" cy=\"-378\" rx=\"27.1\" ry=\"18\"/>\n<text text-anchor=\"middle\" x=\"144.85\" y=\"-374.3\" font-family=\"Times,serif\" font-size=\"14.00\">Start</text>\n</g>\n<!-- 2 -->\n<g id=\"node2\" class=\"node\">\n<title>2</title>\n<polygon fill=\"none\" stroke=\"black\" points=\"280.89,-324 64.48,-324 8.81,-288 225.22,-288 280.89,-324\"/>\n<text text-anchor=\"middle\" x=\"144.85\" y=\"-302.3\" font-family=\"Times,serif\" font-size=\"14.00\">Input the hours worked</text>\n</g>\n<!-- 1&#45;&gt;2 -->\n<g id=\"edge1\" class=\"edge\">\n<title>1&#45;&gt;2</title>\n<path fill=\"none\" stroke=\"black\" d=\"M144.85,-359.7C144.85,-351.98 144.85,-342.71 144.85,-334.11\"/>\n<polygon fill=\"black\" stroke=\"black\" points=\"148.35,-334.1 144.85,-324.1 141.35,-334.1 148.35,-334.1\"/>\n</g>\n<!-- 3 -->\n<g id=\"node3\" class=\"node\">\n<title>3</title>\n<polygon fill=\"none\" stroke=\"black\" points=\"289.54,-252 59.37,-252 0.15,-216 230.33,-216 289.54,-252\"/>\n<text text-anchor=\"middle\" x=\"144.85\" y=\"-230.3\" font-family=\"Times,serif\" font-size=\"14.00\">Input the hourly pay rate</text>\n</g>\n<!-- 2&#45;&gt;3 -->\n<g id=\"edge2\" class=\"edge\">\n<title>2&#45;&gt;3</title>\n<path fill=\"none\" stroke=\"black\" d=\"M144.85,-287.7C144.85,-279.98 144.85,-270.71 144.85,-262.11\"/>\n<polygon fill=\"black\" stroke=\"black\" points=\"148.35,-262.1 144.85,-252.1 141.35,-262.1 148.35,-262.1\"/>\n</g>\n<!-- 4 -->\n<g id=\"node4\" class=\"node\">\n<title>4</title>\n<polygon fill=\"none\" stroke=\"black\" points=\"287.85,-180 1.85,-180 1.85,-144 287.85,-144 287.85,-180\"/>\n<text text-anchor=\"middle\" x=\"144.85\" y=\"-158.3\" font-family=\"Times,serif\" font-size=\"14.00\">Gross pay = hours worked multiplied by pay rate</text>\n</g>\n<!-- 3&#45;&gt;4 -->\n<g id=\"edge3\" class=\"edge\">\n<title>3&#45;&gt;4</title>\n<path fill=\"none\" stroke=\"black\" d=\"M144.85,-215.7C144.85,-207.98 144.85,-198.71 144.85,-190.11\"/>\n<polygon fill=\"black\" stroke=\"black\" points=\"148.35,-190.1 144.85,-180.1 141.35,-190.1 148.35,-190.1\"/>\n</g>\n<!-- 5 -->\n<g id=\"node5\" class=\"node\">\n<title>5</title>\n<polygon fill=\"none\" stroke=\"black\" points=\"272.73,-108 69.29,-108 16.96,-72 220.4,-72 272.73,-108\"/>\n<text text-anchor=\"middle\" x=\"144.85\" y=\"-86.3\" font-family=\"Times,serif\" font-size=\"14.00\">Display the gross pay</text>\n</g>\n<!-- 4&#45;&gt;5 -->\n<g id=\"edge4\" class=\"edge\">\n<title>4&#45;&gt;5</title>\n<path fill=\"none\" stroke=\"black\" d=\"M144.85,-143.7C144.85,-135.98 144.85,-126.71 144.85,-118.11\"/>\n<polygon fill=\"black\" stroke=\"black\" points=\"148.35,-118.1 144.85,-108.1 141.35,-118.1 148.35,-118.1\"/>\n</g>\n<!-- 6 -->\n<g id=\"node6\" class=\"node\">\n<title>6</title>\n<ellipse fill=\"none\" stroke=\"black\" cx=\"144.85\" cy=\"-18\" rx=\"27\" ry=\"18\"/>\n<text text-anchor=\"middle\" x=\"144.85\" y=\"-14.3\" font-family=\"Times,serif\" font-size=\"14.00\">End</text>\n</g>\n<!-- 5&#45;&gt;6 -->\n<g id=\"edge5\" class=\"edge\">\n<title>5&#45;&gt;6</title>\n<path fill=\"none\" stroke=\"black\" d=\"M144.85,-71.7C144.85,-63.98 144.85,-54.71 144.85,-46.11\"/>\n<polygon fill=\"black\" stroke=\"black\" points=\"148.35,-46.1 144.85,-36.1 141.35,-46.1 148.35,-46.1\"/>\n</g>\n</g>\n</svg>\n",
            "text/plain": [
              "<graphviz.graphs.Digraph at 0x7f13661d9690>"
            ]
          },
          "metadata": {},
          "execution_count": 1
        }
      ]
    },
    {
      "cell_type": "markdown",
      "source": [
        "## Input, Processing, and Output\n",
        "* Typically, computer performs three-step process\n",
        "* Receive input\n",
        "  * Input: any data that the program receives while it is running\n",
        "* Perform some process on the input\n",
        "  * **The sequence of process**: Top to Bottom. One line at a time.\n",
        "  * Example: mathematical calculation\n",
        "* Produce output\n"
      ],
      "metadata": {
        "id": "qq3BbJZvV5LY"
      }
    },
    {
      "cell_type": "markdown",
      "source": [
        "## Displaying output = $\\texttt{print}$\n",
        "\n",
        "* $\\texttt{print}$ function: displays output on the screen\n",
        "* function = a prewritten code that performs an operator\n",
        "* argument = data given to a function"
      ],
      "metadata": {
        "id": "UKiZV2L4Ztq0"
      }
    },
    {
      "cell_type": "markdown",
      "source": [
        "## Strings and string literals\n",
        "* **String**: sequence of characters that is used as data\n",
        "* **String literal**: string that appears in actual code of a program\n",
        "* Three ways of declaring a string:\n",
        "  1. Single quotation mark (')\n",
        "  2. Double quotation mark (\")  \n",
        "  3. Triple quotes (''' or \"\"\"): can use both ' and \" and newline (\\n)"
      ],
      "metadata": {
        "id": "jK30KfUBdTlY"
      }
    },
    {
      "cell_type": "code",
      "source": [
        "print('Hello world')"
      ],
      "metadata": {
        "id": "CZlLfObWa6Tx"
      },
      "execution_count": null,
      "outputs": []
    },
    {
      "cell_type": "code",
      "source": [
        "print('Kate Austen')\n",
        "print('123 Full Circle Drive')\n",
        "print('Ashevilla, NC 28999')\n",
        "\n",
        "print(\"Kate Austen\")\n",
        "print(\"123 Full Circle Drive\")\n",
        "print(\"Ashevilla, NC 28999\")"
      ],
      "metadata": {
        "id": "k0ckXqtodEVC"
      },
      "execution_count": null,
      "outputs": []
    },
    {
      "cell_type": "code",
      "source": [
        "print(\"Don't fear!\")\n",
        "print(\"I'm hear!\")\n",
        "\n",
        "print('Your assigment is to read \"Hamlet\" by tomorrow.')"
      ],
      "metadata": {
        "id": "N2d_62g1fHC2"
      },
      "execution_count": null,
      "outputs": []
    },
    {
      "cell_type": "code",
      "source": [
        "print(\"\"\"One\n",
        "Two\n",
        "Three\n",
        "I'm \"Jimmy\"\n",
        "\"\"\")"
      ],
      "metadata": {
        "id": "_CcxfFg8fXq6"
      },
      "execution_count": null,
      "outputs": []
    },
    {
      "cell_type": "markdown",
      "source": [
        "## Comments\n",
        "* Comments: Note of explanation within program\n",
        "* Ignored by Python interpreter\n",
        "* Begin with a # character\n",
        "* Use to explain the code (**very important!!**)"
      ],
      "metadata": {
        "id": "Rp_9N8tWgCS2"
      }
    },
    {
      "cell_type": "code",
      "source": [
        "## This program displays a person's name and address\n",
        "print(\"Kate Austen\")                  ## Name\n",
        "print(\"123 Full Circle Drive\")        ## Address 1\n",
        "print(\"Ashevilla, NC 28999\")          ## City, State, Zipcode"
      ],
      "metadata": {
        "id": "NIlk0Shtgn2_"
      },
      "execution_count": null,
      "outputs": []
    },
    {
      "cell_type": "markdown",
      "source": [
        "## Codes and Characters\n",
        "* Each character is coded as a byte\n",
        "* Most common coding system is ASCII (Pronounced as-key)\n",
        "* ASCII = American National Standard Code for Information Interchange"
      ],
      "metadata": {
        "id": "ULBe9LsZV5Jf"
      }
    },
    {
      "cell_type": "markdown",
      "source": [
        "## ASCII Features\n",
        "* 7-bit code\n",
        "* $2^7$ = 128 codes\n",
        "* A way to convert characters to a number"
      ],
      "metadata": {
        "id": "eqR6YkI4XE1r"
      }
    },
    {
      "cell_type": "markdown",
      "source": [
        "![programing flow.png](https://drive.google.com/uc?export=view&id=1gzV9NS6-el3StrORxvSmuaYWfsO2bKZr)"
      ],
      "metadata": {
        "id": "62W6SNyUZeth"
      }
    },
    {
      "cell_type": "markdown",
      "source": [
        "### chr(n) and ord(str) functions\n",
        "* chr(n): input = n (ASCII number), output = character\n",
        "* ord(str): input = str (character), output = ASCII number"
      ],
      "metadata": {
        "id": "Dlwv0CHPbjDr"
      }
    },
    {
      "cell_type": "code",
      "source": [
        "print(chr(65))\n",
        "print(ord('A'))"
      ],
      "metadata": {
        "id": "Dqp-Ml9Mbg91"
      },
      "execution_count": null,
      "outputs": []
    },
    {
      "cell_type": "code",
      "source": [
        "## What happen if you type thai language?\n",
        "print(\"สวัสดีครับ\")"
      ],
      "metadata": {
        "id": "n6IEsmoXlsX8"
      },
      "execution_count": null,
      "outputs": []
    },
    {
      "cell_type": "code",
      "source": [
        "print(ord('ส'))\n",
        "help(ord)"
      ],
      "metadata": {
        "id": "jNRcAHb_mTL0"
      },
      "execution_count": null,
      "outputs": []
    },
    {
      "cell_type": "markdown",
      "source": [
        "## Variables\n",
        "\n",
        "* Variable: name that represents a value stored in the computer memory\n",
        "  *  Used to access and manipulate data stored in memory\n",
        "  *  A variable references the value it represents\n",
        "* Assignment statement: used to create a variable and make it reference data\n",
        "  * **Format**: variable = expression\n",
        "  * Assignment operator: the equal sign (=)\n",
        "  * Example: age = 25\n",
        "* A variable can be passed as an argument to a function\n"
      ],
      "metadata": {
        "id": "ZKzPL9l2c5P1"
      }
    },
    {
      "cell_type": "code",
      "source": [
        "age = 25\n",
        "print(age)"
      ],
      "metadata": {
        "colab": {
          "base_uri": "https://localhost:8080/"
        },
        "id": "hPv0BAdQi1IC",
        "outputId": "05af916c-d277-49ac-9273-15026d861bea"
      },
      "execution_count": null,
      "outputs": [
        {
          "output_type": "stream",
          "name": "stdout",
          "text": [
            "25\n"
          ]
        }
      ]
    },
    {
      "cell_type": "code",
      "source": [
        "# This program demonstrates a variable.\n",
        "room = 513\n",
        "print('I am staying in room number')\n",
        "print('room')"
      ],
      "metadata": {
        "id": "C9RD8_gIjswn"
      },
      "execution_count": null,
      "outputs": []
    },
    {
      "cell_type": "code",
      "source": [
        "# Create two variables: top_speed and distance.\n",
        "top_speed = 160\n",
        "distance = 350\n",
        "\n",
        "# Display the values references by the variables\n",
        "print('The top speed is')\n",
        "print(top_speed)\n",
        "print('The distance traveled is')\n",
        "print(distance)"
      ],
      "metadata": {
        "id": "xq5FxMtnj2d6"
      },
      "execution_count": null,
      "outputs": []
    },
    {
      "cell_type": "markdown",
      "source": [
        "### Variable Naming Rules\n",
        "* Rules for naming variables in Python:\n",
        "  * Variable name cannot contain spaces\n",
        "  * First character **must** be a **letter** or an **underscore**\n",
        "  * After first character, you may use letters, digits, or underscores\n",
        "  * Variable names are case sensitive\n",
        "  * Variable name cannot be a *Python reversed keyword*\n",
        "* **Name your variables meaningfully!!**\n",
        "  * Avoiding $\\texttt{sdf}$, $\\texttt{vvv}$, $\\texttt{xxx}$\n"
      ],
      "metadata": {
        "id": "xcB7f1wokSzj"
      }
    },
    {
      "cell_type": "markdown",
      "source": [
        "### Python Reversed Keywords\n",
        "\n",
        "* keywords with special meaning suchas built-in functions or special value\n",
        "* $\\texttt{False}$, $\\texttt{None}$, $\\texttt{True}$, $\\texttt{and}$,    $\\texttt{as}$, $\\texttt{assert}$, $\\texttt{async}$, $\\texttt{await}$,\n",
        " $\\texttt{break}$, $\\texttt{class}$, $\\texttt{continue}$, $\\texttt{def}$,\n",
        "\n",
        " $\\texttt{del}$, $\\texttt{elif}$, $\\texttt{else}$, $\\texttt{except}$,\n",
        " $\\texttt{finally}$, $\\texttt{for}$, $\\texttt{from}$, $\\texttt{global}$,\n",
        " $\\texttt{if}$, $\\texttt{import}$, $\\texttt{in}$, $\\texttt{is}$,\n",
        "\n",
        " $\\texttt{lambda}$, $\\texttt{nonlocal}$, $\\texttt{not}$, $\\texttt{or}$,\n",
        " $\\texttt{pass}$, $\\texttt{raise}$, $\\texttt{return}$, $\\texttt{try}$,\n",
        " $\\texttt{while}$, $\\texttt{with}$, $\\texttt{yield}$\n",
        "\n"
      ],
      "metadata": {
        "id": "aBLCwUfBpSkI"
      }
    },
    {
      "cell_type": "code",
      "source": [
        "# Legal variable names\n",
        "units_per_day = 1\n",
        "_units_ = 2\n",
        "dayOftheWeek = 3"
      ],
      "metadata": {
        "id": "YHoKNIxBn_ZJ"
      },
      "execution_count": null,
      "outputs": []
    },
    {
      "cell_type": "code",
      "source": [
        "# Illegal variable names\n",
        "3rdgraph = 1\n",
        "Mixture#1 = 3"
      ],
      "metadata": {
        "id": "ar6tzzxpoRXn"
      },
      "execution_count": null,
      "outputs": []
    },
    {
      "cell_type": "code",
      "source": [
        "# Case sensitive\n",
        "a = 1\n",
        "A = 3\n",
        "print(a)\n",
        "print(A)\n"
      ],
      "metadata": {
        "id": "DRZ2425eq9xv"
      },
      "execution_count": null,
      "outputs": []
    },
    {
      "cell_type": "markdown",
      "source": [
        "### Displaying Multiple Items with $\\texttt{print}$\n",
        "* $\\texttt{print}$ function can take multiple arguments\n",
        "* Multiple arguments are separated by commas\n",
        "* Arguments displayed in the order they are passed to $\\texttt{print}$\n",
        "* Items are automatically separated by a space when displayed on screen\n"
      ],
      "metadata": {
        "id": "jaHS0-SkrJWU"
      }
    },
    {
      "cell_type": "code",
      "source": [
        "room = 513\n",
        "print(\"I am staying in room number\", 513)"
      ],
      "metadata": {
        "id": "3fOwQ0uDsEBW"
      },
      "execution_count": null,
      "outputs": []
    },
    {
      "cell_type": "markdown",
      "source": [
        "### Variable Type\n",
        "* Data types: categorize value in memory\n",
        "  * $\\texttt{int}$ for integer (no decimal)\n",
        "  * $\\texttt{float}$ for real number (decimal, floating-point number)\n",
        "  * $\\texttt{str}$ for string\n",
        "  * $\\texttt{bool}$ for boolean ($\\texttt{True}$ \\ $\\texttt{False}$)\n",
        "* Numeric literal: number written in a program\n",
        "  * No decimal point considered $\\texttt{int}$, otherwise, considered $\\texttt{float}$"
      ],
      "metadata": {
        "id": "lQy5z08Es7_5"
      }
    },
    {
      "cell_type": "code",
      "source": [
        "print(type(1))\n",
        "print(type(1.0))\n",
        "print(type(\"Hello\"))\n",
        "print(type(True))"
      ],
      "metadata": {
        "id": "mO23i6Nit3lL"
      },
      "execution_count": null,
      "outputs": []
    },
    {
      "cell_type": "markdown",
      "source": [
        "### Variable Reassignment\n",
        "* Variables can reference different values within a program.\n",
        "* Variable that has been assigned to one type can be reassigned to another type"
      ],
      "metadata": {
        "id": "EOAAqRuVsi6G"
      }
    },
    {
      "cell_type": "code",
      "source": [
        "dollars = 2.75\n",
        "print(\"I have\", dollars, \"in my accounts.\")\n",
        "dollars = 99.99\n",
        "print(\"But now I have\", dollars, \"in my accounts!\")"
      ],
      "metadata": {
        "id": "H5_q0cHOuJvQ"
      },
      "execution_count": null,
      "outputs": []
    },
    {
      "cell_type": "code",
      "source": [
        "## string variables\n",
        "dollars = \"ninety-nine\"\n",
        "print(\"I have\", dollars, \"in my accounts.\")\n",
        "dollars = 99   # reassign to int type\n",
        "print(\"I have\", dollars, \"in my accounts.\")\n",
        "dollars = 99.99 # reassign to float type\n",
        "print(\"I have\", dollars, \"in my accounts.\")"
      ],
      "metadata": {
        "id": "Yh33yruIv5G6"
      },
      "execution_count": null,
      "outputs": []
    },
    {
      "cell_type": "markdown",
      "source": [
        "## Math Operators\n",
        "| Symbol  | Operator | Description |\n",
        "|:--------:|:--------|:--------|\n",
        "|$\\texttt{+}$ | Addition | Adds two numbers |\n",
        "|$\\texttt{-}$ | Subtraction | Subtracts one number from another |\n",
        "|$\\texttt{*}$ | Multiplication | Multiplies one number by another |\n",
        "| $\\texttt{/}$ | Division | Divides one number by another and gives the result as a floating-point number |\n",
        "|$\\texttt{//}$ | Integer Division | Divides one number by another and gives the result as an interger number <br> (**always round down!!**) |\n",
        "| $\\texttt{%}$ | Remainder | Divides one number by another and gives the remainder. (Modulus operator) |\n",
        "| $\\texttt{**}$ | Exponent | Raises a number to a power. $\\texttt{x ** y} = x^y$ |"
      ],
      "metadata": {
        "id": "mxCNXRzjwG0I"
      }
    },
    {
      "cell_type": "code",
      "source": [
        "## Examples\n",
        "x = 3\n",
        "y = 4\n",
        "z = x + y\n",
        "print(z)\n",
        "\n",
        "print(x-y)\n",
        "print(x*y)\n",
        "print(x**y)"
      ],
      "metadata": {
        "id": "kbHPKTys1qMm"
      },
      "execution_count": null,
      "outputs": []
    },
    {
      "cell_type": "code",
      "source": [
        "## Two types of divisions:\n",
        "print(5/2)\n",
        "print(5//2)\n",
        "print(-5//2)"
      ],
      "metadata": {
        "id": "F4uTm21W1sFX"
      },
      "execution_count": null,
      "outputs": []
    },
    {
      "cell_type": "code",
      "source": [
        "## Remainder Ex 1\n",
        "print(2%2)\n",
        "print(3%2)\n",
        "print(4%2)\n",
        "print(5%2)\n",
        "\n",
        "## % 2 can use to determine even or odd"
      ],
      "metadata": {
        "id": "ReJSVbOH2eKp"
      },
      "execution_count": null,
      "outputs": []
    },
    {
      "cell_type": "code",
      "source": [
        "## Remainder Ex 2\n",
        "print(0%3)\n",
        "print(1%3)\n",
        "print(3%3)\n",
        "print(4%3)\n",
        "print(5%3)"
      ],
      "metadata": {
        "id": "aTZhZ9Gn5zPv"
      },
      "execution_count": null,
      "outputs": []
    },
    {
      "cell_type": "markdown",
      "source": [
        "### Operator Precedence\n",
        "* Python operator precedence:\n",
        "  1.  Operations enclosed in parentheses ()\n",
        "  2.  Exponentiation ($\\texttt{**}$)\n",
        "  3.  Multiplication ($\\texttt{*}$), division ($\\texttt{/}$ and $\\texttt{//}$), and remainder ($\\texttt{%}$)\n",
        "  4.  Addition ($\\texttt{+}$) and subtraction ($\\texttt{-}$)\n",
        "* Higher precedence performed first\n",
        "* Same precedence operators execute from left to right\n"
      ],
      "metadata": {
        "id": "JXorHwtj2ttK"
      }
    },
    {
      "cell_type": "markdown",
      "source": [
        "### Operator Precedence Examples\n",
        "* 12.0 + 6.0 / 3.0\n",
        "\n",
        "* = 12.0 + 2.0\n",
        "\n",
        "* = 14.0"
      ],
      "metadata": {
        "id": "G0m8r-B_J7cz"
      }
    },
    {
      "cell_type": "code",
      "source": [
        "# Operator Exercise #1:\n",
        "print( 5 + 2 * 4 )\n",
        "\n",
        "\n",
        "print( 10 / 2 - 3 )\n",
        "\n",
        "\n",
        "print( 8 + 12 * 2 - 4 )\n",
        "\n",
        "\n",
        "print(  6 -  3 * 2 + 7 - 1 )\n"
      ],
      "metadata": {
        "id": "Y5fV3sWIKYbi"
      },
      "execution_count": null,
      "outputs": []
    },
    {
      "cell_type": "code",
      "source": [
        "# Operator Exercise #2:\n",
        "\n",
        "print( (5 + 2) * 4 )\n",
        "\n",
        "print( 10 / (5 - 3))\n",
        "\n",
        "print( 8 + 12 * (6 - 2))\n",
        "\n",
        "print( (6 - 3) * (2 + 7) / 3)"
      ],
      "metadata": {
        "id": "N_hXPrXkMNnn"
      },
      "execution_count": null,
      "outputs": []
    },
    {
      "cell_type": "markdown",
      "source": [
        "### Converting Math Formulas to Programming Statements\n",
        "* May need to add multiplication operators\n",
        "* May need to insert parenthese.\n",
        "\n",
        "|   Algebraic Expression   |   Python Statement |\n",
        "|:--------:|:--------|\n",
        "|$y = 3\\frac{x}{2}$       | $\\texttt{ y = 3 * x /2}$ |\n",
        "|$z  = 3bc +4$            | $\\texttt{ z = 3 * b * c + 4}$ |\n",
        "|$a  = \\frac{x + 2}{b-1}$ | $\\texttt{ a = (x + 2)/(b - 1)}$|"
      ],
      "metadata": {
        "id": "qS02UCm3RWf1"
      }
    },
    {
      "cell_type": "markdown",
      "source": [
        "### Mixed-type Expressions and Data Type Conversation\n",
        "* Data type resulting from math operation depends on data types of operands\n",
        "  * Two $\\texttt{int}$ values: result is an $\\texttt{int}$\n",
        "  * Two $\\texttt{float}$ values: result is a $\\texttt{float}$\n",
        "  * $\\texttt{int}$ and $\\texttt{float}$: result is a $\\texttt{float}$"
      ],
      "metadata": {
        "id": "LvDSvilCSrPJ"
      }
    },
    {
      "cell_type": "markdown",
      "source": [
        "## Reading input from the keyboard: $\\texttt{input}$\n",
        "* $\\texttt{input}$ reads input from the keyboard.\n",
        "* press 'enter' to submit the input\n",
        "* $\\texttt{input}$ function **always** returns a **string**\n",
        "* Built-in functions to convert between data types\n",
        "  * $\\texttt{int(item)}$ converts item to $\\texttt{int}$\n",
        "  * $\\texttt{float(item)}$ converts into to $\\texttt{float}$\n",
        "  * $\\texttt{item}$ musts be a valid numeric value."
      ],
      "metadata": {
        "id": "Hyim045cuKD-"
      }
    },
    {
      "cell_type": "code",
      "source": [
        "# Get the user's name, age, and income.\n",
        "name = input(\"What is your name?\")\n",
        "age = int((input(\"What is your age?\")))\n",
        "income = float(input(\"What is your income?\"))\n",
        "\n",
        "# Display the data\n",
        "print(\"Here is the data you entered:\")\n",
        "print(\"Name:\", name)\n",
        "print(\"Age:\", age)\n",
        "print(\"Income:\", income)"
      ],
      "metadata": {
        "id": "eFAtduGiDQwj"
      },
      "execution_count": null,
      "outputs": []
    },
    {
      "cell_type": "code",
      "source": [
        "# Hours worked example\n",
        "# input returns string so you need to convert to int or float!\n",
        "hours = input(\"Hours worked:\")\n",
        "rate  = input(\"Hourly pay rate:\")\n",
        "gross_pay = hours*rate\n",
        "\n",
        "print(\"Gross pay\", gross_pay)"
      ],
      "metadata": {
        "id": "8G6SZmpmEUiP"
      },
      "execution_count": null,
      "outputs": []
    },
    {
      "cell_type": "code",
      "source": [
        "# Time Converter Example\n",
        "\n",
        "## Get a number of seconds from the user.\n",
        "total_seconds = float(input('Enter a number of seconds: '))\n",
        "\n",
        "## Get the number of hours.\n",
        "hours = total_seconds // (60*60)\n",
        "\n",
        "## Get the number of remaining minutes\n",
        "minutes = (total_seconds // 60) % 60\n",
        "\n",
        "## Get the number of remaining seconds\n",
        "seconds = total_seconds % 60\n",
        "\n",
        "## display the results\n",
        "print(\"Here is the time in hours, minutes, and seconds.\")\n",
        "print(\"Hours:\", hours)\n",
        "print(\"Minutes\", minutes)\n",
        "print(\"Seconds\", seconds)"
      ],
      "metadata": {
        "id": "rKsMSsXCM7-V"
      },
      "execution_count": null,
      "outputs": []
    },
    {
      "cell_type": "markdown",
      "source": [
        "### $\\texttt{eval}$ function\n",
        "\n",
        "* $\\texttt{eval}$ function evalutes the specificed expression. If the expression is a legal python statement, it will be executed.\n",
        "* If possible, do not use it for security reasons."
      ],
      "metadata": {
        "id": "tz47zPdaEXgd"
      }
    },
    {
      "cell_type": "code",
      "source": [
        "# eval example\n",
        "eval(\"1+2\")"
      ],
      "metadata": {
        "id": "eGYJgUgEFJQT"
      },
      "execution_count": null,
      "outputs": []
    },
    {
      "cell_type": "code",
      "source": [
        "# eval error example\n",
        "eval(1+2)"
      ],
      "metadata": {
        "id": "zFwL2Z9iGZRx"
      },
      "execution_count": null,
      "outputs": []
    },
    {
      "cell_type": "code",
      "source": [
        "# Get the user's name, age, and income.\n",
        "name = input(\"What is your name?\")\n",
        "age = eval((input(\"What is your age?\")))\n",
        "income = eval(input(\"What is your income?\"))\n",
        "\n",
        "# Display the data\n",
        "print(\"Here is the data you entered:\")\n",
        "print(\"Name:\", name)\n",
        "print(\"Age:\", age)\n",
        "print(\"Income:\", income)"
      ],
      "metadata": {
        "id": "QbSyhMeLGfUa"
      },
      "execution_count": null,
      "outputs": []
    },
    {
      "cell_type": "markdown",
      "source": [
        "## Breaking Long Statement into Multiple Lines\n",
        "* Long statements cannot be viewed on screen without scrolling and cannot be printed without cutting off\n",
        "* Multiline continuation character ($\\texttt{\\\\}$): Allows to break a statement into multiple lines\n",
        "* Any part of a statement that is enclosed in parentheses can be broken without the line continuation character."
      ],
      "metadata": {
        "id": "FUW7ht4wTEEC"
      }
    },
    {
      "cell_type": "code",
      "source": [
        "long_string = \"This is a very long string that I want to split over multiple lines. \\\n",
        "               It makes the code more readable and easier to maintain.\"\n",
        "\n",
        "print(long_string)"
      ],
      "metadata": {
        "id": "ORNBA6ulU5Nz"
      },
      "execution_count": null,
      "outputs": []
    },
    {
      "cell_type": "code",
      "source": [
        "var1 = 3\n",
        "var2 = 4\n",
        "var3 = 5\n",
        "var4 = 5\n",
        "\n",
        "coef0 = 1\n",
        "coef1 = 2\n",
        "coef2 = 2\n",
        "coef3 = 2\n",
        "coef4 = 2\n",
        "\n",
        "result = (coef0 + coef1 * var1 + coef2 * var2 +\n",
        "                  coef3 * var3 + coef4 * var4)\n",
        "\n",
        "print(result)"
      ],
      "metadata": {
        "id": "RakBOVZiTtWf"
      },
      "execution_count": null,
      "outputs": []
    },
    {
      "cell_type": "markdown",
      "source": [
        "## Summary so far\n",
        "* Desinging a program, Pseudocode, Flowcharts\n",
        "* $\\texttt{print}$: displaying output\n",
        "* String and how to declare them\n",
        "* Comments with #\n",
        "* Variables, Variable assignment, Variable Naming\n",
        "* Variable types (int, float, string)\n",
        "* Math Operators and operator precedence\n",
        "* $\\texttt{input}$: reading input from the keyboard"
      ],
      "metadata": {
        "id": "SXBvfkVYOIZe"
      }
    },
    {
      "cell_type": "code",
      "source": [
        "# Exercise #1: Convert Fahrenheit to Celsius\n",
        "## Input = Farenheit. Output = Celsius.\n",
        "## Formula: C = (F - 32)*5/9\n"
      ],
      "metadata": {
        "id": "Y7KzLhJXOKMm"
      },
      "execution_count": null,
      "outputs": []
    },
    {
      "cell_type": "code",
      "source": [
        "# Exercise #2: Second-order Polynomial Calculation\n",
        "## Input: A, B, C, x. Output: y.\n",
        "## y = Ax^2 + Bx + C"
      ],
      "metadata": {
        "id": "PE0OuqQyOjpT"
      },
      "execution_count": null,
      "outputs": []
    },
    {
      "cell_type": "code",
      "source": [
        "# Exercise #3: Student GPA Report\n",
        "## Input: Name, Math GPA, Science GPA, English GPA.\n",
        "## Output:\n",
        "###   \"Name: xxx yyy\"\n",
        "###   \"Math: x\"\n",
        "###   \"Science: y\"\n",
        "###   \"English: z\"\n",
        "###   \"Name's average GPA: avg\"\n",
        "## Avg = (math + science + english)/3\n"
      ],
      "metadata": {
        "id": "Ok_-t1m2PJBA"
      },
      "execution_count": null,
      "outputs": []
    },
    {
      "cell_type": "markdown",
      "source": [
        "## Formatting output\n",
        "* $\\texttt{print}$ function formatting\n",
        "* number formatting (digits, comma, and space)\n",
        "* string formatting"
      ],
      "metadata": {
        "id": "dddv4g-lwIxv"
      }
    },
    {
      "cell_type": "markdown",
      "source": [
        "## $\\texttt{print}$ formatting\n",
        "\n",
        "* $\\texttt{print}$ displays line of output\n",
        "  * Newline character at end of printed data\n",
        "  * Special argument end='delimiter' causes print to place delimiter <br>\n",
        "  at end of data instead of newline character\n",
        "* print function uses space as item separator\n",
        "  * Special argument sep='delimiter' causes print to use delimiter as <br>\n",
        "  item separator"
      ],
      "metadata": {
        "id": "y21MGVZ4q6bv"
      }
    },
    {
      "cell_type": "code",
      "source": [
        "# print - end parameter\n",
        "print('One', end =' ')\n",
        "print('Two', end =' ')\n",
        "print('Three')\n",
        "print('Four')"
      ],
      "metadata": {
        "id": "8S5_X8KCrTq1"
      },
      "execution_count": null,
      "outputs": []
    },
    {
      "cell_type": "code",
      "source": [
        "# print - sep parameter\n",
        "print(\"One\",\"Two\",\"Three\")\n",
        "print(\"One\",\"Two\",\"Three\",sep=\"\")\n",
        "print(\"One\",\"Two\",\"Three\",sep=\"*\")"
      ],
      "metadata": {
        "id": "pwsfoN6Grish"
      },
      "execution_count": null,
      "outputs": []
    },
    {
      "cell_type": "code",
      "source": [
        "help(print)"
      ],
      "metadata": {
        "id": "h7pn6E0orwAg"
      },
      "execution_count": null,
      "outputs": []
    },
    {
      "cell_type": "markdown",
      "source": [
        "## Special Characters in string literal\n",
        "* Preceded by backslash ($\\\\$)\n",
        "* Treated as commands embedded in string\n",
        "* Counted as one character\n",
        "\n",
        "| Escape character | Effect           |\n",
        "| :--------------- | :----------------|\n",
        "| $\\texttt{\\n}$| New line |\n",
        "| $\\texttt{\\t}$| Tab |\n",
        "| $\\texttt{\\'}$| a single quote mark |\n",
        "| $\\texttt{\\\"}$| a double quote mark |\n",
        "| $\\texttt{\\\\\\\\}$| a backlash character|\n"
      ],
      "metadata": {
        "id": "qJDl8dcCsDAk"
      }
    },
    {
      "cell_type": "code",
      "source": [
        "print(\"One\\nTwo\\nThree\")"
      ],
      "metadata": {
        "id": "qIb9bDkotD6Z"
      },
      "execution_count": null,
      "outputs": []
    },
    {
      "cell_type": "code",
      "source": [
        "print(\"One\\tTwo\\tThree\\\"\\\\\")"
      ],
      "metadata": {
        "id": "EsSfw0jxtG9Q"
      },
      "execution_count": null,
      "outputs": []
    },
    {
      "cell_type": "markdown",
      "source": [
        "## $\\texttt{+}$ on string performs string concatenation\n",
        "* $\\texttt{+}$ concatenate two strings together into a new string."
      ],
      "metadata": {
        "id": "h3uDOdNrtVNk"
      }
    },
    {
      "cell_type": "code",
      "source": [
        "first_name = \"Alan\"\n",
        "last_name  = \"Smith\"\n",
        "full_name  = first_name + last_name\n",
        "print(full_name)"
      ],
      "metadata": {
        "id": "IaGYq0CltUpJ"
      },
      "execution_count": null,
      "outputs": []
    },
    {
      "cell_type": "code",
      "source": [
        "## useful for breaking up a long string literal\n",
        "print(\"Enter the amount of \" +\n",
        "      \"sales for each day and \" +\n",
        "      \"press Enter.\")"
      ],
      "metadata": {
        "id": "PJ2lrTHAuEzF"
      },
      "execution_count": null,
      "outputs": []
    },
    {
      "cell_type": "code",
      "source": [
        "# Give error (TypeError) if you attempt to + string and int/float type\n",
        "print(\"Hello\" + 2)"
      ],
      "metadata": {
        "id": "dDSFt50wSdK-"
      },
      "execution_count": null,
      "outputs": []
    },
    {
      "cell_type": "markdown",
      "source": [
        "## Formatting Numbers\n",
        "* Can format display of numbers on screen using built-in $\\texttt{format}$ function\n",
        "* Two arguments:\n",
        "  * Numeric value to be formatted\n",
        "  * Format specifier\n",
        "* Returns string containing formatted number\n",
        "* Format specifier typically includes precision and data type\n",
        "  * $\\texttt{\".nf\"}$ specifies precision to $\\texttt{n}$ decimal\n",
        "  * $\\texttt{\",f\"}$ specifies comma formatting\n",
        "  * $\\texttt{\"mf\"}$ specifies a minimum field width\n",
        "  * You can combine all of them."
      ],
      "metadata": {
        "id": "givjZpPQuTsf"
      }
    },
    {
      "cell_type": "code",
      "source": [
        "# Formatting ex #1 - precission\n",
        "amount_due = 5000.0\n",
        "monthly_payment = amount_due / 12.0\n",
        "print(\"The month payment is\", monthly_payment) # no format\n",
        "\n",
        "# \".nf\" to specific n decimals\n",
        "print(\"The month payment is\", format(monthly_payment, \".1f\")) # One decimals\n",
        "print(\"The month payment is\", format(monthly_payment, \".2f\")) # Two decimals"
      ],
      "metadata": {
        "id": "Muz0yDYQvCJk"
      },
      "execution_count": null,
      "outputs": []
    },
    {
      "cell_type": "code",
      "source": [
        "# Formatting ex #2 - precission\n",
        "print(format(12345.6789, '.1f'))\n",
        "print(format(12345.6789, '.2f'))"
      ],
      "metadata": {
        "id": "P7N2Ks6avzDv"
      },
      "execution_count": null,
      "outputs": []
    },
    {
      "cell_type": "code",
      "source": [
        "# Formatting ex #3 - precission\n",
        "print(format(12345, '.2f'))\n",
        "print(format(12345, '.5f'))"
      ],
      "metadata": {
        "id": "pFOsAsYZwGbd"
      },
      "execution_count": null,
      "outputs": []
    },
    {
      "cell_type": "code",
      "source": [
        "# Formatting ex #4 - comma\n",
        "print(format(12345.6789, 'f'))\n",
        "print(format(12345.6789, ',f'))\n",
        "print(format(12345.6789, ',.2f'))"
      ],
      "metadata": {
        "id": "wefclZ8LxNxK"
      },
      "execution_count": null,
      "outputs": []
    },
    {
      "cell_type": "code",
      "source": [
        "# Formatting ex #5 - comma\n",
        "print(format(123456789.456, ',.2f'))"
      ],
      "metadata": {
        "id": "H1oGy8wFxzKE"
      },
      "execution_count": null,
      "outputs": []
    },
    {
      "cell_type": "code",
      "source": [
        "# Formatting ex #6 - dollar display\n",
        "monthly_pay = 5000.0\n",
        "annual_pay  = monthly_pay * 12\n",
        "print(\"Your annual pay is $\", format(annual_pay, \".2f\"), sep=\"\")"
      ],
      "metadata": {
        "id": "yk6KNRQAx2bI"
      },
      "execution_count": null,
      "outputs": []
    },
    {
      "cell_type": "code",
      "source": [
        "# Formatting ex #7 - Minimum Field Width\n",
        "print(\"The number is \", format(12345.6789, \".2f\"))\n",
        "print(\"The number is \", format(12345.6789, \"12.2f\"))"
      ],
      "metadata": {
        "id": "dFP-scSSyXNb"
      },
      "execution_count": null,
      "outputs": []
    },
    {
      "cell_type": "code",
      "source": [
        "# Formatting ex #8 - Columns\n",
        "print(format(127.899, \"7.2f\"))\n",
        "print(format(3465.148, \"7.2f\"))\n",
        "print(format(3.776, \"7.2f\"))\n",
        "print(format(264.821, \"7.2f\"))\n",
        "print(format(88.081, \"7.2f\"))\n",
        "print(format(799.999, \"7.2f\"))"
      ],
      "metadata": {
        "id": "V5qz9cMByr0c"
      },
      "execution_count": null,
      "outputs": []
    },
    {
      "cell_type": "markdown",
      "source": [
        "### Formatting a floating-point number as a percentage\n",
        "* $\\texttt{%}$ can be used as an argument for $\\texttt{format}$ to format number as percentage\n",
        "\n",
        "\n"
      ],
      "metadata": {
        "id": "Y_a2igtNzEKR"
      }
    },
    {
      "cell_type": "code",
      "source": [
        "print(format(0.5,\"%\"))"
      ],
      "metadata": {
        "id": "Cr5pILv1ze50"
      },
      "execution_count": null,
      "outputs": []
    },
    {
      "cell_type": "code",
      "source": [
        "print(format(0.5,\".0%\"))"
      ],
      "metadata": {
        "id": "m9BTe1T6zjjU"
      },
      "execution_count": null,
      "outputs": []
    },
    {
      "cell_type": "markdown",
      "source": [
        "### Formatting Integers\n",
        "* To format an integer using format function:\n",
        "  * Use $\\texttt{d}$ as the type designator\n",
        "  * Do not specify precision\n",
        "  * Can still use format function to set field width or comma separator"
      ],
      "metadata": {
        "id": "s3yxWaodzrHj"
      }
    },
    {
      "cell_type": "code",
      "source": [
        "print(format(123456,',d'))\n",
        "print(format(123456,'10d'))\n",
        "print(format(123456,'10,d'))"
      ],
      "metadata": {
        "id": "Z_y6yAxUz6Lq"
      },
      "execution_count": null,
      "outputs": []
    },
    {
      "cell_type": "markdown",
      "source": [
        "## Magic Numbers\n",
        "* A magic number is an unexplained numeric value that appears in a program’s code.\n",
        "\n",
        "  * Examples: $\\texttt{amount = balance * 0.069}$\n",
        "\n",
        "\n",
        "* What is the value 0.069? An interest rate? A fee percentage? <br> Only the person who wrote the code knows for sure.\n"
      ],
      "metadata": {
        "id": "pufhzTmF0H09"
      }
    },
    {
      "cell_type": "markdown",
      "source": [
        "### Problem with magic numbers\n",
        "* It can be difficult to determine the purpose of the number.\n",
        "\n",
        "\n",
        "* If the magic number is used in multiple places in the program, <br> it can take a lot of effort to change the number in each location.\n",
        "\n",
        "\n",
        "* You take the risk of making a mistake each time you type the magic <br> number in the program’s code.\n",
        "\n",
        "* For example, suppose you intend to type 0.069, but you accidentally type .0069. <br> This mistake will cause mathematical errors that can be difficult to find.\n"
      ],
      "metadata": {
        "id": "tNxI0dPt0cTA"
      }
    },
    {
      "cell_type": "markdown",
      "source": [
        "### Solution: Named Constants\n",
        "* You should use named constants instead of magic numbers.\n",
        "* A named constant is a name that represents a value that does not change <br> during the program's execution.\n",
        "* Typically, Named constats are in UPPERCASE.\n",
        "* Example:\n",
        "  * $\\texttt{INTEREST_RATE = 0.069}$\n",
        "\n",
        "* This creates a named constant named INTEREST_RATE, assigned the value 0.069. It can be used instead of the magic number:\n",
        "\n",
        "  * $\\texttt{amount = balance * INTEREST_RATE}$\n"
      ],
      "metadata": {
        "id": "6HkYm1i40ubw"
      }
    },
    {
      "cell_type": "markdown",
      "source": [
        "### Advantages of using Named Constants\n",
        "* Make code self-explanatory (self-documenting)\n",
        "\n",
        "* Make code easier to maintain (change the value assigned to the constant, <br> and the new value takes effect everywhere the constant is used)\n",
        "\n",
        "* Help prevent typographical errors\n"
      ],
      "metadata": {
        "id": "yGzzVT521A-6"
      }
    },
    {
      "cell_type": "markdown",
      "source": [
        "## Python String Formatting\n",
        "* Three ways to format text strings in python.\n",
        "  * %-formating\n",
        "  * str.format()\n",
        "  * f-strings"
      ],
      "metadata": {
        "id": "aturNBBOgM7U"
      }
    },
    {
      "cell_type": "markdown",
      "source": [
        "### %-formating\n",
        "* Strings in Python have a unique built-in operation that can be accessed with the $\\texttt{%}$ operator."
      ],
      "metadata": {
        "id": "0OkKfCgFj-_d"
      }
    },
    {
      "cell_type": "code",
      "source": [
        "# %-formating Ex 1\n",
        "name = \"Eric\"\n",
        "print(\"Hello, %s.\"% name)\n",
        "print(\"Hello, %s.\" % (\"Nut\"))"
      ],
      "metadata": {
        "id": "OqOim2mUkP3v"
      },
      "execution_count": null,
      "outputs": []
    },
    {
      "cell_type": "code",
      "source": [
        "# %-formating Ex 2\n",
        "name = \"Eric\"\n",
        "age = 75\n",
        "print(\"Hello, %s. You are %s.\" %(name, age))"
      ],
      "metadata": {
        "id": "RAx9GDHYlWih"
      },
      "execution_count": null,
      "outputs": []
    },
    {
      "cell_type": "code",
      "source": [
        "# %-formating Ex 3\n",
        "first_name = \"Eric\"\n",
        "last_name = \"Idle\"\n",
        "age = 74\n",
        "profession = \"comedian\"\n",
        "affiliation = \"Monty Python\"\n",
        "\n",
        "print(\"Hello, %s %s. You are %s. You are a %s. You were a member of %s.\" %\n",
        "      (first_name, last_name, age, profession, affiliation))"
      ],
      "metadata": {
        "id": "BqkR6Y9NllMA"
      },
      "execution_count": null,
      "outputs": []
    },
    {
      "cell_type": "markdown",
      "source": [
        "### $\\texttt{str.format()}$\n",
        "* The replacement fields are marked by curly braces $\\texttt{{}}$.\n",
        "* The variables or values are inside $\\texttt{format}$.  \n",
        "* You can reference variables in any order by referencing their index."
      ],
      "metadata": {
        "id": "aZU3mZOEl9kY"
      }
    },
    {
      "cell_type": "code",
      "source": [
        "name = \"Eric\"\n",
        "age = 74\n",
        "print(\"Hello, {}. You are {}.\".format(name, age))"
      ],
      "metadata": {
        "id": "noeO4n18m0wp"
      },
      "execution_count": null,
      "outputs": []
    },
    {
      "cell_type": "code",
      "source": [
        "## You can reference variables in any order by referencing their index.\n",
        "name = \"Eric\"\n",
        "age = 74\n",
        "print(\"Hello, {1}. You are {0}.\".format(age, name))"
      ],
      "metadata": {
        "id": "tbWxaDiim5Pe"
      },
      "execution_count": null,
      "outputs": []
    },
    {
      "cell_type": "code",
      "source": [
        "first_name = \"Eric\"\n",
        "last_name = \"Idle\"\n",
        "age = 74\n",
        "profession = \"comedian\"\n",
        "affiliation = \"Monty Python\"\n",
        "\n",
        "print((\"Hello, {first_name} {last_name}. You are {age}. You are a {profession}.\" +\n",
        "        \"You were a member of {affiliation}.\") \\\n",
        ".format(first_name=first_name, last_name=last_name, age=age, \\\n",
        "        profession=profession, affiliation=affiliation))\n"
      ],
      "metadata": {
        "id": "eNy4uxcgnAQb"
      },
      "execution_count": null,
      "outputs": []
    },
    {
      "cell_type": "markdown",
      "source": [
        "### f-strings\n",
        "* New in python 3.6\n",
        "* Also called “formatted string literals,”\n",
        "* f-strings are string literals that have an **f at the beginning** and **curly braces <br> containing expressions or variables** that will be replaced with their values.\n",
        "* f-strings numerical format: $\\texttt{f\"{value:{width}.{precision}}\"}$"
      ],
      "metadata": {
        "id": "ceHghyh3nWpM"
      }
    },
    {
      "cell_type": "code",
      "source": [
        "# f-string ex1\n",
        "name = \"Eric\"\n",
        "age = 74\n",
        "print(f\"Hello, {name}. You are {age}.\")"
      ],
      "metadata": {
        "id": "Uo3zVqeLnLsa"
      },
      "execution_count": null,
      "outputs": []
    },
    {
      "cell_type": "code",
      "source": [
        "# f-string ex2\n",
        "first_name = \"Eric\"\n",
        "last_name = \"Idle\"\n",
        "age = 74\n",
        "profession = \"comedian\"\n",
        "affiliation = \"Monty Python\"\n",
        "\n",
        "print(f\"Hello, {first_name} {last_name}. You are {age}. \" +\n",
        "      f\"You are a {profession}. \" +\n",
        "      f\"You were a member of {affiliation}.\")"
      ],
      "metadata": {
        "id": "QNQ8LcoWntx6"
      },
      "execution_count": null,
      "outputs": []
    },
    {
      "cell_type": "code",
      "source": [
        "# f-string ex3: expression\n",
        "name = \"eric\"\n",
        "sentence = f'{name.upper()} is funny.'\n",
        "print(sentence)"
      ],
      "metadata": {
        "id": "jmQZkikloABg"
      },
      "execution_count": null,
      "outputs": []
    },
    {
      "cell_type": "code",
      "source": [
        "# f-string ex4: expressions\n",
        "a = 5\n",
        "b = 10\n",
        "print(f'Five plus ten is {a + b} and not {2 * (a + b)}.')"
      ],
      "metadata": {
        "id": "tX2H6b1zog3Z"
      },
      "execution_count": null,
      "outputs": []
    },
    {
      "cell_type": "code",
      "source": [
        "# f-strings ex5: formating digits\n",
        "# f\"{value:{width}.{precision}}\"\"\n",
        "x = 3.14159265\n",
        "print(f'PI = {x:.2f}')\n",
        "\n",
        "x = 12345.6789\n",
        "print(f\"x = {x:,.2f}\")"
      ],
      "metadata": {
        "id": "zM7ix61voK3P"
      },
      "execution_count": null,
      "outputs": []
    },
    {
      "cell_type": "code",
      "source": [
        "# f-strings ex6: more formatting\n",
        "s1 = 'ab'\n",
        "s2 = 'abc'\n",
        "s3 = 'abcd'\n",
        "s4 = 'abcde'\n",
        "print(f'{s1:10}')\n",
        "print(f'{s2:<10}')\n",
        "print(f'{s3:^10}')\n",
        "print(f'{s4:>10}')"
      ],
      "metadata": {
        "id": "EIV-TwQwoVYi"
      },
      "execution_count": null,
      "outputs": []
    },
    {
      "cell_type": "markdown",
      "source": [
        "## Summary\n",
        "* Desinging a program, Pseudocode, Flowcharts\n",
        "* $\\texttt{print}$: displaying output\n",
        "* String and how to declare them\n",
        "* Comments with #\n",
        "* Variables, Variable assignment, Variable Naming\n",
        "* Variable types (int, float, string)\n",
        "* Math Operators and operator precedence\n",
        "* $\\texttt{input}$: reading input from the keyboard\n",
        "* Formatting output\n",
        "  * $\\texttt{print}$ formatting ($\\texttt{end}$ and $\\texttt{sep}$)\n",
        "  * number formatting (digits, comma, space)\n",
        "  * String formatting (%, format, f-strings)"
      ],
      "metadata": {
        "id": "wcElLJgEomqq"
      }
    }
  ]
}