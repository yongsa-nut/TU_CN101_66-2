{
  "nbformat": 4,
  "nbformat_minor": 0,
  "metadata": {
    "colab": {
      "provenance": [],
      "authorship_tag": "ABX9TyPYeMQL9gknGe80zBimNuQP",
      "include_colab_link": true
    },
    "kernelspec": {
      "name": "python3",
      "display_name": "Python 3"
    },
    "language_info": {
      "name": "python"
    }
  },
  "cells": [
    {
      "cell_type": "markdown",
      "metadata": {
        "id": "view-in-github",
        "colab_type": "text"
      },
      "source": [
        "<a href=\"https://colab.research.google.com/github/yongsa-nut/TU_Intro_Prog/blob/main/Chapter_1_Introduction_to_Python.ipynb\" target=\"_parent\"><img src=\"https://colab.research.google.com/assets/colab-badge.svg\" alt=\"Open In Colab\"/></a>"
      ]
    },
    {
      "cell_type": "markdown",
      "source": [
        "# Chapter 1: Introduction to Python"
      ],
      "metadata": {
        "id": "SKPbb9uBFj84"
      }
    },
    {
      "cell_type": "markdown",
      "source": [
        "Slide: https://docs.google.com/presentation/d/1XvCoo9jS1WmAQPzL7H-9T-ZJxJoy30GwlczNOu6JbOU/edit?usp=sharing"
      ],
      "metadata": {
        "id": "9G5BicJ5KaTj"
      }
    },
    {
      "cell_type": "markdown",
      "source": [
        "## The building blocks of programs\n",
        "\n",
        "* **Input**: Get data from the “outside world” - keyboard.\n",
        "\n",
        "* **Output**: Display the results on a screen.\n",
        "\n",
        "* **Sequential execution**: Perform statements one after another in the order <br> they are encountered in the script.\n",
        "\n",
        "* **Conditional execution**: Check for certain conditions and then execute or <br> skip a sequence of statements.\n",
        "\n",
        "* **Repeated execution**: Perform some set of statements repeatedly.\n",
        "\n",
        "* **Reuse**: Write a set of instructions once and give them a name and then <br> reuse those instructions as needed throughout your program.\n"
      ],
      "metadata": {
        "id": "zGcE6R8GFpAr"
      }
    },
    {
      "cell_type": "markdown",
      "source": [
        "## Output"
      ],
      "metadata": {
        "id": "_UxF0-p6RQdl"
      }
    },
    {
      "cell_type": "code",
      "execution_count": null,
      "metadata": {
        "id": "d80UpSHRFJKS"
      },
      "outputs": [],
      "source": [
        "print(\"Hello World!\")"
      ]
    },
    {
      "cell_type": "code",
      "source": [
        "# This is a comment. Python will ignore. Good for explantion\n",
        "print(\"Hello World\")"
      ],
      "metadata": {
        "id": "nIY2CDyuRXye"
      },
      "execution_count": null,
      "outputs": []
    },
    {
      "cell_type": "code",
      "source": [
        "print(1+1)\n",
        "print(3-0)"
      ],
      "metadata": {
        "id": "rJIaLHc4TrLm"
      },
      "execution_count": null,
      "outputs": []
    },
    {
      "cell_type": "markdown",
      "source": [
        "## Sequential execution"
      ],
      "metadata": {
        "id": "2fefIj1wSNHr"
      }
    },
    {
      "cell_type": "code",
      "source": [
        "print(\"Hello World!\")\n",
        "print(\"Have a nice day!\")\n",
        "print(\"Today's weather is nice.\")"
      ],
      "metadata": {
        "id": "FaAPJ7gaRvSL"
      },
      "execution_count": null,
      "outputs": []
    },
    {
      "cell_type": "markdown",
      "source": [
        "## Variable\n",
        "* **variable** is a way to store value in a memory and refer to it.\n",
        "* **Syntax**: $\\texttt{variable_name = value}$\n",
        "* Think of $\\texttt{=}$ as \"assign\" and not \"equal\""
      ],
      "metadata": {
        "id": "4YWCaoKoSi8a"
      }
    },
    {
      "cell_type": "code",
      "source": [
        "x = 1     # x <- 1\n",
        "print(x)"
      ],
      "metadata": {
        "id": "WV1UoqWbShwm"
      },
      "execution_count": null,
      "outputs": []
    },
    {
      "cell_type": "code",
      "source": [
        "x = 1 + 2 + 3\n",
        "print(x)"
      ],
      "metadata": {
        "id": "BmDP8gT7Tla0"
      },
      "execution_count": null,
      "outputs": []
    },
    {
      "cell_type": "code",
      "source": [
        "# List = a collection of value\n",
        "items = [1, 2, 3]\n",
        "print(items)"
      ],
      "metadata": {
        "id": "y9J1lG4DUi7I"
      },
      "execution_count": null,
      "outputs": []
    },
    {
      "cell_type": "code",
      "source": [
        "# Accessing a list\n",
        "items   = [1, 2, 3]\n",
        "##index =  0, 1, 2\n",
        "print(items[0])\n",
        "print(items[1])\n",
        "print(items[2])"
      ],
      "metadata": {
        "id": "f9Vsu1MPUqt2"
      },
      "execution_count": null,
      "outputs": []
    },
    {
      "cell_type": "code",
      "source": [
        "# You can change values in the list using indexing\n",
        "items = [1, 2, 3]\n",
        "items[0] = 0\n",
        "print(items)"
      ],
      "metadata": {
        "id": "HI1Gh5zrVc-L"
      },
      "execution_count": null,
      "outputs": []
    },
    {
      "cell_type": "markdown",
      "source": [
        "## Input"
      ],
      "metadata": {
        "id": "mdoS9slWVsSY"
      }
    },
    {
      "cell_type": "code",
      "source": [
        "## Input always returns string (a sequence of character)\n",
        "x = input(\"Enter your text: \")\n",
        "print(x)"
      ],
      "metadata": {
        "id": "TU4RgF_sV6Ta"
      },
      "execution_count": null,
      "outputs": []
    },
    {
      "cell_type": "code",
      "source": [
        "## Printing your name\n",
        "\n",
        "first_name = input(\"Enter your first name: \")\n",
        "last_name  = input(\"Enter your last name: \")\n",
        "\n",
        "print(first_name, last_name)"
      ],
      "metadata": {
        "id": "BGBhieN-XDeW"
      },
      "execution_count": null,
      "outputs": []
    },
    {
      "cell_type": "markdown",
      "source": [
        "## Conditional Execution\n",
        "\n",
        "* $\\texttt{if}$ statement.  \n",
        "* Syntax:\n",
        "<br> $\\texttt{if condition}$ :\n",
        "<br>&emsp;$\\texttt{statement}$\n",
        "<br>&emsp;$\\texttt{statement}$\n",
        "* if condition is true, then do statements inside the if block\n",
        "\n",
        "![if flow.png](https://drive.google.com/uc?export=view&id=1NFWAzLHWE8kC8ZOKKGpPxgRLYYPRrKmS)"
      ],
      "metadata": {
        "id": "HsisYiJnZr8m"
      }
    },
    {
      "cell_type": "code",
      "source": [
        "## if statement\n",
        "if 5 > 1:\n",
        "  print(\"Condition is true\")\n",
        "  print(\"Hello\")\n",
        "\n",
        "\n",
        "print(\"Outside\")"
      ],
      "metadata": {
        "id": "V-JoRF1_aOvL"
      },
      "execution_count": null,
      "outputs": []
    },
    {
      "cell_type": "code",
      "source": [
        "## comparison\n",
        "## x == y      Is x equal y?\n",
        "## x != y      Is x not equal y?\n",
        "if 5 == 5:\n",
        "  print(\"Condition is true\")\n",
        "\n",
        "if \"abc\" == \"abc\":\n",
        "  print(\"Yes\")"
      ],
      "metadata": {
        "id": "BTNBSsq1baww"
      },
      "execution_count": null,
      "outputs": []
    },
    {
      "cell_type": "markdown",
      "source": [
        "## Repetition Structure\n",
        "\n",
        "* $\\texttt{while}$ statment:\n",
        "* * Syntax:\n",
        "<br> $\\texttt{while condition}$ :\n",
        "<br>&emsp;$\\texttt{statement}$\n",
        "<br>&emsp;$\\texttt{statement}$\n",
        "* while the condition is true, keep repeating the statments inside the while block.\n",
        "\n",
        "![while flow.png](https://drive.google.com/uc?export=view&id=1Ni5Xcq-Lz8xkyt9fEi7RVmu2jZxvvmt2)"
      ],
      "metadata": {
        "id": "Qw0MB6SabFq5"
      }
    },
    {
      "cell_type": "code",
      "source": [
        "x = 0\n",
        "\n",
        "## Keep looping while x < 5\n",
        "while x < 5:\n",
        "  print(x)\n",
        "  x = x + 1"
      ],
      "metadata": {
        "id": "JoaOIhvzdoY0"
      },
      "execution_count": null,
      "outputs": []
    },
    {
      "cell_type": "markdown",
      "source": [
        "## Reuse\n",
        "\n",
        "* You can create a mini program/block of code to receive input and return output.\n",
        "* This mini program is called **Function**\n",
        "* Syntax:\n",
        "<br> $\\texttt{def function_name(inputs)}$ :\n",
        "<br>&emsp;$\\texttt{statement}$\n",
        "<br>&emsp;$\\texttt{statement}$\n",
        "<br>&emsp;$\\texttt{return output}$\n",
        "* Call **Function** as follows: function_name(inputs)"
      ],
      "metadata": {
        "id": "a_fUt4yLezhc"
      }
    },
    {
      "cell_type": "code",
      "source": [
        "def multiply_by_2(num):\n",
        "  num = num*2\n",
        "  return num\n",
        "\n",
        "x = multiply_by_2(2)\n",
        "print(x)"
      ],
      "metadata": {
        "id": "e8qXCJStfymO"
      },
      "execution_count": null,
      "outputs": []
    },
    {
      "cell_type": "markdown",
      "source": [
        "\n",
        "\n",
        "---\n",
        "\n"
      ],
      "metadata": {
        "id": "DIAD2EyteAUR"
      }
    },
    {
      "cell_type": "markdown",
      "source": [
        "## XO (Tic-Tac-Toe) Example"
      ],
      "metadata": {
        "id": "Ia5yE63EeBvE"
      }
    },
    {
      "cell_type": "code",
      "source": [
        "## Helper function for printing a board\n",
        "## You can ignore this.\n",
        "def print_board(board):\n",
        "  for i in range(3):\n",
        "    for j in range(3):\n",
        "      print(board[i][j],end=\"\")\n",
        "      if j != 2:\n",
        "        print(\"|\",end=\"\")\n",
        "    if i!= 2:\n",
        "      print(\"\\n-----\")\n",
        "  print(\"\\n\")"
      ],
      "metadata": {
        "id": "c_NmH1zog9Tm"
      },
      "execution_count": null,
      "outputs": []
    },
    {
      "cell_type": "code",
      "source": [
        "# Tic-Tac-Toe Live Coding\n",
        "\n",
        "## 2d board\n",
        "board = [[\" \", \" \", \" \"],\n",
        "         [\" \", \" \", \" \"],\n",
        "         [\" \", \" \", \" \"]]\n",
        "\n",
        "## First turn is X\n",
        "turn = \"X\"\n",
        "\n",
        "\n",
        "# Function to determine the game end\n",
        "## Two checks: 1) anyone win? 2) is a draw? (no empty)\n",
        "## If both fail, not end yet\n",
        "def is_game_end(board):\n",
        "\n",
        "\n",
        "# Main game loop\n",
        "## The game loop checks if the game end yet.\n",
        "## If not then,\n",
        "## 1) Display the game board and the turn\n",
        "## 2) Get input from the current player\n",
        "## 3) Update the board\n",
        "## 4) Update the next player\n",
        "\n",
        "## Display who win\n",
        "\n"
      ],
      "metadata": {
        "id": "ksJDbT7GeqEE"
      },
      "execution_count": null,
      "outputs": []
    },
    {
      "cell_type": "code",
      "source": [
        "#@title Solution\n",
        "# Tic-Tac-Toe Solution\n",
        "\n",
        "## 2d board\n",
        "board = [[\" \", \" \", \" \"],\n",
        "         [\" \", \" \", \" \"],\n",
        "         [\" \", \" \", \" \"]]\n",
        "\n",
        "## First turn is X\n",
        "turn = \"X\"\n",
        "\n",
        "\n",
        "# Function to determine the game end\n",
        "## Two checks: 1) anyone win? 2) is a draw?\n",
        "## If both fail, not end yet\n",
        "\n",
        "def is_game_end(board):\n",
        "  ## anyone win?\n",
        "  ### row 1\n",
        "  if(board[0][0]==board[0][1] and board[0][1]==board[0][2] and board[0][0] != \" \"):\n",
        "    return board[0][0]\n",
        "  ### row 2\n",
        "  if(board[1][0]==board[1][1] and board[1][1] == board[1][2] and board[1][0] != \" \"):\n",
        "    return board[1][0]\n",
        "  ### row 3\n",
        "  if(board[2][0]==board[2][1] and board[2][1] == board[2][2] and board[2][0] != \" \"):\n",
        "    return board[2][0]\n",
        "  ### column 1\n",
        "  if(board[0][0]==board[1][0] and board[1][0] == board[2][0] and board[0][0] != \" \"):\n",
        "    return board[0][0]\n",
        "  ### column 2\n",
        "  if(board[0][1]==board[1][1] and board[1][1] == board[2][1] and board[0][1] != \" \"):\n",
        "    return board[0][1]\n",
        "  ## column 3\n",
        "  if(board[0][2]==board[1][2] and board[1][2] == board[2][2] and board[0][2] != \" \"):\n",
        "    return board[0][2]\n",
        "  ## diag 1\n",
        "  if(board[0][0]==board[1][1] and board[1][1] == board[2][2] and board[0][0] != \" \"):\n",
        "    return board[0][0]\n",
        "  ## diag 2\n",
        "  if(board[0][2]==board[1][1] and board[1][1] == board[2][0] and board[0][2] != \" \"):\n",
        "    return board[0][2]\n",
        "\n",
        "  ## draw? -> no empty\n",
        "  if(board[0][0]!=\" \" and board[0][1]!=\" \" and board[0][2] !=\" \"and\n",
        "     board[1][0] != \" \" and board[1][1] != \" \" and board[1][2]!=\" \" and\n",
        "     board[2][0]!=\" \" and board[2][1]!=\" \" and board[2][2] !=\" \"):\n",
        "    return \"Draw\"\n",
        "\n",
        "  return \"Not done\"\n",
        "\n",
        "\n",
        "# Main game loop\n",
        "## The game loop checks if the game end yet.\n",
        "## If not then,\n",
        "## 1) Display the game board and the turn\n",
        "## 2) Get input from the current player\n",
        "## 3) Update the board\n",
        "## 4) Update the next player\n",
        "while is_game_end(board) == \"Not done\":\n",
        "\n",
        "  print_board(board)\n",
        "  print(turn, \" turn\")\n",
        "\n",
        "  next_row = int(input(\"Next row: \"))\n",
        "  next_col = int(input(\"Next column: \"))\n",
        "\n",
        "  board[next_row][next_col] = turn\n",
        "\n",
        "  if turn == \"X\":\n",
        "    turn = \"O\"\n",
        "  else:\n",
        "    turn = \"X\"\n",
        "\n",
        "## Display who win\n",
        "print(is_game_end(board))"
      ],
      "metadata": {
        "cellView": "form",
        "id": "dwCEUD9SRt8p"
      },
      "execution_count": null,
      "outputs": []
    }
  ]
}