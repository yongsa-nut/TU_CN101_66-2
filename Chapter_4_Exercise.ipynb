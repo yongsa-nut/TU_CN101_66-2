{
  "nbformat": 4,
  "nbformat_minor": 0,
  "metadata": {
    "colab": {
      "provenance": [],
      "authorship_tag": "ABX9TyO1vlMARGfApxIRXiCJ3hb1",
      "include_colab_link": true
    },
    "kernelspec": {
      "name": "python3",
      "display_name": "Python 3"
    },
    "language_info": {
      "name": "python"
    }
  },
  "cells": [
    {
      "cell_type": "markdown",
      "metadata": {
        "id": "view-in-github",
        "colab_type": "text"
      },
      "source": [
        "<a href=\"https://colab.research.google.com/github/yongsa-nut/TU_Intro_Prog/blob/main/Chapter_4_Exercise.ipynb\" target=\"_parent\"><img src=\"https://colab.research.google.com/assets/colab-badge.svg\" alt=\"Open In Colab\"/></a>"
      ]
    },
    {
      "cell_type": "markdown",
      "source": [
        "**Q1** Write the output of the following program:\n",
        "\n",
        "```\n",
        "num = 10\n",
        "while num > 1:\n",
        " print(num, end=\"\")\n",
        " num -= 2\n",
        "```"
      ],
      "metadata": {
        "id": "-ccle5cmfCUv"
      }
    },
    {
      "cell_type": "code",
      "execution_count": null,
      "metadata": {
        "id": "JxToh3fRe51s"
      },
      "outputs": [],
      "source": []
    },
    {
      "cell_type": "markdown",
      "source": [
        "**Q2**: Write the output of the following program:\n",
        "\n",
        "```\n",
        "total = 0\n",
        "for i in range(1,10,2):\n",
        "  total += i\n",
        "print(i)\n",
        "```"
      ],
      "metadata": {
        "id": "bIqgKmHYfp-D"
      }
    },
    {
      "cell_type": "code",
      "source": [],
      "metadata": {
        "id": "Ur-hlKzrfsGg"
      },
      "execution_count": null,
      "outputs": []
    },
    {
      "cell_type": "markdown",
      "source": [
        "**Q3**: Write the output of the following program:\n",
        "\n",
        "```\n",
        "total = 0\n",
        "for num in [4, 5, 7, 9, 12]:\n",
        "  if num %2 == 0:\n",
        "    total += num\n",
        "  else:\n",
        "    total += 1\n",
        "print(total)\n",
        "```"
      ],
      "metadata": {
        "id": "ZMSvucC_fssT"
      }
    },
    {
      "cell_type": "code",
      "source": [],
      "metadata": {
        "id": "1cSfjsh7fvEp"
      },
      "execution_count": null,
      "outputs": []
    },
    {
      "cell_type": "markdown",
      "source": [
        "**Q4**: Genearl Looping paterns\n",
        "```\n",
        "lowest = -1\n",
        "for n in [10, 20, 30, 40, 50]:\n",
        "  if n < lowest:\n",
        "    lowest = n\n",
        "print(lowest)\n",
        "```"
      ],
      "metadata": {
        "id": "VQ0QwYqzfzsL"
      }
    },
    {
      "cell_type": "code",
      "source": [],
      "metadata": {
        "id": "ITwkD9pMf35j"
      },
      "execution_count": null,
      "outputs": []
    },
    {
      "cell_type": "markdown",
      "source": [
        "**Q5**: Write the output of the folowing program\n",
        "\n",
        "```\n",
        "for i in range(5):\n",
        "  for j in range(1, i):\n",
        "    print(j, end='')\n",
        "```"
      ],
      "metadata": {
        "id": "lpWYJuW1f4Oj"
      }
    },
    {
      "cell_type": "code",
      "source": [],
      "metadata": {
        "id": "AzeeywQxf7FP"
      },
      "execution_count": null,
      "outputs": []
    },
    {
      "cell_type": "markdown",
      "source": [
        "\n",
        "\n",
        "---\n",
        "\n"
      ],
      "metadata": {
        "id": "VLn-GBDXgCWw"
      }
    },
    {
      "cell_type": "markdown",
      "source": [
        "**Q6**:\n",
        "Write a program that repeatedly prompts a user for integer numbers until the user enters 'done'. <br> Once 'done' is entered, print out the largest and smallest of the numbers.\n",
        "\n",
        "Example:\n",
        "```\n",
        "Enter a number: 5\n",
        "Enter a number: 3\n",
        "Enter a number: 10\n",
        "Enter a number: done\n",
        "Maximum is 10\n",
        "Minimum is 3\n",
        "```"
      ],
      "metadata": {
        "id": "8voyjOiegDKY"
      }
    },
    {
      "cell_type": "code",
      "source": [
        "\n",
        "\n",
        "\n",
        "\n",
        "\n",
        "\n",
        "\n",
        "\n",
        "\n"
      ],
      "metadata": {
        "id": "4XNy4b7SgGMU"
      },
      "execution_count": null,
      "outputs": []
    },
    {
      "cell_type": "markdown",
      "source": [
        "**Q7**:\n",
        "Write the program based on the pseudocode before. The goal is to display the train ticket price table for upto 10 stations. The initial price is 20 and the price increases by 10 every station.\n",
        "\n",
        "**Pseudocode**\n",
        "* Receive input n from the user.\n",
        "* For loop i from 1 to n.\n",
        "  * First print out the current station i \"from station i:\"\n",
        "  * Then for loop backward from i to 1 to display the cost backward\n",
        "\n",
        "Example\n",
        "```\n",
        "Enter n: 5\n",
        "from station 1: 20\n",
        "from station 2: 30 20\n",
        "from station 3: 40 30 20\n",
        "from station 4: 50 40 30 20\n",
        "from station 5: 60 50 40 30 20\n",
        "```"
      ],
      "metadata": {
        "id": "sPl0RgKhgG-v"
      }
    },
    {
      "cell_type": "code",
      "source": [
        "\n",
        "\n",
        "\n",
        "\n",
        "\n",
        "\n",
        "\n",
        "\n",
        "\n"
      ],
      "metadata": {
        "id": "2QjM6SncgI9G"
      },
      "execution_count": null,
      "outputs": []
    }
  ]
}