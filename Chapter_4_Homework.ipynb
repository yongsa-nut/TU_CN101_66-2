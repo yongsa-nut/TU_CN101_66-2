{
  "nbformat": 4,
  "nbformat_minor": 0,
  "metadata": {
    "colab": {
      "provenance": [],
      "authorship_tag": "ABX9TyM/AUQI69c+uaceJP7wX5UB",
      "include_colab_link": true
    },
    "kernelspec": {
      "name": "python3",
      "display_name": "Python 3"
    },
    "language_info": {
      "name": "python"
    },
    "widgets": {
      "application/vnd.jupyter.widget-state+json": {
        "528b71c803ea4f1f8f5cef4863d56485": {
          "model_module": "@jupyter-widgets/controls",
          "model_name": "VBoxModel",
          "model_module_version": "1.5.0",
          "state": {
            "_dom_classes": [],
            "_model_module": "@jupyter-widgets/controls",
            "_model_module_version": "1.5.0",
            "_model_name": "VBoxModel",
            "_view_count": null,
            "_view_module": "@jupyter-widgets/controls",
            "_view_module_version": "1.5.0",
            "_view_name": "VBoxView",
            "box_style": "",
            "children": [
              "IPY_MODEL_d2cbb04060f54b0c99b70a9b7ad4e9ed",
              "IPY_MODEL_d83794389d414f5f99d91a7e728e3e83"
            ],
            "layout": "IPY_MODEL_1054e9dd82824ca987d5269960139f52"
          }
        },
        "d2cbb04060f54b0c99b70a9b7ad4e9ed": {
          "model_module": "@jupyter-widgets/controls",
          "model_name": "ButtonModel",
          "model_module_version": "1.5.0",
          "state": {
            "_dom_classes": [],
            "_model_module": "@jupyter-widgets/controls",
            "_model_module_version": "1.5.0",
            "_model_name": "ButtonModel",
            "_view_count": null,
            "_view_module": "@jupyter-widgets/controls",
            "_view_module_version": "1.5.0",
            "_view_name": "ButtonView",
            "button_style": "",
            "description": "Show Hint",
            "disabled": false,
            "icon": "",
            "layout": "IPY_MODEL_13d6ef37fa3044ec89ab4fb4082e95b0",
            "style": "IPY_MODEL_e522b186ace84beca357dbb90be794d4",
            "tooltip": ""
          }
        },
        "d83794389d414f5f99d91a7e728e3e83": {
          "model_module": "@jupyter-widgets/output",
          "model_name": "OutputModel",
          "model_module_version": "1.0.0",
          "state": {
            "_dom_classes": [],
            "_model_module": "@jupyter-widgets/output",
            "_model_module_version": "1.0.0",
            "_model_name": "OutputModel",
            "_view_count": null,
            "_view_module": "@jupyter-widgets/output",
            "_view_module_version": "1.0.0",
            "_view_name": "OutputView",
            "layout": "IPY_MODEL_a8928d815f39464eb0eca31f11232bfe",
            "msg_id": "",
            "outputs": [
              {
                "output_type": "display_data",
                "data": {
                  "text/plain": "<IPython.core.display.Markdown object>",
                  "text/markdown": "\nThe inner loop can be broken down into 2 loops\n1. The first loop is to print the leading empty space\n2. The second loop is to print *\n\n* Use print(\" \", end=\"\") to print without \"\n\"\n* Range(start,end, step=1). if start >= end and step is positive, for loop won't do anything.\n\nExample: n = 3\n\nThe first line = \" \"|\" \"|\"*\"|\" \"|\" \"\n1. First print out two empty spaces\n2. Then print out one *\n\nThe second line = \" \"|\"*\"|\"*\"|\"*\"|\" \"\n1. First print out one empty spaces.\n2. Then print out three *\n\nThe third line = \"*\"|\"*\"|\"*\"|\"*\"|\"*\"\n1. First print out nothing. (skip the loop e.g., range(0,0))\n2. Ten print out five *\n\nNote: This is not the only way to solve this problem.\n"
                },
                "metadata": {}
              }
            ]
          }
        },
        "1054e9dd82824ca987d5269960139f52": {
          "model_module": "@jupyter-widgets/base",
          "model_name": "LayoutModel",
          "model_module_version": "1.2.0",
          "state": {
            "_model_module": "@jupyter-widgets/base",
            "_model_module_version": "1.2.0",
            "_model_name": "LayoutModel",
            "_view_count": null,
            "_view_module": "@jupyter-widgets/base",
            "_view_module_version": "1.2.0",
            "_view_name": "LayoutView",
            "align_content": null,
            "align_items": null,
            "align_self": null,
            "border": null,
            "bottom": null,
            "display": null,
            "flex": null,
            "flex_flow": null,
            "grid_area": null,
            "grid_auto_columns": null,
            "grid_auto_flow": null,
            "grid_auto_rows": null,
            "grid_column": null,
            "grid_gap": null,
            "grid_row": null,
            "grid_template_areas": null,
            "grid_template_columns": null,
            "grid_template_rows": null,
            "height": null,
            "justify_content": null,
            "justify_items": null,
            "left": null,
            "margin": null,
            "max_height": null,
            "max_width": null,
            "min_height": null,
            "min_width": null,
            "object_fit": null,
            "object_position": null,
            "order": null,
            "overflow": null,
            "overflow_x": null,
            "overflow_y": null,
            "padding": null,
            "right": null,
            "top": null,
            "visibility": null,
            "width": null
          }
        },
        "13d6ef37fa3044ec89ab4fb4082e95b0": {
          "model_module": "@jupyter-widgets/base",
          "model_name": "LayoutModel",
          "model_module_version": "1.2.0",
          "state": {
            "_model_module": "@jupyter-widgets/base",
            "_model_module_version": "1.2.0",
            "_model_name": "LayoutModel",
            "_view_count": null,
            "_view_module": "@jupyter-widgets/base",
            "_view_module_version": "1.2.0",
            "_view_name": "LayoutView",
            "align_content": null,
            "align_items": null,
            "align_self": null,
            "border": null,
            "bottom": null,
            "display": null,
            "flex": null,
            "flex_flow": null,
            "grid_area": null,
            "grid_auto_columns": null,
            "grid_auto_flow": null,
            "grid_auto_rows": null,
            "grid_column": null,
            "grid_gap": null,
            "grid_row": null,
            "grid_template_areas": null,
            "grid_template_columns": null,
            "grid_template_rows": null,
            "height": null,
            "justify_content": null,
            "justify_items": null,
            "left": null,
            "margin": null,
            "max_height": null,
            "max_width": null,
            "min_height": null,
            "min_width": null,
            "object_fit": null,
            "object_position": null,
            "order": null,
            "overflow": null,
            "overflow_x": null,
            "overflow_y": null,
            "padding": null,
            "right": null,
            "top": null,
            "visibility": null,
            "width": null
          }
        },
        "e522b186ace84beca357dbb90be794d4": {
          "model_module": "@jupyter-widgets/controls",
          "model_name": "ButtonStyleModel",
          "model_module_version": "1.5.0",
          "state": {
            "_model_module": "@jupyter-widgets/controls",
            "_model_module_version": "1.5.0",
            "_model_name": "ButtonStyleModel",
            "_view_count": null,
            "_view_module": "@jupyter-widgets/base",
            "_view_module_version": "1.2.0",
            "_view_name": "StyleView",
            "button_color": null,
            "font_weight": ""
          }
        },
        "a8928d815f39464eb0eca31f11232bfe": {
          "model_module": "@jupyter-widgets/base",
          "model_name": "LayoutModel",
          "model_module_version": "1.2.0",
          "state": {
            "_model_module": "@jupyter-widgets/base",
            "_model_module_version": "1.2.0",
            "_model_name": "LayoutModel",
            "_view_count": null,
            "_view_module": "@jupyter-widgets/base",
            "_view_module_version": "1.2.0",
            "_view_name": "LayoutView",
            "align_content": null,
            "align_items": null,
            "align_self": null,
            "border": null,
            "bottom": null,
            "display": null,
            "flex": null,
            "flex_flow": null,
            "grid_area": null,
            "grid_auto_columns": null,
            "grid_auto_flow": null,
            "grid_auto_rows": null,
            "grid_column": null,
            "grid_gap": null,
            "grid_row": null,
            "grid_template_areas": null,
            "grid_template_columns": null,
            "grid_template_rows": null,
            "height": null,
            "justify_content": null,
            "justify_items": null,
            "left": null,
            "margin": null,
            "max_height": null,
            "max_width": null,
            "min_height": null,
            "min_width": null,
            "object_fit": null,
            "object_position": null,
            "order": null,
            "overflow": null,
            "overflow_x": null,
            "overflow_y": null,
            "padding": null,
            "right": null,
            "top": null,
            "visibility": null,
            "width": null
          }
        },
        "0ccb122760964b749c9f096c3b8d4b9e": {
          "model_module": "@jupyter-widgets/controls",
          "model_name": "VBoxModel",
          "model_module_version": "1.5.0",
          "state": {
            "_dom_classes": [],
            "_model_module": "@jupyter-widgets/controls",
            "_model_module_version": "1.5.0",
            "_model_name": "VBoxModel",
            "_view_count": null,
            "_view_module": "@jupyter-widgets/controls",
            "_view_module_version": "1.5.0",
            "_view_name": "VBoxView",
            "box_style": "",
            "children": [
              "IPY_MODEL_c12e111ae74140ab951932ab2a41dac4",
              "IPY_MODEL_e6f7e03155c34fcdb2e5e142e369fcca"
            ],
            "layout": "IPY_MODEL_28f9c18fb4ef48b38abc83d15e141ca0"
          }
        },
        "c12e111ae74140ab951932ab2a41dac4": {
          "model_module": "@jupyter-widgets/controls",
          "model_name": "ButtonModel",
          "model_module_version": "1.5.0",
          "state": {
            "_dom_classes": [],
            "_model_module": "@jupyter-widgets/controls",
            "_model_module_version": "1.5.0",
            "_model_name": "ButtonModel",
            "_view_count": null,
            "_view_module": "@jupyter-widgets/controls",
            "_view_module_version": "1.5.0",
            "_view_name": "ButtonView",
            "button_style": "",
            "description": "Show Hint",
            "disabled": false,
            "icon": "",
            "layout": "IPY_MODEL_4f862e560510407b9060773cf4af28db",
            "style": "IPY_MODEL_8efb445c13084f14abe5b7ba71434011",
            "tooltip": ""
          }
        },
        "e6f7e03155c34fcdb2e5e142e369fcca": {
          "model_module": "@jupyter-widgets/output",
          "model_name": "OutputModel",
          "model_module_version": "1.0.0",
          "state": {
            "_dom_classes": [],
            "_model_module": "@jupyter-widgets/output",
            "_model_module_version": "1.0.0",
            "_model_name": "OutputModel",
            "_view_count": null,
            "_view_module": "@jupyter-widgets/output",
            "_view_module_version": "1.0.0",
            "_view_name": "OutputView",
            "layout": "IPY_MODEL_519f3b066d4b46f2a97ffc150f23f30c",
            "msg_id": "",
            "outputs": [
              {
                "output_type": "display_data",
                "data": {
                  "text/plain": "<IPython.core.display.Markdown object>",
                  "text/markdown": "\n1. You can get the last digit using %\n2. Then you can repeatedly cut the last digit one at time using //$\nNote: this is not the only way to solve this problem.\n"
                },
                "metadata": {}
              }
            ]
          }
        },
        "28f9c18fb4ef48b38abc83d15e141ca0": {
          "model_module": "@jupyter-widgets/base",
          "model_name": "LayoutModel",
          "model_module_version": "1.2.0",
          "state": {
            "_model_module": "@jupyter-widgets/base",
            "_model_module_version": "1.2.0",
            "_model_name": "LayoutModel",
            "_view_count": null,
            "_view_module": "@jupyter-widgets/base",
            "_view_module_version": "1.2.0",
            "_view_name": "LayoutView",
            "align_content": null,
            "align_items": null,
            "align_self": null,
            "border": null,
            "bottom": null,
            "display": null,
            "flex": null,
            "flex_flow": null,
            "grid_area": null,
            "grid_auto_columns": null,
            "grid_auto_flow": null,
            "grid_auto_rows": null,
            "grid_column": null,
            "grid_gap": null,
            "grid_row": null,
            "grid_template_areas": null,
            "grid_template_columns": null,
            "grid_template_rows": null,
            "height": null,
            "justify_content": null,
            "justify_items": null,
            "left": null,
            "margin": null,
            "max_height": null,
            "max_width": null,
            "min_height": null,
            "min_width": null,
            "object_fit": null,
            "object_position": null,
            "order": null,
            "overflow": null,
            "overflow_x": null,
            "overflow_y": null,
            "padding": null,
            "right": null,
            "top": null,
            "visibility": null,
            "width": null
          }
        },
        "4f862e560510407b9060773cf4af28db": {
          "model_module": "@jupyter-widgets/base",
          "model_name": "LayoutModel",
          "model_module_version": "1.2.0",
          "state": {
            "_model_module": "@jupyter-widgets/base",
            "_model_module_version": "1.2.0",
            "_model_name": "LayoutModel",
            "_view_count": null,
            "_view_module": "@jupyter-widgets/base",
            "_view_module_version": "1.2.0",
            "_view_name": "LayoutView",
            "align_content": null,
            "align_items": null,
            "align_self": null,
            "border": null,
            "bottom": null,
            "display": null,
            "flex": null,
            "flex_flow": null,
            "grid_area": null,
            "grid_auto_columns": null,
            "grid_auto_flow": null,
            "grid_auto_rows": null,
            "grid_column": null,
            "grid_gap": null,
            "grid_row": null,
            "grid_template_areas": null,
            "grid_template_columns": null,
            "grid_template_rows": null,
            "height": null,
            "justify_content": null,
            "justify_items": null,
            "left": null,
            "margin": null,
            "max_height": null,
            "max_width": null,
            "min_height": null,
            "min_width": null,
            "object_fit": null,
            "object_position": null,
            "order": null,
            "overflow": null,
            "overflow_x": null,
            "overflow_y": null,
            "padding": null,
            "right": null,
            "top": null,
            "visibility": null,
            "width": null
          }
        },
        "8efb445c13084f14abe5b7ba71434011": {
          "model_module": "@jupyter-widgets/controls",
          "model_name": "ButtonStyleModel",
          "model_module_version": "1.5.0",
          "state": {
            "_model_module": "@jupyter-widgets/controls",
            "_model_module_version": "1.5.0",
            "_model_name": "ButtonStyleModel",
            "_view_count": null,
            "_view_module": "@jupyter-widgets/base",
            "_view_module_version": "1.2.0",
            "_view_name": "StyleView",
            "button_color": null,
            "font_weight": ""
          }
        },
        "519f3b066d4b46f2a97ffc150f23f30c": {
          "model_module": "@jupyter-widgets/base",
          "model_name": "LayoutModel",
          "model_module_version": "1.2.0",
          "state": {
            "_model_module": "@jupyter-widgets/base",
            "_model_module_version": "1.2.0",
            "_model_name": "LayoutModel",
            "_view_count": null,
            "_view_module": "@jupyter-widgets/base",
            "_view_module_version": "1.2.0",
            "_view_name": "LayoutView",
            "align_content": null,
            "align_items": null,
            "align_self": null,
            "border": null,
            "bottom": null,
            "display": null,
            "flex": null,
            "flex_flow": null,
            "grid_area": null,
            "grid_auto_columns": null,
            "grid_auto_flow": null,
            "grid_auto_rows": null,
            "grid_column": null,
            "grid_gap": null,
            "grid_row": null,
            "grid_template_areas": null,
            "grid_template_columns": null,
            "grid_template_rows": null,
            "height": null,
            "justify_content": null,
            "justify_items": null,
            "left": null,
            "margin": null,
            "max_height": null,
            "max_width": null,
            "min_height": null,
            "min_width": null,
            "object_fit": null,
            "object_position": null,
            "order": null,
            "overflow": null,
            "overflow_x": null,
            "overflow_y": null,
            "padding": null,
            "right": null,
            "top": null,
            "visibility": null,
            "width": null
          }
        }
      }
    }
  },
  "cells": [
    {
      "cell_type": "markdown",
      "metadata": {
        "id": "view-in-github",
        "colab_type": "text"
      },
      "source": [
        "<a href=\"https://colab.research.google.com/github/yongsa-nut/TU_Intro_Prog/blob/main/Chapter_4_Homework.ipynb\" target=\"_parent\"><img src=\"https://colab.research.google.com/assets/colab-badge.svg\" alt=\"Open In Colab\"/></a>"
      ]
    },
    {
      "cell_type": "markdown",
      "source": [
        "#Chapter 4 Homework\n",
        "\n",
        "**Deadline**: Febuary 11th 2024, 23:59."
      ],
      "metadata": {
        "id": "caJn4Wjone4O"
      }
    },
    {
      "cell_type": "markdown",
      "source": [
        "**Q1**: count_pow\n",
        "\n",
        "Fill in the function to find the largest integer $m$ such that $2^m \\leq num$, <br>where $num$ is the target number between 1 and 1,000,000.  \n",
        "Solve this problem using while loop and integer division.\n",
        "\n",
        "Example:\n",
        "```\n",
        "count_pow(num=5)\n",
        "2\n",
        "```\n",
        "\n",
        "```\n",
        "count_pow(100)\n",
        "6\n",
        "```"
      ],
      "metadata": {
        "id": "VeV8veMHPKoY"
      }
    },
    {
      "cell_type": "code",
      "source": [
        "def count_pow(num):\n",
        "  # fill in your code below\n",
        "  total = 0\n",
        "\n",
        "  return total"
      ],
      "metadata": {
        "id": "D93uxXhjPKJi"
      },
      "execution_count": null,
      "outputs": []
    },
    {
      "cell_type": "code",
      "source": [
        "## Test cases. DO NOT CHANGE.\n",
        "assert count_pow(num=5) == 2, f\"Expect 2, Got {count_pow(num=5)}\"\n",
        "assert count_pow(num=100) == 6, f\"Expect 6, Got {count_pow(num=100)}\"\n",
        "assert count_pow(num=128) == 7, f\"Expect 7, Got {count_pow(num=128)}\"\n",
        "assert count_pow(num=1023) == 9, f\"Expect 9, Got {count_pow(num=1023)}\"\n",
        "assert count_pow(num=1000000) == 19, f\"Expect 19, Got {count_pow(num=1023)}\""
      ],
      "metadata": {
        "id": "acw3_Wk9otI5"
      },
      "execution_count": null,
      "outputs": []
    },
    {
      "cell_type": "markdown",
      "source": [
        "**Q2**: count_odd\n",
        "\n",
        "Fill in the function to count items in the list that are an odd number.\n",
        "\n",
        "The format for this is $\\texttt{for item in items:}$ and $\\texttt{items = [item1, item2, item3]}$"
      ],
      "metadata": {
        "id": "RyUp3JpkPOXM"
      }
    },
    {
      "cell_type": "code",
      "source": [
        "def count_odd(items):\n",
        "  ## Fill in the code below\n",
        "  count = 0\n",
        "\n",
        "  return count"
      ],
      "metadata": {
        "id": "NVUEoIyuPQig"
      },
      "execution_count": null,
      "outputs": []
    },
    {
      "cell_type": "code",
      "source": [
        "## Test cases. DO NOT CHANGE.\n",
        "count_odd([1,2,3,4,5,6,7]) == 4, f\"Expect 4, Got {count_odd([1,2,3,4,5,6,7])}\"\n",
        "count_odd([2,4,6,8,10]) == 0, f\"Expect 0, Got {count_odd([2,4,6,8,10])}\"\n",
        "count_odd([3, 9, 11, 21, 33]) == 5, f\"Expect 5, Got {count_odd([3, 9, 11, 21, 33])}\""
      ],
      "metadata": {
        "id": "tXi5Lr8LmyI9"
      },
      "execution_count": null,
      "outputs": []
    },
    {
      "cell_type": "markdown",
      "source": [
        "**Q3**: print_backward_triangle\n",
        "\n",
        "Fill in the function so that it prints out a triangle shown below.\n",
        "\n",
        "Example:\n",
        "```\n",
        "print_backward_triangle(n=1)\n",
        "*\n",
        "```\n",
        "\n",
        "```\n",
        "print_backward_triangle(n=3)\n",
        "***\n",
        "**\n",
        "*\n",
        "```\n",
        "\n",
        "```\n",
        "print_backward_triangle(n=5)\n",
        "*****\n",
        "****\n",
        "***\n",
        "**\n",
        "*\n",
        "```\n",
        "**Note**:\n",
        "* For this question, you must use $\n",
        "\\texttt{print}$ to display *.\n",
        "* There is no automatic check for this problem. You need to visually inspect the outputs by yourself."
      ],
      "metadata": {
        "id": "d1mOKfM8PM-i"
      }
    },
    {
      "cell_type": "code",
      "execution_count": null,
      "metadata": {
        "id": "iF-NUQeYNGj2"
      },
      "outputs": [],
      "source": [
        "def print_backward_triangle(n)\n",
        "  ## Fill in your code here"
      ]
    },
    {
      "cell_type": "code",
      "source": [
        "## Test cases. DO NOT CHANGE.\n",
        "print_backward_triangle(n=1)\n",
        "print_backward_triangle(n=5)\n",
        "print_backward_triangle(n=7)"
      ],
      "metadata": {
        "id": "laDdPteinLf2"
      },
      "execution_count": null,
      "outputs": []
    },
    {
      "cell_type": "markdown",
      "source": [
        "**Q4** print_pyramid\n",
        "\n",
        "Fill in a function such that it prints out a pyramid as shown below.\n",
        "\n",
        "Example 1:\n",
        "```\n",
        "print_pyramid(n=1)\n",
        "*\n",
        "```\n",
        "\n",
        "Example 2:\n",
        "```\n",
        "print_pyramid(n=2)\n",
        " *\n",
        "***\n",
        "```\n",
        "\n",
        "Example 3:\n",
        "```\n",
        "print_pyramid(n=3)\n",
        "  *\n",
        " ***\n",
        "*****\n",
        "```\n",
        "\n",
        "Example 4:\n",
        "```\n",
        "print_pyramid(n=4)\n",
        "   *\n",
        "  ***\n",
        " *****\n",
        "*******\n",
        "```\n",
        "\n",
        "**Note**:\n",
        "* For this question, you must use $\n",
        "\\texttt{print}$ to display *.\n",
        "* There is no automatic check for this problem. You need to visually inspect the outputs by yourself."
      ],
      "metadata": {
        "id": "aYZKgNgENv2h"
      }
    },
    {
      "cell_type": "code",
      "source": [
        "#@title Hint (click show hint below)\n",
        "from ipywidgets import widgets\n",
        "from IPython.display import display, Markdown\n",
        "\n",
        "def toggle_hint(hint_text):\n",
        "    hint_button = widgets.Button(description='Show Hint')\n",
        "    output_area = widgets.Output()\n",
        "\n",
        "    def on_button_clicked(b):\n",
        "        with output_area:\n",
        "            output_area.clear_output()\n",
        "            display(Markdown(hint_text))\n",
        "\n",
        "    hint_button.on_click(on_button_clicked)\n",
        "\n",
        "    display(widgets.VBox([hint_button, output_area]))\n",
        "\n",
        "# Example usage\n",
        "\n",
        "hint = \"\"\"\n",
        "The inner loop can be broken down into 2 loops\n",
        "1. The first loop is to print the leading empty space\n",
        "2. The second loop is to print *\n",
        "\n",
        "* Use print(\" \", end=\"\") to print without \"\\n\"\n",
        "* Range(start,end, step=1). if start >= end and step is positive, for loop won't do anything.\n",
        "\n",
        "Example: n = 3\n",
        "\n",
        "The first line = \" \"|\" \"|\"*\"|\" \"|\" \"\n",
        "1. First print out two empty spaces\n",
        "2. Then print out one *\n",
        "\n",
        "The second line = \" \"|\"*\"|\"*\"|\"*\"|\" \"\n",
        "1. First print out one empty spaces.\n",
        "2. Then print out three *\n",
        "\n",
        "The third line = \"*\"|\"*\"|\"*\"|\"*\"|\"*\"\n",
        "1. First print out nothing. (skip the loop e.g., range(0,0))\n",
        "2. Ten print out five *\n",
        "\n",
        "Note: This is not the only way to solve this problem.\n",
        "\"\"\"\n",
        "toggle_hint(hint)"
      ],
      "metadata": {
        "colab": {
          "base_uri": "https://localhost:8080/",
          "height": 463,
          "referenced_widgets": [
            "528b71c803ea4f1f8f5cef4863d56485",
            "d2cbb04060f54b0c99b70a9b7ad4e9ed",
            "d83794389d414f5f99d91a7e728e3e83",
            "1054e9dd82824ca987d5269960139f52",
            "13d6ef37fa3044ec89ab4fb4082e95b0",
            "e522b186ace84beca357dbb90be794d4",
            "a8928d815f39464eb0eca31f11232bfe"
          ]
        },
        "cellView": "form",
        "id": "bUJatVTeQj8u",
        "outputId": "75228f34-5634-47aa-b063-cfa7b3039a76"
      },
      "execution_count": 1,
      "outputs": [
        {
          "output_type": "display_data",
          "data": {
            "text/plain": [
              "VBox(children=(Button(description='Show Hint', style=ButtonStyle()), Output()))"
            ],
            "application/vnd.jupyter.widget-view+json": {
              "version_major": 2,
              "version_minor": 0,
              "model_id": "528b71c803ea4f1f8f5cef4863d56485"
            }
          },
          "metadata": {}
        }
      ]
    },
    {
      "cell_type": "code",
      "source": [
        "def print_pyramid(n):\n",
        "  ##Fill your code below\n",
        "  return"
      ],
      "metadata": {
        "id": "O3cgy5MvN6Wm"
      },
      "execution_count": null,
      "outputs": []
    },
    {
      "cell_type": "code",
      "source": [
        "## Test cases\n",
        "print_pyramid(1)\n",
        "print_pyramid(2)\n",
        "print_pyramid(3)\n",
        "print_pyramid(4)\n",
        "print_pyramid(5)\n",
        "print_pyramid(7)"
      ],
      "metadata": {
        "id": "Dby9UfkFmIp_"
      },
      "execution_count": null,
      "outputs": []
    },
    {
      "cell_type": "markdown",
      "source": [
        "**Q5**: squared_digit\n",
        "\n",
        "Fill in the function that calculates the sum of all digits squared.\n",
        "\n",
        "Input: 0 <= n <= 1,000,000. n is integer.\n",
        "\n",
        "Example1:\n",
        "```\n",
        "squared_digit(n= 89)\n",
        "145\n",
        "```\n",
        "Explanation $8^2 + 9^2 = 145$\n",
        "\n",
        "Example2:\n",
        "```\n",
        "squared_digit(n= 456890)\n",
        "222\n",
        "```\n",
        "Explanation: $4^2 + 5^2 + 6^2 + 8^2 + 9^2 + 0^2 = 222$"
      ],
      "metadata": {
        "id": "cjLEULQZOQTI"
      }
    },
    {
      "cell_type": "code",
      "source": [
        "#@title Hint (click show hint below)\n",
        "from ipywidgets import widgets\n",
        "from IPython.display import display, Markdown\n",
        "\n",
        "def toggle_hint(hint_text):\n",
        "    hint_button = widgets.Button(description='Show Hint')\n",
        "    output_area = widgets.Output()\n",
        "\n",
        "    def on_button_clicked(b):\n",
        "        with output_area:\n",
        "            output_area.clear_output()\n",
        "            display(Markdown(hint_text))\n",
        "\n",
        "    hint_button.on_click(on_button_clicked)\n",
        "\n",
        "    display(widgets.VBox([hint_button, output_area]))\n",
        "\n",
        "# Example usage\n",
        "\n",
        "hint = \"\"\"\n",
        "1. You can get the last digit using %\n",
        "2. Then you can repeatedly cut the last digit one at time using //$\n",
        "Note: this is not the only way to solve this problem.\n",
        "\"\"\"\n",
        "toggle_hint(hint)"
      ],
      "metadata": {
        "colab": {
          "base_uri": "https://localhost:8080/",
          "height": 112,
          "referenced_widgets": [
            "0ccb122760964b749c9f096c3b8d4b9e",
            "c12e111ae74140ab951932ab2a41dac4",
            "e6f7e03155c34fcdb2e5e142e369fcca",
            "28f9c18fb4ef48b38abc83d15e141ca0",
            "4f862e560510407b9060773cf4af28db",
            "8efb445c13084f14abe5b7ba71434011",
            "519f3b066d4b46f2a97ffc150f23f30c"
          ]
        },
        "cellView": "form",
        "id": "YJN1fwpkT774",
        "outputId": "96373eb5-b846-4faa-b538-f97c08ba4efa"
      },
      "execution_count": 2,
      "outputs": [
        {
          "output_type": "display_data",
          "data": {
            "text/plain": [
              "VBox(children=(Button(description='Show Hint', style=ButtonStyle()), Output()))"
            ],
            "application/vnd.jupyter.widget-view+json": {
              "version_major": 2,
              "version_minor": 0,
              "model_id": "0ccb122760964b749c9f096c3b8d4b9e"
            }
          },
          "metadata": {}
        }
      ]
    },
    {
      "cell_type": "code",
      "source": [
        "def squared_digit(n):\n",
        "  ## Fill in your code below\n",
        "  total = 0\n",
        "\n",
        "  return total"
      ],
      "metadata": {
        "id": "CyGul294OPqp"
      },
      "execution_count": null,
      "outputs": []
    },
    {
      "cell_type": "code",
      "source": [
        "# Test cases. DO NOT CHANGE.\n",
        "assert squared_digit(n=89) == 145, f\"Expect 145, Got {squared_digit(n=89)}\"\n",
        "assert squared_digit(n=456890) == 222, f\"Expect 222, Got {squared_digit(n=456890)}\"\n",
        "assert squared_digit(n=456) == 77, f\"Expect 77, Got {squared_digit(n=456)}\"\n",
        "assert squared_digit(n=9999) == 324, f\"Expect 324, Got {squared_digit(n=9999)}\"\n",
        "assert squared_digit(n=101010) == 3, f\"Expect 3, Got {squared_digit(n=101010)}\"\n",
        "assert squared_digit(n=9) == 81, f\"Expect 81, Got {squared_digit(n=9)}\""
      ],
      "metadata": {
        "id": "tMoDE2vnVPgZ"
      },
      "execution_count": null,
      "outputs": []
    },
    {
      "cell_type": "markdown",
      "source": [
        "## Submission:\n",
        "\n",
        "* File > Download > Download.ipynb\n",
        "* Rename the file to \"sectionid_yourid_firstname_lastname_chap4homework\"\n",
        "  * Section id:\n",
        "    * Monday 9:30 - 12:30: 810002\n",
        "    * Thrusady 9:30 - 12:30: 320001\n",
        "    * Thrusday 13:30 - 16:30: 750003\n",
        "* Send it to ynutchan@engr.tu.ac.th"
      ],
      "metadata": {
        "id": "f3v15l4FiEas"
      }
    }
  ]
}