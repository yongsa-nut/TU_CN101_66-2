{
  "nbformat": 4,
  "nbformat_minor": 0,
  "metadata": {
    "colab": {
      "provenance": [],
      "authorship_tag": "ABX9TyNYdZb+eZoJF7FXboFerzA+",
      "include_colab_link": true
    },
    "kernelspec": {
      "name": "python3",
      "display_name": "Python 3"
    },
    "language_info": {
      "name": "python"
    }
  },
  "cells": [
    {
      "cell_type": "markdown",
      "metadata": {
        "id": "view-in-github",
        "colab_type": "text"
      },
      "source": [
        "<a href=\"https://colab.research.google.com/github/yongsa-nut/TU_Intro_Prog/blob/main/Chapter_2_Exercise.ipynb\" target=\"_parent\"><img src=\"https://colab.research.google.com/assets/colab-badge.svg\" alt=\"Open In Colab\"/></a>"
      ]
    },
    {
      "cell_type": "markdown",
      "source": [
        "**Q1**: One of the lines below causes syntax error. Fix it.\n",
        "\n",
        "```\n",
        "a = int(input(\"Enter n: ))\n",
        "a * 5 = a\n",
        "print(\"a = \", format(a,\".5f\"))\n",
        "```"
      ],
      "metadata": {
        "id": "d72HZhFIc9fn"
      }
    },
    {
      "cell_type": "code",
      "source": [],
      "metadata": {
        "id": "70q1vXvgbslV"
      },
      "execution_count": null,
      "outputs": []
    },
    {
      "cell_type": "markdown",
      "source": [
        "**Q2**: Complete the code using f-string so that the output match the example below.\n",
        "\n",
        "\n",
        "```\n",
        "a = 55.5\n",
        "b = \"2500\"\n",
        "print(______________________________)\n",
        "```\n",
        "\n",
        "\n",
        "\n",
        "```\n",
        "55.50\n",
        "2,500\n",
        "```\n",
        "\n",
        "\n"
      ],
      "metadata": {
        "id": "5qdNNW7pde-R"
      }
    },
    {
      "cell_type": "code",
      "source": [],
      "metadata": {
        "id": "7kl0b3iCefxl"
      },
      "execution_count": null,
      "outputs": []
    },
    {
      "cell_type": "markdown",
      "source": [
        "**Q3**: The code below has an error. Fix it.\n",
        "\n",
        "```\n",
        "num = input(\"Enter your number:\")\n",
        "num = num*2 + num*3\n",
        "print(num, \"This is the result\")\n",
        "```"
      ],
      "metadata": {
        "id": "-piGApLUgJh6"
      }
    },
    {
      "cell_type": "code",
      "source": [],
      "metadata": {
        "id": "q1py54NLg6Qu"
      },
      "execution_count": null,
      "outputs": []
    },
    {
      "cell_type": "markdown",
      "source": [
        "**Q4**: What will the following code print out?\n",
        "\n",
        "```\n",
        "num = 1\n",
        "num = 4 / 2 * 2 ** 2 * 3 - num\n",
        "print(num)\n",
        "```"
      ],
      "metadata": {
        "id": "d0f6ORT6iZPp"
      }
    },
    {
      "cell_type": "code",
      "source": [],
      "metadata": {
        "id": "1OjPV0w5jkkb"
      },
      "execution_count": null,
      "outputs": []
    },
    {
      "cell_type": "markdown",
      "source": [
        "**Q5**: Fill in the blank so that the output is 8, 5\n",
        "```\n",
        "x = 85\n",
        "print(f\"{x_10}, {x_10}\")\n",
        "```"
      ],
      "metadata": {
        "id": "M6XadyMLUZ3E"
      }
    },
    {
      "cell_type": "code",
      "source": [],
      "metadata": {
        "id": "2YCoIumKU5Tu"
      },
      "execution_count": null,
      "outputs": []
    },
    {
      "cell_type": "markdown",
      "source": [
        "**Q6**: What will the following code print out?\n",
        "```\n",
        "x = 10%(5%2) + 3\n",
        "print(x)\n",
        "```"
      ],
      "metadata": {
        "id": "lcO7V5V9U3OJ"
      }
    },
    {
      "cell_type": "code",
      "source": [],
      "metadata": {
        "id": "lyyE2tV0U33o"
      },
      "execution_count": null,
      "outputs": []
    },
    {
      "cell_type": "markdown",
      "source": [
        "**Q7**: What will the following code print out?\n",
        "\n",
        "```\n",
        "first_string = \"AAA\"\n",
        "second_string = \"BBB\"\n",
        "print(first_string,\"***\\n\", second_string)\n",
        "```"
      ],
      "metadata": {
        "id": "Es2aeguHVfyM"
      }
    },
    {
      "cell_type": "code",
      "source": [
        "\n"
      ],
      "metadata": {
        "id": "ppnYje80V1N8"
      },
      "execution_count": null,
      "outputs": []
    },
    {
      "cell_type": "markdown",
      "source": [
        "**Q8**: What will the following code print out?\n",
        "```\n",
        "x = 6666\n",
        "y = 0.5635\n",
        "print(\"{} and {:.2%}\".format(x,y))\n",
        "```"
      ],
      "metadata": {
        "id": "HP3Ia4PcjbZK"
      }
    },
    {
      "cell_type": "code",
      "source": [],
      "metadata": {
        "id": "pqh3I6WjkeHu"
      },
      "execution_count": null,
      "outputs": []
    },
    {
      "cell_type": "markdown",
      "source": [
        "**Q9**: What will the $\\texttt{print}$ below display?\n",
        "\n",
        "\n",
        "```\n",
        "x = 3\n",
        "y = 4\n",
        "print(\"{0} - {1} = {2}; {0} * {1} = {3}\".format(x, y, x-y, x*y))\n",
        "```"
      ],
      "metadata": {
        "id": "03s2POwafBLG"
      }
    },
    {
      "cell_type": "code",
      "source": [],
      "metadata": {
        "id": "bHkj23Thfrl-"
      },
      "execution_count": null,
      "outputs": []
    },
    {
      "cell_type": "markdown",
      "source": [
        "**Q10**: What will the following code print out?\n",
        "```\n",
        "x = 10\n",
        "y = x + eval(\"2*3\")\n",
        "print(y)\n",
        "```"
      ],
      "metadata": {
        "id": "L0bE5OtcPve0"
      }
    },
    {
      "cell_type": "code",
      "source": [],
      "metadata": {
        "id": "ZAsf4SvWQlMh"
      },
      "execution_count": null,
      "outputs": []
    },
    {
      "cell_type": "markdown",
      "source": [
        "**Q11**: What will the following code print out?\n",
        "```\n",
        "print(\"A\", \"B\", \"C\", end=\"\")\n",
        "print(\"1\", \"2\", \"3\", sep=\"*\")\n",
        "```"
      ],
      "metadata": {
        "id": "hVDy9gvJQl1n"
      }
    },
    {
      "cell_type": "code",
      "source": [],
      "metadata": {
        "id": "vJ6n10gyQ7Ct"
      },
      "execution_count": null,
      "outputs": []
    },
    {
      "cell_type": "markdown",
      "source": [
        "**Q12**: What will the following code print out?\n",
        "\n",
        "```\n",
        "x = \"Hello\"\n",
        "y = \"World!\"\n",
        "print(x + y)\n",
        "```"
      ],
      "metadata": {
        "id": "Ndxs8Qs_Q7gB"
      }
    },
    {
      "cell_type": "code",
      "source": [],
      "metadata": {
        "id": "B3sRJy4lRxmy"
      },
      "execution_count": null,
      "outputs": []
    },
    {
      "cell_type": "markdown",
      "source": [
        "**Q13**: What will the following code print out?\n",
        "\n",
        "```\n",
        "x = 99999\n",
        "print(f\"{x:.2f}\")\n",
        "```"
      ],
      "metadata": {
        "id": "Sf-zEGwBSxyU"
      }
    },
    {
      "cell_type": "code",
      "source": [],
      "metadata": {
        "id": "RCRCS-USTDgM"
      },
      "execution_count": null,
      "outputs": []
    },
    {
      "cell_type": "markdown",
      "source": [
        "**Q14**: Write a program to take in a non-negative integer x from the user, <br>return the square root of x with only two decimal precision\n",
        "\n",
        "example\n",
        "```\n",
        ">Enter your number : 8\n",
        "2.83\n",
        "```"
      ],
      "metadata": {
        "id": "VDhqvGsJtsDd"
      }
    },
    {
      "cell_type": "code",
      "source": [
        "\n",
        "\n",
        "\n",
        "\n",
        "\n"
      ],
      "metadata": {
        "id": "rw7GlcpFb1pB"
      },
      "execution_count": null,
      "outputs": []
    },
    {
      "cell_type": "markdown",
      "source": [
        "**Q15**: Receive an input from the user. The input will be the number between 10 - 99.\n",
        "\n",
        "Your task is to calculate the square of the first digit + the square of the second digit\n",
        "\n",
        "example:\n",
        "```\n",
        ">Enter your number: 89\n",
        ">145\n",
        "```\n",
        "explanation $8^2 + 9^2 = 145$"
      ],
      "metadata": {
        "id": "HZ-v84zsugRi"
      }
    },
    {
      "cell_type": "code",
      "source": [
        "\n",
        "\n",
        "\n",
        "\n",
        "\n",
        "\n",
        "\n"
      ],
      "metadata": {
        "id": "mfRXH80fWc81"
      },
      "execution_count": null,
      "outputs": []
    },
    {
      "cell_type": "markdown",
      "source": [
        "## Submission:\n",
        "\n",
        "* File > Download > Download.ipynb\n",
        "* Rename the file to \"sectionid_yourid_firstname_lastname_chap2exercise\"\n",
        "  * Section id:\n",
        "    * Monday 9:30 - 12:30: 810002\n",
        "    * Thrusady 9:30 - 12:30: 320001\n",
        "    * Thrusday 13:30 - 16:30: 750003\n",
        "* Send it to ynutchan@engr.tu.ac.th"
      ],
      "metadata": {
        "id": "7JjtJ0qtidPG"
      }
    }
  ]
}