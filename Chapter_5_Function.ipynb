{
  "nbformat": 4,
  "nbformat_minor": 0,
  "metadata": {
    "colab": {
      "provenance": [],
      "authorship_tag": "ABX9TyO4EHNBiK1k2+sdlnSGzrTq",
      "include_colab_link": true
    },
    "kernelspec": {
      "name": "python3",
      "display_name": "Python 3"
    },
    "language_info": {
      "name": "python"
    }
  },
  "cells": [
    {
      "cell_type": "markdown",
      "metadata": {
        "id": "view-in-github",
        "colab_type": "text"
      },
      "source": [
        "<a href=\"https://colab.research.google.com/github/yongsa-nut/TU_Intro_Prog/blob/main/Chapter_5_Function.ipynb\" target=\"_parent\"><img src=\"https://colab.research.google.com/assets/colab-badge.svg\" alt=\"Open In Colab\"/></a>"
      ]
    },
    {
      "cell_type": "markdown",
      "source": [
        "# Chapter 5 Function"
      ],
      "metadata": {
        "id": "eMIiOLI_vj1B"
      }
    },
    {
      "cell_type": "markdown",
      "source": [
        "## Introduction to Functions\n",
        "* **Function**: a named sequence of statements that performs a computation.\n",
        "* When you define a function, you specify the name and the sequence of statements. <br> Later, you can “call” the function by name.\n",
        "* Function is like a mini program inside your program.\n",
        "* Function helps breakdown a program into *reusable* and *interpretable* parts."
      ],
      "metadata": {
        "id": "m39AVr0zvnJO"
      }
    },
    {
      "cell_type": "markdown",
      "source": [
        "![function1.png](https://drive.google.com/uc?export=view&id=1O-C_fZsn05jjoywoVVNfGU48ZunlyHCM)"
      ],
      "metadata": {
        "id": "OdlYuFk_z2QV"
      }
    },
    {
      "cell_type": "markdown",
      "source": [
        "## The Benefit of Functions\n",
        "* Simpler code, more readable\n",
        "* Code reuse\n",
        "  * write the code once and call it multiple times\n",
        "* Better testing and debugging\n",
        "  * Can test and debug each function individually\n",
        "* Faster development\n",
        "* Easier facilitation of teamwork\n",
        "  * Different team members can write different functions\n"
      ],
      "metadata": {
        "id": "yZVjcCGLyQcn"
      }
    },
    {
      "cell_type": "markdown",
      "source": [
        "## Defining a function\n",
        "* A function consits of two parts: a header and a body (block)\n",
        "<br> $\\texttt{def function_name(optional_paramters):}$\n",
        "<br> &emsp;$\\texttt{statements}$\n",
        "<br> &emsp;$\\texttt{statements}$\n",
        "\n",
        "* Function header: first line of function\n",
        "  * Declare a function using $\\texttt{def}$, followed by the function name, <br> a list of optional parameters in parentheses(input to the function) and a colon (:).\n",
        "  * Function name should be descriptive of the task!\n",
        "* Function body (block):\n",
        "  * Indented set of statements.\n",
        "* Calling a function:\n",
        "  * $\\texttt{function_name(optional_paramters):}$"
      ],
      "metadata": {
        "id": "p3I83EIA0xeA"
      }
    },
    {
      "cell_type": "markdown",
      "source": [
        "## Function Name\n",
        "* Same rule as variables\n",
        "* Cannot be a reserved keyword\n",
        "* Cannot contain spaces\n",
        "* First character must be a letter or underscore\n",
        "* All other characters must be a letter, number or underscore\n",
        "* Case sensitive.\n"
      ],
      "metadata": {
        "id": "o4mV63YC3Nfd"
      }
    },
    {
      "cell_type": "code",
      "source": [
        "# Function ex1:\n",
        "\n",
        "## defining a function\n",
        "def print_greeting():\n",
        "  ## function block\n",
        "  print(\"Hello there.\")\n",
        "  print(\"Welcome to the club.\")\n",
        "\n",
        "## calling a function\n",
        "print_greeting()"
      ],
      "metadata": {
        "id": "bjM5c5Bz360C"
      },
      "execution_count": null,
      "outputs": []
    },
    {
      "cell_type": "code",
      "source": [
        "# Function ex2:\n",
        "def print_name():\n",
        "  print(\"Your name is Adam Smith.\")\n",
        "\n",
        "print_name()"
      ],
      "metadata": {
        "id": "PXhnH1n0BTcA"
      },
      "execution_count": null,
      "outputs": []
    },
    {
      "cell_type": "code",
      "source": [
        "# Function ex3:\n",
        "def do_something():\n",
        "  a = 20\n",
        "  b = 30\n",
        "  print(f\"{a} + {b} = {a+b}\")\n",
        "\n",
        "do_something()"
      ],
      "metadata": {
        "id": "ca6n_PVyBfYa"
      },
      "execution_count": null,
      "outputs": []
    },
    {
      "cell_type": "markdown",
      "source": [
        "## $\\texttt{return}$ statement\n",
        "* Function generally returns a value(s).\n",
        "* Syntax: $\\texttt{return expression}$\n",
        "  * $\\texttt{expression}$ is the thing you want to return.  \n",
        "* If $\\texttt{return}$ is without any expression, default to return $\\texttt{None}$\n",
        "* If the function doesn't include $\\texttt{return}$, it returns $\\texttt{None}$  at the end.\n",
        "* **Importance:** whenever the program encounters $\\texttt{return}$ inside a function, <br> the function terminates and returns immediately without <br> executing the remaining statements inside the function"
      ],
      "metadata": {
        "id": "FewdQWhc5MTe"
      }
    },
    {
      "cell_type": "code",
      "source": [
        "# return ex1:\n",
        "def get_my_name():\n",
        "  return \"Adam Smith\"\n",
        "\n",
        "name = get_my_name()\n",
        "\n",
        "print(\"Hello\", name)\n",
        "\n",
        "# print(f\"Hello {get_my_name()}\")"
      ],
      "metadata": {
        "id": "o6EyMK5o8vd0"
      },
      "execution_count": null,
      "outputs": []
    },
    {
      "cell_type": "code",
      "source": [
        "# return ex2: no return\n",
        "def print_my_name():\n",
        "  print(\"Adam Smith\")\n",
        "\n",
        "name = print_my_name()\n",
        "\n",
        "print(\"Hello\", name)"
      ],
      "metadata": {
        "id": "OAGp72V4A9wJ"
      },
      "execution_count": null,
      "outputs": []
    },
    {
      "cell_type": "code",
      "source": [
        "# return ex3: add something\n",
        "def add_something():\n",
        "  a, b = 20, 30\n",
        "  return a + b\n",
        "\n",
        "val = add_something()\n",
        "print(val)"
      ],
      "metadata": {
        "id": "9BHP08phBxKN"
      },
      "execution_count": null,
      "outputs": []
    },
    {
      "cell_type": "markdown",
      "source": [
        "## Void and Value-returing functions\n",
        "* A **void** function:\n",
        "  * Executes the statements it contains and then terminates.\n",
        "  * Technically returns $\\texttt{None}$\n",
        "* A **value-returning** function:\n",
        "  * Executes the statements it contains\n",
        "  * then returns a value back to the statement that called it.\n",
        "  * the returned value can be assigned to a variable\n",
        "  * Examples:  $\\texttt{input}$, $\\texttt{int}$, $\\texttt{float}$"
      ],
      "metadata": {
        "id": "atnL_m4g8gLi"
      }
    },
    {
      "cell_type": "markdown",
      "source": [
        "## $\\texttt{main}$ function\n",
        "* Is only a convention to indicate the mainline logic of a program\n",
        "* Has **no special meaning** in Python\n",
        "* Is normally used to call other functions when they are needed"
      ],
      "metadata": {
        "id": "nkyemgt5CYtK"
      }
    },
    {
      "cell_type": "code",
      "source": [
        "# two function examples\n",
        "\n",
        "# the main function\n",
        "def main():\n",
        "  print(\"I have a message for you.\")\n",
        "  message()\n",
        "  print(\"Goodbye!\")\n",
        "\n",
        "def message():\n",
        "  print(\"I'm Arthur,\")\n",
        "  print(\"King of the Britons.\")\n",
        "\n",
        "# call the main function\n",
        "main()"
      ],
      "metadata": {
        "id": "VAjvWJBiP1Nt"
      },
      "execution_count": null,
      "outputs": []
    },
    {
      "cell_type": "markdown",
      "source": [
        "## Function Flowchart\n",
        "* In a flowchart, function call is shown as rectangle with vertical bars at each side\n",
        "* Function name written in the symbol\n",
        "* Typically draw separate flow chart for each function in the program\n",
        "* End terminal symbol usually reads Return\n",
        "\n",
        "&emsp;&emsp;&emsp;&emsp;&emsp;&emsp; ![function_flowchart.png](https://drive.google.com/uc?export=view&id=1O2s2FoeW50tgMUBABL7l-whSrBV_8ZPY)"
      ],
      "metadata": {
        "id": "DZgR5XMHEq56"
      }
    },
    {
      "cell_type": "markdown",
      "source": [
        "![function_flowchart.png](https://drive.google.com/uc?export=view&id=1O3rINE-Yq-7R_-tCzTRynCldbhfd0CPm)"
      ],
      "metadata": {
        "id": "sQixfRqiGF_g"
      }
    },
    {
      "cell_type": "code",
      "source": [
        "# Rewriting with function ex1: part-1\n",
        "name = input(\"Enter a name: \")\n",
        "\n",
        "print(\"This will print your name.\")\n",
        "print(\"You name:\", name)\n",
        "\n",
        "print(\"This will print length of your name.\")\n",
        "print(\"Length of your name:\", len(name))"
      ],
      "metadata": {
        "id": "QphlB5kfDc6L"
      },
      "execution_count": null,
      "outputs": []
    },
    {
      "cell_type": "code",
      "source": [
        "# Rewriting with function ex1: part-2 function ver.\n",
        "name = input(\"Enter a name: \")\n",
        "\n",
        "def print_name():\n",
        "    print(\"This will print your name.\")\n",
        "    print(\"You name:\", name)\n",
        "\n",
        "def print_len():\n",
        "    print(\"This will print length of your name.\")\n",
        "    print(\"Length of your name:\", len(name))\n",
        "\n",
        "def main():\n",
        "    print_name()\n",
        "    print_len()\n",
        "\n",
        "main()"
      ],
      "metadata": {
        "id": "Csm-kZlaDgnK"
      },
      "execution_count": null,
      "outputs": []
    },
    {
      "cell_type": "code",
      "source": [
        "# Rewriting with function ex2: part-1\n",
        "print(\"This program will find an average of 2 numbers.\")\n",
        "print(\"The program will then print the resulting average value.\");\n",
        "\n",
        "x = int(input(\"Enter x: \"))\n",
        "y = int(input(\"Enter y: \"))\n",
        "\n",
        "average = (x + y)/2\n",
        "\n",
        "print(f\"The average is => {average}\")"
      ],
      "metadata": {
        "id": "VyXuyFSwDkmw"
      },
      "execution_count": null,
      "outputs": []
    },
    {
      "cell_type": "code",
      "source": [
        "# Rewriting with function ex2: part-2 function ver.\n",
        "def print_intro():\n",
        "    print(\"This program will find an average of 2 numbers.\")\n",
        "    print(\"The program will then print the resulting average value.\");\n",
        "\n",
        "def find_average():\n",
        "    x = int(input(\"Enter x: \"))\n",
        "    y = int(input(\"Enter y: \"))\n",
        "    return (x + y)/2\n",
        "\n",
        "def main():\n",
        "    print_intro()\n",
        "    average = find_average()\n",
        "    print(f\"The average is => {average}\")\n",
        "\n",
        "main()"
      ],
      "metadata": {
        "id": "bY4rYeteDmei"
      },
      "execution_count": null,
      "outputs": []
    },
    {
      "cell_type": "markdown",
      "source": [
        "## Why $\\texttt{return}$? Scope and Local variable.\n",
        "* **Local variable**:\n",
        "  * Variables created inside a function belong only to the function\n",
        "  * Only statements inside that function can access it\n",
        "  * Error will occur if another function tries to access the variable\n",
        "* **Scope**: the part of a program in which a name may be accessed\n",
        "  * For local variable: within the function that the variable is created\n",
        "* Different functions may have local variables with the *same name*\n"
      ],
      "metadata": {
        "id": "6Dvdw0uSQuts"
      }
    },
    {
      "cell_type": "code",
      "source": [
        "# Local variable ex1: bad local\n",
        "\n",
        "def main():\n",
        "  get_name()\n",
        "  print(\"Hello\", name)\n",
        "\n",
        "# Get name from the input\n",
        "def get_name():\n",
        "  name = input(\"Enter your name: \")\n",
        "\n",
        "# call main\n",
        "main()"
      ],
      "metadata": {
        "id": "B7GuHBEpS98R"
      },
      "execution_count": null,
      "outputs": []
    },
    {
      "cell_type": "code",
      "source": [
        "# Local variable ex2: fixing bad local\n",
        "\n",
        "def main():\n",
        "  get_name()\n",
        "  print(\"Hello\", name)\n",
        "\n",
        "# Get name from the input\n",
        "def get_name():\n",
        "  name = input(\"Enter your name: \")\n",
        "\n",
        "# call main\n",
        "main()"
      ],
      "metadata": {
        "id": "ODzDKWRLTQ56"
      },
      "execution_count": null,
      "outputs": []
    },
    {
      "cell_type": "code",
      "source": [
        "# Local variable ex3: birds\n",
        "## Two functions with the same variable name\n",
        "## Printing number of birds\n",
        "\n",
        "def texas():\n",
        "  bird = 5000\n",
        "  print(\"Texas has \", bird, \"birds.\")\n",
        "\n",
        "def california():\n",
        "  bird = 8000\n",
        "  print(\"California has \", bird, \"birds.\")\n",
        "\n",
        "def main():\n",
        "  texas()\n",
        "  california()\n",
        "\n",
        "main()"
      ],
      "metadata": {
        "id": "EPGdJBVXTdad"
      },
      "execution_count": null,
      "outputs": []
    },
    {
      "cell_type": "code",
      "source": [
        "# Local variable ex4:\n",
        "## variable can only be accessed after it is created\n",
        "\n",
        "def aaa():\n",
        "    x = 10\n",
        "    # can use variable x after it is created\n",
        "    print(f\"In function aaa: x = {x}\")\n",
        "\n",
        "def bbb():\n",
        "    # this will cause an error because variable x is not created yet\n",
        "    # take note of the error message\n",
        "    print(f\"In function bbb: x = {x}\")\n",
        "    x = 20\n",
        "\n",
        "def main():\n",
        "    aaa()\n",
        "    bbb() # this function call will cause an error\n",
        "\n",
        "main()"
      ],
      "metadata": {
        "id": "1zqyii2FUPht"
      },
      "execution_count": null,
      "outputs": []
    },
    {
      "cell_type": "code",
      "source": [
        "# Local variable ex5:\n",
        "# a function can create any number of local variables\n",
        "def aaa():\n",
        "    x = 10        # create a local variable x\n",
        "    print(f\"In function aaa: x = {x}\")\n",
        "\n",
        "    y = 4.5       # create another local variable y\n",
        "    print(f\"In function aaa: y = {y}\")\n",
        "\n",
        "    z = [1,2,3]   # create another local variable z\n",
        "    print(f\"In function aaa: z = {z}\")\n",
        "\n",
        "def main():\n",
        "    aaa()\n",
        "\n",
        "main()"
      ],
      "metadata": {
        "id": "FKKP5vgvVJA1"
      },
      "execution_count": null,
      "outputs": []
    },
    {
      "cell_type": "markdown",
      "source": [
        "## Passing arguments to functions\n",
        "* Recall $\\texttt{def function(optional_parameters):}$. <br> Function can receive input/data and assign them to the optional parameters.\n",
        "  * These parameters are local variables.\n",
        "* **Argument**: piece of data that is sent into a function\n",
        "* It is common to say that a function “takes” an argument(s) and “returns” a result(s)."
      ],
      "metadata": {
        "id": "NqcQl72dVQDh"
      }
    },
    {
      "cell_type": "code",
      "source": [
        "# Passing arguments ex1:\n",
        "\n",
        "## number is a parameter (in function definition)\n",
        "def show_double(number):\n",
        "  result = number*2\n",
        "  print(result)\n",
        "\n",
        "x = 4\n",
        "## variable x is an argument (in function call)\n",
        "show_double(x)"
      ],
      "metadata": {
        "id": "jHVtgJM-Xg7b"
      },
      "execution_count": null,
      "outputs": []
    },
    {
      "cell_type": "code",
      "source": [
        "# Passing argument ex2:\n",
        "\n",
        "def show_double(number):\n",
        "  print(number*2)\n",
        "\n",
        "def main():\n",
        "  show_double(5)\n",
        "\n",
        "main()"
      ],
      "metadata": {
        "id": "MbHygi_jYbv2"
      },
      "execution_count": null,
      "outputs": []
    },
    {
      "cell_type": "code",
      "source": [
        "# Passing argument ex3:\n",
        "\n",
        "## void functions with a single parameter\n",
        "def identity(x):\n",
        "    # x is a parameter\n",
        "    print(f\"In function aaa: x = {x}\")\n",
        "\n",
        "def main():\n",
        "    identity(1)      # argument is 1\n",
        "\n",
        "    m = 2\n",
        "    identity(m)      # argument is m\n",
        "\n",
        "    n = m*m\n",
        "    identity(n)      # argument is n\n",
        "\n",
        "    identity(1+m+n)  # argument is 1+m+n\n",
        "\n",
        "main()"
      ],
      "metadata": {
        "id": "XfjqbOE0Yu9j"
      },
      "execution_count": null,
      "outputs": []
    },
    {
      "cell_type": "code",
      "source": [
        "# Passing argument exercise1:\n",
        "## A function arithmatic_sum() to calculate an arithmatic sum from 1 to n (1+2+...+n)\n",
        "## take one integer n as a parameters\n",
        "\n",
        "\n",
        "\n",
        "def main():\n",
        "  n = int(input(\"Enter n: \"))\n",
        "  total = arithmatic_sum(n)\n",
        "  print(total)\n",
        "\n",
        "main()"
      ],
      "metadata": {
        "id": "6R6FrGeBaO-y"
      },
      "execution_count": null,
      "outputs": []
    },
    {
      "cell_type": "markdown",
      "source": [
        "## Passing multiple arguments\n",
        "\n",
        "* Python's functions can accept multiple arguments\n",
        "* Multiple parameter list are separated **by comma**\n",
        "* Positional arguments are passed **by position** to corresponding parameters\n",
        "  * The first parameter receives a value of the first argument\n",
        "  * The second parameter receives a value of the second argument\n",
        "  * etc.\n",
        "\n"
      ],
      "metadata": {
        "id": "8ULy020reF8Z"
      }
    },
    {
      "cell_type": "code",
      "source": [
        "# Multiple arguments ex1:\n",
        "## A function to calculate sum of two numbers\n",
        "\n",
        "def show_sum(num1, num2):\n",
        "  result = num1 + num2\n",
        "  print(result)\n",
        "\n",
        "def main():\n",
        "  print(\"The sum of 12 and 45 is \")\n",
        "  show_sum(12, 45)\n",
        "\n",
        "main()"
      ],
      "metadata": {
        "id": "Z2j8ouRWf6OS"
      },
      "execution_count": null,
      "outputs": []
    },
    {
      "cell_type": "code",
      "source": [
        "# Multiple arguments ex2:\n",
        "## Reserve name function\n",
        "\n",
        "def reverse_name(first, last):\n",
        "  print(last, first)\n",
        "\n",
        "def main():\n",
        "  first_name = input(\"Enter your first name: \")\n",
        "  last_name  = input(\"Enter your last name: \")\n",
        "  print(\"Your reserved name is \")\n",
        "  reverse_name(last_name, first_name)\n",
        "\n",
        "main()"
      ],
      "metadata": {
        "id": "VmQRQU8DjMmz"
      },
      "execution_count": null,
      "outputs": []
    },
    {
      "cell_type": "code",
      "source": [
        "# Multiple argument ex3:\n",
        "\n",
        "# void functions with multiple parameters\n",
        "def sum_two(x, y):\n",
        "    # x and y are parameters\n",
        "    print(f\"{x} + {y} => {x + y}\")\n",
        "\n",
        "def main():\n",
        "    sum_two(1, 2)      # arguments are 1 and 2\n",
        "\n",
        "    m = 3\n",
        "    n = 4\n",
        "    sum_two(m, n)      # arguments are m and n\n",
        "\n",
        "    sum_two(m*m, n*n)  # arguments are m*m and n*n\n",
        "\n",
        "main()"
      ],
      "metadata": {
        "id": "MtYrrO39jp_-"
      },
      "execution_count": null,
      "outputs": []
    },
    {
      "cell_type": "code",
      "source": [
        "# Multiple argument ex4:\n",
        "\n",
        "# void functions with multiple parameters\n",
        "def sum_two(x, y):\n",
        "    # x and y are parameters\n",
        "    print(f\"{x} + {y} => {x + y}\")\n",
        "\n",
        "def main():\n",
        "    sum_two(1, True)       # arguments are 1 and True\n",
        "\n",
        "    m = 3.14159\n",
        "    sum_two(m, 5)          # arguments are m and 5\n",
        "\n",
        "    m = 1\n",
        "    sum_two((m+1)*2, 2*m)  # arguments are (m+1)*2 and 2*m\n",
        "\n",
        "main()"
      ],
      "metadata": {
        "id": "k-WzuYRKjw8Q"
      },
      "execution_count": null,
      "outputs": []
    },
    {
      "cell_type": "code",
      "source": [
        "# Multiple argument ex5:\n",
        "\n",
        "# void functions with multiple parameters\n",
        "def is_sum_greaterthan_last(x, y, z):\n",
        "    # x, y, z are parameters\n",
        "    print(f\"({x} + {y}) > {z} => {(x + y) > z}\")\n",
        "\n",
        "def main():\n",
        "    is_sum_greaterthan_last(1, 2, 4)    # arguments are 1, 2 and 4\n",
        "\n",
        "    is_sum_greaterthan_last(2, 4, 1)    # arguments are 2, 4 and 1\n",
        "\n",
        "    is_sum_greaterthan_last(4, 1, 2)    # arguments are 4, 1 and 2\n",
        "\n",
        "main()\n"
      ],
      "metadata": {
        "id": "pPC7NBhVj8WR"
      },
      "execution_count": null,
      "outputs": []
    },
    {
      "cell_type": "code",
      "source": [
        "# Multiple argument ex6:\n",
        "\n",
        "# functions with multiple parameters\n",
        "def is_sum_greaterthan_last(x, y, z):\n",
        "    # x, y, z are parameters\n",
        "    print(f\"({x} + {y}) > {z} => {(x + y) > z}\")\n",
        "    return((x + y) > z)\n",
        "\n",
        "def main():\n",
        "    a = 2\n",
        "    b = 10\n",
        "    c = 5\n",
        "\n",
        "    out = is_sum_greaterthan_last(a, b, c)            # arguments are a, b and c\n",
        "    print(out)\n",
        "\n",
        "    is_sum_greaterthan_last(c, a, b)            # arguments are b, c and a\n",
        "    print(out)\n",
        "\n",
        "    is_sum_greaterthan_last(b*b, -(4*a*c), 0)   # arguments are b*b, -(4*a*c) and 0\n",
        "    print(out)\n",
        "\n",
        "main()"
      ],
      "metadata": {
        "id": "H7u1prcjkKZb"
      },
      "execution_count": null,
      "outputs": []
    },
    {
      "cell_type": "code",
      "source": [
        "# Multiple argument exercise1:\n",
        "## Problem: Write a function print_sqare() which\n",
        "## takes 2 integers, x and y as parameters\n",
        "## return the sum of the squares of the 2 integers\n",
        "\n",
        "def square(x, y):\n",
        "  # complate the code below\n",
        "  return\n",
        "\n",
        "print(square(3,4))\n",
        "a, b = 7, 9\n",
        "print(square(a,b))"
      ],
      "metadata": {
        "id": "9yAkMupLmvVf"
      },
      "execution_count": null,
      "outputs": []
    },
    {
      "cell_type": "code",
      "source": [
        "# Multiple argument exercise2:\n",
        "## Problem: Write a function in_between() which\n",
        "## takes 3 intergers, lower, upper, query parameters\n",
        "## return whether the query is between lower and upper (inclusive)\n",
        "\n",
        "def in_between(lower, upper, query):\n",
        "  # complete the code below\n",
        "  return\n",
        "\n",
        "print(in_between(0, 5, 1))\n",
        "l, u, q = 10, 20, 50\n",
        "print(in_between(l,u,q))"
      ],
      "metadata": {
        "id": "If9OqYCynMae"
      },
      "execution_count": null,
      "outputs": []
    },
    {
      "cell_type": "code",
      "source": [
        "# Multiple argument exercise3:\n",
        "## Problem: Write a function linear() which\n",
        "## takes 3 parameters m, x, c\n",
        "## return m*x + c\n",
        "\n",
        "def linear(m, x, c):\n",
        "  # complete the code below\n",
        "  return\n",
        "\n",
        "print(linear(1,1,1))\n",
        "m, x, c = 5, 5, 5\n",
        "print(linear(m, x, c))"
      ],
      "metadata": {
        "id": "4HdunkZCoBiE"
      },
      "execution_count": null,
      "outputs": []
    },
    {
      "cell_type": "markdown",
      "source": [
        "## Pass by Value\n",
        "* If you pass variables to a function, what happens to those variables you pass <br> into a function?\n",
        "  * Nothing.\n",
        "* Changes made to a parameter value within the function do not affect the argument\n",
        "* Pass by value: only the value of parameters are passed to the function"
      ],
      "metadata": {
        "id": "YT8gPwXMkyOl"
      }
    },
    {
      "cell_type": "code",
      "source": [
        "# Pass by value ex1:\n",
        "def change_me(arg):\n",
        "  arg = 0\n",
        "  print(\"Now the value is \", arg)\n",
        "\n",
        "def main():\n",
        "  value = 99\n",
        "  print(\"The value is \", value)\n",
        "  change_me(value)\n",
        "  print(\"Back in main the value is \", value)\n",
        "\n",
        "main()"
      ],
      "metadata": {
        "id": "cCSxfY48o_Ks"
      },
      "execution_count": null,
      "outputs": []
    },
    {
      "cell_type": "code",
      "source": [
        "# Pass by value ex2:\n",
        "## Problem: Write a function arithmatic_sum which\n",
        "## take in two paramerts starting point and end point\n",
        "## return the arithmatic sum from the starting point to the end point\n",
        "\n",
        "def arithmatic_sum(start, end):\n",
        "  for num in range(start, end+1):\n",
        "    start += num\n",
        "  return (start)\n",
        "\n",
        "def main():\n",
        "  start = 0\n",
        "  end = 3\n",
        "  print(f\"Before: start = {start}, end = {end}\")\n",
        "  print(arithmatic_sum(start, end))\n",
        "  print(f\"After: start = {start}, end = {end}\")\n",
        "\n",
        "main()"
      ],
      "metadata": {
        "id": "qeTaF31Sp2Kr"
      },
      "execution_count": null,
      "outputs": []
    },
    {
      "cell_type": "markdown",
      "source": [
        "## Default Parameters\n",
        "* Function argument can be given default value\n",
        "  * In function definition, parameters can be assigned default.\n",
        "* Default arguments must be given after all positional parameters.\n",
        "* All default arguments must come after any positional argument."
      ],
      "metadata": {
        "id": "n4RENxfqr48e"
      }
    },
    {
      "cell_type": "code",
      "source": [
        "# Default Parameters ex1:\n",
        "\n",
        "def show_sum(a=1, b=2):\n",
        "  print(f\"{a} + {b} = {a+b}\")\n",
        "\n",
        "show_sum()\n",
        "show_sum(2)\n",
        "show_sum(2,2)"
      ],
      "metadata": {
        "id": "1JHefQoAsJA6"
      },
      "execution_count": null,
      "outputs": []
    },
    {
      "cell_type": "code",
      "source": [
        "# Default Parameters ex2:\n",
        "\n",
        "# function with 3 parameters\n",
        "# 2 parameters are assigned default values\n",
        "def ask_ok(prompt, retries=4, reminder='Please try again!'):\n",
        "    while True:\n",
        "        ok = input(prompt)\n",
        "        if ok.lower() in ('y', 'ye', 'yes'):\n",
        "            return True\n",
        "        if ok.lower() in ('n', 'no', 'nop', 'nope'):\n",
        "            return False\n",
        "        retries = retries - 1\n",
        "        if retries <= 0:\n",
        "            print('invalid user response')\n",
        "            break\n",
        "        print(reminder)\n",
        "\n",
        "ask_ok('Enter yes or no: ')  # call the function"
      ],
      "metadata": {
        "id": "8tDpu3k7sEN5"
      },
      "execution_count": null,
      "outputs": []
    },
    {
      "cell_type": "markdown",
      "source": [
        "## Keyword arguments\n",
        "\n",
        "* **Keyword argument**: argument that specifies which parameter the value should be passed to\n",
        "  * Position when calling function is irrelevant\n",
        "  * General Format: $\\texttt{def function(parameter=value):}$    \n",
        "\n",
        "* Possible to mix keyword and positional arguments when calling a function\n",
        "\n",
        "* Positional arguments must appear before keyword arguments"
      ],
      "metadata": {
        "id": "DHcUTLsMsUbV"
      }
    },
    {
      "cell_type": "code",
      "source": [
        "# keyword argument ex1:\n",
        "\n",
        "def show_interest(principal, rate, periods):\n",
        "  interest = principal * rate * periods\n",
        "  print(f\"the simple interest wiill be {interest}\")\n",
        "\n",
        "def main():\n",
        "  show_interest(rate = 0.01, periods = 10, principal=1000)\n",
        "\n",
        "main()"
      ],
      "metadata": {
        "id": "alt-h-fatMWl"
      },
      "execution_count": null,
      "outputs": []
    },
    {
      "cell_type": "code",
      "source": [
        "# keyword argument ex2:\n",
        "\n",
        "def reserve_name(first, last):\n",
        "  print(last, first)\n",
        "\n",
        "def main():\n",
        "  first_name = input(\"Enter your first name: \")\n",
        "  last_name = input(\"Enter your last name: \")\n",
        "  print(\"Your reserved name is\")\n",
        "  reserve_name(last = last_name, first = first_name)\n",
        "\n",
        "main()"
      ],
      "metadata": {
        "id": "VWHMiEt5t6Yf"
      },
      "execution_count": null,
      "outputs": []
    },
    {
      "cell_type": "code",
      "source": [
        "# keyword argument ex3:\n",
        "\n",
        "# void functions with 6 parameters\n",
        "def print_order(a, b, c, d, e, f):\n",
        "    # a, b, c, d, e, f are parameters\n",
        "    print(f\"a = {a}, b = {b}, c = {c}, d = {d}, e = {e}, f = {f}\")\n",
        "\n",
        "def main():\n",
        "    print_order(1, 2, 3, 4, 5, 6)\n",
        "    print_order(1, 2, 3, 4, e=5, f=6)       # keyword arguments e, f\n",
        "    print_order(1, 2, c=3, d=4, e=5, f=6)   # keyword arguments c, d, e, f\n",
        "    print_order(1, 2, d=4, e=5, f=6, c=3)   # keyword arguments c, d, e, f\n",
        "    print_order(1, 2, e=5, f=6, c=3, d=4)   # keyword arguments c, d, e, f\n",
        "    print_order(1, 2, d=4, f=6, e=5, c=3)   # keyword arguments c, d, e, f\n",
        "    print_order(1, e=5, f=6, c=3, b=2, d=4) # keyword arguments b, c, d, e, f\n",
        "\n",
        "main()"
      ],
      "metadata": {
        "id": "fj9CdfoAua9A"
      },
      "execution_count": null,
      "outputs": []
    },
    {
      "cell_type": "code",
      "source": [
        "# keyword argument ex4:\n",
        "\n",
        "def print_order(a, b, c, d=4, e=5, f=6):\n",
        "    # a, b, c, d, e, f are parameters\n",
        "    # d, e, f have default values\n",
        "    print(f\"a = {a}, b = {b}, c = {c}, d = {d}, e = {e}, f = {f}\")\n",
        "\n",
        "def main():\n",
        "    print_order(1, 2, 3)                    # used default value for d, e, f\n",
        "    print_order(1, 2, 3, 4)                 # used default value for e, f\n",
        "    print_order(1, 2, 3, 4, 5)              # used default value for f\n",
        "    print_order(1, 2, 3, 4, 5, 6)\n",
        "    print_order(1, 2, d=4, e=5, f=6, c=3)   # keyword arguments c, d, e, f\n",
        "    print_order(1, 2, e=5, f=6, c=3, d=4)   # keyword arguments c, d, e, f\n",
        "    print_order(1, 2, d=4, f=6, e=5, c=3)   # keyword arguments c, d, e, f\n",
        "    print_order(1, e=5, f=6, c=3, b=2, d=4) # keyword arguments b, c, d, e, f\n",
        "\n",
        "main()"
      ],
      "metadata": {
        "id": "uxdhKjSMuhTT"
      },
      "execution_count": null,
      "outputs": []
    },
    {
      "cell_type": "markdown",
      "source": [
        "## Summary so far\n",
        "* Function defintion\n",
        "<br> $\\texttt{def function_name(optional_paramters):}$\n",
        "<br> &emsp;$\\texttt{statements}$\n",
        "<br> &emsp;$\\texttt{statements}$\n",
        "* Passing arguments\n",
        "* $\\texttt{return}$ results\n",
        "* Default parameters\n",
        "* Keyword arguments"
      ],
      "metadata": {
        "id": "LcCwEKG6u2Np"
      }
    },
    {
      "cell_type": "code",
      "source": [
        "# recap ex#1\n",
        "## Problem: calculate the sum of two ages\n",
        "\n",
        "def sum_age(age1, age2):\n",
        "  return age1+age2\n",
        "\n",
        "def main():\n",
        "  first_age = int(input(\"Enter your age: \"))\n",
        "  second_age = int(input(\"Enter your friend age: \"))\n",
        "\n",
        "  total = sum_age(first_age, second_age)\n",
        "\n",
        "  print(f\"Together you are {total} years old.\")\n",
        "\n",
        "main()"
      ],
      "metadata": {
        "id": "-R7JEpVe-cGx"
      },
      "execution_count": null,
      "outputs": []
    },
    {
      "cell_type": "code",
      "source": [
        "# ex3:\n",
        "## Problem: Write a function is_even(number) which\n",
        "## take one argument\n",
        "## return True if even, False otherwise\n",
        "\n",
        "def is_even(number):\n",
        "    # Determine whether number is even.\n",
        "    # If it is, set status to true.\n",
        "    # Otherwise, set status to false.\n",
        "    if (number % 2) == 0:\n",
        "        status = True\n",
        "    else:\n",
        "        status = False\n",
        "    # Return the value of the status variable.\n",
        "    return status\n",
        "\n",
        "x = 10\n",
        "y = 25\n",
        "print(f\"{x} is even: {is_even(x)}\")\n",
        "print(f\"{y} is even: {is_even(y)}\")"
      ],
      "metadata": {
        "id": "b8LKue3x_2JY"
      },
      "execution_count": null,
      "outputs": []
    },
    {
      "cell_type": "code",
      "source": [
        "# ex4:\n",
        "## Problem: Write a function factorial to calculate factorial which\n",
        "## take one interger n\n",
        "## return n! = 1*2*3*...*n\n",
        "\n",
        "def factorial(n):\n",
        "    fact = 1\n",
        "    for i in range(1, n+1):\n",
        "       fact = fact * i\n",
        "    return fact\n",
        "\n",
        "x = factorial(5)      # using user-defined function\n",
        "\n",
        "print(f\"x = {x}, y = {y}\")"
      ],
      "metadata": {
        "id": "Cic5MMpn__nJ"
      },
      "execution_count": null,
      "outputs": []
    },
    {
      "cell_type": "markdown",
      "source": [
        "## Returning Multiple Values\n",
        "\n",
        "* A function can return multiple values\n",
        "* Syntax: $\\texttt{return expression1, expression2, expression3}$\n",
        "* You will need a seperate variable to receive each return value"
      ],
      "metadata": {
        "id": "22voVq3AAmL7"
      }
    },
    {
      "cell_type": "code",
      "source": [
        "# returning multiple values ex3:\n",
        "\n",
        "def get_name():\n",
        "  first = input(\"Enter your first name: \")\n",
        "  last = input(\"Enter your last name: \")\n",
        "  return first, last\n",
        "\n",
        "first_name, last_name = get_name()\n",
        "print(f\"First name = {first_name}, last name = {last_name}\")"
      ],
      "metadata": {
        "id": "10Xz6-nRBRtk"
      },
      "execution_count": null,
      "outputs": []
    },
    {
      "cell_type": "code",
      "source": [
        "# returning multiple values ex2:\n",
        "\n",
        "def square_three_numbers(x, y, z):\n",
        "  return x**2, y**2, z**2\n",
        "\n",
        "x, y, z = square_three_numbers(1, 2, 3)\n",
        "\n",
        "print(x, y, z)"
      ],
      "metadata": {
        "id": "zgXqu_9rAlg8"
      },
      "execution_count": null,
      "outputs": []
    },
    {
      "cell_type": "markdown",
      "source": [
        "## Global Variable\n",
        "* **Global variable**: created by assignment statement written **outside** all functions\n",
        "* Can be accessed by any statement in the program file, including from within a function\n",
        "* If a function needs to assign a value to the global variable, <br> the global variable must be redeclared within the function\n",
        "  * General format:  $\\texttt{global variable_name}$"
      ],
      "metadata": {
        "id": "iivnFTPPBlHV"
      }
    },
    {
      "cell_type": "code",
      "source": [
        "# Global variable ex1:\n",
        "\n",
        "## Create a global variable\n",
        "my_value = 10\n",
        "\n",
        "## the show_value function prints the value of the global variable\n",
        "def show_value():\n",
        "  print(my_value)\n",
        "\n",
        "## call the show_value function\n",
        "show_value()"
      ],
      "metadata": {
        "id": "y11mD6UkCb_K"
      },
      "execution_count": null,
      "outputs": []
    },
    {
      "cell_type": "code",
      "source": [
        "# Global variable ex2:\n",
        "\n",
        "## Create a global variable\n",
        "number = 0\n",
        "\n",
        "def show_number():\n",
        "  print(\"The number you entered is\", number)\n",
        "\n",
        "def main():\n",
        "  global number\n",
        "  number = int(intput(\"Enter a number: \"))\n",
        "  show_number()\n",
        "\n",
        "main()"
      ],
      "metadata": {
        "id": "kG-J_mo1CxHK"
      },
      "execution_count": null,
      "outputs": []
    },
    {
      "cell_type": "markdown",
      "source": [
        "### Reasons to avoid using global variables:\n",
        "* Global variables making debugging difficult\n",
        "  * Many locations in the code could be causing a wrong variable value\n",
        "* Functions that use global variables are usually dependent on those variables\n",
        "  * Makes function hard to transfer to another program\n",
        "* Global variables make a program hard to understand"
      ],
      "metadata": {
        "id": "Zr21Z7hlDbtu"
      }
    },
    {
      "cell_type": "markdown",
      "source": [
        "### Global Constant\n",
        "* **Global constant**: global name that references a value that cannot be changed\n",
        "* Permissible to use global constants in a program\n",
        "* To simulate global constant in Python, create global variable and <br> do not re-declare it within functions\n",
        "* By convention, use all uppercases for constant names"
      ],
      "metadata": {
        "id": "0iEgzguYDqeA"
      }
    },
    {
      "cell_type": "code",
      "source": [
        "# Global constant ex1:\n",
        "## Problem: Calculate sale price with discount\n",
        "\n",
        "## DISCOUNT_PERCENTAGE\n",
        "DISCOUNT_PERCENTAGE = 0.2\n",
        "\n",
        "def get_regular_price():\n",
        "  price = float(input(\"Enter the item's regular price: \"))\n",
        "  return price\n",
        "\n",
        "def discount(price):\n",
        "  return price * DISCOUNT_PERCENTAGE\n",
        "\n",
        "def main():\n",
        "  # Get the regular price\n",
        "  reg_price = get_regular_price()\n",
        "\n",
        "  # Calculate the sale price\n",
        "  sale_price = reg_price - discount(reg_price)\n",
        "\n",
        "  # Display the discounted price\n",
        "  print(f\"The sale price is {sale_price:.2f}\")"
      ],
      "metadata": {
        "id": "j3JQWsq6-7c0"
      },
      "execution_count": null,
      "outputs": []
    },
    {
      "cell_type": "markdown",
      "source": [
        "## Library and $\\texttt{import}$ function\n",
        "* **Standard library**: library of pre-written functions that comes with Python\n",
        " * Library functions perform tasks that programmers commonly need\n",
        "* Some library functions built into python interpreter (built-in function)\n",
        " * To use, just call the function\n",
        " * Example: print, input, range"
      ],
      "metadata": {
        "id": "tY69niCvBq8z"
      }
    },
    {
      "cell_type": "markdown",
      "source": [
        "### $\\texttt{import}$ function\n",
        "* **Modules**: files that stores functions of the standard library\n",
        "  * Help organize library functions not built into the interpreter\n",
        "  * Copied to computer when you install Python\n",
        "* To call a function stored in a module, need to import the library first\n",
        "  * Written at the top of the program\n",
        "  * Syntax: $\\texttt{import module_name}$\n",
        "* In jupyter and colab, you only need to import once!"
      ],
      "metadata": {
        "id": "sNU03xELIE_5"
      }
    },
    {
      "cell_type": "markdown",
      "source": [
        "### $\\texttt{random}$ library\n",
        "* Random number are useful in a lot of programming tasks\n",
        "* $\\texttt{random}$ library: includes library functions for working with random numbers\n",
        "* Dot notation: notation for calling a function belonging to a module\n",
        "  * Syntax: $\\texttt{module_name.function_name()}$\n",
        "\n"
      ],
      "metadata": {
        "id": "-22DK7rQBwfY"
      }
    },
    {
      "cell_type": "markdown",
      "source": [
        "#### $\\texttt{random}$ library: $\\texttt{randint}$\n",
        "* $\\texttt{randint}$ function: generates a random integer number in the range provided by the arguments\n",
        "  * return the number including both end points.\n",
        "  * all numbers in the range have the same probability ($p = \\frac{1}{end-start+1}$).\n",
        "* Returns the random number to part of program that called the function\n",
        "* Returned integer can be used anywhere that an integer would be used\n",
        "* Bottom line: it's just another function!"
      ],
      "metadata": {
        "id": "M9PUUdQoJH_2"
      }
    },
    {
      "cell_type": "code",
      "source": [
        "# random ex1:\n",
        "import random\n",
        "\n",
        "number = random.randint(1, 10)\n",
        "print(number)"
      ],
      "metadata": {
        "id": "mVU__K5LJpqi"
      },
      "execution_count": null,
      "outputs": []
    },
    {
      "cell_type": "code",
      "source": [
        "import random\n",
        "\n",
        "help(random.randint)"
      ],
      "metadata": {
        "id": "i1lVenLkKVO0"
      },
      "execution_count": null,
      "outputs": []
    },
    {
      "cell_type": "code",
      "source": [
        "# random ex2:\n",
        "import random\n",
        "\n",
        "for i in range(10):\n",
        "  print(random.randint(1,10))"
      ],
      "metadata": {
        "id": "ZBWJRjm9KkX9"
      },
      "execution_count": null,
      "outputs": []
    },
    {
      "cell_type": "code",
      "source": [
        "# random ex3:\n",
        "## finding an average of randomly generated interger betwen 1 and 10\n",
        "import random\n",
        "\n",
        "MIN = 1\n",
        "MAX = 10\n",
        "\n",
        "total = 0\n",
        "n = 100 # number of random/sample\n",
        "\n",
        "for i in range(n):\n",
        "  total += random.randint(MIN, MAX)\n",
        "print(total)"
      ],
      "metadata": {
        "id": "gLrUM9sHK2v8"
      },
      "execution_count": null,
      "outputs": []
    },
    {
      "cell_type": "code",
      "source": [
        "# random ex4: dice\n",
        "## this program rolls a dice\n",
        "\n",
        "# Constants dice\n",
        "MIN = 1\n",
        "MAX = 6\n",
        "\n",
        "again = 'y'\n",
        "\n",
        "while again == 'y' or again =='Y':\n",
        "  print(\"Rolling two dice ...\")\n",
        "  print(\"Their values are:\")\n",
        "  print(random.randint(MIN, MAX))\n",
        "  print(random.randint(MIN, MAX))\n",
        "\n",
        "  again = input(\"Roll them again? (y = yes): \")"
      ],
      "metadata": {
        "id": "2_eQDZFdLMIa"
      },
      "execution_count": null,
      "outputs": []
    },
    {
      "cell_type": "code",
      "source": [
        "# random ex5: tossing a coin\n",
        "\n",
        "# Constants\n",
        "HEADS = 1\n",
        "TAILS = 2\n",
        "TOSSES = 10\n",
        "\n",
        "for toss in range(TOSSES):\n",
        "  if random.randint(HEADS, TAILS) == HEADS:\n",
        "    print(\"Heads\")\n",
        "  else:\n",
        "    print(\"Tails\")"
      ],
      "metadata": {
        "id": "zG0czgRbMob6"
      },
      "execution_count": null,
      "outputs": []
    },
    {
      "cell_type": "markdown",
      "source": [
        "#### Other functions in $\\texttt{random}$ library\n",
        "* $\\texttt{randrange}$ : similar to the range function, but returns randomly selected integer from the resulting sequence\n",
        "  * Same arguments as for the range function (start, end, step)\n",
        "  * $\\texttt{num = random.randrange(0, 101, 0}$\n",
        "* $\\texttt{random}$ : returns a random float in the range of 0.0 and 1.0\n",
        "  * Does not receive arguments\n",
        "  * $\\texttt{num = random.random()}$\n",
        "* $\\texttt{uniform}$ : returns a random float but allows user to specify range\n",
        "  * $\\texttt{num = random.uniform(1.0,10.0}$"
      ],
      "metadata": {
        "id": "P4HcH_HuM7LE"
      }
    },
    {
      "cell_type": "markdown",
      "source": [
        "#### Random number seeds\n",
        "* Random number created by functions in random module are actually pseudo-random numbers\n",
        "* **Seed**: initializes the formula that generates random numbers\n",
        "  * Need to use different seeds in order to get different series of random numbers\n",
        "* By default uses system time for seed\n",
        "* Can use $\\texttt{random.seed()}$ function to specify desired seed value"
      ],
      "metadata": {
        "id": "T7tZ2PeMNxV-"
      }
    },
    {
      "cell_type": "code",
      "source": [
        "# random seed example\n",
        "import random\n",
        "random.seed(777)\n",
        "\n",
        "for i in range(5):\n",
        "  print(random.random())"
      ],
      "metadata": {
        "id": "AMQMt-eGOC8a"
      },
      "execution_count": null,
      "outputs": []
    },
    {
      "cell_type": "markdown",
      "source": [
        "### $\\texttt{math}$ library\n",
        "\n",
        "* $\\texttt{math}$ library: part of standard library that contains functions that are useful for performing mathematical calculations\n",
        "* Typically accept one or more values as arguments, perform mathematical operation, and return the result\n",
        "* Usage: $\\texttt{import math}$ library"
      ],
      "metadata": {
        "id": "hMfZa3llB1No"
      }
    },
    {
      "cell_type": "markdown",
      "source": [
        "#### $\\texttt{math}$ library: functions\n",
        "\n",
        "![function_flowchart.png](https://drive.google.com/uc?export=view&id=1O5Wlb2YUEWa6g1upINuCi3G52NDB_Bpn)"
      ],
      "metadata": {
        "id": "LN9MF3q7Onpr"
      }
    },
    {
      "cell_type": "code",
      "source": [
        "import math\n",
        "\n",
        "dir(math) # browse all math functions"
      ],
      "metadata": {
        "id": "6yg-W4N9PYh-"
      },
      "execution_count": null,
      "outputs": []
    },
    {
      "cell_type": "code",
      "source": [
        "help(math.tan)"
      ],
      "metadata": {
        "id": "Ctiqg0rUPgcg"
      },
      "execution_count": null,
      "outputs": []
    },
    {
      "cell_type": "markdown",
      "source": [
        "#### $\\texttt{math}$ library constants\n",
        "* The math module defines variables $\\texttt{pi}$ and $texttt{e}$, which are <br> assigned the mathematical values for $\\pi$ and $e$\n",
        "  * Can be used in equations that require these values, to get more accurate <br> results\n",
        "* Variables must also be called using the dot notation\n",
        "  * Example: $\\texttt{circle_area = math.pi * radius**2}$\n"
      ],
      "metadata": {
        "id": "_4ShcfWsPnVp"
      }
    },
    {
      "cell_type": "code",
      "source": [
        "# math ex1:\n",
        "import math\n",
        "\n",
        "print(math.pi)\n",
        "print(math.e)"
      ],
      "metadata": {
        "id": "uUd9_PVeP9xz"
      },
      "execution_count": null,
      "outputs": []
    },
    {
      "cell_type": "code",
      "source": [
        "# math ex2: hypotenues\n",
        "## Calculate the length of a right triangle's hypotenues\n",
        "import math\n",
        "\n",
        "a = float(input(\"Enter the length of side A: \"))\n",
        "b = float(input(\"Enter the length of side B: \"))\n",
        "\n",
        "c = math.hypot(a,b)\n",
        "print(f\"The length of the hypotenues is {c}\")"
      ],
      "metadata": {
        "id": "_K-6l4wW2chz"
      },
      "execution_count": null,
      "outputs": []
    },
    {
      "cell_type": "code",
      "source": [
        "# math ex3: area of triangle\n",
        "import math\n",
        "\n",
        "## Area of triangle formula:\n",
        "def area_of_triangle(a, b, c):\n",
        "    s = 0.5 * (a + b + c) # s is the semi-perimeter (half parameter) of the traingle\n",
        "    area = math.sqrt(s*(s-a)*(s-b)*(s-c))\n",
        "    return area\n",
        "\n",
        "def main():\n",
        "    a, b, c = input(\"Enter lengths of 3 sides: \").split()\n",
        "    a = float(a); b = float(b); c = float(c)\n",
        "    area = area_of_triangle(a, b, c)\n",
        "    print(f\"Area = {area}\")\n",
        "\n",
        "main()"
      ],
      "metadata": {
        "id": "Gc4ngmae2-Jl"
      },
      "execution_count": null,
      "outputs": []
    },
    {
      "cell_type": "code",
      "source": [
        "# math ex4: law of cosines\n",
        "\n",
        "import math\n",
        "\n",
        "def length_of_triangle(a, b, x):\n",
        "    # x is angle in radians, between two sides a and b\n",
        "    radian = math.radians(x)\n",
        "    c = math.sqrt(a*a + b*b - a*b*math.cos(radian))\n",
        "    return c\n",
        "\n",
        "def main():\n",
        "    a, b = input(\"Enter lengths of 2 sides: \").split()\n",
        "    x = input(\"Enter angle between the 2 sides (degree): \")\n",
        "    a = float(a); b = float(b); x = float(x)\n",
        "    c = length_of_triangle(a, b, x)\n",
        "    print(f\"Length of remaining side = {c}\")\n",
        "\n",
        "main()"
      ],
      "metadata": {
        "id": "rRIZXGy93CUU"
      },
      "execution_count": null,
      "outputs": []
    },
    {
      "cell_type": "code",
      "source": [
        "# math ex4:\n",
        "## problem: write a function to calculate a sum of exponential of 3 numbers (e^x)\n",
        "## which take 3 float numbers\n",
        "## return the sum\n",
        "\n",
        "def sum_exp(x, y, z):\n",
        "  total = math.pow(math.e, x) + math.pow(math.e, y) + math.pow(math.e, z)\n",
        "  return total\n",
        "\n",
        "sum_exp(1, 2, 3)"
      ],
      "metadata": {
        "id": "lDGJJFWu3d4a"
      },
      "execution_count": null,
      "outputs": []
    },
    {
      "cell_type": "markdown",
      "source": [
        "## Summary\n",
        "* Function defintion\n",
        "<br> $\\texttt{def function_name(optional_paramters):}$\n",
        "<br> &emsp;$\\texttt{statements}$\n",
        "<br> &emsp;$\\texttt{statements}$\n",
        "* Passing arguments\n",
        "* $\\texttt{return}$ results\n",
        "* Default parameters\n",
        "* Keyword arguments\n",
        "\n",
        "* global variables\n",
        "* $\\texttt{import}$ and library\n",
        "* $\\texttt{random}$ and $\\texttt{math}$ libraries"
      ],
      "metadata": {
        "id": "kFcYlxoYQHUj"
      }
    }
  ]
}