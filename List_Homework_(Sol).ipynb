{
  "nbformat": 4,
  "nbformat_minor": 0,
  "metadata": {
    "colab": {
      "provenance": [],
      "authorship_tag": "ABX9TyM+UGjXknW2aF7Hc9jSDUqh",
      "include_colab_link": true
    },
    "kernelspec": {
      "name": "python3",
      "display_name": "Python 3"
    },
    "language_info": {
      "name": "python"
    }
  },
  "cells": [
    {
      "cell_type": "markdown",
      "metadata": {
        "id": "view-in-github",
        "colab_type": "text"
      },
      "source": [
        "<a href=\"https://colab.research.google.com/github/yongsa-nut/TU_Intro_Prog/blob/main/List_Homework_(Sol).ipynb\" target=\"_parent\"><img src=\"https://colab.research.google.com/assets/colab-badge.svg\" alt=\"Open In Colab\"/></a>"
      ]
    },
    {
      "cell_type": "markdown",
      "source": [
        "# List Homework"
      ],
      "metadata": {
        "id": "LeRkz6UgmlrE"
      }
    },
    {
      "cell_type": "markdown",
      "source": [
        "**Q1**: Concatenation of List multiplied by 2\n",
        "\n",
        "Given an integer list $\\texttt{nums}$ of length $\\texttt{n}$, you want to create a list $\\texttt{ans}$ of length $\\texttt{2n}$ where $\\texttt{ans[i] == nums[i]*2}$ and $\\texttt{ans[i + n] == nums[i]*2}$ for $\\texttt{0 <= i < n}$.\n",
        "\n",
        "Specifically, $\\texttt{ans}$ is the concatenation of two nums lists where each numbers are multiplied by 2.\n",
        "\n",
        "Return the list $ans$.\n",
        "\n",
        "Examples:\n",
        "* Note the examples below are not like our usual examples. They are simply examples of the return values of the function call.\n",
        "\n",
        "Ex1:\n",
        "```\n",
        "Function call: concat_double([1,2,3])\n",
        "Return: [2,4,6,2,4,6]\n",
        "```\n",
        "\n",
        "Ex2:\n",
        "```\n",
        "Function call: concat_double([1,2,3,1])\n",
        "Return: [2,4,6,2,2,4,6,2]\n",
        "```\n",
        "\n",
        "Ex3:\n",
        "```\n",
        "Function call: concat_double([5])\n",
        "Return: [10,10]\n",
        "```"
      ],
      "metadata": {
        "id": "-soi6L3KmniS"
      }
    },
    {
      "cell_type": "code",
      "execution_count": 1,
      "metadata": {
        "id": "CORfqA5ami9c"
      },
      "outputs": [],
      "source": [
        "def concat_double(nums):\n",
        "  for i in range(len(nums)):\n",
        "    nums[i] = nums[i]*2\n",
        "  return nums*2 # nums + nums"
      ]
    },
    {
      "cell_type": "code",
      "source": [
        "# List comprehension\n",
        "## Lis comprehension is a shorter syntax in creating a list in python (see the video for this hoemwork for more explanation)\n",
        "def concat_double(nums):\n",
        "  return [n*2 for n in nums]*2"
      ],
      "metadata": {
        "id": "lER77OeogZQY"
      },
      "execution_count": 12,
      "outputs": []
    },
    {
      "cell_type": "code",
      "source": [
        "print([n*2 for n in [1,2,3]])"
      ],
      "metadata": {
        "colab": {
          "base_uri": "https://localhost:8080/"
        },
        "id": "3YxA9mf2lpc4",
        "outputId": "d60233cb-f896-4ff1-8322-9715b5f8e79c"
      },
      "execution_count": 13,
      "outputs": [
        {
          "output_type": "stream",
          "name": "stdout",
          "text": [
            "[2, 4, 6]\n"
          ]
        }
      ]
    },
    {
      "cell_type": "code",
      "source": [
        "## Unit tests. DO NOT CHANGE\n",
        "q1_pass = False\n",
        "assert concat_double(nums=[1,2,3]) == [2,4,6,2,4,6], f\"Expect {[2,4,6,2,4,6]}, Got { concat_double(nums=[1,2,3]) }\"\n",
        "assert concat_double(nums=[1,2,3,1]) == [2,4,6,2,2,4,6,2], f\"Expect {[2,4,6,2,2,4,6,2]}, Got { concat_double(nums=[1,2,3,1]) }\"\n",
        "assert concat_double(nums=[5]) == [10,10], f\"Expect {[10,10]}, Got { concat_double(nums=[5]) }\"\n",
        "assert concat_double(nums=[1,2,3,4,5]) == [2,4,6,8,10,2,4,6,8,10], f\"Expect {[2,4,6,8,10,2,4,6,8,10]}, Got { concat_double(nums=[1,2,3,4,5]) }\"\n",
        "q1_pass = True"
      ],
      "metadata": {
        "id": "wOUg2RYpm75t"
      },
      "execution_count": 2,
      "outputs": []
    },
    {
      "cell_type": "markdown",
      "source": [
        "**Q2**: Build a list from permutation.\n",
        "\n",
        "Given a zero-based permutation $\\texttt{nums}$, build a list $\\texttt{ans}$ of the same length where $\\texttt{ans[i] = nums[nums[i]]}$ for each $\\texttt{0 <= i < len(nums)}$ and return it.\n",
        "\n",
        "A zero-based permutation $\\texttt{nums}$ is an array of distinct integers from $\\texttt{0}$ to $\\texttt{len(num) - 1}$ (inclusive).\n",
        "\n",
        "Example:\n",
        "\n",
        "Ex1:\n",
        "```\n",
        "Function call: build_list([0,2,1,5,3,4])\n",
        "Return: [0,1,2,4,5,3]\n",
        "```\n",
        "Explanation: The array ans is built as follows:\n",
        "* ans = [nums[nums[0]], nums[nums[1]], nums[nums[2]], nums[nums[3]], nums[nums[4]], nums[nums[5]]]\n",
        "* = [nums[0], nums[2], nums[1], nums[5], nums[3], nums[4]]\n",
        "* = [0,1,2,4,5,3]\n",
        "\n",
        "Ex2:\n",
        "```\n",
        "Function call: build_list([5,0,1,2,3,4])\n",
        "Return: [4,5,0,1,2,3]\n",
        "```\n",
        "\n",
        "Explanation: The array ans is built as follows:\n",
        "* ans = [nums[nums[0]], nums[nums[1]], nums[nums[2]], nums[nums[3]], nums[nums[4]], nums[nums[5]]]\n",
        "* = [nums[5], nums[0], nums[1], nums[2], nums[3], nums[4]]\n",
        "* = [4,5,0,1,2,3]"
      ],
      "metadata": {
        "id": "_tVK-du8moxw"
      }
    },
    {
      "cell_type": "code",
      "source": [
        "# ver 1\n",
        "def build_list(nums):\n",
        "  answer = [0] * len(nums)\n",
        "  for i in range(len(nums)):\n",
        "    answer[i] = nums[nums[i]]\n",
        "  return answer"
      ],
      "metadata": {
        "id": "fYSqB_xqmpAO"
      },
      "execution_count": 3,
      "outputs": []
    },
    {
      "cell_type": "code",
      "source": [
        "# ver 2\n",
        "def build_list(nums):\n",
        "  answer = []\n",
        "  for i in range(len(nums)):\n",
        "    answer.append(nums[nums[i]])\n",
        "  return answer"
      ],
      "metadata": {
        "id": "Zj5Fjp_EaiQS"
      },
      "execution_count": 4,
      "outputs": []
    },
    {
      "cell_type": "code",
      "source": [
        "# list comprehension\n",
        "def build_list(nums):\n",
        "  return [nums[nums[i]] for i in range(len(nums))]"
      ],
      "metadata": {
        "id": "bA7EpxtKgOI6"
      },
      "execution_count": null,
      "outputs": []
    },
    {
      "cell_type": "code",
      "source": [
        "## Unit tests. DO NOT CHANGE\n",
        "q2_pass = False\n",
        "assert build_list([0,2,1,5,3,4]) == [0,1,2,4,5,3], f\"Expect {[0,1,2,4,5,3]}, Got {build_list([0,2,1,5,3,4])}.\"\n",
        "assert build_list([5,0,1,2,3,4]) == [4,5,0,1,2,3], f\"Expect {[4,5,0,1,2,3]}, Got {build_list([5,0,1,2,3,4])}.\"\n",
        "assert build_list([0,1,2,3,4]) == [0, 1, 2, 3, 4], f\"Expect {[0, 1, 2, 3, 4]}, Got {build_list([0,1,2,3,4])}.\"\n",
        "assert build_list([5,4,3,2,1,0]) == [0, 1, 2, 3, 4, 5], f\"Expect {[0, 1, 2, 3, 4, 5]}, Got {build_list([5,4,3,2,1,0])}.\"\n",
        "assert build_list([5,6,4,3,7,2,8,1,0]) == [2, 8, 7, 3, 1, 4, 0, 6, 5], f\"Expect {[2, 8, 7, 3, 1, 4, 0, 6, 5]}, Got {build_list([5,6,4,3,7,2,8,1,0]) }.\"\n",
        "q2_pass = True"
      ],
      "metadata": {
        "id": "UUO7QwdRm88E"
      },
      "execution_count": 5,
      "outputs": []
    },
    {
      "cell_type": "markdown",
      "source": [
        "**Q3**: Number of Good Pairs\n",
        "\n",
        "Given a list of integers nums, return the number of good pairs.\n",
        "\n",
        "A pair $\\texttt{(i, j)}$ is called good if $\\texttt{nums[i] == nums[j] and i < j}$.\n",
        "\n",
        "\n",
        "Examples:\n",
        "\n",
        "Ex1:\n",
        "```\n",
        "Function call: good_pairs([1,2,3,1,1,3])\n",
        "Return: 4\n",
        "```\n",
        "Explanation: There are 4 good pairs (0,3), (0,4), (3,4), (2,5) 0-indexed.\n",
        "\n",
        "Ex2:\n",
        "```\n",
        "Function call: good_pairs([1,1,1,1])\n",
        "Return: 6\n",
        "```\n",
        "Explanation: Each pair in the array are good.\n",
        "\n",
        "Ex3:\n",
        "```\n",
        "Function call: good_pairs([1,2,3])\n",
        "Return: 0\n",
        "```"
      ],
      "metadata": {
        "id": "xwf2EyzhmrCU"
      }
    },
    {
      "cell_type": "code",
      "source": [
        "# ver 1\n",
        "def good_pairs(nums):\n",
        "  count = 0\n",
        "  for i in range(len(nums)):\n",
        "    for j in range(len(nums)):\n",
        "      if nums[i] == nums[j] and (i < j):\n",
        "        count += 1\n",
        "  return count"
      ],
      "metadata": {
        "id": "JA_eP4Goa8H_"
      },
      "execution_count": null,
      "outputs": []
    },
    {
      "cell_type": "code",
      "source": [
        "# ver 2\n",
        "def good_pairs(nums):\n",
        "  count = 0\n",
        "  for i in range(len(nums)):\n",
        "    for j in range(i+1, len(nums)):\n",
        "      count += (nums[i] == nums[j])\n",
        "  return count"
      ],
      "metadata": {
        "id": "FaTbK9U5msam"
      },
      "execution_count": null,
      "outputs": []
    },
    {
      "cell_type": "code",
      "source": [
        "# ver 3\n",
        "def good_pairs(nums):\n",
        "  count = 0\n",
        "  temp = [0]*(max(nums)+1)\n",
        "  for i in range(len(nums)):\n",
        "    count += temp[nums[i]]\n",
        "    temp[nums[i]] +=1\n",
        "  return count"
      ],
      "metadata": {
        "id": "VWcRH7xObSMO"
      },
      "execution_count": 6,
      "outputs": []
    },
    {
      "cell_type": "code",
      "source": [
        "# List comprehension\n",
        "def good_pairs(nums):\n",
        "  return sum([ sum([nums[i] == nums[j] for j in range(i + 1, len(nums))]) for i in range(len(nums))])"
      ],
      "metadata": {
        "id": "IZQ2pcw_f13V"
      },
      "execution_count": 1,
      "outputs": []
    },
    {
      "cell_type": "code",
      "source": [
        "## Unit tests. DO NOT CHANGE\n",
        "q3_pass = False\n",
        "assert good_pairs([1,2,3,1,1,3]) == 4, f\"Expect {4}, Got {good_pairs([1,2,3,1,1,3])}.\"\n",
        "assert good_pairs([1,1,1,1]) == 6, f\"Expect {6}, Got {good_pairs([1,1,1,1])}.\"\n",
        "assert good_pairs([1,2,3]) == 0, f\"Expect {0}, Got {good_pairs([1,2,3])}.\"\n",
        "assert good_pairs([1,2,3,3,2,1]) == 3, f\"Expect {3}, Got {good_pairs([1,2,3,3,2,1])}.\"\n",
        "assert good_pairs([1]) == 0, f\"Expect {0}, Got {good_pairs([1])}.\"\n",
        "q3_pass = True"
      ],
      "metadata": {
        "id": "olc-kxoQm-_K"
      },
      "execution_count": 7,
      "outputs": []
    },
    {
      "cell_type": "markdown",
      "source": [
        "**Q4**: Richest Customer Wealth\n",
        "\n",
        "You are given an $\\texttt{m x n}$ integer grid accounts where $\\texttt{accounts[i][j]}$ is the amount of money the $i$th customer has in the $j$th bank. Return the wealth that the richest customer has.\n",
        "\n",
        "A customer's wealth is the amount of money they have in all their bank accounts. The richest customer is the customer that has the maximum wealth.\n",
        "\n",
        "Examples:\n",
        "\n",
        "Ex1:\n",
        "```\n",
        "Function call: richest_wealth([[1,2,3],[3,2,1]])\n",
        "Return: 6\n",
        "```\n",
        "Explanation:\n",
        "\n",
        "* 1st customer has wealth = 1 + 2 + 3 = 6\n",
        "* 2nd customer has wealth = 3 + 2 + 1 = 6\n",
        "* Both customers are considered the richest with a wealth of 6 each, so return 6.\n",
        "\n",
        "Ex2:\n",
        "```\n",
        "Function call: richest_wealth([[1,5],[7,3],[3,5]])\n",
        "Return: 10\n",
        "```\n",
        "\n",
        "Explanation:\n",
        "* 1st customer has wealth = 6\n",
        "* 2nd customer has wealth = 10\n",
        "* 3rd customer has wealth = 8\n",
        "* The 2nd customer is the richest with a wealth of 10.\n",
        "\n",
        "Ex3:\n",
        "```\n",
        "Function call: richest_wealth([[2,8,7],[7,1,3],[1,9,5]])\n",
        "Return: 17\n",
        "```"
      ],
      "metadata": {
        "id": "fLBKEzlOms4d"
      }
    },
    {
      "cell_type": "code",
      "source": [
        "# ver 1\n",
        "def richest_wealth(accounts):\n",
        "  richest = -1\n",
        "  for i in range(len(accounts)):\n",
        "    total = sum(accounts[i])\n",
        "    if total > richest:\n",
        "      richest = total\n",
        "  return richest"
      ],
      "metadata": {
        "id": "fW9fulQimt1d"
      },
      "execution_count": null,
      "outputs": []
    },
    {
      "cell_type": "code",
      "source": [
        "# ver 2\n",
        "def richest_wealth(accounts):\n",
        "  totals = []\n",
        "  for account in accounts:\n",
        "    totals.append(sum(account))\n",
        "  return max(totals)"
      ],
      "metadata": {
        "id": "tcsnQeIgXUfx"
      },
      "execution_count": null,
      "outputs": []
    },
    {
      "cell_type": "code",
      "source": [
        "# List comprehension\n",
        "def richest_wealth(accounts):\n",
        "  return max([sum(account) for account in accounts])"
      ],
      "metadata": {
        "id": "bujP4mFLaAW2"
      },
      "execution_count": null,
      "outputs": []
    },
    {
      "cell_type": "code",
      "source": [
        "## Unit tests. DO NOT CHANGE\n",
        "q4_pass = False\n",
        "assert richest_wealth([[1,2,3],[3,2,1]]) == 6, f\"Expect {6}, Got {richest_wealth([[1,2,3],[3,2,1]])}.\"\n",
        "assert richest_wealth([[1,5],[7,3],[3,5]]) == 10, f\"Expect {10}, Got { richest_wealth([[1,5],[7,3],[3,5]])}.\"\n",
        "assert richest_wealth([[2,8,7],[7,1,3],[1,9,5]]) == 17, f\"Expect {17}, Got {richest_wealth([[2,8,7],[7,1,3],[1,9,5]])}.\"\n",
        "assert richest_wealth([[1],[2],[3],[4]]) == 4, f\"Expect {4}, Got {richest_wealth([[1],[2],[3],[4]]) }.\"\n",
        "assert richest_wealth([[1,2,3,4,5]]) == 15, f\"Expect {15}, Got {richest_wealth([[1,2,3,4,5]]) }.\"\n",
        "q4_pass = True"
      ],
      "metadata": {
        "id": "uAbX1U_gnEUA"
      },
      "execution_count": null,
      "outputs": []
    },
    {
      "cell_type": "markdown",
      "source": [
        "**Q5**: Pascal's Triangle\n",
        "\n",
        "Given an integer $\\texttt{numRows}$, return the first $\\texttt{numRows}$ of Pascal's triangle.\n",
        "\n",
        "In Pascal's triangle, each number is the sum of the two numbers directly above it as shown:\n",
        "\n",
        "![PascalTriangleAnimated2.gif](data:image/gif;base64,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)\n",
        "\n",
        "Each row of pascal's traingle starts with 1 and ends with 1.\n",
        "\n",
        "Example 1:\n",
        "\n",
        "```\n",
        "Function call: pascal_triangle(5)\n",
        "Return: [[1],[1,1],[1,2,1],[1,3,3,1],[1,4,6,4,1]]\n",
        "```\n",
        "\n",
        "Example 2:\n",
        "```\n",
        "Function call: pascal_triangle(1)\n",
        "Return: [[1]]\n",
        "```"
      ],
      "metadata": {
        "id": "GJazARjhmuXS"
      }
    },
    {
      "cell_type": "code",
      "source": [
        "# ver 1\n",
        "def pascal_triangle(numRows):\n",
        "  results = []\n",
        "  for i in range(numRows):\n",
        "    temp = []\n",
        "    for j in range(i+1):\n",
        "      if j == 0 or j == i:\n",
        "        temp.append(1)\n",
        "      else:\n",
        "        temp.append(results[i-1][j-1] + results[i-1][j])\n",
        "    results.append(temp)\n",
        "\n",
        "  return results"
      ],
      "metadata": {
        "id": "33BnVa5_VZ-5"
      },
      "execution_count": 8,
      "outputs": []
    },
    {
      "cell_type": "code",
      "source": [
        "# ver 2\n",
        "def pascal_triangle(numRows):\n",
        "  results = []\n",
        "  for i in range(numRows):\n",
        "    temp = [1]*(i+1)\n",
        "    for j in range(1, i):\n",
        "      temp[j] = results[i-1][j-1] + results[i-1][j]\n",
        "    results.append(temp)\n",
        "\n",
        "  return results"
      ],
      "metadata": {
        "id": "ThRDlkOBmvoM"
      },
      "execution_count": 10,
      "outputs": []
    },
    {
      "cell_type": "code",
      "source": [
        "# List comprehension vers.\n",
        "def pascal_triangle(numRows):\n",
        "  results = []\n",
        "  for i in range(numRows):\n",
        "    results.append([1 if j == 0 or j == i else (results[i-1][j-1] + results[i-1][j]) for j in range(i+1)])\n",
        "  return results"
      ],
      "metadata": {
        "id": "Lg8r6Wl6Wl-d"
      },
      "execution_count": 7,
      "outputs": []
    },
    {
      "cell_type": "code",
      "source": [
        "## Unit Tests. DO NOT CHANGE\n",
        "q5_pass = False\n",
        "assert pascal_triangle(7) == [[1],[1,1],[1,2,1],[1,3,3,1],[1,4,6,4,1],[1,5,10,10,5,1],[1,6,15,20,15,6,1]], f\"Expect {[[1],[1,1],[1,2,1],[1,3,3,1],[1,4,6,4,1],[1,5,10,10,5,1],[1,6,15,20,15,6,1]]}, Got {pascal_triangle(7)}.\"\n",
        "assert pascal_triangle(6) == [[1],[1,1],[1,2,1],[1,3,3,1],[1,4,6,4,1],[1,5,10,10,5,1]], f\"Expect {[[1],[1,1],[1,2,1],[1,3,3,1],[1,4,6,4,1],[1,5,10,10,5,1]]}, Got {pascal_triangle(6)}.\"\n",
        "assert pascal_triangle(5) == [[1],[1,1],[1,2,1],[1,3,3,1],[1,4,6,4,1]], f\"Expect {[[1],[1,1],[1,2,1],[1,3,3,1],[1,4,6,4,1]]}, Got {pascal_triangle(5)}.\"\n",
        "assert pascal_triangle(4) == [[1],[1,1],[1,2,1],[1,3,3,1]], f\"Expect {[[1],[1,1],[1,2,1],[1,3,3,1]]}, Got {pascal_triangle(4)}.\"\n",
        "assert pascal_triangle(3) == [[1],[1,1],[1,2,1]], f\"Expect {[[1],[1,1],[1,2,1]]}, Got {pascal_triangle(3)}.\"\n",
        "assert pascal_triangle(2) == [[1],[1,1]], f\"Expect {[[1],[1,1]]}, Got {pascal_triangle(2)}.\"\n",
        "assert pascal_triangle(1) == [[1]], f\"Expect {[[1]]}, Got {pascal_triangle(1)}.\"\n",
        "q5_pass = True"
      ],
      "metadata": {
        "id": "fd7jMCNrnGNg"
      },
      "execution_count": 11,
      "outputs": []
    },
    {
      "cell_type": "markdown",
      "source": [
        "## Submission\n",
        "* Please run everything and then run the code below before submitting your work."
      ],
      "metadata": {
        "id": "b83sRcS1mwIr"
      }
    },
    {
      "cell_type": "code",
      "source": [
        "print(f'Your score = {(q1_pass + q2_pass + q3_pass + q4_pass + q5_pass)/2}/2.5')"
      ],
      "metadata": {
        "id": "BVnzfqBwm66b"
      },
      "execution_count": null,
      "outputs": []
    }
  ]
}