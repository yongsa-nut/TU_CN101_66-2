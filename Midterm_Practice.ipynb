{
  "nbformat": 4,
  "nbformat_minor": 0,
  "metadata": {
    "colab": {
      "provenance": [],
      "authorship_tag": "ABX9TyPQ2y2aUjfld8jGAEjuI1eH",
      "include_colab_link": true
    },
    "kernelspec": {
      "name": "python3",
      "display_name": "Python 3"
    },
    "language_info": {
      "name": "python"
    }
  },
  "cells": [
    {
      "cell_type": "markdown",
      "metadata": {
        "id": "view-in-github",
        "colab_type": "text"
      },
      "source": [
        "<a href=\"https://colab.research.google.com/github/yongsa-nut/TU_Intro_Prog/blob/main/Midterm_Practice.ipynb\" target=\"_parent\"><img src=\"https://colab.research.google.com/assets/colab-badge.svg\" alt=\"Open In Colab\"/></a>"
      ]
    },
    {
      "cell_type": "markdown",
      "source": [
        "**Q1**: What will the following program print out? Assume the user input 3 and 5.\n",
        "\n",
        "```\n",
        "x = int(input('Enter x'))\n",
        "y = int(input('Enter y'))\n",
        "\n",
        "print(f'{x+y+10*5:.2f}, {x+y**2/2:.3f}')\n",
        "```"
      ],
      "metadata": {
        "id": "7anfGvNn1LpJ"
      }
    },
    {
      "cell_type": "code",
      "execution_count": null,
      "metadata": {
        "id": "lTgvEBDf1FLJ"
      },
      "outputs": [],
      "source": []
    },
    {
      "cell_type": "markdown",
      "source": [
        "**Q2**: Fill in the blanks so that the statement below print out the following:\n",
        "\n",
        "```\n",
        "1 2 2.5 25\n",
        "```\n",
        "```\n",
        "print(5_2, 5_2, 5_2, 5_2)\n",
        "```"
      ],
      "metadata": {
        "id": "gCsk_Azj1N9K"
      }
    },
    {
      "cell_type": "code",
      "source": [],
      "metadata": {
        "id": "9JWYsBAm1QPU"
      },
      "execution_count": null,
      "outputs": []
    },
    {
      "cell_type": "markdown",
      "source": [
        "**Q3**: What will the following program output?\n",
        "\n",
        "```\n",
        "if 10 < 5:\n",
        "  print('a', end='')\n",
        "else:\n",
        "  print('b', end='')\n",
        "if 10 > 5 and 5 > 20:\n",
        "  print('c', end='')\n",
        "elif 7 == 5 or 6 > 3:\n",
        "  print('d', end='')\n",
        "if 3%2 == 1:\n",
        "  print('e', end='')\n",
        "```"
      ],
      "metadata": {
        "id": "cZbM7SiphAYi"
      }
    },
    {
      "cell_type": "code",
      "source": [],
      "metadata": {
        "id": "hTlal0lHhCkx"
      },
      "execution_count": null,
      "outputs": []
    },
    {
      "cell_type": "markdown",
      "source": [
        "**Q4**: Fill in the blank so that the following program print out 'D'\n",
        "\n",
        "```\n",
        "num = __\n",
        "if num >= 49:\n",
        "  print('A')\n",
        "else:\n",
        "  if num < 45 or num > 60:\n",
        "    print('B')\n",
        "  elif num % 5 == 0 or num%2==0:\n",
        "    print('C')\n",
        "  else:\n",
        "    print('D')\n",
        "```"
      ],
      "metadata": {
        "id": "tmG9NkijhKLA"
      }
    },
    {
      "cell_type": "code",
      "source": [],
      "metadata": {
        "id": "uxOXpo8ThLsI"
      },
      "execution_count": null,
      "outputs": []
    },
    {
      "cell_type": "markdown",
      "source": [
        "**Q5**: What will the following program print out?\n",
        "\n",
        "```\n",
        "a = 'HELLO' == 'hello'\n",
        "b = 'There' > 'THERE'\n",
        "\n",
        "print(f'a or not b')\n",
        "```"
      ],
      "metadata": {
        "id": "Uy-RRBy3hMPb"
      }
    },
    {
      "cell_type": "code",
      "source": [],
      "metadata": {
        "id": "86fsjHTOhNfe"
      },
      "execution_count": null,
      "outputs": []
    },
    {
      "cell_type": "markdown",
      "source": [
        "**Q6**: Fill in the blank so that the code print out 7 4 1.\n",
        "\n",
        "```\n",
        "for i in _____:\n",
        "  print(i, end=' ')\n",
        "```"
      ],
      "metadata": {
        "id": "8rsrFb7ShN7D"
      }
    },
    {
      "cell_type": "code",
      "source": [],
      "metadata": {
        "id": "gEvKuh8yhPPT"
      },
      "execution_count": null,
      "outputs": []
    },
    {
      "cell_type": "markdown",
      "source": [
        "**Q7**: What will the following code print out?\n",
        "\n",
        "```\n",
        "x = 0\n",
        "total = 0\n",
        "while x < 2:\n",
        "  x += 1\n",
        "  for i in range(x):\n",
        "    total += x\n",
        "```"
      ],
      "metadata": {
        "id": "5HysHqUMhPfO"
      }
    },
    {
      "cell_type": "code",
      "source": [],
      "metadata": {
        "id": "FQ3zRAuDhQwV"
      },
      "execution_count": null,
      "outputs": []
    },
    {
      "cell_type": "markdown",
      "source": [
        "**Q8**: What will the following code print out?\n",
        "\n",
        "```\n",
        "y = 0\n",
        "for num in [1, 5, 4, 7, 0]:\n",
        "  for i in range(num, 3):\n",
        "    y -= 1  \n",
        "print(y)\n",
        "```"
      ],
      "metadata": {
        "id": "OzuOTFI6hQ_9"
      }
    },
    {
      "cell_type": "code",
      "source": [],
      "metadata": {
        "id": "N44gjLV5hSbL"
      },
      "execution_count": null,
      "outputs": []
    },
    {
      "cell_type": "markdown",
      "source": [
        "**Q9**: Fix the error of the following code.\n",
        "\n",
        "```\n",
        "x = input('Enter x:')\n",
        "x /= 5\n",
        "print(x, x+1)\n",
        "```"
      ],
      "metadata": {
        "id": "qFy2SAwKhS2J"
      }
    },
    {
      "cell_type": "code",
      "source": [],
      "metadata": {
        "id": "69zXQSgP34jZ"
      },
      "execution_count": null,
      "outputs": []
    },
    {
      "cell_type": "markdown",
      "source": [
        "**Q10:** Fill in the blank so that the program print out 8.\n",
        "\n",
        "```\n",
        "num = 10\n",
        "count = 0\n",
        "while num > 0:\n",
        "  num = num _ 2\n",
        "  count += num\n",
        "print(count)\n",
        "```"
      ],
      "metadata": {
        "id": "tu7lEqa-hUw1"
      }
    },
    {
      "cell_type": "code",
      "source": [],
      "metadata": {
        "id": "Kf3jO5PdhVuy"
      },
      "execution_count": null,
      "outputs": []
    },
    {
      "cell_type": "markdown",
      "source": [
        "**Q11**: What will the following program print out?\n",
        "\n",
        "```\n",
        "numbers = [5, 10, 15, 20, 77]\n",
        "count = 0\n",
        "for number in numbers:\n",
        "  if number % 5 == 0 and number % 2 == 0:\n",
        "    count += 3\n",
        "  elif number % 5 == 0:\n",
        "    count += 1\n",
        "  elif number % 2 == 0:\n",
        "    count -= 10\n",
        "print(count)\n",
        "```"
      ],
      "metadata": {
        "id": "tlvp9IfLhWGY"
      }
    },
    {
      "cell_type": "code",
      "source": [],
      "metadata": {
        "id": "zGzpgut1hXtY"
      },
      "execution_count": null,
      "outputs": []
    },
    {
      "cell_type": "markdown",
      "source": [
        "**Q12**: What will the following program print out?\n",
        "\n",
        "```\n",
        "target = 'j'  \n",
        "count = 0\n",
        "for word in ['a','A','z','Z','j','jJ']:\n",
        "  if word > target:\n",
        "    count += 1\n",
        "print(count)\n",
        "```"
      ],
      "metadata": {
        "id": "Jyp89ycxhX_4"
      }
    },
    {
      "cell_type": "code",
      "source": [],
      "metadata": {
        "id": "ziOdwIx0hZR1"
      },
      "execution_count": null,
      "outputs": []
    },
    {
      "cell_type": "markdown",
      "source": [
        "**Q13**: What will the following program print out?\n",
        "\n",
        "```\n",
        "x = 0\n",
        "\n",
        "while x < 5:\n",
        "  for i in range(3,8,2):\n",
        "    print(f'{i}', end=' ')\n",
        "    x += 1\n",
        "```"
      ],
      "metadata": {
        "id": "WugfsBhQhZqj"
      }
    },
    {
      "cell_type": "code",
      "source": [],
      "metadata": {
        "id": "_7xnCrdZhau_"
      },
      "execution_count": null,
      "outputs": []
    },
    {
      "cell_type": "markdown",
      "source": [
        "**Q14**: What will the following program print out?\n",
        "\n",
        "```\n",
        "count = 0\n",
        "for i in range(5, 10, 2):\n",
        "  for j in range(10, 1, -3):\n",
        "    if (i + j)%2 == 0:\n",
        "      count+=1\n",
        "print(count)\n",
        "```"
      ],
      "metadata": {
        "id": "HZB2RFgWhdDX"
      }
    },
    {
      "cell_type": "code",
      "source": [],
      "metadata": {
        "id": "ghtwzClbhcUb"
      },
      "execution_count": null,
      "outputs": []
    },
    {
      "cell_type": "markdown",
      "source": [
        "**Q15**: What wil lthe following program print out?\n",
        "\n",
        "```\n",
        "for i in range(5):\n",
        "  if i < 3:\n",
        "    x = i\n",
        "    while x > 0:\n",
        "      print(f'{x}', end=' ')\n",
        "      x -= 1\n",
        "  else:\n",
        "    for j in range(i,i*2+1,2):\n",
        "      print(j, end=' ')\n",
        "```\n"
      ],
      "metadata": {
        "id": "xAxwpwOfhfSw"
      }
    },
    {
      "cell_type": "code",
      "source": [],
      "metadata": {
        "id": "EQgQliWUhc3S"
      },
      "execution_count": null,
      "outputs": []
    },
    {
      "cell_type": "markdown",
      "source": [
        "**Q16**: Converting seconds to HH:MM:SS\n",
        "\n",
        "Write a program that takes in second and convert it to HH:MM:SS format.\n",
        "\n",
        "**Input**\n",
        "* An integer\n",
        "\n",
        "**Output**\n",
        "* print out 'HH:MM:SS'\n",
        "\n",
        "\n",
        "Example:\n",
        "```\n",
        "Enter the second: 5\n",
        "00:00:05\n",
        "\n",
        "```\n",
        "\n",
        "```\n",
        "Enter the second: 67\n",
        "00:01:07\n",
        "```\n",
        "\n",
        "```\n",
        "Enter the second: 3666\n",
        "01:01:06\n",
        "```\n",
        "\n",
        "```\n",
        "Enter the second: 80000\n",
        "22:13:20\n",
        "```\n"
      ],
      "metadata": {
        "id": "dmKENvYy59dd"
      }
    },
    {
      "cell_type": "code",
      "source": [],
      "metadata": {
        "id": "ESVt7MeL58u6"
      },
      "execution_count": null,
      "outputs": []
    },
    {
      "cell_type": "markdown",
      "source": [
        "**Q17** Cashier Program Ver 3\n",
        "\n",
        "Welcome to another cashier program. This time we are selling food products as follows: eggs (5 baht each) and milks (20 baht each). Importantly, we are selling them in dozen (12 per order).\n",
        "\n",
        "The customers can get discounts based on the following conditions.\n",
        "\n",
        "* If they buy at least 50 eggs, they get a 30% discount on eggs.\n",
        "* If they buy at least 75 milks, they get a 20% discount on milks.\n",
        "* If they buy at least 100 eggs and 100 milks, they get a 100 baht discount.\n",
        "\n",
        "**Input**\n",
        "* Eggs (in dozen)\n",
        "* Milks (in dozen)\n",
        "\n",
        "**Output**\n",
        "* The program should print out the total payment before and after all the discounts in two decimal places.\n",
        "* If there is no discount, only print out the total payment.  \n",
        "\n",
        "**Note**\n",
        "* Use Named Constant\n",
        "\n",
        "Example\n",
        "\n",
        "```\n",
        "Enter the number of eggs (dozen): 3\n",
        "Enter the number of milks (dozen): 5\n",
        "The payment is 1380.00 Baht.\n",
        "```\n",
        "\n",
        "```\n",
        "Enter the number of eggs (dozen): 10\n",
        "Enter the number of milks (dozen): 10\n",
        "The payment before discounts is 3000.00 Baht.\n",
        "The payment after discounts is 2240.00 Baht.\n",
        "```\n",
        "\n",
        "```\n",
        "Enter the number of eggs (dozen): 5\n",
        "Enter the number of milks (dozen): 5\n",
        "The payment before discounts is 1500.00 Baht.\n",
        "The payment after discounts is 1410.00 Baht.\n",
        "```\n",
        "\n",
        "```\n",
        "Enter the number of eggs (dozen): 3\n",
        "Enter the number of milks (dozen): 10\n",
        "The payment before discounts is 2580.00 Baht.\n",
        "The payment after discounts is 2100.00 Baht.\n",
        "```\n"
      ],
      "metadata": {
        "id": "jn_UOVW12fZS"
      }
    },
    {
      "cell_type": "code",
      "source": [
        "\n",
        "\n"
      ],
      "metadata": {
        "id": "5CdqrTo7574j"
      },
      "execution_count": null,
      "outputs": []
    },
    {
      "cell_type": "markdown",
      "source": [
        "**Q18**:\n",
        "Write the program based on the pseudocode below. <br> The goal is to display the train ticket price table for upto 10 stations. <br> The initial price is 20 and the price increases by 10 every station.\n",
        "\n",
        "**Pseudocode**\n",
        "* Receive input n from the user.\n",
        "* For loop i from 1 to n.\n",
        "  * First print out the current station i \"from station i:\"\n",
        "  * Then for loop backward from i to 1 to display the cost backward\n",
        "\n",
        "**Input**:\n",
        "* An interger\n",
        "\n",
        "**Output**\n",
        "* Based on the pseuducode\n",
        "\n",
        "**Note**\n",
        "* Use Named Constant\n",
        "\n",
        "Example\n",
        "```\n",
        "Enter n: 5\n",
        "from station 1: 20\n",
        "from station 2: 30 20\n",
        "from station 3: 40 30 20\n",
        "from station 4: 50 40 30 20\n",
        "from station 5: 60 50 40 30 20\n",
        "```"
      ],
      "metadata": {
        "id": "F5HZb1tZ1vhg"
      }
    },
    {
      "cell_type": "code",
      "source": [],
      "metadata": {
        "id": "YDhRVf3Z_pOT"
      },
      "execution_count": null,
      "outputs": []
    }
  ]
}