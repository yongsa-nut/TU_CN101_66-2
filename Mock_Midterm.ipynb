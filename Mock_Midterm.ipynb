{
  "nbformat": 4,
  "nbformat_minor": 0,
  "metadata": {
    "colab": {
      "provenance": [],
      "authorship_tag": "ABX9TyO8F4JThL3z4YMY0N5NbBoq",
      "include_colab_link": true
    },
    "kernelspec": {
      "name": "python3",
      "display_name": "Python 3"
    },
    "language_info": {
      "name": "python"
    }
  },
  "cells": [
    {
      "cell_type": "markdown",
      "metadata": {
        "id": "view-in-github",
        "colab_type": "text"
      },
      "source": [
        "<a href=\"https://colab.research.google.com/github/yongsa-nut/TU_Intro_Prog/blob/main/Mock_Midterm.ipynb\" target=\"_parent\"><img src=\"https://colab.research.google.com/assets/colab-badge.svg\" alt=\"Open In Colab\"/></a>"
      ]
    },
    {
      "cell_type": "markdown",
      "source": [
        "**Q1**: Fill in the blank so that the program outputs like the examples below.\n",
        "\n",
        "\n",
        "```\n",
        "x = int(input(\"Enter n: \"))\n",
        "x = x____________\n",
        "print(\"x =\", x)\n",
        "```\n",
        "\n",
        "example 1:\n",
        "\n",
        "\n",
        "```\n",
        "Enter n: 500\n",
        "x = 5\n",
        "```\n",
        "\n",
        "example 2:\n",
        "\n",
        "```\n",
        "Enter n: 800\n",
        "x = 8\n",
        "```"
      ],
      "metadata": {
        "id": "yKl-NL9Pb3zq"
      }
    },
    {
      "cell_type": "code",
      "source": [],
      "metadata": {
        "id": "IDHphIGub5fs"
      },
      "execution_count": null,
      "outputs": []
    },
    {
      "cell_type": "markdown",
      "source": [
        "**Q2**: Fill in the blanks so that the statement below print out the following:\n",
        "\n",
        "```\n",
        "1 2 2.5 25\n",
        "```\n",
        "```\n",
        "print(5_2, 5_2, 5_2, 5_2)\n",
        "```"
      ],
      "metadata": {
        "id": "Z6OdpzHccByH"
      }
    },
    {
      "cell_type": "code",
      "source": [],
      "metadata": {
        "id": "7Rytji50cBBq"
      },
      "execution_count": null,
      "outputs": []
    },
    {
      "cell_type": "markdown",
      "source": [
        "**Q3**: What will the following code print out?\n",
        "```\n",
        "x = 31356190\n",
        "y = 0.44\n",
        "print(f\"x = {x:,d}, y ={y:.1%}\")\n",
        "```"
      ],
      "metadata": {
        "id": "zthvn2pecJbT"
      }
    },
    {
      "cell_type": "code",
      "source": [],
      "metadata": {
        "id": "tz6zGqfYcKat"
      },
      "execution_count": null,
      "outputs": []
    },
    {
      "cell_type": "markdown",
      "source": [
        "**Q4**: What will the following program output?\n",
        "```\n",
        "num1 = 10\n",
        "num2 = 7\n",
        "num3 = 4\n",
        "\n",
        "if num1 < num2 and 10 / (num2-num2) > 0:\n",
        "  num2 = num2/2\n",
        "if num3 < num2 or num2 / (num1 * 0) != 0:\n",
        "  num1 = num1 * 2\n",
        "  num2 = num2 - num3\n",
        "  num3 = num2 + num3\n",
        "else:\n",
        "  num3 = num3 * 2\n",
        "  num1 = num3 - num1\n",
        "  num2 = num2 + num2\n",
        "\n",
        "print(num1, num2, num3)\n",
        "```"
      ],
      "metadata": {
        "id": "IgACYVoyap_T"
      }
    },
    {
      "cell_type": "code",
      "source": [],
      "metadata": {
        "id": "gKlRhswwariC"
      },
      "execution_count": null,
      "outputs": []
    },
    {
      "cell_type": "markdown",
      "source": [
        "**Q5**: What will the following code print out?\n",
        "```\n",
        "num = 10\n",
        "x = 5\n",
        "num = x + num ** 2 /5 - x * 3\n",
        "x = 10\n",
        "print(num)\n",
        "```"
      ],
      "metadata": {
        "id": "XbQ1MoMRcPMc"
      }
    },
    {
      "cell_type": "code",
      "source": [],
      "metadata": {
        "id": "xEY9XD96cO6u"
      },
      "execution_count": null,
      "outputs": []
    },
    {
      "cell_type": "markdown",
      "source": [
        "**Q6**: What will the following program output?\n",
        "\n",
        "```\n",
        "a = False\n",
        "b = False\n",
        "c = False\n",
        "\n",
        "if a and not b and not c:\n",
        "  print(\"First\")\n",
        "elif a or not b and not c:\n",
        "  print(\"Second\")\n",
        "else:\n",
        "  print(\"Third\")\n",
        "```"
      ],
      "metadata": {
        "id": "3xRANpZWawrt"
      }
    },
    {
      "cell_type": "code",
      "source": [],
      "metadata": {
        "id": "4gda0B-zaxcd"
      },
      "execution_count": null,
      "outputs": []
    },
    {
      "cell_type": "markdown",
      "source": [
        "**Q7**: What will the following program output?\n",
        "\n",
        "```\n",
        "cond1 = \"Elon\" > \"Zuck\"\n",
        "cond2 = chr(66) > chr(98)\n",
        "cond3 = ord(\"a\") > ord(\"Z\")\n",
        "print(f\"{cond1}, {cond2}, {cond3}\")\n",
        "```"
      ],
      "metadata": {
        "id": "VPRYcNIraxrW"
      }
    },
    {
      "cell_type": "code",
      "source": [],
      "metadata": {
        "id": "HQyDU_tLazlt"
      },
      "execution_count": null,
      "outputs": []
    },
    {
      "cell_type": "markdown",
      "source": [
        "**Q8**: What will the following program output?\n",
        "```\n",
        "num1 = 7\n",
        "num2 = 11\n",
        "\n",
        "if num2 // num1 > num2 % num1:\n",
        "  print(\"First\")\n",
        "if num1*num2 > num1**num2:\n",
        "  print(\"Second\")\n",
        "else:\n",
        "  if num1 > num2 and num1 - num2 > 0:\n",
        "    print(\"Third\")\n",
        "  else:\n",
        "    print(\"Fourth\")\n",
        "```"
      ],
      "metadata": {
        "id": "NN5XMniva1nI"
      }
    },
    {
      "cell_type": "code",
      "source": [],
      "metadata": {
        "id": "TEKNbzYya1J2"
      },
      "execution_count": null,
      "outputs": []
    },
    {
      "cell_type": "markdown",
      "source": [
        "**Q9**: What $\\texttt{x}$ needs to be to make the following program output \"Third\"?\n",
        "\n",
        "```\n",
        "x = _\n",
        "if (x%5) > 10:\n",
        "  print(\"First\")\n",
        "elif (x**2) + 5 > 20:\n",
        "  print(\"Second\")\n",
        "elif (x%2==1) and (x+5) > 6:\n",
        "  print(\"Third\")\n",
        "else:\n",
        "  print(\"Fourth\")\n",
        "```"
      ],
      "metadata": {
        "id": "HDH4Bsm-a4Qw"
      }
    },
    {
      "cell_type": "code",
      "source": [],
      "metadata": {
        "id": "vdihjX8Ya41L"
      },
      "execution_count": null,
      "outputs": []
    },
    {
      "cell_type": "markdown",
      "source": [
        "**Q10**: What will the code below print out?\n",
        "\n",
        "```\n",
        "num1 = 123456789.09\n",
        "num2 = 3\n",
        "print(f\"{num1:,.3f}, {num2*3}, {eval('1+1')}\")\n",
        "```"
      ],
      "metadata": {
        "id": "r5Q8uvuYgcpx"
      }
    },
    {
      "cell_type": "code",
      "source": [],
      "metadata": {
        "id": "8xFlZYN2gcDN"
      },
      "execution_count": null,
      "outputs": []
    },
    {
      "cell_type": "markdown",
      "source": [
        "**Q11**:\n",
        "\n",
        "Write the output of the following program:\n",
        "\n",
        "```\n",
        "num = 10\n",
        "while num > 1:\n",
        "  if num%2 == 0:\n",
        "    print(num, end = \",\")\n",
        "  num -=1\n",
        "```"
      ],
      "metadata": {
        "id": "MJS0ib8OhPNu"
      }
    },
    {
      "cell_type": "code",
      "source": [],
      "metadata": {
        "id": "W6ltA6dPutJi"
      },
      "execution_count": null,
      "outputs": []
    },
    {
      "cell_type": "markdown",
      "source": [
        "**Q12**: Write the output of the following program:\n",
        "\n",
        "```\n",
        "total = 0\n",
        "for exp in ['1+2', '2*3', '3-4', '7%4','8//5']:\n",
        "  total += eval(exp)\n",
        "print(f\"{total:.2f}\")\n",
        "```"
      ],
      "metadata": {
        "id": "WB_TaxF4ulQF"
      }
    },
    {
      "cell_type": "code",
      "source": [],
      "metadata": {
        "id": "nkI-q5dFur1E"
      },
      "execution_count": null,
      "outputs": []
    },
    {
      "cell_type": "markdown",
      "source": [
        "**Q13**: Write the output of the following program:\n",
        "```\n",
        "x = 1\n",
        "for i in range(1, 12, 2):\n",
        "  for j in range(6, 0, -3):\n",
        "    x = x + 2\n",
        "print(f\"x = {x}\")\n",
        "```"
      ],
      "metadata": {
        "id": "Ci3h9-8UunnN"
      }
    },
    {
      "cell_type": "code",
      "source": [],
      "metadata": {
        "id": "FxrEXf52urm8"
      },
      "execution_count": null,
      "outputs": []
    },
    {
      "cell_type": "markdown",
      "source": [
        "**Q14**: Write the output of the following program:\n",
        "```\n",
        "x = 950\n",
        "y = 100\n",
        "\n",
        "while y != x:\n",
        "  if x > y:\n",
        "    x -= y\n",
        "  else:\n",
        "    y -= x\n",
        "print(x)\n",
        "```"
      ],
      "metadata": {
        "id": "8FI_cC3euqMz"
      }
    },
    {
      "cell_type": "code",
      "source": [],
      "metadata": {
        "id": "oC1eLQBbuthB"
      },
      "execution_count": null,
      "outputs": []
    },
    {
      "cell_type": "markdown",
      "source": [
        "**Q15**: There is a problem with the program below. Fix it.\n",
        "\n",
        "```\n",
        "n = 0\n",
        "while n < 10:\n",
        "  print(f\"{n+2}\")\n",
        "  n -= 1\n",
        "```"
      ],
      "metadata": {
        "id": "G8zJXe8fut8H"
      }
    },
    {
      "cell_type": "code",
      "source": [],
      "metadata": {
        "id": "1pgMML7Tuvb7"
      },
      "execution_count": null,
      "outputs": []
    },
    {
      "cell_type": "markdown",
      "source": [
        "\n",
        "\n",
        "---\n",
        "\n"
      ],
      "metadata": {
        "id": "CyNHvRi6edlF"
      }
    },
    {
      "cell_type": "markdown",
      "source": [
        "**Q16**:\n",
        "\n",
        "Implement a program to calculate the following mathimatical formula. <br>Let $\\pi$ be 3.1416. Let user enter the value for $r$ and $h$.\n",
        "\n",
        "$V = \\frac{1}{3}\\pi r^2h$\n",
        "\n",
        "example:\n",
        "```\n",
        "Enter r: 2\n",
        "Enter h: 3\n",
        "12.5664\n",
        "```"
      ],
      "metadata": {
        "id": "4yTd-PZqeeaZ"
      }
    },
    {
      "cell_type": "code",
      "source": [
        "\n",
        "\n",
        "\n",
        "\n"
      ],
      "metadata": {
        "id": "bk0ZUFwuefg8"
      },
      "execution_count": null,
      "outputs": []
    },
    {
      "cell_type": "markdown",
      "source": [
        "**Q17**:\n",
        "\n",
        "Implement a program to take in user's first name, last name, and the year of birth (in CE). <br> Then print out their last name, first name, and their age as shown below. <br> Calculate the age by simply subtracting the year of birth from the current year (2024).\n",
        "\n",
        "**Input**: First name, last name, and the year of birth.\n",
        "\n",
        "**Output**: Print statement\n",
        "\n",
        "Example:\n",
        "```\n",
        "Enter your first name:  Mary\n",
        "Enter your last name: Smith\n",
        "Enter your year of bith: \" 1995\n",
        "Smith, Mary age: 29.\n",
        "```"
      ],
      "metadata": {
        "id": "PLByfucteiUc"
      }
    },
    {
      "cell_type": "code",
      "source": [
        "\n",
        "\n",
        "\n",
        "\n",
        "\n",
        "\n",
        "\n"
      ],
      "metadata": {
        "id": "TAc5rLr6ejDI"
      },
      "execution_count": null,
      "outputs": []
    },
    {
      "cell_type": "markdown",
      "source": [
        "**Q18**\n",
        "Write a program to calculate a payment of two items.\n",
        "* Item A costs 100 Baht.\n",
        "* Item B costs 200 Baht.\n",
        "\n",
        "Currently, there is a following discount program:\n",
        "* If you buy A more than 5, you get 10% discount.\n",
        "* If you buy B more than 7, you get 5% discount.\n",
        "\n",
        "Input:\n",
        "* Two numbers: the amount of A and B.\n",
        "\n",
        "Output:\n",
        "* The total cost.\n",
        "\n",
        "example:\n",
        "```\n",
        "Enter number of A: 2\n",
        "Enter number of B: 3\n",
        "Net price: 800\n",
        "```\n",
        "```\n",
        "Enter number of A: 10\n",
        "Enter number of B: 10\n",
        "Net price: 2800\n",
        "```"
      ],
      "metadata": {
        "id": "Bl23KPpDa8m9"
      }
    },
    {
      "cell_type": "code",
      "source": [
        "\n",
        "\n",
        "\n",
        "\n",
        "\n",
        "\n",
        "\n",
        "\n",
        "\n",
        "\n",
        "\n",
        "\n"
      ],
      "metadata": {
        "id": "JrrcQFP5a8Mi"
      },
      "execution_count": null,
      "outputs": []
    },
    {
      "cell_type": "markdown",
      "source": [
        "**Q19**:\n",
        "Write a program to determine the range of user's age.\n",
        "* If age is below 12, \"Children\"\n",
        "* If age is between 12 and 18, \"Adolescence\"\n",
        "* If age is between 19 and 30, \"Young Adult\"\n",
        "* If age is between 31 and 60, \"Middle Aged\"\n",
        "* If age is greater than 60, \"Elderly\"\n",
        "\n",
        "example\n",
        "```\n",
        "Enter your age: 12\n",
        "Children\n",
        "```\n",
        "```\n",
        "Enter your age 31\n",
        "Middle Aged\n",
        "```"
      ],
      "metadata": {
        "id": "x8v5xW3ja_qy"
      }
    },
    {
      "cell_type": "code",
      "source": [
        "\n",
        "\n",
        "\n",
        "\n",
        "\n",
        "\n",
        "\n",
        "\n",
        "\n",
        "\n",
        "\n",
        "\n"
      ],
      "metadata": {
        "id": "pcXwndsPbCN6"
      },
      "execution_count": null,
      "outputs": []
    },
    {
      "cell_type": "markdown",
      "source": [
        "**Q20**: Write a program to print a diamond.\n",
        "\n",
        "**Input**: an odd number >= 1\n",
        "\n",
        "```\n",
        "Enter n: 1\n",
        "*\n",
        "```\n",
        "\n",
        "```\n",
        "Enter n: 3\n",
        " *\n",
        "***\n",
        " *\n",
        "```\n",
        "\n",
        "```\n",
        "Enter n: 5\n",
        "  *\n",
        " ***\n",
        "*****\n",
        " ***\n",
        "  *\n",
        "```"
      ],
      "metadata": {
        "id": "SP6QLROnHPyk"
      }
    }
  ]
}