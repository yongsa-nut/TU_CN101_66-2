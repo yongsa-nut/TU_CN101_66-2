{
  "nbformat": 4,
  "nbformat_minor": 0,
  "metadata": {
    "colab": {
      "provenance": [],
      "authorship_tag": "ABX9TyPu1BGfW2KTehD+RUVULbmh",
      "include_colab_link": true
    },
    "kernelspec": {
      "name": "python3",
      "display_name": "Python 3"
    },
    "language_info": {
      "name": "python"
    }
  },
  "cells": [
    {
      "cell_type": "markdown",
      "metadata": {
        "id": "view-in-github",
        "colab_type": "text"
      },
      "source": [
        "<a href=\"https://colab.research.google.com/github/yongsa-nut/TU_Intro_Prog/blob/main/Chapter_7_String_Exercise.ipynb\" target=\"_parent\"><img src=\"https://colab.research.google.com/assets/colab-badge.svg\" alt=\"Open In Colab\"/></a>"
      ]
    },
    {
      "cell_type": "markdown",
      "source": [
        "**Q1**: What will the following program print out?\n",
        "\n",
        "```\n",
        "chars = 'AAaaABbbCcCddd'\n",
        "total = 0\n",
        "for char in chars:\n",
        "  if char == 'A':\n",
        "    total += 1\n",
        "  if char == 'B':\n",
        "    total += 2\n",
        "  if char == 'C':\n",
        "    total += 3\n",
        "print(total)\n",
        "```"
      ],
      "metadata": {
        "id": "QCQ099bq-s1l"
      }
    },
    {
      "cell_type": "code",
      "execution_count": null,
      "metadata": {
        "id": "Eu5Q13rd8IPa"
      },
      "outputs": [],
      "source": []
    },
    {
      "cell_type": "markdown",
      "source": [
        "**Q2**: Fill in the blank so that the program print out $\\texttt{Wrd}$\n",
        "\n",
        "```\n",
        "my_string = \"Hello\"\n",
        "your_string = my_string + \" World\" + my_string\n",
        "print(your_string[___])\n",
        "```"
      ],
      "metadata": {
        "id": "2fAsUAcl-r7H"
      }
    },
    {
      "cell_type": "code",
      "source": [],
      "metadata": {
        "id": "Uuu7ska_-tVr"
      },
      "execution_count": null,
      "outputs": []
    },
    {
      "cell_type": "markdown",
      "source": [
        "**Q3**: What will the following program print out?\n",
        "\n",
        "```\n",
        "her_string = 'How are you today?'\n",
        "his_string = 'I am doing well.'\n",
        "result = ('h' in her_string) or ('m' in his_string)\n",
        "print(result)\n",
        "```"
      ],
      "metadata": {
        "id": "22OLlMsX-wKe"
      }
    },
    {
      "cell_type": "code",
      "source": [],
      "metadata": {
        "id": "wjITaxN7-wiD"
      },
      "execution_count": null,
      "outputs": []
    },
    {
      "cell_type": "markdown",
      "source": [
        "**Q4**: What will the following program print out?\n",
        "\n",
        "```\n",
        "ref = \"This\"\n",
        "outcome = (ref*3).lower() + \" \" + (\"SvD\"*4).upper()\n",
        "print(outcome)\n",
        "```"
      ],
      "metadata": {
        "id": "hc7yrsII-yOF"
      }
    },
    {
      "cell_type": "code",
      "source": [],
      "metadata": {
        "id": "y6aszOS9-0Jg"
      },
      "execution_count": null,
      "outputs": []
    },
    {
      "cell_type": "markdown",
      "source": [
        "**Q5**: What will the following program print out?\n",
        "\n",
        "```\n",
        "s = ' abcde '\n",
        "print(s.strip().rstrip('e').lstrip('a').rstrip('d'))\n",
        "print(s.rstrip('e').lstrip('a').rstrip('d'))\n",
        "```"
      ],
      "metadata": {
        "id": "EvRXjf29DG7I"
      }
    },
    {
      "cell_type": "code",
      "source": [],
      "metadata": {
        "id": "t80tKZSjDGpE"
      },
      "execution_count": null,
      "outputs": []
    },
    {
      "cell_type": "markdown",
      "source": [
        "**Q6**: What will the following program print out?\n",
        "\n",
        "```\n",
        "target1 = \"12345\"\n",
        "target2 = \"abcbd\"\n",
        "target3 = \"ABcc\"\n",
        "\n",
        "if target1.isdigit() and target2.startswith(\"A\".lower()):\n",
        "  print(target1 + target1[-4::-1])\n",
        "if target2.islower() and target3.endswith(\"A\"):\n",
        "  print(target1 + target2)\n",
        "if target3[0:2].isupper():\n",
        "  print(target1 +target3.upper())\n",
        "```"
      ],
      "metadata": {
        "id": "10FIkBOxDI7z"
      }
    },
    {
      "cell_type": "code",
      "source": [],
      "metadata": {
        "id": "YH5x0L_-DIrV"
      },
      "execution_count": null,
      "outputs": []
    },
    {
      "cell_type": "markdown",
      "source": [
        "**Q7**: What will the following program print out?\n",
        "\n",
        "```\n",
        "numbers = \"One Two Three Four Five Six\"\n",
        "one_index = numbers.find(\"One\")\n",
        "two_index = numbers.find(\"Two\")\n",
        "five_index = numbers.find(\"Five\")\n",
        "six_index  = numbers.find(\"six\")\n",
        "nine_index = numbers.find(\"Nine\")\n",
        "\n",
        "print(f\"{one_index + two_index + five_index + six_index + nine_index}\")\n",
        "```"
      ],
      "metadata": {
        "id": "CSLW3NDCDTbY"
      }
    },
    {
      "cell_type": "code",
      "source": [],
      "metadata": {
        "id": "mpUxGqkkDTCb"
      },
      "execution_count": null,
      "outputs": []
    },
    {
      "cell_type": "markdown",
      "source": [
        "**Q8**: What will the following program print out?\n",
        "\n",
        "```\n",
        "my_string = \"This is my sentence. This is a small cat.\"\n",
        "my_string = my_string.replace(\".\",\" \")\n",
        "my_list = my_string.split(\" \")\n",
        "total = 0\n",
        "for string in my_list:\n",
        "  if len(string) > 3:\n",
        "    total += 1\n",
        "print(total)\n",
        "```"
      ],
      "metadata": {
        "id": "H87JtKPSDVOJ"
      }
    },
    {
      "cell_type": "code",
      "source": [],
      "metadata": {
        "id": "oMpngSu1DU8i"
      },
      "execution_count": null,
      "outputs": []
    },
    {
      "cell_type": "markdown",
      "source": [
        "**Q9**: Defanging an IP Address\n",
        "\n",
        "Given a valid (IPv4) IP address, return a defanged version of that IP address.\n",
        "\n",
        "A defanged IP address replaces every period \".\" with \"[.]\".\n",
        "\n",
        "Note: There are many ways to solve this problem. Try to come up with at least two.\n",
        "\n",
        "Example 1:\n",
        "```\n",
        "Enter IP address: 1.1.1.1\n",
        "1[.]1[.]1[.]1\n",
        "```\n",
        "\n",
        "Example 2:\n",
        "```\n",
        "Enter IP address: 255.100.50.0\n",
        "255[.]100[.]50[.]0\n",
        "```"
      ],
      "metadata": {
        "id": "NiimCY6CDYcP"
      }
    },
    {
      "cell_type": "code",
      "source": [],
      "metadata": {
        "id": "klZMaLULDZRl"
      },
      "execution_count": null,
      "outputs": []
    },
    {
      "cell_type": "markdown",
      "source": [
        "**Q10**: Jewels and Stones\n",
        "\n",
        "You're given strings jewels representing the types of stones that are jewels, and stones representing the stones you have. Each character in stones is a type of stone you have. You want to know how many of the stones you have are also jewels.\n",
        "\n",
        "Letters are case sensitive, so \"a\" is considered a different type of stone from \"A\".\n",
        "\n",
        "Example 1:\n",
        "```\n",
        "Enter jewels: aA\n",
        "Enter stones aAAbbbb\n",
        "3\n",
        "```\n",
        "Explanation: There are two jewels, 'a' and 'A'. There is 1 'a' and 2 'A' in the stones so the total is 3.\n",
        "\n",
        "Example 2:\n",
        "```\n",
        "Enter jewels: z\n",
        "Enter stones: ZZ\n",
        "0\n",
        "```\n",
        "\n",
        "Example 3:\n",
        "```\n",
        "Enter jewels: kKp\n",
        "Enter stones: aaBkBcKcKcDDgkggkgpp\n",
        "7\n",
        "```"
      ],
      "metadata": {
        "id": "oErxU5XGDZf3"
      }
    },
    {
      "cell_type": "code",
      "source": [],
      "metadata": {
        "id": "O3Ulp5zaDaUd"
      },
      "execution_count": null,
      "outputs": []
    },
    {
      "cell_type": "markdown",
      "source": [
        "**Q11**: Counting emails\n",
        "\n",
        "You are given a string of a bunch of emails separated by commas. You want to count the number of gmail with digits in the username.\n",
        "\n",
        "Input:\n",
        "* One string\n",
        "\n",
        "Output:\n",
        "* An interger. The number of gmail with digits in the username.\n",
        "\n",
        "Note:\n",
        "* You must create $\\texttt{digit_exist}$ function that returns $\\texttt{True}$ if a digit(s) exists and $\\texttt{False}$ otherwise.\n",
        "\n",
        "Example 1:\n",
        "```\n",
        "Enter the query: aaa@gmail.com,ttt12@gmail.com,sdf3sdf@engr.tu.ac.th,mvkq@hotmail.com,p2p2p@gmail.com\n",
        "2\n",
        "```\n",
        "Explanation: ttt12@gmail.com and p2p2p@gmail.com\n",
        "\n",
        "Example 2:\n",
        "```\n",
        "Enter the query: kkkvvv1@gmail.com,sdfvvv@gmail1.com,erwav3@outlook.com,fadsrew_134@gmail.com,gmail1@gmail.com,weeb1story@gmail.com,qqcsaf@engr.tu.ac.th,poereqc@gmail.com,onetwothree@gmail.com2,sreqc2@gmail.ac.th,your.name3@gmail.com,helloworld@engr.ac.th,ttt555uuu@gmail.com,hello@1gmail.com\n",
        "6\n",
        "```\n",
        "Explanation: kkkvvv1@gmail.com, fadsrew_134@gmail.com, gmail1@gmail.com, weeb1story@gmail.com, your.name3@gmail.com, ttt555uuu@gmail.com"
      ],
      "metadata": {
        "id": "oFse45pnLsYI"
      }
    },
    {
      "cell_type": "code",
      "source": [
        "# Input: username\n",
        "# Output: True if there is a digit(s) in username, False otherwise\n",
        "def digit_exist(username):\n",
        "  found = False\n",
        "  for chr in username:\n",
        "    if chr.isdigit():\n",
        "      found = True\n",
        "      #return True\n",
        "  return found\n",
        "\n",
        "# Pseudocode\n",
        "# 1) split the string into a list of emails\n",
        "# 2) For loop through all emails\n",
        "#  2.1) Split the email at '@'\n",
        "#  2.2) Check if email ends with 'gmail.com'\n",
        "#  2.3) and check if username contains a digit(s) using digit_exist()\n",
        "#  2.4) If both True, count += 1"
      ],
      "metadata": {
        "id": "FK_9bTyfLsJ1",
        "colab": {
          "base_uri": "https://localhost:8080/"
        },
        "outputId": "c7501336-2f95-4e3c-be9b-e28178fe561e"
      },
      "execution_count": null,
      "outputs": [
        {
          "output_type": "execute_result",
          "data": {
            "text/plain": [
              "False"
            ]
          },
          "metadata": {},
          "execution_count": 6
        }
      ]
    }
  ]
}