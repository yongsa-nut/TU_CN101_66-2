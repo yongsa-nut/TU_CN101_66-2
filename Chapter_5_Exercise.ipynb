{
  "nbformat": 4,
  "nbformat_minor": 0,
  "metadata": {
    "colab": {
      "provenance": [],
      "authorship_tag": "ABX9TyOSZrZXeEOt1zbR+HUTRTVZ",
      "include_colab_link": true
    },
    "kernelspec": {
      "name": "python3",
      "display_name": "Python 3"
    },
    "language_info": {
      "name": "python"
    }
  },
  "cells": [
    {
      "cell_type": "markdown",
      "metadata": {
        "id": "view-in-github",
        "colab_type": "text"
      },
      "source": [
        "<a href=\"https://colab.research.google.com/github/yongsa-nut/TU_Intro_Prog/blob/main/Chapter_5_Exercise.ipynb\" target=\"_parent\"><img src=\"https://colab.research.google.com/assets/colab-badge.svg\" alt=\"Open In Colab\"/></a>"
      ]
    },
    {
      "cell_type": "markdown",
      "source": [
        "**Q1** What will the following program output?\n",
        "\n",
        "```\n",
        "def aaa()\n",
        "  print(\"aaa\", end=\"\")\n",
        "\n",
        "def bbb()\n",
        "  print(\"bbb\", end=\"\")\n",
        "\n",
        "def ccc()\n",
        "  print(\"ccc\", end=\"\")\n",
        "\n",
        "def main():\n",
        "  bbb()\n",
        "  aaa()\n",
        "\n",
        "main()\n",
        "```"
      ],
      "metadata": {
        "id": "mRUt2KT2rF_N"
      }
    },
    {
      "cell_type": "code",
      "execution_count": null,
      "metadata": {
        "id": "r0NevUKZp7Pn"
      },
      "outputs": [],
      "source": []
    },
    {
      "cell_type": "markdown",
      "source": [
        "**Q2** What will the following program output?\n",
        "\n",
        "```\n",
        "def do_something(x, y):\n",
        "  print(f\"{x+y}\")\n",
        "\n",
        "def main():\n",
        "  do_something(1*3, 2+2)\n",
        "\n",
        "main()\n",
        "```"
      ],
      "metadata": {
        "id": "cEjpSEBfrgPf"
      }
    },
    {
      "cell_type": "code",
      "source": [],
      "metadata": {
        "id": "2B2bX1Zw0mbK"
      },
      "execution_count": null,
      "outputs": []
    },
    {
      "cell_type": "markdown",
      "source": [
        "**Q3** What will the following program output?\n",
        "\n",
        "```\n",
        "def printing(x, y):\n",
        "  print(f\"{x} {y}\")\n",
        "\n",
        "def calculating(num1, num2):\n",
        "  return num1+num2\n",
        "\n",
        "def powering(num):\n",
        "  return num**2\n",
        "\n",
        "def main():\n",
        "  first = calculating(2, 3)\n",
        "  second = powering(3)\n",
        "\n",
        "  printing(first, calculating(second, 1))\n",
        "\n",
        "main()\n",
        "```"
      ],
      "metadata": {
        "id": "I8UBP-XQwWDF"
      }
    },
    {
      "cell_type": "code",
      "source": [],
      "metadata": {
        "id": "mRlNz-3K0l7K"
      },
      "execution_count": null,
      "outputs": []
    },
    {
      "cell_type": "markdown",
      "source": [
        "**Q4** What will the following program output?\n",
        "\n",
        "```\n",
        "def first(x):\n",
        "  x = x + 1\n",
        "  print(x, end=\"\")\n",
        "\n",
        "def second(x):\n",
        "  x = x + 2\n",
        "  return x\n",
        "\n",
        "def third(x):\n",
        "  x = x + 3\n",
        "  y = 5\n",
        "  return x\n",
        "\n",
        "def main():\n",
        "  x = 0\n",
        "  y = 0\n",
        "  first(x)\n",
        "  second(x)\n",
        "  y = y + third(x)\n",
        "  print(x, y)\n",
        "\n",
        "main()\n",
        "```"
      ],
      "metadata": {
        "id": "FKI0VZJxxaaI"
      }
    },
    {
      "cell_type": "code",
      "source": [],
      "metadata": {
        "id": "TKWwirfl0lfB"
      },
      "execution_count": null,
      "outputs": []
    },
    {
      "cell_type": "markdown",
      "source": [
        "**Q5** What will the following program output?\n",
        "\n",
        "```\n",
        "def aaa(x=1, y=2):\n",
        "  print(f\"{x+y}\", end=\",\")\n",
        "\n",
        "def bbb(x, y =2, z =3):\n",
        "  total = x + y + z\n",
        "  return total\n",
        "\n",
        "def main():\n",
        "  aaa()\n",
        "  result1 = bbb(5, 5, 5)\n",
        "  result2 = bbb(3, 3)\n",
        "  print(result1, result2)\n",
        "\n",
        "main()\n",
        "```"
      ],
      "metadata": {
        "id": "t1bnMnrqxvh5"
      }
    },
    {
      "cell_type": "code",
      "source": [],
      "metadata": {
        "id": "IFQBkP5S0k_p"
      },
      "execution_count": null,
      "outputs": []
    },
    {
      "cell_type": "markdown",
      "source": [
        "**Q6** What will the following program output?\n",
        "\n",
        "```\n",
        "def key1(x, y):\n",
        "  return x - y\n",
        "\n",
        "def key2(x=1, y=2):\n",
        "  total = x*y\n",
        "  return total\n",
        "\n",
        "def main():\n",
        "  total = 0\n",
        "  \n",
        "  for i in range(3):\n",
        "    temp1 = key1(x=i, y = 0)\n",
        "    if i%2==0:\n",
        "      temp2 = key2(x=i)\n",
        "    else:\n",
        "      temp2 = key2(y=i)\n",
        "    total += (temp1 + temp2)\n",
        "  \n",
        "  print(total)\n",
        "\n",
        "main()\n",
        "```"
      ],
      "metadata": {
        "id": "ElSQZSSxx1oA"
      }
    },
    {
      "cell_type": "markdown",
      "source": [
        "**Q7** What will the following program output?\n",
        "\n",
        "```\n",
        "def double(x=0, y=1):\n",
        "  return x*2, y*2\n",
        "\n",
        "def cal_sum(start, end, step = 2):\n",
        "  total = 0\n",
        "  for i in range(start, end, step):\n",
        "    total += total\n",
        "  return total\n",
        "\n",
        "def main():\n",
        "  start, end = double(y = 3)\n",
        "  result = cal_sum(start, end)\n",
        "  print(result)\n",
        "\n",
        "main()\n",
        "```"
      ],
      "metadata": {
        "id": "lGehJlFOx8GX"
      }
    },
    {
      "cell_type": "markdown",
      "source": [
        "**Q8** What will the following program output?\n",
        "\n",
        "```\n",
        "my_number   = 5\n",
        "your_number = 10\n",
        "\n",
        "def do_something(x, y):\n",
        "  x = x + y\n",
        "  print(x, end=\",\")\n",
        "\n",
        "def do_more(x):\n",
        "  x = my_number + your_number\n",
        "  print(x, end=\",\")\n",
        "\n",
        "def do_another():\n",
        "  global my_number\n",
        "  my_number += 1\n",
        "  do_something(my_number, your_number)\n",
        "\n",
        "def main()\n",
        "  do_something(my_number, your_number)\n",
        "  do_more(5)\n",
        "  do_another()\n",
        "  do_something(my_number, your_number)\n",
        "\n",
        "main()\n",
        "```"
      ],
      "metadata": {
        "id": "6_WL94tRyDtZ"
      }
    },
    {
      "cell_type": "markdown",
      "source": [
        "**Q9** Fill in the blank so that the function below returns a random number between 1 to 50.\n",
        "\n",
        "```\n",
        "import random\n",
        "\n",
        "def gen_random_result(i):\n",
        "  random.seed(i)\n",
        "  _________________________\n",
        "\n",
        "def main():\n",
        "  print(gen_random_result(7)\n",
        "\n",
        "main()\n",
        "```"
      ],
      "metadata": {
        "id": "4jWL8eFz4ZYo"
      }
    },
    {
      "cell_type": "code",
      "source": [],
      "metadata": {
        "id": "Vpg5E9fq4cP0"
      },
      "execution_count": null,
      "outputs": []
    },
    {
      "cell_type": "markdown",
      "source": [
        "**Q10**\n",
        "Write a program to receive four inputs, (x1, y1) and (x2, y2), from the user and then calculate the distance and the mid point between the two points.\n",
        "\n",
        "Your tasks:\n",
        "* Create $\\texttt{main}$ function to receive user's inputs.\n",
        "* Create $\\texttt{cal_distance}$ and $\\texttt{cal_midpoint}$ functions to calculate distance and mid point and return values.\n",
        "\n",
        "* Distance between $(x_1, y_1)$ and $(x_2, y_2) $ = $\\sqrt{(x_1 - x_2)^2 + (y_1 - y_2)^2}$\n",
        "* Midpoint$(x_3, y_3)$ = $(\\frac{x_1 + x_2}{2}, \\frac{y_1 + y_2}{2})$\n",
        "\n",
        "\n",
        "**Input**: 4 integer numbers\n",
        "\n",
        "**Output**: 1) distance at 3 digit precison and 2) the mid point at two digit precision\n",
        "\n",
        "example:\n",
        "```\n",
        "Enter x1: 1\n",
        "Enter y1: 2\n",
        "Enter x2: 3\n",
        "Enter y2: 4\n",
        "Distance = 2.828\n",
        "Midpoint = (2.00, 3.00)\n",
        "```"
      ],
      "metadata": {
        "id": "IpARo0fC4cqE"
      }
    },
    {
      "cell_type": "code",
      "source": [
        "\n",
        "\n",
        "\n",
        "\n",
        "\n",
        "\n",
        "\n",
        "\n",
        "\n",
        "\n",
        "\n",
        "\n",
        "\n",
        "\n",
        "\n",
        "\n",
        "\n",
        "\n",
        "\n",
        "\n",
        "\n",
        "\n",
        "\n"
      ],
      "metadata": {
        "id": "4ldjX7_n4fhl"
      },
      "execution_count": null,
      "outputs": []
    }
  ]
}