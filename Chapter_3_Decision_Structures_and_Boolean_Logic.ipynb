{
  "nbformat": 4,
  "nbformat_minor": 0,
  "metadata": {
    "colab": {
      "provenance": [],
      "authorship_tag": "ABX9TyM+E4NMrLutcEBz7OkXBPc0",
      "include_colab_link": true
    },
    "kernelspec": {
      "name": "python3",
      "display_name": "Python 3"
    },
    "language_info": {
      "name": "python"
    }
  },
  "cells": [
    {
      "cell_type": "markdown",
      "metadata": {
        "id": "view-in-github",
        "colab_type": "text"
      },
      "source": [
        "<a href=\"https://colab.research.google.com/github/yongsa-nut/TU_Intro_Prog/blob/main/Chapter_3_Decision_Structures_and_Boolean_Logic.ipynb\" target=\"_parent\"><img src=\"https://colab.research.google.com/assets/colab-badge.svg\" alt=\"Open In Colab\"/></a>"
      ]
    },
    {
      "cell_type": "markdown",
      "source": [
        "# Chapter 3: Decision Structures and Boolean Logic\n",
        "\n",
        "https://github.com/yongsa-nut/TU_Intro_Prog/"
      ],
      "metadata": {
        "id": "YQMkgLrcXMNw"
      }
    },
    {
      "cell_type": "markdown",
      "source": [
        "## Common Mistakes in Chapter 2's Exercise\n",
        "* a * 5 == a\n",
        "* Named constant\n",
        "* Variable naming <- Try to name it meaningfully\n",
        "* Input and Output format!\n",
        "  * input(“Enter your number: “) <- exactly this.\n",
        "* Many ways to solve problems\n",
        "* Try to use things in the chapter.\n",
        "* **For those who submitted Google Colab link that I can't open, <br> Please download .ipynb file and resubmit to Microsoft Team.**\n"
      ],
      "metadata": {
        "id": "hNttfXPR5ZgJ"
      }
    },
    {
      "cell_type": "markdown",
      "source": [
        "## Control Structure\n",
        "* **Control structure**: logical design that controls order in which set of statements execute\n",
        "  * **Sequence structure**: set of statements that execute in the order they appear\n",
        "  * **Decision structure**: specific action(s) performed only if a condition exists.\n",
        "  * **Repetition structure**: makes computer repeat included code as necessary"
      ],
      "metadata": {
        "id": "4LC4uH6aXP24"
      }
    },
    {
      "cell_type": "markdown",
      "source": [
        "## Boolean Expression and Retional Operators\n",
        "* **Boolean expression**: expression tested by if statement to determine if it is $\\texttt{True}$ or $\\texttt{False}$\n",
        "  * Example: $\\texttt{a > b}$\n",
        "    * $\\texttt{True}$ if $\\texttt{a}$ is greater than $\\texttt{b}$; $\\texttt{False}$ otherwise\n",
        "  * $\\texttt{True}$ and $\\texttt{False}$ are $\\texttt{bool}$ type\n",
        "* **Relational operator**: determines whether a specific relationship exists between two values\n",
        "  *  Example: greater than ($\\texttt{>}$)\n",
        "\n"
      ],
      "metadata": {
        "id": "KZHAFPJrdxSd"
      }
    },
    {
      "cell_type": "code",
      "source": [
        "print(5 > 6)\n",
        "print(6 > 5)"
      ],
      "metadata": {
        "id": "Prh-Z-GjevPJ"
      },
      "execution_count": null,
      "outputs": []
    },
    {
      "cell_type": "code",
      "source": [
        "print(type(True))"
      ],
      "metadata": {
        "id": "o4tCliKje174"
      },
      "execution_count": null,
      "outputs": []
    },
    {
      "cell_type": "markdown",
      "source": [
        "## Relational Opeartors\n",
        "* $\\texttt{x > y}$        &emsp;&emsp;&emsp;&nbsp;&nbsp; Is $\\texttt{x}$ greater than $\\texttt{y}$?\n",
        "* $\\texttt{x < y}$        &emsp;&emsp;&emsp;&nbsp;&nbsp; Is $\\texttt{x}$ less than $\\texttt{y}$?    \n",
        "* $\\texttt{x >= y}$       &emsp;&emsp;&emsp; Is $\\texttt{x}$ greater than or equal to $\\texttt{y}$?\n",
        "* $\\texttt{x <= y}$       &emsp;&emsp;&emsp; Is $\\texttt{x}$ less than or equal to $\\texttt{y}$?    \n",
        "* $\\texttt{x == y}$       &emsp;&emsp;&emsp; Is $\\texttt{x}$ equal to $\\texttt{y}$?\n",
        "* $\\texttt{x != y}$       &emsp;&emsp;&emsp; Is $\\texttt{x}$ not equal to $\\texttt{y}$?"
      ],
      "metadata": {
        "id": "2C2p_bXlecoj"
      }
    },
    {
      "cell_type": "code",
      "source": [
        "# Relational Operator Ex1\n",
        "x = 1\n",
        "y = 0\n",
        "print(y < x)\n",
        "print(x < y)"
      ],
      "metadata": {
        "id": "AFFZkDuyiWxw"
      },
      "execution_count": null,
      "outputs": []
    },
    {
      "cell_type": "code",
      "source": [
        "# Relational Operator Ex2\n",
        "x = 1\n",
        "y = 0\n",
        "z = 1\n",
        "print(\"x >= y\", x >= y)\n",
        "print(\"x >= z\", x >= z)\n",
        "print(\"x <= z\", x <= z)\n",
        "print(\"x <= y\", x <= y)\n",
        "print(\"x == z\", x == z)"
      ],
      "metadata": {
        "id": "jT1FJwdfiiog"
      },
      "execution_count": null,
      "outputs": []
    },
    {
      "cell_type": "markdown",
      "source": [
        "## Decision structure: $\\texttt{if}$ statement\n",
        "* In flowchart, a diamond represents true/false condition that must be tested\n",
        "* Actions can be conditionally executed\n",
        "  * Performed only when a condition is true\n",
        "* Single alternative decision structure: provides only one alternative path of execution\n",
        "  * If condition is not true, move to the next structure/line\n"
      ],
      "metadata": {
        "id": "o_kT1EHXXqgp"
      }
    },
    {
      "cell_type": "markdown",
      "source": [
        "## $\\texttt{if}$ statement flowchart\n",
        "\n",
        "![if flow.png](https://drive.google.com/uc?export=view&id=1NFWAzLHWE8kC8ZOKKGpPxgRLYYPRrKmS)"
      ],
      "metadata": {
        "id": "4aVGfltUYOkm"
      }
    },
    {
      "cell_type": "markdown",
      "source": [
        "## $\\texttt{if}$ Statement Syntax\n",
        "* $\\texttt{if condition}:$\n",
        "\t<br>&emsp;$\\texttt{Statement}$\n",
        "\t<br>&emsp;$\\texttt{Statement}$\n",
        "\n",
        "* First line known as the if clause\n",
        "* Includes the keyword if followed by condition\n",
        "  * The condition can be $\\texttt{True}$ or $\\texttt{False}$\n",
        "  * When the if statement executes, the condition is tested. <br>If it is $\\texttt{True}$ the block statements are executed. <br> Otherwise, block statements are skipped\n",
        "* **Importance**: the if statement ends with a **colon character (:)** and <br> the line(s) after the if statement are **indented**.\n"
      ],
      "metadata": {
        "id": "_L2DHoukZiQl"
      }
    },
    {
      "cell_type": "code",
      "source": [
        "# if ex 1:\n",
        "sales = 60000\n",
        "bonus = 0.0\n",
        "if sales > 50000:\n",
        "  bonus = 500.0\n",
        "print(bonus)"
      ],
      "metadata": {
        "id": "xjpYyYlKja8b"
      },
      "execution_count": null,
      "outputs": []
    },
    {
      "cell_type": "code",
      "source": [
        "# if ex 2:\n",
        "sales = 60000\n",
        "if sales > 50000:\n",
        "  bonus = 500.0\n",
        "  commission_rate = 0.12\n",
        "  print(\"You met the sales quota!\")"
      ],
      "metadata": {
        "id": "ms77bvOijxoQ"
      },
      "execution_count": null,
      "outputs": []
    },
    {
      "cell_type": "code",
      "source": [
        "# if ex 3:\n",
        "total = 10000\n",
        "if total >= 10000:\n",
        "  total = total *0.9\n",
        "  print(\"Your total is\", total)"
      ],
      "metadata": {
        "id": "si3f3LMEkGyl"
      },
      "execution_count": null,
      "outputs": []
    },
    {
      "cell_type": "code",
      "source": [
        "# Test average\n",
        "## Receive three test scores and print the average score.\n",
        "## Print \"Congrat!!\" if the average scores > a high score.\n",
        "\n",
        "HIGH_SCORE = 95 # Named constant\n",
        "\n",
        "## Get three test scores.\n",
        "test1 = int(input(\"Enter the score for test 1: \"))\n",
        "test2 = int(input(\"Enter the score for test 2: \"))\n",
        "test3 = int(input(\"Enter the score for test 3: \"))\n",
        "\n",
        "## Calculate the average score\n",
        "average = (test1 + test2 + test3)/3\n",
        "\n",
        "print(f\"The average score is {average}\")\n",
        "\n",
        "## Check if average >= HIGH_SCORE\n",
        "if average >= HIGH_SCORE:\n",
        "  print(\"Congrat!! Your average score is high.\")"
      ],
      "metadata": {
        "id": "F5MDlQqmkN1r"
      },
      "execution_count": null,
      "outputs": []
    },
    {
      "cell_type": "markdown",
      "source": [
        "## The $\\texttt{if-else}$ statement\n",
        "* Dual alternative decision structure: two possible paths of execution\n",
        "* One is taken if the condition is true, and the other if the condition is false.\n",
        "* Syntax:\n",
        "  <br> $\\texttt{if condition:}$\n",
        "  <br> &emsp;$\\texttt{statements}$\n",
        "  <br> $\\texttt{else:}$\n",
        "  <br> &emsp;$\\texttt{statements}$\n",
        "* If the condition is $\\texttt{True}$, statements under if are executed.\n",
        "* If the condition is $\\texttt{False}$, statements under else are executed.\n"
      ],
      "metadata": {
        "id": "nRyHsnJ9lV2J"
      }
    },
    {
      "cell_type": "markdown",
      "source": [
        "### The $\\texttt{if-else}$ flowchart\n",
        "\n",
        "![ifelse flow.png](https://drive.google.com/uc?export=view&id=1NIlIsMDqXts5r7tgotsKBVD4rB_ZWCMl)"
      ],
      "metadata": {
        "id": "fkbVd94znDhs"
      }
    },
    {
      "cell_type": "code",
      "source": [
        "# if-else ex1\n",
        "temperature = 40 # F or C?\n",
        "if temperature < 40:\n",
        "  print(\"A little cold, isn't it?\")\n",
        "else:\n",
        "  print(\"Nice weather we're having.\")"
      ],
      "metadata": {
        "id": "ek6QY0lLnC54"
      },
      "execution_count": null,
      "outputs": []
    },
    {
      "cell_type": "code",
      "source": [
        "# if-else ex2: payroll\n",
        "## Problem: Write a program to prompt the user for hours and rate per hour using\n",
        "##          input to compute gross pay. Pay the hourly rate for the hours up to\n",
        "##          40 and 1.5 times the hourly rate for all hours worked above 40 hours.\n",
        "## Input: hours, pay rate\n",
        "\n",
        "BASE_HOURS = 40        # base hours per week\n",
        "OT_MULTIPLIER = 1.5    # Overtime multiplier\n",
        "\n",
        "# Get hours and pay rate\n",
        "hours = float(input(\"Enter the number of hours worked: \"))\n",
        "pay_rate = float(input(\"Enter the hourly pay rate: \"))\n",
        "\n",
        "# Calculate and display the gross pay\n",
        "if hours > BASE_HOURS:\n",
        "  # When hours > BASE_HOURS, calculate OT too.\n",
        "  overtime_hours = hours - BASE_HOURS\n",
        "  overtime_pay = overtime_hours*pay_rate*OT_MULTIPLIER\n",
        "  gross_pay    = BASE_HOURS * pay_rate + overtime_pay\n",
        "else:\n",
        "  # Calculate the gross pay without overtime\n",
        "  gross_pay = hours * pay_rate\n",
        "\n",
        "# Display the gross pay\n",
        "print(f\"The gross pay is ${gross_pay:.2f}\")"
      ],
      "metadata": {
        "id": "5pvuO_wToQxy"
      },
      "execution_count": null,
      "outputs": []
    },
    {
      "cell_type": "code",
      "source": [
        "# if-else ex3: payroll without else\n",
        "BASE_HOURS = 40        # base hours per week\n",
        "OT_MULTIPLIER = 1.5    # Overtime multiplier -> 50% more\n",
        "\n",
        "# Get hours and pay rate\n",
        "hours = float(input(\"Enter the number of hours worked: \"))\n",
        "pay_rate = float(input(\"Enter the hourly pay rate: \"))\n",
        "\n",
        "gross_pay = hours * pay_rate\n",
        "\n",
        "if hours > BASE_HOURS:\n",
        "  # Need to add extra OT\n",
        "  overtime_hours = hours - BASE_HOURS\n",
        "  gross_pay = gross_pay + (overtime_hours*pay_rate*(OT_MULTIPLIER-1))\n",
        "\n",
        "# Display the gross pay\n",
        "print(f\"The gross pay is ${gross_pay:.2f}\")"
      ],
      "metadata": {
        "id": "-lioT6wDqDRN"
      },
      "execution_count": null,
      "outputs": []
    },
    {
      "cell_type": "code",
      "source": [
        "# if-else exercise 1:\n",
        "## problem: Write an if statement that assigns 20 to the variable y, and\n",
        "##          assigns 40 to the variable z if the variable x is greater than 100."
      ],
      "metadata": {
        "id": "PqWi_Sggu_BG"
      },
      "execution_count": null,
      "outputs": []
    },
    {
      "cell_type": "code",
      "source": [
        "# if-else exercise 2:\n",
        "## problem: Write a program that reads in a positive integer n from the user and\n",
        "##          #then prints whether n is even or odd.\n",
        "## Hint: An even number is a multiple of 2.\n",
        "##       Any multiple of 2 leaves a remainder of zero when divided by 2."
      ],
      "metadata": {
        "id": "5J3vl0ZDvGat"
      },
      "execution_count": null,
      "outputs": []
    },
    {
      "cell_type": "markdown",
      "source": [
        "## Comparing Strings\n",
        "* Strings can be compared using the == and != operators\n",
        "* String comparisons are case sensitive\n",
        "* Strings can be compared using >, <, >=, and <=\n",
        "  * Compared character by character based on the ASCII values for each character\n",
        "  * If a shorter word is a substring of a longer word, <br> a longer word is greater than a shorter word\n"
      ],
      "metadata": {
        "id": "GtRegkt9vfen"
      }
    },
    {
      "cell_type": "markdown",
      "source": [
        "### ASCII Chart\n",
        "\n",
        "\n",
        "![acsii.png](https://drive.google.com/uc?export=view&id=1gzV9NS6-el3StrORxvSmuaYWfsO2bKZr)"
      ],
      "metadata": {
        "id": "87EKWSSZwMOk"
      }
    },
    {
      "cell_type": "code",
      "source": [
        "# String Comparion ex1:\n",
        "name1 = \"Mary\"       # M = 77, a = 97, r = 114, y = 121\n",
        "name2 = \"Mark\"       # M = 77, a = 97, r = 114, k = 107\n",
        "if name1 > name2:\n",
        "  print(\"Name1 is greater\")\n",
        "else:\n",
        "  print(\"Name2 is greater\")"
      ],
      "metadata": {
        "id": "fA-vvtZvwZYx"
      },
      "execution_count": null,
      "outputs": []
    },
    {
      "cell_type": "code",
      "source": [
        "# String Comparison ex2: password\n",
        "# Problem: Compare input from user to password\n",
        "PASSWORD = \"prospero\"\n",
        "\n",
        "query = input(\"Enter the password: \")\n",
        "\n",
        "if query == PASSWORD:\n",
        "  print(\"Password accepted.\")\n",
        "else:\n",
        "  print(\"Wrong password.\")"
      ],
      "metadata": {
        "id": "-M61cH5Ow3ue"
      },
      "execution_count": null,
      "outputs": []
    },
    {
      "cell_type": "code",
      "source": [
        "# String comparison ex3: sort two names\n",
        "# Problem: sort the two names 'alphabetically'\n",
        "\n",
        "name1 = input(\"Enter the first name: \")\n",
        "name2 = input(\"Enter the second name: \")\n",
        "\n",
        "print(\"Here are the names, listed alphabetically.\")\n",
        "\n",
        "if name1 < name2:\n",
        "  print(name1)\n",
        "  print(name2)\n",
        "else:\n",
        "  print(name1)\n",
        "  print(name2)"
      ],
      "metadata": {
        "id": "Eejzkhn4x51o"
      },
      "execution_count": null,
      "outputs": []
    },
    {
      "cell_type": "markdown",
      "source": [
        "## Nested Decision Structure\n",
        "* A decision structure can be nested inside another decision structure.\n",
        "* Example:\n",
        "  * Determine if someone qualifies for a loan, they must meet two conditions:\n",
        "    * Must earn at least $30,000/year\n",
        "    * Must have been employed for at least two years\n",
        "  * Check first condition, and if it is true, check second condition\n",
        "* **Importance**: Make sure to properly indent the statements!"
      ],
      "metadata": {
        "id": "CHdZNnTbye3g"
      }
    },
    {
      "cell_type": "code",
      "source": [
        "# Nested Decision Structure ex1: loan Qualifier\n",
        "## Problem: Determine if someone qualifies for a loan\n",
        "##  Two conditions: 1) must earn >= $30000/year\n",
        "##                  2) employed for at least 2 years\n",
        "\n",
        "MIN_SALARY   = 30000\n",
        "MIN_EMPLOYED = 2\n",
        "\n",
        "salary = float(input(\"Enter your annual salary: \"))\n",
        "years_on_job = int(input(\"Enter the number of years employed: \"))\n",
        "\n",
        "# Determine whether the customer qualifies\n",
        "if salary >= MIN_SALARY:\n",
        "  if years_on_job >= MIN_EMPLOYED:\n",
        "    print(\"Qualified!\")\n",
        "  else:\n",
        "    print(\"You must have been employed for at least {MIN_EMPLOYED} years to qualify.\")\n",
        "else:\n",
        "  print(\"You must earn at least {MIN_SALARY} per year to qualify.\")"
      ],
      "metadata": {
        "id": "_37V0kALy2hW"
      },
      "execution_count": null,
      "outputs": []
    },
    {
      "cell_type": "markdown",
      "source": [
        "![nested flowchart.png](https://drive.google.com/uc?export=view&id=1NMXf4SYPxwYebXLRNlq4lzso39XMoUSL)"
      ],
      "metadata": {
        "id": "TZBotnCo0fQz"
      }
    },
    {
      "cell_type": "markdown",
      "source": [
        "## $\\texttt{if-elif-else}$ Statement\n",
        "* Multiple conditions\n",
        "* Check the conditions from top to bottom\n",
        "* Can include multiple $\\texttt{elif}$ (else if)\n",
        "* Syntax:\n",
        "  <br> $\\texttt{if condition:}$\n",
        "  <br> &emsp;$\\texttt{statements}$\n",
        "  <br> $\\texttt{elif condition:}$\n",
        "  <br> &emsp;$\\texttt{statements}$\n",
        "  <br> $\\texttt{elif condition:}$\n",
        "  <br> &emsp;$\\texttt{statements}$\n",
        "  <br> $\\texttt{else:}$\n",
        "  <br> &emsp;$\\texttt{statements}$\n",
        "* **Importance**: Indent properly!"
      ],
      "metadata": {
        "id": "YMx9GVyw0y2w"
      }
    },
    {
      "cell_type": "markdown",
      "source": [
        "### Grading example\n",
        "![grading example.png](https://drive.google.com/uc?export=view&id=1NaVC7devasa4TbZ-FXTTjYqyj1LXlC1B)"
      ],
      "metadata": {
        "id": "SS776Hy52Tzu"
      }
    },
    {
      "cell_type": "code",
      "source": [
        "# if-elif-else ex1: grading\n",
        "## Problem: Given a score, return the letter grade based on the rublic\n",
        "\n",
        "# Grading Rublic\n",
        "A_SCORE = 90\n",
        "B_SCORE = 80\n",
        "C_SCORE = 70\n",
        "D_SCORE = 60\n",
        "\n",
        "score = int(input(\"Enter your test score: \"))\n",
        "\n",
        "# Determine the grade\n",
        "if score >= A_SCORE:\n",
        "  print(\"Your grade is A.\")\n",
        "else:\n",
        "  if score >= B_SCORE:\n",
        "    print(\"Your grade is B.\")\n",
        "  else:\n",
        "    if score >= C_SCORE:\n",
        "      print(\"Your grade is C.\")\n",
        "    else:\n",
        "      if score >= D_SCORE:\n",
        "        print(\"Your grade is D.\")\n",
        "      else:\n",
        "        print(\"Your grade is F.\")"
      ],
      "metadata": {
        "id": "nh6GD3DE2nu-"
      },
      "execution_count": null,
      "outputs": []
    },
    {
      "cell_type": "code",
      "source": [
        "# if-elif-else ex2: grading\n",
        "## Problem: Given a score, return the letter grade based on the rublic\n",
        "\n",
        "# Grading Rublic\n",
        "A_SCORE = 90\n",
        "B_SCORE = 80\n",
        "C_SCORE = 70\n",
        "D_SCORE = 60\n",
        "\n",
        "score = int(input(\"Enter your test score: \"))\n",
        "\n",
        "# Determine the grade\n",
        "if score >= A_SCORE:\n",
        "  print(\"Your grade is A.\")\n",
        "elif score >= B_SCORE:\n",
        "  print(\"Your grade is B.\")\n",
        "elif score >= C_SCORE:\n",
        "  print(\"Your grade is C.\")\n",
        "elif score >= D_SCORE:\n",
        "  print(\"Your grade is D.\")\n",
        "else:\n",
        "  print(\"Your grade is F.\")"
      ],
      "metadata": {
        "id": "oo__ceHl4ONF"
      },
      "execution_count": null,
      "outputs": []
    },
    {
      "cell_type": "markdown",
      "source": [
        "## Logical Operators\n",
        "* **Logical operators**: operators that can be used to create complex Boolean expressions\n",
        "* $\\texttt{and}$ operator and $\\texttt{or}$ operator: binary operators, <br> connect two Boolean expressions into a compound Boolean expression\n",
        "* $\\texttt{not}$ operator: unary operator, reverses the truth of its Boolean operand\n"
      ],
      "metadata": {
        "id": "CspVvPkp4gCF"
      }
    },
    {
      "cell_type": "markdown",
      "source": [
        "### The $\\texttt{and}$ operator\n",
        "* Takes two Boolean expressions as operands\n",
        "  *  Creates compound Boolean expression that is **true** <br> only when **both** sub expressions are **true**\n",
        "  * Can be used to simplify nested decision structures\n",
        "* Truth table for the $\\texttt{and}$ operator:\n",
        "\n",
        ">| x | y | $\\texttt{x and y}$ |\n",
        "|:--:|:--:|:----------------:|\n",
        "| $\\texttt{True}$ | $\\texttt{True}$ | $\\texttt{True}$ |\n",
        "| $\\texttt{True}$ | $\\texttt{False}$ | $\\texttt{False}$ |\n",
        "| $\\texttt{False}$ | $\\texttt{True}$ | $\\texttt{False}$ |\n",
        "| $\\texttt{False}$ | $\\texttt{False}$ | $\\texttt{False}$ |"
      ],
      "metadata": {
        "id": "cKIKywamKuVH"
      }
    },
    {
      "cell_type": "code",
      "source": [
        "# And example\n",
        "\n",
        "print( True and True )\n",
        "print( True and False )\n",
        "print( False and True )\n",
        "print( False and False )"
      ],
      "metadata": {
        "id": "dHC1xhZT1kW2"
      },
      "execution_count": null,
      "outputs": []
    },
    {
      "cell_type": "markdown",
      "source": [
        "### The $\\texttt{or}$ operator\n",
        "* Takes two Boolean expressions as operands\n",
        "  *  Creates compound Boolean expression that is **true** only when <br> **at least one** sub expressions are **true**\n",
        "  * Can be used to simplify nested decision structures\n",
        "* Truth table for the $\\texttt{or}$ operator:\n",
        "\n",
        "> | x | y | $\\texttt{x or y}$ |\n",
        "|:--:|:--:|:----------------:|\n",
        "| $\\texttt{True}$ | $\\texttt{True}$ | $\\texttt{True}$ |\n",
        "| $\\texttt{True}$ | $\\texttt{False}$ | $\\texttt{True}$ |\n",
        "| $\\texttt{False}$ | $\\texttt{True}$ | $\\texttt{True}$ |\n",
        "| $\\texttt{False}$ | $\\texttt{False}$ | $\\texttt{False}$ |"
      ],
      "metadata": {
        "id": "Hg6Gv7XPLdOd"
      }
    },
    {
      "cell_type": "code",
      "source": [
        "# Or example\n",
        "\n",
        "print( True or True )\n",
        "print( True or False )\n",
        "print( False or True )\n",
        "print( False or False )"
      ],
      "metadata": {
        "id": "3Tp8itMM1y8y"
      },
      "execution_count": null,
      "outputs": []
    },
    {
      "cell_type": "markdown",
      "source": [
        "### Short-circuit Evaluation\n",
        "* Short circuit evaluation: deciding the value of a compound Boolean expression <br> after evaluating only one sub expression\n",
        "* Performed by the $\\texttt{or}$ and $\\texttt{and}$ operators\n",
        "  * For $\\texttt{or}$ operator: If left operand is $\\texttt{True}$, compound expression is $\\texttt{True}$. <br> Otherwise, evaluate right operand\n",
        "  * For $\\texttt{and}$ operator: If left operand is $\\texttt{False}$, compound expression is $\\texttt{False}$. <br>  Otherwise, evaluate right operand\n"
      ],
      "metadata": {
        "id": "PsjeIS79OZlR"
      }
    },
    {
      "cell_type": "markdown",
      "source": [
        "### The $\\texttt{not}$ operator\n",
        "* Takes one Boolean expressions as operand and reverses its logical value\n",
        "  * It may be necessary to place parentheses around an expression <br> to clarify to what you are applying the not operator\n",
        "\n",
        "* Truth table for the $\\texttt{or}$ operator:\n",
        "\n",
        "> | x | $\\texttt{not x}$ |\n",
        "|:--:|:----------------:|\n",
        "| $\\texttt{True}$  | $\\texttt{False}$ |\n",
        "| $\\texttt{False}$ | $\\texttt{True}$ |"
      ],
      "metadata": {
        "id": "GkkBhC4FN4Df"
      }
    },
    {
      "cell_type": "markdown",
      "source": [
        "## Checking numeric ranges with logical operators\n",
        "* To determine whether a numeric value is *within* a specific range of values, use $\\texttt{and}$\n",
        "  * Example: $\\texttt{x >= 10 and x <= 20}$\n",
        "  * Can also be written as: $\\texttt{10 <= x <= 20}$\n",
        "\n"
      ],
      "metadata": {
        "id": "rSJ5-p-bP9CY"
      }
    },
    {
      "cell_type": "code",
      "source": [
        "x = 10\n",
        "if x >= 10 and x <= 20:\n",
        "  print(\"x is in the [10, 20] range.\")\n",
        "if 10 <= x <= 20:\n",
        "  print(\"x is in the [10, 20] range.\")"
      ],
      "metadata": {
        "id": "L7raPP42Qbx0"
      },
      "execution_count": null,
      "outputs": []
    },
    {
      "cell_type": "markdown",
      "source": [
        "## Checking numeric ranges with logical operators\n",
        "* To determine whether a numeric value is *outside* a specific range of values, use $\\texttt{or}$\n",
        "  * Example: $\\texttt{x < 10 or x > 20}$"
      ],
      "metadata": {
        "id": "Q_uMLbDVQPLQ"
      }
    },
    {
      "cell_type": "code",
      "source": [
        "x = 9\n",
        "if x < 10 or x > 20:\n",
        "  print(\"The value is outside the range.\")"
      ],
      "metadata": {
        "id": "CHjvtZKjQrrD"
      },
      "execution_count": null,
      "outputs": []
    },
    {
      "cell_type": "code",
      "source": [
        "# Logical operator ex1: loan Qualifier\n",
        "## Problem: Determine if someone qualifies for a loan\n",
        "##  Two conditions: 1) must earn >= $30000/year\n",
        "##                  2) employed for at least 2 years\n",
        "\n",
        "MIN_SALARY   = 30000\n",
        "MIN_EMPLOYED = 2\n",
        "\n",
        "salary = float(input(\"Enter your annual salary: \"))\n",
        "years_on_job = int(input(\"Enter the number of years employed: \"))\n",
        "\n",
        "# Determine whether the customer qualifies\n",
        "if salary >= MIN_SALARY and years_on_job >= MIN_EMPLOYED:\n",
        "  print(\"You qualify for the loan.\")\n",
        "else:\n",
        "  print(\"You must earn at least {MIN_SALARY} per year to qualify.\")"
      ],
      "metadata": {
        "id": "efj6fKm3Q5WQ"
      },
      "execution_count": null,
      "outputs": []
    },
    {
      "cell_type": "markdown",
      "source": [
        "## Boolean Variables\n",
        "* Boolean variable: references one of two values, $\\texttt{True}$ or $\\texttt{False}$\n",
        "  * Represented by $\\texttt{bool}$ data type\n",
        "* Commonly used as flags\n",
        "  * Flag: variable that signals when some condition exists in a program\n",
        "  * Flag set to $\\texttt{False}$ 🡪 condition does not exist\n",
        "  * Flag set to $\\texttt{True}$ 🡪 condition exists"
      ],
      "metadata": {
        "id": "3hQTb-rqRLcW"
      }
    },
    {
      "cell_type": "code",
      "source": [
        "# Boolean Variables Ex1: Flag\n",
        "## The following code determines whether the quota of $50,000 of a salesperson has been met\n",
        "sales = 5000\n",
        "\n",
        "if sales >= 5000:\n",
        "  sales_quota_met = True\n",
        "else:\n",
        "  sales_quota_met = False\n",
        "\n",
        "if sales_quota_met:\n",
        "  print(\"You have met your sales quota!\")"
      ],
      "metadata": {
        "id": "EPHCaQhcR4Gi"
      },
      "execution_count": null,
      "outputs": []
    },
    {
      "cell_type": "code",
      "source": [
        "# Boolean Variable Ex2: Numeric value\n",
        "## True = 1, False = 0\n",
        "print(f\"True = {int(True)}, False = {int(False)}\")"
      ],
      "metadata": {
        "id": "5XrZrRRLSRq8"
      },
      "execution_count": null,
      "outputs": []
    },
    {
      "cell_type": "code",
      "source": [
        "# Boolean Variable Ex3: Numeric value\n",
        "## You actually don't need to convert them to use it with math operator\n",
        "print(f\"{True + True + True + 3}\")"
      ],
      "metadata": {
        "id": "u8K31GSgTkPd"
      },
      "execution_count": null,
      "outputs": []
    },
    {
      "cell_type": "code",
      "source": [
        "# Boolean Variable Ex4: Advance Numberic value\n",
        "## If x is odd, return 5. If x is even, return 4.\n",
        "x = 5\n",
        "y = (x%2==1)*5 + (x%2==0)*4\n",
        "print(y)"
      ],
      "metadata": {
        "id": "oSfzgd3pTAYI"
      },
      "execution_count": null,
      "outputs": []
    },
    {
      "cell_type": "markdown",
      "source": [
        "![table of operators.png](https://drive.google.com/uc?export=view&id=1Ne6xF2Uent2jlNekAFb0ilZF7czJ-yEM)"
      ],
      "metadata": {
        "id": "dq2SPHkiJszz"
      }
    },
    {
      "cell_type": "markdown",
      "source": [
        "## Summary\n",
        "* Decision structure\n",
        "* $\\texttt{if}$, $\\texttt{if-else}$, $\\texttt{if-elif-else}$,\n",
        "* Boolean expression and Relational Operators\n",
        "  * $\\texttt{>, <, <=, >=, ==, !=}$\n",
        "* Logical Operators ($\\texttt{and}$, $\\texttt{or}$, $\\texttt{not}$)"
      ],
      "metadata": {
        "id": "7uLvxbUSJA7D"
      }
    }
  ]
}