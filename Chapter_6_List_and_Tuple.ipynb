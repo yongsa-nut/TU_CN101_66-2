{
  "nbformat": 4,
  "nbformat_minor": 0,
  "metadata": {
    "colab": {
      "provenance": [],
      "authorship_tag": "ABX9TyM4Sv7dwjPmKUmFJCV2sRxI",
      "include_colab_link": true
    },
    "kernelspec": {
      "name": "python3",
      "display_name": "Python 3"
    },
    "language_info": {
      "name": "python"
    }
  },
  "cells": [
    {
      "cell_type": "markdown",
      "metadata": {
        "id": "view-in-github",
        "colab_type": "text"
      },
      "source": [
        "<a href=\"https://colab.research.google.com/github/yongsa-nut/TU_Intro_Prog/blob/main/Chapter_6_List_and_Tuple.ipynb\" target=\"_parent\"><img src=\"https://colab.research.google.com/assets/colab-badge.svg\" alt=\"Open In Colab\"/></a>"
      ]
    },
    {
      "cell_type": "markdown",
      "source": [
        "# Chapter 6 List and Tuple\n",
        "\n",
        "https://github.com/yongsa-nut/TU_Intro_Prog/"
      ],
      "metadata": {
        "id": "67nUlQY97G0V"
      }
    },
    {
      "cell_type": "markdown",
      "source": [
        "## Sequences\n",
        "* **Sequence**: an object that contains multiple items of data\n",
        "  * The items are stored in sequence one after another\n",
        "\n",
        "* Python provides different types of sequences, including $\\texttt{list}$ and $\\texttt{tuple}$\n",
        "  * The **key** difference is that a $\\texttt{list}$ is *mutable* and a $\\texttt{tuple}$ is *immutable*"
      ],
      "metadata": {
        "id": "LNFpzLgiTltU"
      }
    },
    {
      "cell_type": "markdown",
      "source": [
        "## Introduction to $\\texttt{list}$\n",
        "* $\\texttt{list}$: a list of items enclosed in [ ] and separeted by commas.\n",
        "  * Syntax: $\\texttt{list = [item1, item2, item3]}$\n",
        "  * items can be any data type (int, float, string, etc.)\n",
        "* $\\texttt{print}$ can be used to display the entire list."
      ],
      "metadata": {
        "id": "HLSSRbKJU2QN"
      }
    },
    {
      "cell_type": "code",
      "source": [
        "# Creating a list ex1:\n",
        "\n",
        "## Sequence of numbers\n",
        "seq1 = [1, 2, 3, 4, 5]\n",
        "\n",
        "## Sequence of string\n",
        "seq2 = [\"A\",\"B\",\"C\",\"D\"]\n",
        "\n",
        "## Sequence of mixed dta type\n",
        "seq3 = [True,False,0,1,\"True\",\"False\"]\n",
        "\n",
        "print(seq1)\n",
        "print(seq2)\n",
        "print(seq3)"
      ],
      "metadata": {
        "id": "0PyiDsmuVt2M"
      },
      "execution_count": null,
      "outputs": []
    },
    {
      "cell_type": "markdown",
      "source": [
        "### Indexing\n",
        "\n",
        "* You access elements in the list by indexing\n",
        "* Index: a number specifying the position of an element in a list\n",
        "* Syntax: $\\texttt{list[i]}$, where $\\texttt{i}$ is the index\n",
        "* **Importance**: The first index is 0!!\n",
        "  * Sequence of index: $\\texttt{0, 1, ..., n - 1}$, where $\\texttt{n}$ = the length of the list.\n",
        "* Negative indexes identify positions from the end of the list.\n",
        "  * $\\texttt{-1}$ = the last element. $\\texttt{-2}$ the second to last element."
      ],
      "metadata": {
        "id": "pIptAG_Kb5RY"
      }
    },
    {
      "cell_type": "code",
      "source": [
        "# Indexing ex1\n",
        "\n",
        "seq1 = [\"A\",\"B\",\"C\",\"D\",\"E\",\"F\"]\n",
        "#index:  0 , 1 , 2 , 3 , 4 , 5\n",
        "\n",
        "print(seq1[0])\n",
        "print(seq1[1])\n",
        "print(seq1[5])"
      ],
      "metadata": {
        "id": "JvZB_UGZd_Vj"
      },
      "execution_count": null,
      "outputs": []
    },
    {
      "cell_type": "code",
      "source": [
        "# Indexing ex2: backward\n",
        "\n",
        "seq1 = [\"A\",\"B\",\"C\",\"D\",\"E\",\"F\"]\n",
        "#back:  -6, -5, -4, -3, -2, -1\n",
        "\n",
        "print(seq1[-1])\n",
        "print(seq1[-3])\n",
        "print(seq1[-5])"
      ],
      "metadata": {
        "id": "1McCUqaPfSfc"
      },
      "execution_count": null,
      "outputs": []
    },
    {
      "cell_type": "code",
      "source": [
        "# Indexing ex3: error index out of range\n",
        "\n",
        "seq1 = [\"A\",\"B\",\"C\",\"D\",\"E\",\"F\"]\n",
        "\n",
        "print(seq1[6])"
      ],
      "metadata": {
        "id": "bPczadoMfj31"
      },
      "execution_count": null,
      "outputs": []
    },
    {
      "cell_type": "markdown",
      "source": [
        "### $\\texttt{len}$ function\n",
        "* $\\texttt{len}$ function returns the length of a sequence such as a list\n",
        "* Syntax: $\\texttt{len(list)}$\n",
        "* The index of the last element: $\\texttt{len(list) -1}$"
      ],
      "metadata": {
        "id": "av_bdtJKf3AB"
      }
    },
    {
      "cell_type": "code",
      "source": [
        "# Len examples\n",
        "\n",
        "seq1 = [\"A\",\"B\",\"C\",\"D\",\"E\",\"F\"]\n",
        "\n",
        "print(len(seq1))\n",
        "\n",
        "print(f\"Last element: {seq1[len(seq1)-1]}\")"
      ],
      "metadata": {
        "id": "XiP48TeThDeF"
      },
      "execution_count": null,
      "outputs": []
    },
    {
      "cell_type": "markdown",
      "source": [
        "## $\\texttt{list}$ is mutable\n",
        "* **mutable**: the items in the sequence can be changed.\n",
        "* $\\texttt{list}$ is mutable.\n",
        "* Assigning new value: $\\texttt{list[1] = new_value}$\n",
        "* index has to be valid (not out of range)."
      ],
      "metadata": {
        "id": "wNkYFE4qhitX"
      }
    },
    {
      "cell_type": "code",
      "source": [
        "seq1 = [\"A\",\"B\",\"C\",\"D\",\"E\",\"F\"]\n",
        "\n",
        "print(f\"Before seq1[1] = {seq1[1]}\")\n",
        "seq1[1] = \"O\"\n",
        "print(f\"After seq1[1] = {seq1[1]}\")\n",
        "seq1[1] = 2\n",
        "print(f\"After2 seq1[1] = {seq1[1]}\")"
      ],
      "metadata": {
        "id": "SOcxI95IiitK"
      },
      "execution_count": null,
      "outputs": []
    },
    {
      "cell_type": "markdown",
      "source": [
        "## Iterate over a list\n",
        "\n",
        "* You can iterate over a list using for loop.\n",
        "* Syntax: $\\texttt{for item in list:}$"
      ],
      "metadata": {
        "id": "WRhr5bf5kA_7"
      }
    },
    {
      "cell_type": "code",
      "source": [
        "seq1 = [\"A\",\"B\",\"C\",\"D\",\"E\",\"F\"]\n",
        "\n",
        "for s in seq1:\n",
        "  print(s)"
      ],
      "metadata": {
        "id": "S1J15DA5kg3U"
      },
      "execution_count": null,
      "outputs": []
    },
    {
      "cell_type": "markdown",
      "source": [
        "## Summary so far\n",
        "* Construction: $\\texttt{variable = [item1, item2, item3]}$\n",
        "\n",
        "* Indexing: $\\texttt{variable[i]}$\n",
        "\n",
        "* Mutable & Assignment: $\\texttt{variable[i] = new_time}$\n",
        "\n",
        "* $\\texttt{len}$: returns the length of a list\n",
        "\n",
        "* for loop:  $\\texttt{for item in variable:}$"
      ],
      "metadata": {
        "id": "u78FAl_pkzZ-"
      }
    },
    {
      "cell_type": "code",
      "source": [
        "# list recap ex1:\n",
        "## Finding the sum of age\n",
        "\n",
        "## creating a list\n",
        "ages = [24, 50, 17, 28, 50]\n",
        "\n",
        "total = 0\n",
        "\n",
        "## loop over list\n",
        "for age in ages:\n",
        "  total += age\n",
        "print(f\"The sum of all ages = {total}\")"
      ],
      "metadata": {
        "id": "bIAkYSDOjCUH"
      },
      "execution_count": null,
      "outputs": []
    },
    {
      "cell_type": "code",
      "source": [
        "# list recap ex2:\n",
        "## Finding the sum of age with indexing\n",
        "\n",
        "## creating a list\n",
        "ages = [24, 50, 17, 28, 50]\n",
        "\n",
        "total = 0\n",
        "\n",
        "## loop over list\n",
        "for i in range(len(ages)):\n",
        "  total += ages[i]\n",
        "print(f\"The sum of all ages = {total}\")"
      ],
      "metadata": {
        "id": "9VNMMaaWm5Cp"
      },
      "execution_count": null,
      "outputs": []
    },
    {
      "cell_type": "code",
      "source": [
        "# list recap ex3:\n",
        "## Updating age into old or young\n",
        "OLD_THRESHOLD = 30\n",
        "ages = [24, 50, 17, 28, 50]\n",
        "\n",
        "for i in range(len(ages)):\n",
        "  if ages[i] > OLD_THRESHOLD:\n",
        "    ages[i] = \"old\"\n",
        "  else:\n",
        "    ages[i] = \"young\"\n",
        "\n",
        "print(ages)"
      ],
      "metadata": {
        "id": "6PrDR7OCnJ3w"
      },
      "execution_count": null,
      "outputs": []
    },
    {
      "cell_type": "markdown",
      "source": [
        "## list slicing\n",
        "* **Slice**: a span of items that are taken from a sequence\n",
        "* Syntax: $\\texttt{list[start:end:step]}$\n",
        "* Span is a list containing copies of elements from $\\texttt{start}$ **up to, <br> but not including, $\\texttt{end}$**.\n",
        "  * If $\\texttt{start}$ is not specified, the default $\\texttt{start}$ is 0.\n",
        "  * If $\\texttt{end}$ is not specified, the default $\\texttt{end}$ is $\\texttt{len(list)}$\n",
        "  * If $\\texttt{step}$ is not specified, the default $\\texttt{step}$ is 1.\n",
        "* Negative indexes work with slicing."
      ],
      "metadata": {
        "id": "nCYde59xhppo"
      }
    },
    {
      "cell_type": "code",
      "source": [
        "# list slicing ex1:\n",
        "\n",
        "seq1 = [\"A\",\"B\",\"C\",\"D\",\"E\",\"F\"]\n",
        "\n",
        "print(seq1[1:3])"
      ],
      "metadata": {
        "id": "Td7W7eiTtbag"
      },
      "execution_count": null,
      "outputs": []
    },
    {
      "cell_type": "code",
      "source": [
        "print(seq1[:3])"
      ],
      "metadata": {
        "id": "64TI4ZHlttCp"
      },
      "execution_count": null,
      "outputs": []
    },
    {
      "cell_type": "code",
      "source": [
        "print(seq1[2:])"
      ],
      "metadata": {
        "id": "kPi7Y-GvtvPV"
      },
      "execution_count": null,
      "outputs": []
    },
    {
      "cell_type": "code",
      "source": [
        "print(seq1[:])"
      ],
      "metadata": {
        "id": "lEh8JfKGtw2H"
      },
      "execution_count": null,
      "outputs": []
    },
    {
      "cell_type": "code",
      "source": [
        "print(seq1[1::2])"
      ],
      "metadata": {
        "id": "6O_YS7aotzFE"
      },
      "execution_count": null,
      "outputs": []
    },
    {
      "cell_type": "code",
      "source": [
        "print(seq1[-1::-2])"
      ],
      "metadata": {
        "id": "k4RqUlkZt1lI"
      },
      "execution_count": null,
      "outputs": []
    },
    {
      "cell_type": "code",
      "source": [
        "# list slicing ex2:\n",
        "\n",
        "numbers = [1, 2, 3, 4, 5]\n",
        "\n",
        "print(numbers[1:3])"
      ],
      "metadata": {
        "id": "p4P5h9mDt358"
      },
      "execution_count": null,
      "outputs": []
    },
    {
      "cell_type": "code",
      "source": [
        "print(numbers[:4])"
      ],
      "metadata": {
        "id": "bCxkEVIkunDK"
      },
      "execution_count": null,
      "outputs": []
    },
    {
      "cell_type": "code",
      "source": [
        "print(numbers[3:])"
      ],
      "metadata": {
        "id": "izOptg3DuprM"
      },
      "execution_count": null,
      "outputs": []
    },
    {
      "cell_type": "code",
      "source": [
        "print(numbers[::2])"
      ],
      "metadata": {
        "id": "Wzi3P_tXurFY"
      },
      "execution_count": null,
      "outputs": []
    },
    {
      "cell_type": "code",
      "source": [
        "print(numbers[-1:-3:-2])"
      ],
      "metadata": {
        "id": "qX43uuhQuswX"
      },
      "execution_count": null,
      "outputs": []
    },
    {
      "cell_type": "markdown",
      "source": [
        "## List Operators: $\\texttt{*}$\n",
        "* $\\texttt{*}$ : a repition operator\n",
        "  * Syntax: $\\texttt{list * n}$\n",
        "  * Creates a new $\\texttt{list}$ which repeats the old $\\texttt{list n}$ times"
      ],
      "metadata": {
        "id": "vu9phxHq7Qt9"
      }
    },
    {
      "cell_type": "code",
      "source": [
        "# * ex1\n",
        "num1 = [1,2,3]\n",
        "num2 = num1 * 3\n",
        "print(num2)"
      ],
      "metadata": {
        "id": "m9l0IUFl7vnI"
      },
      "execution_count": null,
      "outputs": []
    },
    {
      "cell_type": "code",
      "source": [
        "# * ex2\n",
        "zeros = [0]*5\n",
        "print(zeros)"
      ],
      "metadata": {
        "id": "FWQwiUmB8GiA"
      },
      "execution_count": null,
      "outputs": []
    },
    {
      "cell_type": "code",
      "source": [
        "# list slicing + assignment example\n",
        "\n",
        "seq1 = [\"A\",\"B\",\"C\",\"D\",\"E\",\"F\"]\n",
        "\n",
        "seq1[::2] = [\"Even Index\"]*(len(seq1)//2)\n",
        "seq1[1::2] = [\"Odd Index\"]*(len(seq1)//2)\n",
        "\n",
        "print(seq1)"
      ],
      "metadata": {
        "id": "0J_t-sp-vETD"
      },
      "execution_count": null,
      "outputs": []
    },
    {
      "cell_type": "markdown",
      "source": [
        "## List Operators: $\\texttt{+}$\n",
        "* $\\texttt{+}$ : a concatenation operator\n",
        "  * Syntax: $\\texttt{list1 + list2}$\n",
        "  * Creates a new $\\texttt{list}$ which concatenate the two lists together"
      ],
      "metadata": {
        "id": "A-hfgK6V7eJi"
      }
    },
    {
      "cell_type": "code",
      "source": [
        "# + ex\n",
        "seq1 = [\"A\",\"B\",\"C\",\"D\",\"E\",\"F\"]\n",
        "seq2 = [\"G\",\"H\",\"I\"]\n",
        "seq3 = seq1 + seq2\n",
        "\n",
        "print(f\"{seq1} + {seq2} = {seq3}\")"
      ],
      "metadata": {
        "id": "61bw_Ski8NPZ"
      },
      "execution_count": null,
      "outputs": []
    },
    {
      "cell_type": "markdown",
      "source": [
        "## List Operators: $\\texttt{in}$\n",
        "* $\\texttt{in}$ : finding item in a list\n",
        "  * Syntax: $\\texttt{item in list}$\n",
        "  * returns $\\texttt{True}$ if the item is in the list, $\\texttt{False}$ if it is not in the list.\n",
        "  * $\\texttt{not in}$ to check if an item is not in the list."
      ],
      "metadata": {
        "id": "b8kqfO3t7kyn"
      }
    },
    {
      "cell_type": "code",
      "source": [
        "# in example\n",
        "prod_nums = [\"V475\",\"F987\",\"Q143\",\"R688\"]\n",
        "\n",
        "search = input(\"Enter the product number: \")\n",
        "\n",
        "if search in prod_nums:\n",
        "  print(search, \"was found in the list.\")\n",
        "else:\n",
        "  print(search, \"was not found in the list.\")"
      ],
      "metadata": {
        "id": "FmpJeCJk8mDh"
      },
      "execution_count": null,
      "outputs": []
    },
    {
      "cell_type": "markdown",
      "source": [
        "## List Operators Summary\n",
        "* $\\texttt{*}$ : a repition operator\n",
        "  * Syntax: $\\texttt{list * n}$\n",
        "  * Creates a new $\\texttt{list}$ which repeats the old $\\texttt{list n}$ times\n",
        "* $\\texttt{+}$ : a concatenation operator\n",
        "  * Syntax: $\\texttt{list1 + list2}$\n",
        "  * Creates a new $\\texttt{list}$ which concatenate the two lists together\n",
        "* $\\texttt{in}$ : finding item in a list\n",
        "  * Syntax: $\\texttt{item in list}$\n",
        "  * returns $\\texttt{True}$ if the item is in the list, $\\texttt{False}$ if it is not in the list.\n",
        "  * $\\texttt{not in}$ to check if an item is not in the list."
      ],
      "metadata": {
        "id": "Nve8BzwZu0Fh"
      }
    },
    {
      "cell_type": "markdown",
      "source": [
        "## List method: $\\texttt{append}$\n",
        "* Method general format: $\\texttt{list.method(params)}$\n",
        "  * Methods modify the list\n",
        "* $\\texttt{append(item)}$: add items to the *end* of the list."
      ],
      "metadata": {
        "id": "HfOSzhRl9ZOD"
      }
    },
    {
      "cell_type": "code",
      "source": [
        "numbers = [1, 2, 3, 4, 5]\n",
        "numbers.append(6)\n",
        "print(numbers)"
      ],
      "metadata": {
        "id": "xxJ3tVaG92St"
      },
      "execution_count": null,
      "outputs": []
    },
    {
      "cell_type": "markdown",
      "source": [
        "## List method: $\\texttt{index}$\n",
        "* $\\texttt{index(item)}$: determine the index of an item in the list.\n",
        "  * the item must be in the list, else $\\texttt{ValueError}$"
      ],
      "metadata": {
        "id": "UE3a_urA-iRT"
      }
    },
    {
      "cell_type": "code",
      "source": [
        "numbers = [1,2,3,4,5]\n",
        "print(numbers.index(3))"
      ],
      "metadata": {
        "id": "z_Q5LHVa-tYG"
      },
      "execution_count": null,
      "outputs": []
    },
    {
      "cell_type": "code",
      "source": [
        "print(numbers.index(7)) # error case"
      ],
      "metadata": {
        "id": "70WklbUM-y5P"
      },
      "execution_count": null,
      "outputs": []
    },
    {
      "cell_type": "markdown",
      "source": [
        "## List Method: $\\texttt{insert}$\n",
        "\n",
        "* $\\texttt{insert(index, item)}$: insert $\\texttt{item}$ at position $\\texttt{index}$ of the list"
      ],
      "metadata": {
        "id": "s1e6XJrJ-2AE"
      }
    },
    {
      "cell_type": "code",
      "source": [
        "numbers = [1, 2, 3, 4, 5]\n",
        "numbers.insert(2, 55)\n",
        "print(numbers)"
      ],
      "metadata": {
        "id": "AmpiRtVQ-7g8"
      },
      "execution_count": null,
      "outputs": []
    },
    {
      "cell_type": "markdown",
      "source": [
        "## List Method: $\\texttt{sort}$\n",
        "\n",
        "* $\\texttt{sort()}$ sort the elements the list in ascending order (lowest to highest)"
      ],
      "metadata": {
        "id": "mrzr8s0q_Dlr"
      }
    },
    {
      "cell_type": "code",
      "source": [
        "numbers = [1,2,3,4,5]\n",
        "numbers.sort()\n",
        "print(numbers)"
      ],
      "metadata": {
        "id": "CQ4ZxEvm_Lv6"
      },
      "execution_count": null,
      "outputs": []
    },
    {
      "cell_type": "markdown",
      "source": [
        "## List Method: $\\texttt{remove}$\n",
        "\n",
        "* $\\texttt{remove(item)}$: removes the first occurance of $\\texttt{item}$ in the list\n",
        "  * Raise $\\texttt{ValueError}$ exception if $\\texttt{item}$ is not in the list"
      ],
      "metadata": {
        "id": "wU7JItFw_QgJ"
      }
    },
    {
      "cell_type": "code",
      "source": [
        "numbers = [1, 2, 3, 4, 5]\n",
        "numbers.remove(2)\n",
        "print(numbers)"
      ],
      "metadata": {
        "id": "YdAZqKIa_lIL"
      },
      "execution_count": null,
      "outputs": []
    },
    {
      "cell_type": "markdown",
      "source": [
        "## List Method: $\\texttt{reverse()}$\n",
        "\n",
        "* $\\texttt{reverse()}$: reverses the order of the elements in the list"
      ],
      "metadata": {
        "id": "baX-8Rti_hCQ"
      }
    },
    {
      "cell_type": "code",
      "source": [
        "numbers = [1,2,3,4,5]\n",
        "numbers.reverse()\n",
        "print(numbers)"
      ],
      "metadata": {
        "id": "GMVUucIW_tVm"
      },
      "execution_count": null,
      "outputs": []
    },
    {
      "cell_type": "markdown",
      "source": [
        "## List Methods Summary\n",
        "* Method general format: $\\texttt{list.method(params)}$\n",
        "  * Methods modify the list\n",
        "* $\\texttt{append(item)}$: add items to the *end* of the list.\n",
        "* $\\texttt{index(item)}$: determine the index of an item in the list.\n",
        "  * the item must be in the list, else $\\texttt{ValueError}$\n",
        "* $\\texttt{insert(index, item)}$: insert $\\texttt{item}$ at position $\\texttt{index}$ of the list\n",
        "* $\\texttt{sort()}$ sort the elements the list in ascending order (lowest to highest)\n",
        "* $\\texttt{remove(item)}$: removes the first occurance of $\\texttt{item}$ in the list\n",
        "  * Raise $\\texttt{ValueError}$ exception if $\\texttt{item}$ is not in the list\n",
        "* $\\texttt{reverse()}$: reverses the order of the elements in the list"
      ],
      "metadata": {
        "id": "jRYtBCYLyBbK"
      }
    },
    {
      "cell_type": "markdown",
      "source": [
        "## $\\texttt{del}$ built-in function\n",
        "* $\\texttt{del}$ statement: removes an element from a specific index in a list\n",
        "* Syntax: $\\texttt{del list[i]}$"
      ],
      "metadata": {
        "id": "k_VaeEx23lB_"
      }
    },
    {
      "cell_type": "code",
      "source": [
        "seq1 = [\"A\",\"B\",\"C\",\"D\",\"E\",\"F\"]\n",
        "\n",
        "del seq1[1]\n",
        "\n",
        "print(seq1)\n",
        "\n",
        "del seq1[-1]\n",
        "\n",
        "print(seq1)"
      ],
      "metadata": {
        "id": "rDvzmzl633LH"
      },
      "execution_count": null,
      "outputs": []
    },
    {
      "cell_type": "markdown",
      "source": [
        "## Useful Built-in functions\n",
        "* $\\texttt{min}$ and $\\texttt{max}$ functions: returns the minimum and maximum values in the list.\n",
        "  * Syntax: $\\texttt{min(list)}$ and $\\texttt{max(list)}$\n",
        "* $\\texttt{sum}$ function: returns the sum of all values in the list\n",
        "  * Syntax: $\\texttt{sum(list)}$"
      ],
      "metadata": {
        "id": "fdLgad6u4F65"
      }
    },
    {
      "cell_type": "code",
      "source": [
        "# max min sum example\n",
        "numbers = [1, 2, 3, 4, 5]\n",
        "\n",
        "print(\"The minimum value is \", min(numbers))\n",
        "print(\"The maximum value is \", max(numbers))\n",
        "print(\"The sum is \", sum(numbers))"
      ],
      "metadata": {
        "id": "PA_o86jm4eOk"
      },
      "execution_count": null,
      "outputs": []
    },
    {
      "cell_type": "markdown",
      "source": [
        "## List Referencing\n",
        "\n",
        "* Consider a case when you create a list and assign it to a variable. <br> $\\texttt{list1 = [1,2,3,4]}$\n",
        "\n",
        "* When you assign a list to another variable, the new variable will <br> point to the same list in the memory.\n",
        "<br> $\\texttt{list2 = list1}$\n",
        "* The assignment just copies the reference to the list, not the actual list.\n",
        "<br><br>\n",
        "\n",
        "&emsp;&emsp;&emsp;&emsp;&emsp;![function1.png](https://drive.google.com/uc?export=view&id=1O7Us32iHPMdx6-nSOTnh1EP7xKHDYX-n)\n"
      ],
      "metadata": {
        "id": "FYKrqUsg_7lN"
      }
    },
    {
      "cell_type": "code",
      "source": [
        "# List referencing\n",
        "list1 = [1,2,3,4]\n",
        "list2 = list1\n",
        "print(f\"Before: list1 = {list1}, list2 = {list2}\")\n",
        "\n",
        "list1[1] = 0\n",
        "\n",
        "print(f\"After: list1 = {list1}, list2 = {list2}\") # both change"
      ],
      "metadata": {
        "id": "FUe0OMhwCx1k"
      },
      "execution_count": null,
      "outputs": []
    },
    {
      "cell_type": "markdown",
      "source": [
        "## Copying lists\n",
        "\n",
        "* To make a copy of a list you must copy each element of the list\n",
        "\n",
        "* Two methods to do this:\n",
        "  * Creating a new empty list and using a for loop to add a copy of <br> each  element from the original list to the new list\n",
        "  * Creating a new empty list and concatenating the old list to the new empty list\n",
        "\n"
      ],
      "metadata": {
        "id": "9FlAr92FDTxd"
      }
    },
    {
      "cell_type": "code",
      "source": [
        "# Copy method 1:\n",
        "## create a new empty list and loop to add the old list into it\n",
        "# old list\n",
        "list1 = [1, 2, 3, 4]\n",
        "\n",
        "# new list\n",
        "list2 = []\n",
        "\n",
        "for item in list1:\n",
        "  list2.append(item)\n",
        "\n",
        "## copy test\n",
        "list1[0] = 0\n",
        "print(f\"list1 = {list1}, list2 = {list2}\")"
      ],
      "metadata": {
        "id": "u3CIQ-hlDtf8"
      },
      "execution_count": null,
      "outputs": []
    },
    {
      "cell_type": "code",
      "source": [
        "# Copy method 2:\n",
        "## create a new empty list and concate the old list\n",
        "# old list\n",
        "list1 = [1, 2, 3, 4]\n",
        "\n",
        "# new list\n",
        "list2 = [] + list1\n",
        "\n",
        "## copy test\n",
        "list1[0] = 0\n",
        "print(f\"list1 = {list1}, list2 = {list2}\")"
      ],
      "metadata": {
        "id": "wGn-ZinWEN3Y"
      },
      "execution_count": null,
      "outputs": []
    },
    {
      "cell_type": "markdown",
      "source": [
        "## Pass by reference\n",
        "* Recap: when you assign a list to a new variable, it only assigns the <br> reference to the list and does not create a new list.\n",
        "\n",
        "* The main reason is because list is mutable.\n",
        "\n",
        "* This behavior is the same when you pass a list to a function.\n",
        "\n",
        "* This mean when the function manipulate the list, it will change the list <br> like a global variable."
      ],
      "metadata": {
        "id": "IsNIJ79vFd5b"
      }
    },
    {
      "cell_type": "code",
      "source": [
        "# pass by reference\n",
        "\n",
        "def change_list(nums):\n",
        "  nums[0] = -1\n",
        "\n",
        "our_list = [1,2,3,4]\n",
        "\n",
        "change_list(our_list)\n",
        "print(our_list)"
      ],
      "metadata": {
        "id": "mg9IlDY7GQMB"
      },
      "execution_count": null,
      "outputs": []
    },
    {
      "cell_type": "markdown",
      "source": [
        "## Two-dimensional lists\n",
        "\n",
        "* The items in the list can be other lists.\n",
        "* **Two-dimensional list**: a list that contains other lists as its elements\n",
        "  * Common to think of two-dimensional lists as having rows and columns\n",
        "  * Useful for working with multiple sets of data\n",
        "* To process data in a two-dimensional list need to use two indexes\n",
        "* Typically use nested loops to process"
      ],
      "metadata": {
        "id": "-fKtyloJG_MB"
      }
    },
    {
      "cell_type": "code",
      "source": [
        "# 2d-list ex1:\n",
        "students = [[\"Joe\",\"Kim\"],[\"Sam\",\"Sue\"],[\"Kelly\",\"Chris\"]]\n",
        "print(students)\n",
        "print(students[0])\n",
        "print(students[0][1], students[0][0])"
      ],
      "metadata": {
        "id": "YrYXdubcHvwa"
      },
      "execution_count": null,
      "outputs": []
    },
    {
      "cell_type": "code",
      "source": [
        "# 2d-list ex2:\n",
        "\n",
        "## create a 2d board\n",
        "board = [[1, 2, 3],\n",
        "         [4, 5, 6],\n",
        "         [7, 8, 9]]\n",
        "\n",
        "for i in range(len(board)):\n",
        "  for j in range(len(board[i])):\n",
        "    board[i][j] = board[i][j]**2\n",
        "\n",
        "print(board)"
      ],
      "metadata": {
        "id": "pIKbSoBqID-z"
      },
      "execution_count": null,
      "outputs": []
    },
    {
      "cell_type": "markdown",
      "source": [
        "## List summary\n",
        "* $\\texttt{list}$ is a mutable sequence\n",
        "* $\\texttt{list}$ construction $\\texttt{[item1, item2, item3]}$\n",
        "* list functions and operators: $\\texttt{len, *, +, in}$\n",
        "* list methods: $\\texttt{append, remove, insert, reverse, sort, del}$\n",
        "* list referencing (copy and pass by reference)\n",
        "* Two-dimension lists"
      ],
      "metadata": {
        "id": "da3C2XmYTsz-"
      }
    },
    {
      "cell_type": "code",
      "source": [
        "# list ex#1\n",
        "## Program to collect names and output some info\n",
        "\n",
        "def main():\n",
        "  name_list = []\n",
        "\n",
        "  # Create a variable to control the loop\n",
        "  again = 'y'\n",
        "\n",
        "  while again == 'y':\n",
        "    # get the name from the user\n",
        "    name = input(\"Enter a name: \")\n",
        "\n",
        "    # Append the name to the list\n",
        "    name_list.append(name)\n",
        "\n",
        "    print(\"Do you want to add another name?\")\n",
        "    again = input(\"y = yes, anything else = no: \")\n",
        "    print()\n",
        "\n",
        "  ## printing information\n",
        "  print(\"You entered\", len(name_list), \"names.\")\n",
        "  print(\"Here are the names sorted alphatically.\")\n",
        "  name_list.sort()\n",
        "  for name in name_list:\n",
        "    print(name)\n",
        "\n",
        "main()"
      ],
      "metadata": {
        "id": "CX3apJLYL0wx"
      },
      "execution_count": null,
      "outputs": []
    },
    {
      "cell_type": "code",
      "source": [
        "21# list ex#2\n",
        "## Calculate gross pay for all employee\n",
        "\n",
        "NUM_EMPLOYEE = 3\n",
        "\n",
        "def main():\n",
        "  hours = [0] * NUM_EMPLOYEE\n",
        "\n",
        "  for index in range(NUM_EMPLOYEE):\n",
        "    print(f\"Enter the hours worked by employee {index+1} :\")\n",
        "    hours[index] = float(input())\n",
        "\n",
        "  # Get the hourly pay rate.\n",
        "  pay_rate = float(input(\"Enter the hourly pay rate: \"))\n",
        "\n",
        "  # Display each employee's gross pay\n",
        "  for index in range(NUM_EMPLOYEE):\n",
        "    gross_pay = hours[index] * pay_rate\n",
        "    print(f\"Gross pay for employee {index+1}: {gross_pay:.2f}\")\n",
        "\n",
        "main()"
      ],
      "metadata": {
        "id": "HWX58RXCL3G5"
      },
      "execution_count": null,
      "outputs": []
    },
    {
      "cell_type": "markdown",
      "source": [
        "## Tuples\n",
        "\n",
        "* Tuple: an immutable sequence\n",
        "* Very similar to a list\n",
        "* Once it is created it cannot be changed\n",
        "* Syntax: $\\texttt{tuple_name = (item1, item2)}$\n",
        "* Tuples support operations as lists\n",
        "  * Subscript indexing for retrieving elements\n",
        "  * Methods such as index\n",
        "  * Built in functions such as $\\texttt{len}$, $\\texttt{min}$, $\\texttt{max}$, $\\texttt{sum}$\n",
        "  * Slicing expressions\n",
        "  * The $\\texttt{in}$, $\\texttt{+}$, and $\\texttt{*}$ operators"
      ],
      "metadata": {
        "id": "1-pM2UxRJfLE"
      }
    },
    {
      "cell_type": "code",
      "source": [
        "# Tuple ex1:\n",
        "my_tuple = (1, 2, 3, 4, 5)\n",
        "print(my_tuple)\n",
        "print(my_tuple[0])\n",
        "print(my_tuple[::2])"
      ],
      "metadata": {
        "id": "nA5saU8oJ7Jj"
      },
      "execution_count": null,
      "outputs": []
    },
    {
      "cell_type": "code",
      "source": [
        "# Tuple ex2:\n",
        "## both types of for loop work\n",
        "names = (\"Holly\",\"Warren\",\"Ashley\")\n",
        "\n",
        "for n in names:\n",
        "  print(n)\n",
        "print(\"------\")\n",
        "for i in range(len(names)):\n",
        "  print(names[i])"
      ],
      "metadata": {
        "id": "SV3L_xaOKVMn"
      },
      "execution_count": null,
      "outputs": []
    },
    {
      "cell_type": "markdown",
      "source": [
        "## Tuples are immutable\n",
        "* Tuples do not support the methods:\n",
        "  * $\\texttt{append}$\n",
        "  * $\\texttt{remove}$\n",
        "  * $\\texttt{insert}$\n",
        "  * $\\texttt{reverse}$\n",
        "  * $\\texttt{sort}$\n",
        "* Tuples do not support $\\texttt{del}$ statement"
      ],
      "metadata": {
        "id": "aO9fGqASJ73D"
      }
    },
    {
      "cell_type": "markdown",
      "source": [
        "## Advantage of using tuples\n",
        "* Faster\n",
        "* Safer\n",
        "* Some operations in Python require use of tuples."
      ],
      "metadata": {
        "id": "Ou_6OnXpKzER"
      }
    },
    {
      "cell_type": "markdown",
      "source": [
        "## Conversion\n",
        "\n",
        "* $\\texttt{list()}$ function: converts tuple to list\n",
        "* $\\texttt{tuple()}$ function: converts list to tuple\n",
        "* They work with range too.\n",
        "* Both methods create a new list/tuple.\n",
        "  * can be used to copy list too."
      ],
      "metadata": {
        "id": "jVrYRCsnKWpN"
      }
    },
    {
      "cell_type": "code",
      "source": [
        "# conversion ex1\n",
        "list1 = [1, 2, 3, 4]\n",
        "tuple1 = (\"A\", \"B\", \"C\", \"D\")\n",
        "\n",
        "print(f\"list1 = {list1}, tuple1 = {tuple1}\")\n",
        "\n",
        "list2 = list(tuple1)\n",
        "tuple2 = tuple(list1)\n",
        "\n",
        "print(f\"list2 = {list2}, tuple2 = {tuple2}\")"
      ],
      "metadata": {
        "id": "DkLOw_wTLKoR"
      },
      "execution_count": null,
      "outputs": []
    },
    {
      "cell_type": "code",
      "source": [
        "# range to list and tuple\n",
        "\n",
        "list_range1 = list(range(5))\n",
        "tuple_range1 = tuple(range(5))\n",
        "\n",
        "print(list_range1)\n",
        "print(tuple_range1)"
      ],
      "metadata": {
        "id": "AUlRK1YbLpIa"
      },
      "execution_count": null,
      "outputs": []
    },
    {
      "cell_type": "markdown",
      "source": [
        "## Summary\n",
        "* $\\texttt{list}$ is a mutable sequence\n",
        "* $\\texttt{list}$ construction $\\texttt{[item1, item2, item3]}$\n",
        "* list functions and operators: $\\texttt{len, *, +, in}$\n",
        "* list methods: $\\texttt{append, remove, insert, reverse, sort, del}$\n",
        "* list referencing (copy and pass by reference)\n",
        "* Two-dimension lists\n",
        "* $\\texttt{tuple}$ is an unmutable sequence.\n",
        "* $\\texttt{tuple}$ construction $\\texttt{(item1, item2, item3)}$\n",
        "* Tuples do not support mutable methods.\n",
        "* Conversion using $\\texttt{list()}$ and $\\texttt{tuple()}$"
      ],
      "metadata": {
        "id": "ai-CaLTLpQzm"
      }
    }
  ]
}