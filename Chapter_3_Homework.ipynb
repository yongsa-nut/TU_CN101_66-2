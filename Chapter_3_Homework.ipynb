{
  "nbformat": 4,
  "nbformat_minor": 0,
  "metadata": {
    "colab": {
      "provenance": [],
      "authorship_tag": "ABX9TyOQQdV3UvLP1sLr+pukrUUT",
      "include_colab_link": true
    },
    "kernelspec": {
      "name": "python3",
      "display_name": "Python 3"
    },
    "language_info": {
      "name": "python"
    }
  },
  "cells": [
    {
      "cell_type": "markdown",
      "metadata": {
        "id": "view-in-github",
        "colab_type": "text"
      },
      "source": [
        "<a href=\"https://colab.research.google.com/github/yongsa-nut/TU_Intro_Prog/blob/main/Chapter_3_Homework.ipynb\" target=\"_parent\"><img src=\"https://colab.research.google.com/assets/colab-badge.svg\" alt=\"Open In Colab\"/></a>"
      ]
    },
    {
      "cell_type": "markdown",
      "source": [
        "# Chapter 3 Homework\n",
        "\n",
        "**Deadline**:\n",
        " * 820002: Febuary 4th 2024, 23:59.\n",
        " * 320001 and 750003: Febuary 8th 2024, 23:59."
      ],
      "metadata": {
        "id": "74-OBHlBoAEL"
      }
    },
    {
      "cell_type": "markdown",
      "source": [
        "**Q1** Maximum of the three\n",
        "\n",
        "Fill in the function below to return the number with the highest value.\n",
        "\n",
        "**Input**:\n",
        "x, y, z are integer.\n",
        "\n",
        "**Output**: An integer.\n",
        "\n",
        "example:\n",
        "```\n",
        "maximum(x = 10, y = 5, z = 8)\n",
        "y\n",
        "```"
      ],
      "metadata": {
        "id": "Xw6YJFO928CX"
      }
    },
    {
      "cell_type": "code",
      "source": [
        "def maximum(x, y, z):\n",
        "  ## Fill in your code below\n",
        "  ## Your code must set the max_value to the highest value among the three\n",
        "  max_value = None\n",
        "\n",
        "  return max_value"
      ],
      "metadata": {
        "id": "J1xZqNS927q3"
      },
      "execution_count": null,
      "outputs": []
    },
    {
      "cell_type": "code",
      "execution_count": null,
      "metadata": {
        "id": "DKHunSBi7prr"
      },
      "outputs": [],
      "source": [
        "## Test cases. DO NOT CHANGE.\n",
        "q1_pass = False\n",
        "assert maximum(x = 10, y = 5, z = 8) == 10, f\"Expect 10, Got {maximum(x = 10, y = 5, z = 8)}\"\n",
        "assert maximum(x = -1, y = 5.5, z = 2) == 5.5, f\"Expect 5.5, Got {maximum(x = -1, y = 5.5, z = 2)}\"\n",
        "assert maximum(x = 10, y = -5, z = 800) == 800, f\"Expect 800, Got {maximum(x = 10, y = -5, z = 800)}\"\n",
        "assert maximum(x = 10, y = 10, z = 10) == 10, f\"Expect 800, Got {maximum(x = 10, y = -5, z = 800)}\"\n",
        "print(\"All test cases passed.\")\n",
        "q1_pass = True"
      ]
    },
    {
      "cell_type": "markdown",
      "source": [
        "**Q2** Quantity Discount\n",
        "\n",
        "A software company sells a package that retails for $99. Quantity discounts are given according as follows.\n",
        "\n",
        "* 10 - 19:  10% Discount.\n",
        "* 20 - 49:  20% Discount.\n",
        "* 50 - 99:  30% Discount.\n",
        "* 100 or more: 40% Discount.\n",
        "\n",
        "Fill in the function below which takes in one number and returns the cost after the discount (if any)\n",
        "\n",
        "**Input**: an interger greater than or equal to 0.\n",
        "\n",
        "**Output**: the total discounted cost.\n",
        "\n",
        "Example\n",
        "```\n",
        "discount(n = 10)\n",
        "891.0\n",
        "```\n",
        "Explanation: Initial cost 990. 10% discount. Result = 891.0"
      ],
      "metadata": {
        "id": "bEXOQs8Z_Fz9"
      }
    },
    {
      "cell_type": "code",
      "source": [
        "def discount(n):\n",
        "  price = 99\n",
        "  ## Change the code below\n",
        "  total_cost = None\n",
        "\n",
        "\n",
        "  return total_cost"
      ],
      "metadata": {
        "id": "D8MqUJS1APR1"
      },
      "execution_count": null,
      "outputs": []
    },
    {
      "cell_type": "code",
      "source": [
        "## Test cases. DO NOT CHANGE.\n",
        "q2_pass = False\n",
        "assert discount(n=1) == 99, f\"Expect 99, Got {discount(n=1)}\"\n",
        "assert discount(n=10) == 891.0, f\"Expect 891.0, Got {discount(n=10)}\"\n",
        "assert discount(n=20) == 1584.0, f\"Expect 1584.0, Got {discount(n=20)}\"\n",
        "assert discount(n=50) == 3465.0, f\"Expect 3465.0, Got {discount(n=50)}\"\n",
        "assert discount(n=100) == 5940.0, f\"Expect 5940.0, Got {discount(n=100)}\"\n",
        "print(\"All test cases passed.\")\n",
        "q2_pass = True"
      ],
      "metadata": {
        "id": "77UPs8o7AZ70"
      },
      "execution_count": null,
      "outputs": []
    },
    {
      "cell_type": "markdown",
      "source": [
        "**Q3** Grading System\n",
        "You are tasked with calculating the test grade. Your program will take in 3 test scores. <br> Each test ranges between 0 and 100. The grading system works as follow. First you drop the lowest score. <br> Then you calculate the average of the remaining two. Then the grading rubric is as follows.\n",
        "\n",
        "* Score <= 50 is F.\n",
        "* 51 <= Score <= 60 is D.\n",
        "* 61 <= Score <= 70 is C.\n",
        "* 71 <= Score <= 80 is B.\n",
        "* Score > 80 is A.\n",
        "\n",
        "**Input**: three test scores between 0 and 100.\n",
        "\n",
        "**Output**: one character.\n",
        "\n",
        "example\n",
        "```\n",
        "100, 50, 0\n",
        "B\n",
        "```\n",
        "Explanation: 0 got dropped. Average = 75.0 so the grade is B."
      ],
      "metadata": {
        "id": "wK0xVb_rB3b5"
      }
    },
    {
      "cell_type": "code",
      "source": [
        "def grading(first_test, second_test, third_test):\n",
        "  ## Fill in your code below\n",
        "  grade = None\n",
        "\n",
        "  return grade"
      ],
      "metadata": {
        "id": "4eAPTsc1GSNq"
      },
      "execution_count": null,
      "outputs": []
    },
    {
      "cell_type": "code",
      "source": [
        "## Test cases. DO NOT CHANGE.\n",
        "q3_pass = False\n",
        "assert grading(first_test = 50, second_test = 60, third_test = 70) == \"C\", f\"Expect C, Got {grading(first_test = 50, second_test = 60, third_test = 70)}\"\n",
        "assert grading(first_test = 40, second_test = 40, third_test = 40) == \"F\", f\"Expect F, Got {grading(first_test = 40, second_test = 40, third_test = 40)}\"\n",
        "assert grading(first_test = 50, second_test = 50, third_test = 100) == \"B\", f\"Expect B, Got{grading(first_test = 50, second_test = 50, third_test = 100)}\"\n",
        "assert grading(first_test = 100, second_test = 100, third_test = 100) == \"A\", f\"Expect A, Got {grading(first_test = 100, second_test = 100, third_test = 100)}\"\n",
        "assert grading(first_test = 30, second_test = 50, third_test = 55) == \"D\", f\"Expect D, Got {grading(first_test = 30, second_test = 50, third_test = 55)}\"\n",
        "q3_pass = True\n",
        "print(\"All test cases passed.\")"
      ],
      "metadata": {
        "id": "v1lpxcREGhxF"
      },
      "execution_count": null,
      "outputs": []
    },
    {
      "cell_type": "markdown",
      "source": [
        "**Q4** Math and if else\n",
        "Fill in a simple function below which takes one number and then does the following:\n",
        "* If the number is even and greater than 10, add one to it.\n",
        "* If the number is odd and greater than 15, subtract one to it.\n",
        "\n",
        "Afterward, use the number to calculater the following equation:\n",
        "$\\frac{number^2}{5} + 1$\n",
        "\n",
        "**Input**: interger >= 0\n",
        "\n",
        "**Output**: one number\n",
        "\n",
        "Example:\n",
        "```\n",
        "math_ifelse(number = 1)\n",
        "1.2\n",
        "```\n",
        "Explanation: after the conditions, the number is still 1. Putting it in the equaion and you get $\\frac{1^2}{5} + 1 = 1.2$\n",
        "```\n",
        "math_ifelse(number = 12)\n",
        "34.8\n",
        "```\n",
        "Explnation: after the conditions, the number is now 13, Putting it in the equation and you get $\\frac{13^2}{5} + 1 = 34.8$"
      ],
      "metadata": {
        "id": "zy-L1AI6IU2Q"
      }
    },
    {
      "cell_type": "code",
      "source": [
        "def math_ifelse(number):\n",
        "  ## Fill your code below.\n",
        "  result = None\n",
        "\n",
        "  return result"
      ],
      "metadata": {
        "id": "DlVjJp5AOkWN"
      },
      "execution_count": null,
      "outputs": []
    },
    {
      "cell_type": "code",
      "source": [
        "## Test cases. DO NOT CHANGE.\n",
        "q4_pass = False\n",
        "assert math_ifelse(number = 1) == 1.2, f\"Expect 1.2, Got {math_ifelse(number = 1)}\"\n",
        "assert math_ifelse(number = 12) == 34.8, f\"Expect 34.8, Got {math_ifelse(number = 12)}\"\n",
        "assert math_ifelse(number = 15) == 46.0, f\"Expect 46.0, Got {math_ifelse(number = 15)}\"\n",
        "assert math_ifelse(number = 17) == 52.2,  f\"Expect 52.2 Got {math_ifelse(number = 17)}\"\n",
        "print(\"All test cases passed.\")\n",
        "q4_pass = True"
      ],
      "metadata": {
        "id": "3kO3-aJoOvWF"
      },
      "execution_count": null,
      "outputs": []
    },
    {
      "cell_type": "markdown",
      "source": [
        "**Q5** bonus_rate\n",
        "\n",
        "Fill in the function below to determine the bonus rate based on two criteria: years with the company and days on leave\n",
        "\n",
        "| Years with the company | Days on leave | Bonus rate |\n",
        "| :----------------------| :------------ | :--------- |\n",
        "| less than 2            | greater than 10          | 0          |\n",
        "| less than 2            | less than or equal to 10  | 0.5       |\n",
        "| at least 2             | greater than 10  | 0.8    |\n",
        "| at least 2             | less than or equal to 10 | 1.5   |\n",
        "\n",
        "**Input**: Two integer numbers\n",
        "\n",
        "**Output**: One number for the bonus rate\n",
        "\n",
        "Example\n",
        "```\n",
        "bonus_rate(years_with_company = 2, days_on_leave = 8)\n",
        "1.5\n",
        "```\n",
        "\n",
        "```\n",
        "bonus_rate(years_with_company = 1, days_on_leave = 30)\n",
        "0\n",
        "```"
      ],
      "metadata": {
        "id": "Cjx2EtaFIQZk"
      }
    },
    {
      "cell_type": "code",
      "source": [
        "def bonus_rate(years_with_company, days_on_leave):\n",
        "  ## Fill in your code below\n",
        "  rate = None\n",
        "\n",
        "  return rate"
      ],
      "metadata": {
        "id": "P6l-RonNWuL8"
      },
      "execution_count": null,
      "outputs": []
    },
    {
      "cell_type": "code",
      "source": [
        "## Test cases. DO NOT CHANGE!\n",
        "q5_pass = False\n",
        "assert(bonus_rate(years_with_company = 2, days_on_leave = 8) == 1.5), f\"Expect 1.5, Got {bonus_rate(years_with_company = 2, days_on_leave = 8)}\"\n",
        "assert(bonus_rate(years_with_company = 3, days_on_leave = 12) == 0.8), f\"Expect 0.8, Got {bonus_rate(years_with_company = 3, days_on_leave = 12)}\"\n",
        "assert(bonus_rate(years_with_company = 1, days_on_leave = 8) == 0.5), f\"Expect 0.5, Got {bonus_rate(years_with_company = 1, days_on_leave = 8)}\"\n",
        "assert(bonus_rate(years_with_company = 1, days_on_leave = 30) == 0), f\"Expect 0 Got {bonus_rate(years_with_company = 1, days_on_leave = 30)}\"\n",
        "print(\"All test cases passed.\")\n",
        "q5_pass =True"
      ],
      "metadata": {
        "id": "IRA_bF0yW3Qn"
      },
      "execution_count": null,
      "outputs": []
    },
    {
      "cell_type": "markdown",
      "source": [
        "\n",
        "\n",
        "---\n",
        "\n"
      ],
      "metadata": {
        "id": "igjNeBwlYVEk"
      }
    },
    {
      "cell_type": "code",
      "source": [
        "# Ctrl + F9 to run all\n",
        "print(f\"Score: {q1_pass + q2_pass + q3_pass + q4_pass + q5_pass}\")"
      ],
      "metadata": {
        "id": "ZnS65YvDYX98"
      },
      "execution_count": null,
      "outputs": []
    },
    {
      "cell_type": "markdown",
      "source": [
        "## Submission:\n",
        "\n",
        "* File > Download > Download.ipynb\n",
        "* Upload to Microsoft Team"
      ],
      "metadata": {
        "id": "0k7OjYwEgDNI"
      }
    }
  ]
}