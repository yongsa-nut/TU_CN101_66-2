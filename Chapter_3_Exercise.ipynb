{
  "nbformat": 4,
  "nbformat_minor": 0,
  "metadata": {
    "colab": {
      "provenance": [],
      "authorship_tag": "ABX9TyO4H8Rh/wNcG1lkhIeSUVw8",
      "include_colab_link": true
    },
    "kernelspec": {
      "name": "python3",
      "display_name": "Python 3"
    },
    "language_info": {
      "name": "python"
    }
  },
  "cells": [
    {
      "cell_type": "markdown",
      "metadata": {
        "id": "view-in-github",
        "colab_type": "text"
      },
      "source": [
        "<a href=\"https://colab.research.google.com/github/yongsa-nut/TU_Intro_Prog/blob/main/Chapter_3_Exercise.ipynb\" target=\"_parent\"><img src=\"https://colab.research.google.com/assets/colab-badge.svg\" alt=\"Open In Colab\"/></a>"
      ]
    },
    {
      "cell_type": "markdown",
      "source": [
        "**Q1**: What will the following code output?\n",
        "```\n",
        "x = 5\n",
        "y = 7\n",
        "if (x*2) > y:\n",
        "  print(\"Greater\")\n",
        "print(\"Done\")\n",
        "```"
      ],
      "metadata": {
        "id": "Fv9-OK31kh3S"
      }
    },
    {
      "cell_type": "code",
      "execution_count": null,
      "metadata": {
        "id": "KPe-ZydKdcZR"
      },
      "outputs": [],
      "source": []
    },
    {
      "cell_type": "markdown",
      "source": [
        "**Q2**: What will the following code print out?\n",
        "\n",
        "```\n",
        "x = 20\n",
        "y = 12\n",
        "print(f\"{x > y}, {x < y}, {x == y}, {x != y}\")\n",
        "```"
      ],
      "metadata": {
        "id": "KgNo3hXGmPl2"
      }
    },
    {
      "cell_type": "code",
      "source": [],
      "metadata": {
        "id": "k_N2niCsn9Pd"
      },
      "execution_count": null,
      "outputs": []
    },
    {
      "cell_type": "markdown",
      "source": [
        "**Q3**: What will the following code print out?\n",
        "\n",
        "```\n",
        "a = 30\n",
        "b = 20\n",
        "c = 40\n",
        "print((a != b) or (b > c))\n",
        "print((c > b) and (a > b))\n",
        "print((a <= b) or (c >= b) or (a == c))\n",
        "```"
      ],
      "metadata": {
        "id": "jzq2B1Pgn9cw"
      }
    },
    {
      "cell_type": "code",
      "source": [
        "\n",
        "\n"
      ],
      "metadata": {
        "id": "QSeOve0poJAh"
      },
      "execution_count": null,
      "outputs": []
    },
    {
      "cell_type": "markdown",
      "source": [
        "**Q4**: The following code below has an error. Fix it.\n",
        "\n",
        "```\n",
        "my_age = 30\n",
        "your_age = 25\n",
        "\n",
        "if my_age =< your_age:\n",
        "  print(\"I'm younger\")\n",
        "else:\n",
        "  print(\"I'm older.\")\n",
        "```"
      ],
      "metadata": {
        "id": "VkzLeDBVpRCI"
      }
    },
    {
      "cell_type": "code",
      "source": [],
      "metadata": {
        "id": "Yxwx33OGpjD8"
      },
      "execution_count": null,
      "outputs": []
    },
    {
      "cell_type": "markdown",
      "source": [
        "**Q5**: What will the following code print out?\n",
        "\n",
        "```\n",
        "my_string = \"Hello World!\"\n",
        "your_string = \"Hello Anna!\"\n",
        "\n",
        "print(my_string > your_string)\n",
        "```"
      ],
      "metadata": {
        "id": "MTGtxvY2prs7"
      }
    },
    {
      "cell_type": "code",
      "source": [],
      "metadata": {
        "id": "xrqExAkjqywD"
      },
      "execution_count": null,
      "outputs": []
    },
    {
      "cell_type": "markdown",
      "source": [
        "**Q6**: What will the followign code print out?\n",
        "\n",
        "```\n",
        "x = 30\n",
        "if x > 50:\n",
        "  print(\"A\")\n",
        "elif x > 40:\n",
        " print(\"B\")\n",
        "elif x > 30:\n",
        " print(\"C\")\n",
        "else:\n",
        " print(\"D\")\n",
        "```"
      ],
      "metadata": {
        "id": "RCkogwNIqyQN"
      }
    },
    {
      "cell_type": "code",
      "source": [],
      "metadata": {
        "id": "H2_2XPg6rU4t"
      },
      "execution_count": null,
      "outputs": []
    },
    {
      "cell_type": "markdown",
      "source": [
        "**Q7**: Fill in the blank so that the code print out \"Second\"\n",
        "\n",
        "```\n",
        "x = 15\n",
        "y = x\n",
        "if x _ y:\n",
        "  print(\"First\")\n",
        "else:\n",
        "  print(\"Second\")\n",
        "```"
      ],
      "metadata": {
        "id": "3HUixKa-rVGc"
      }
    },
    {
      "cell_type": "code",
      "source": [],
      "metadata": {
        "id": "eFDY-19vrvCb"
      },
      "execution_count": null,
      "outputs": []
    },
    {
      "cell_type": "markdown",
      "source": [
        "**Q8**: What will the following code print out?\n",
        "```\n",
        "score = 91\n",
        "if score > 90:\n",
        "  print(\"A\")\n",
        "if score > 80:\n",
        "  print(\"B\")\n",
        "if score > 70:\n",
        "  print(\"C\")\n",
        "else:\n",
        "  print(\"D\")\n",
        "```"
      ],
      "metadata": {
        "id": "scS2l4rKsZRT"
      }
    },
    {
      "cell_type": "code",
      "source": [
        "\n",
        "\n"
      ],
      "metadata": {
        "id": "lKd-CdSYsqLh"
      },
      "execution_count": null,
      "outputs": []
    },
    {
      "cell_type": "markdown",
      "source": [
        "**Q9**: Fizz Buzz\n",
        "\n",
        "Write a program that receives a number input from the user.\n",
        "* print \"FizzBuzz\" if the number is divisble by 3 and 5.\n",
        "* print \"Fizz\" if the number is divisible by 3.\n",
        "* print \"Buzz\" if the number is divisible by 5.\n",
        "* print \"\" if  none of the above conditions are true.\n",
        "\n",
        "example\n",
        "```\n",
        "Enter the number: 3\n",
        "Fizz\n",
        "```\n",
        "```\n",
        "Enter the number: 30\n",
        "FizzBuzz\n",
        "```"
      ],
      "metadata": {
        "id": "L3FM4291stKH"
      }
    },
    {
      "cell_type": "code",
      "source": [
        "\n",
        "\n",
        "\n",
        "\n",
        "\n",
        "\n",
        "\n",
        "\n",
        "\n",
        "\n",
        "\n",
        "\n"
      ],
      "metadata": {
        "id": "z6YwsRa7bLYD"
      },
      "execution_count": null,
      "outputs": []
    },
    {
      "cell_type": "markdown",
      "source": [
        "**Q10**: Check character\n",
        "\n",
        "Write a program that receives one character input from the user and then output as follow.\n",
        "\n",
        "* If the character is a lower case engligh letter, print \"is a lowercase letter\"\n",
        "* If the character is a upper case english letter, print \"is an uppercase letter\"\n",
        "* If none of the above conditions are true, print \"not an letter.\"\n",
        "\n",
        "Only use the things we have learned so far in this class.\n",
        "\n",
        "example:\n",
        "```\n",
        "Enter a character: A\n",
        "A is an uppercase letter.\n",
        "```\n",
        "```\n",
        "Enter a character: b\n",
        "b is a lowercase letter.\n",
        "```\n",
        "```\n",
        "Enter a character: 1\n",
        "1 is not a letter.\n",
        "```"
      ],
      "metadata": {
        "id": "884DUKTytxf7"
      }
    },
    {
      "cell_type": "code",
      "source": [
        "\n",
        "\n",
        "\n",
        "\n",
        "\n",
        "\n",
        "\n",
        "\n",
        "\n",
        "\n",
        "\n",
        "\n",
        "\n"
      ],
      "metadata": {
        "id": "fiufmCwqbMTI"
      },
      "execution_count": null,
      "outputs": []
    }
  ]
}