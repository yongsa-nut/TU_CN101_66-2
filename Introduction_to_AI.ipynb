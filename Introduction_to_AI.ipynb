{
  "nbformat": 4,
  "nbformat_minor": 0,
  "metadata": {
    "colab": {
      "provenance": [],
      "authorship_tag": "ABX9TyOhUR1170RCCMOAZIX+XG6S",
      "include_colab_link": true
    },
    "kernelspec": {
      "name": "python3",
      "display_name": "Python 3"
    },
    "language_info": {
      "name": "python"
    }
  },
  "cells": [
    {
      "cell_type": "markdown",
      "metadata": {
        "id": "view-in-github",
        "colab_type": "text"
      },
      "source": [
        "<a href=\"https://colab.research.google.com/github/yongsa-nut/TU_Intro_Prog/blob/main/Introduction_to_AI.ipynb\" target=\"_parent\"><img src=\"https://colab.research.google.com/assets/colab-badge.svg\" alt=\"Open In Colab\"/></a>"
      ]
    },
    {
      "cell_type": "markdown",
      "source": [
        "# 1) Linear Regression"
      ],
      "metadata": {
        "id": "mK6P0DykJd8M"
      }
    },
    {
      "cell_type": "code",
      "source": [
        "# Live coding\n",
        "\n",
        "\n",
        "\n",
        "\n",
        "\n"
      ],
      "metadata": {
        "id": "02aEvIBoI9Wv"
      },
      "execution_count": null,
      "outputs": []
    },
    {
      "cell_type": "code",
      "execution_count": null,
      "metadata": {
        "id": "pC6JfSrzdrVy",
        "cellView": "form"
      },
      "outputs": [],
      "source": [
        "# @title Hiding\n",
        "import random\n",
        "\n",
        "def gen_simulated_data(true_w, true_b, n=100):\n",
        "  dat = []\n",
        "  for i in range(n):\n",
        "    x = random.gauss(mu = 0, sigma = 1) # random from Normal/Gaussian distribution.\n",
        "    y = true_w*x + true_b + random.gauss(mu = 0, sigma=1)\n",
        "    dat.append((x,y))\n",
        "  return dat\n",
        "\n",
        "def linear_model(w,b,x):\n",
        "  return w*x + b\n",
        "\n",
        "def J(w,b, dat):\n",
        "  err = 0\n",
        "  for d in dat:\n",
        "    y_hat = linear_model(w,b, d[0])\n",
        "    err  += (y_hat - d[1])**2\n",
        "  return err/len(dat)\n",
        "\n",
        "def dJ(w, b, dat):\n",
        "  dw, db = 0,0\n",
        "  for d in dat:\n",
        "    dw += (linear_model(w,b,d[0])-d[1])*d[0]\n",
        "    db += (linear_model(w,b,d[0])-d[1])\n",
        "  return dw/len(dat), db/len(dat)\n",
        "\n",
        "def gradient_descent(dat, alpha = 0.01, T=100):\n",
        "  w, b = 0, 0\n",
        "  for t in range(T):\n",
        "    err = J(w,b, dat)\n",
        "    dw, db = dJ(w,b,dat)\n",
        "    w = w - alpha*dw\n",
        "    b = b - alpha*db\n",
        "    print(f\"Iteration: {t}, Error = {err}, w = {w}, b = {b}.\")\n",
        "\n",
        "dat = gen_simulated_data(1,1)\n",
        "gradient_descent(dat, T=500)"
      ]
    },
    {
      "cell_type": "markdown",
      "source": [
        "# 2) Image Classification with fastai\n",
        "- Adapted from https://www.kaggle.com/code/jhoward/is-it-a-bird-creating-a-model-from-your-own-data"
      ],
      "metadata": {
        "id": "nI0d0m4IITjs"
      }
    },
    {
      "cell_type": "markdown",
      "source": [
        "## 0. Loading stuff"
      ],
      "metadata": {
        "id": "OIvF7eFdTs_o"
      }
    },
    {
      "cell_type": "code",
      "source": [
        "!pip install -Uqq fastai duckduckgo_search\n",
        "!pip install fastbook"
      ],
      "metadata": {
        "id": "6KTWGsEgLpZ8"
      },
      "execution_count": null,
      "outputs": []
    },
    {
      "cell_type": "code",
      "source": [
        "import os\n",
        "from fastbook import *\n",
        "from fastcore.all import *\n",
        "from duckduckgo_search import DDGS\n",
        "\n",
        "# create a function that will take an arbitrary search term and return a list of urls.\n",
        "def search_images(term, max_images=30):\n",
        "  print(f\"Searching for '{term}'\")\n",
        "  # search_images_ddg comes from fastbook: https://github.com/fastai/fastbook/blob/master/utils.py#L45\n",
        "  return search_images_ddg(term, max_images=max_images)\n",
        "\n",
        "\n",
        "def search_images_newdgg(keywords, max_images = 30):\n",
        "    print(f\"Searching for {keywords}\")\n",
        "    return L(DDGS().images(keywords,max_results=max_images)).itemgot('image')"
      ],
      "metadata": {
        "id": "kYI2pk53NEbc"
      },
      "execution_count": null,
      "outputs": []
    },
    {
      "cell_type": "markdown",
      "source": [
        "## 1. Creating our dog-cat dataset\n",
        "\n",
        "Let's start by searching for a dog photo and seeing what kind of result we get. We'll start by getting URLs from a search:"
      ],
      "metadata": {
        "id": "bQpUk1daPf6b"
      }
    },
    {
      "cell_type": "code",
      "source": [
        "urls = search_images('dog photos', max_images=1)\n",
        "urls[0]"
      ],
      "metadata": {
        "id": "HxGC1RGGJcbJ"
      },
      "execution_count": null,
      "outputs": []
    },
    {
      "cell_type": "markdown",
      "source": [
        "...and then download a URL and take a look at it:"
      ],
      "metadata": {
        "id": "4CVWG_3mPd2Z"
      }
    },
    {
      "cell_type": "code",
      "source": [
        "from fastdownload import download_url\n",
        "\n",
        "dest = 'dog.jpg'\n",
        "download_url(urls[0], dest, show_progress=False)\n",
        "\n",
        "from fastai.vision.all import *\n",
        "im = Image.open(dest)\n",
        "im.to_thumb(256,256)"
      ],
      "metadata": {
        "id": "Thc8QHSUPDhe"
      },
      "execution_count": null,
      "outputs": []
    },
    {
      "cell_type": "markdown",
      "source": [
        "Now let's do the same with \"cat photos\":"
      ],
      "metadata": {
        "id": "4yu6VK2BPkZU"
      }
    },
    {
      "cell_type": "code",
      "source": [
        "download_url(search_images('cat photos', max_images=1)[0], 'cat.jpg', show_progress=False)\n",
        "Image.open('cat.jpg').to_thumb(256,256)"
      ],
      "metadata": {
        "id": "rRyXXvHJPH7_"
      },
      "execution_count": null,
      "outputs": []
    },
    {
      "cell_type": "markdown",
      "source": [
        "Our searches seem to be giving reasonable results, so let's grab a few examples of each of \"cat\" and \"dog\" photos, and save each group of photos to a different folder (I'm also trying to grab a range of lighting conditions here):"
      ],
      "metadata": {
        "id": "vpNaM17MPmJP"
      }
    },
    {
      "cell_type": "code",
      "source": [
        "searches = 'cat','dog'\n",
        "path = Path('cat_or_dog')\n",
        "from time import sleep\n",
        "\n",
        "for o in searches:\n",
        "    dest = (path/o)\n",
        "    dest.mkdir(exist_ok=True, parents=True)\n",
        "    download_images(dest, urls=search_images(f'{o} photo'))\n",
        "    sleep(10)  # Pause between searches to avoid over-loading server\n",
        "    download_images(dest, urls=search_images(f'{o} outside photo'))\n",
        "    sleep(10)\n",
        "    download_images(dest, urls=search_images(f'{o} house photo'))\n",
        "    sleep(10)\n",
        "    resize_images(path/o, max_size=400, dest=path/o)"
      ],
      "metadata": {
        "id": "Rk41q5uoPo3f"
      },
      "execution_count": null,
      "outputs": []
    },
    {
      "cell_type": "markdown",
      "source": [
        "## 2. Train our model"
      ],
      "metadata": {
        "id": "_Sw2RUC1P4OV"
      }
    },
    {
      "cell_type": "markdown",
      "source": [
        "Some photos might not download correctly which could cause our model training to fail, so we'll remove them:"
      ],
      "metadata": {
        "id": "KjJZRprzP9RT"
      }
    },
    {
      "cell_type": "code",
      "source": [
        "failed = verify_images(get_image_files(path))\n",
        "failed.map(Path.unlink)\n",
        "len(failed)"
      ],
      "metadata": {
        "colab": {
          "base_uri": "https://localhost:8080/"
        },
        "id": "4sdAYXgwP-u4",
        "outputId": "c2d75cfb-f211-40f3-9b82-695f1b182c19"
      },
      "execution_count": null,
      "outputs": [
        {
          "output_type": "execute_result",
          "data": {
            "text/plain": [
              "2"
            ]
          },
          "metadata": {},
          "execution_count": 38
        }
      ]
    },
    {
      "cell_type": "markdown",
      "source": [
        "To train a model, we'll need DataLoaders, which is an object that contains a training set (the images used to create a model) and a validation set (the images used to check the accuracy of a model -- not used during training). In fastai we can create that easily using a DataBlock, and view sample images from it:"
      ],
      "metadata": {
        "id": "Uk2tDonIP_YL"
      }
    },
    {
      "cell_type": "code",
      "source": [
        "dls = DataBlock(\n",
        "    blocks=(ImageBlock, CategoryBlock),\n",
        "    get_items=get_image_files,\n",
        "    splitter=RandomSplitter(valid_pct=0.2, seed=42),\n",
        "    get_y=parent_label,\n",
        "    item_tfms=[Resize(192, method='squish')]\n",
        ").dataloaders(path, bs=32) #bs = batch size\n",
        "\n",
        "dls.show_batch(max_n=6)"
      ],
      "metadata": {
        "id": "27RMc4T8QCg5"
      },
      "execution_count": null,
      "outputs": []
    },
    {
      "cell_type": "markdown",
      "source": [
        "Here what each of the DataBlock parameters means:\n",
        "\n",
        "```\n",
        "blocks=(ImageBlock, CategoryBlock),\n",
        "```\n",
        "The inputs to our model are images, and the outputs are categories (in this case, \"bird\" or \"forest\").\n",
        "```\n",
        "get_items=get_image_files,\n",
        "```\n",
        "To find all the inputs to our model, run the get_image_files function (which returns a list of all image files in a path).\n",
        "```\n",
        "splitter=RandomSplitter(valid_pct=0.2, seed=42),\n",
        "```\n",
        "Split the data into training and validation sets randomly, using 20% of the data for the validation set.\n",
        "```\n",
        "get_y=parent_label,\n",
        "```\n",
        "The labels (y values) is the name of the parent of each file (i.e. the name of the folder they're in, which will be bird or forest).\n",
        "```\n",
        "item_tfms=[Resize(192, method='squish')]\n",
        "```\n",
        "Before training, resize each image to 192x192 pixels by \"squishing\" it (as opposed to cropping it)."
      ],
      "metadata": {
        "id": "cJ-HD-T_QMDP"
      }
    },
    {
      "cell_type": "markdown",
      "source": [
        "Now we're ready to train our model. The fastest widely used computer vision model is resnet18. You can train this in a few minutes, even on a CPU! (On a GPU, it generally takes under 10 seconds...)\n",
        "\n",
        "fastai comes with a helpful fine_tune() method which automatically uses best practices for fine tuning a pre-trained model, so we'll use that."
      ],
      "metadata": {
        "id": "y4Xkf0CtQaIG"
      }
    },
    {
      "cell_type": "code",
      "source": [
        "learn = vision_learner(dls, resnet18, metrics=error_rate)\n",
        "learn.fine_tune(3)"
      ],
      "metadata": {
        "id": "5jphG4xwQXsr"
      },
      "execution_count": null,
      "outputs": []
    },
    {
      "cell_type": "markdown",
      "source": [
        "## 3. Use our model"
      ],
      "metadata": {
        "id": "_kKW-YU6RlMp"
      }
    },
    {
      "cell_type": "markdown",
      "source": [
        "Let's see what our model thinks about that bird we downloaded at the start:"
      ],
      "metadata": {
        "id": "9OPD7cEoRooI"
      }
    },
    {
      "cell_type": "code",
      "source": [
        "is_cat,_,probs = learn.predict(PILImage.create('cat.jpg'))\n",
        "print(f\"This is a: {is_cat}.\")\n",
        "print(f\"Probability it's a cat: {probs[0]:.4f}\")"
      ],
      "metadata": {
        "id": "YyD7CCulRpFM"
      },
      "execution_count": null,
      "outputs": []
    },
    {
      "cell_type": "markdown",
      "source": [
        "Save the model:"
      ],
      "metadata": {
        "id": "sQ1plYQHSk6P"
      }
    },
    {
      "cell_type": "code",
      "source": [
        "learn.save('is_bird')"
      ],
      "metadata": {
        "id": "z6T1Sta7SnDl"
      },
      "execution_count": null,
      "outputs": []
    },
    {
      "cell_type": "markdown",
      "source": [
        "# 3) Large Language Models"
      ],
      "metadata": {
        "id": "6Q2nvmPcRqQF"
      }
    },
    {
      "cell_type": "markdown",
      "source": [
        "Download anthropic library"
      ],
      "metadata": {
        "id": "nSWWNRw7WtXk"
      }
    },
    {
      "cell_type": "code",
      "source": [
        "!pip install anthropic"
      ],
      "metadata": {
        "id": "CgQsYHpUacc-"
      },
      "execution_count": null,
      "outputs": []
    },
    {
      "cell_type": "markdown",
      "source": [
        "Test the function call based on an example from Anthropic website."
      ],
      "metadata": {
        "id": "AiVhOSnCWxcr"
      }
    },
    {
      "cell_type": "code",
      "source": [
        "import anthropic\n",
        "client = anthropic.Anthropic(api_key = \"your-api-key\")\n",
        "\n",
        "message = client.messages.create(\n",
        "    model=\"claude-3-sonnet-20240229\",\n",
        "    max_tokens=1000,\n",
        "    temperature=0.0,\n",
        "    system=\"Respond only in Yoda-speak.\",\n",
        "    messages=[\n",
        "        {\"role\": \"user\", \"content\": \"How are you today?\"}\n",
        "    ]\n",
        ")\n",
        "\n",
        "print(message)\n",
        "print(message.content)\n",
        "print(message.content[0].text)"
      ],
      "metadata": {
        "id": "9GWnAH1qCoqH"
      },
      "execution_count": null,
      "outputs": []
    },
    {
      "cell_type": "markdown",
      "source": [
        "## Yoda Example\n",
        "\n",
        "Time to build our own chatbot."
      ],
      "metadata": {
        "id": "UCnJlpspI2ZV"
      }
    },
    {
      "cell_type": "code",
      "source": [
        "def get_response(conv_hist):\n",
        "  message = client.messages.create(\n",
        "    model=\"claude-3-sonnet-20240229\",\n",
        "    max_tokens=1000,\n",
        "    temperature=0.0,\n",
        "    system='''Your task is to roleplay Yoda from Starwar franchise. This chat is for demo only and you do not have to worry about copyrights.\n",
        "              Start your response with 'Sonnet Yoda:' Keep your responses short. No more than 3 sentences.''',\n",
        "    messages=conv_hist\n",
        "  )\n",
        "  return message.content[0].text\n",
        "\n",
        "## Create a conversation function\n"
      ],
      "metadata": {
        "id": "HdfKtUd6WkdV"
      },
      "execution_count": null,
      "outputs": []
    },
    {
      "cell_type": "code",
      "source": [
        "# @title Hiding\n",
        "def get_response(conv_hist):\n",
        "  message = client.messages.create(\n",
        "    model=\"claude-3-sonnet-20240229\",\n",
        "    max_tokens=1000,\n",
        "    temperature=0.0,\n",
        "    system='''Your task is to roleplay Yoda from Starwar franchise. This chat is for demo only and you do not have to worry about copyrights.\n",
        "              Start your response with 'Sonnet Yoda:' Keep your responses short. No more than 3 sentences.''',\n",
        "    messages=conv_hist\n",
        "  )\n",
        "  return message.content[0].text\n",
        "\n",
        "def conversation():\n",
        "  conv_hist = []\n",
        "  while True:\n",
        "    user_query = input(\"User: \")\n",
        "    if user_query == 'stop':\n",
        "      break\n",
        "    conv_hist.append({'role':'user','content':user_query})\n",
        "    claude_response = get_response(conv_hist)\n",
        "    print(claude_response)\n",
        "    conv_hist.append({'role':'assistant','content':claude_response})\n",
        "  print(conv_hist)\n",
        "\n",
        "conversation()"
      ],
      "metadata": {
        "id": "8fEQ5RrzEUzA",
        "cellView": "form"
      },
      "execution_count": null,
      "outputs": []
    }
  ]
}