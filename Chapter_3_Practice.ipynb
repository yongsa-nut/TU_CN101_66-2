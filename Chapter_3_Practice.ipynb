{
  "nbformat": 4,
  "nbformat_minor": 0,
  "metadata": {
    "colab": {
      "provenance": [],
      "authorship_tag": "ABX9TyP6RmahqgnRI4FklMij4v+3",
      "include_colab_link": true
    },
    "kernelspec": {
      "name": "python3",
      "display_name": "Python 3"
    },
    "language_info": {
      "name": "python"
    }
  },
  "cells": [
    {
      "cell_type": "markdown",
      "metadata": {
        "id": "view-in-github",
        "colab_type": "text"
      },
      "source": [
        "<a href=\"https://colab.research.google.com/github/yongsa-nut/TU_Intro_Prog/blob/main/Chapter_3_Practice.ipynb\" target=\"_parent\"><img src=\"https://colab.research.google.com/assets/colab-badge.svg\" alt=\"Open In Colab\"/></a>"
      ]
    },
    {
      "cell_type": "markdown",
      "source": [
        "**Q1**: What will the following code print out?\n",
        "\n",
        "```\n",
        "x = 5\n",
        "y = 7\n",
        "z = 10\n",
        "print(f\"{x > z}, {z < y}, {x*2 == (y+z)}, {(x+z) != (1+y*2)}\")\n",
        "```"
      ],
      "metadata": {
        "id": "5k4yz58D7GOy"
      }
    },
    {
      "cell_type": "code",
      "source": [],
      "metadata": {
        "id": "09jwNnDq7F6N"
      },
      "execution_count": null,
      "outputs": []
    },
    {
      "cell_type": "markdown",
      "source": [
        "**Q2:** What will the following code print out?\n",
        "\n",
        "```\n",
        "a = True\n",
        "b = True\n",
        "c = False\n",
        "\n",
        "if a and not b and not c:\n",
        "  print(\"First\")\n",
        "elif not (b or not c) or a:\n",
        "  print(\"Second\")\n",
        "else:\n",
        "  print(\"Third\")\n",
        "```"
      ],
      "metadata": {
        "id": "7DYFU7xc8ESp"
      }
    },
    {
      "cell_type": "code",
      "source": [],
      "metadata": {
        "id": "G7737nMK8WJ1"
      },
      "execution_count": null,
      "outputs": []
    },
    {
      "cell_type": "markdown",
      "source": [
        "**Q3**: What will the following code print out?\n",
        "\n",
        "```\n",
        "first  = \"HelloWorld\"\n",
        "second = \"HowAreYou?\"\n",
        "third  = \"HereIam.\"\n",
        "\n",
        "print(f\"{first > second}, {second < third}, {first > third}\")\n",
        "```"
      ],
      "metadata": {
        "id": "U97HJJ_f8yxW"
      }
    },
    {
      "cell_type": "code",
      "source": [],
      "metadata": {
        "id": "vwT8XFgX8y_J"
      },
      "execution_count": null,
      "outputs": []
    },
    {
      "cell_type": "markdown",
      "source": [
        "**Q4**: What needs to be to make the following program output \"Third\"?\n",
        "\n",
        "```\n",
        "x = _\n",
        "if 1 <= x <= 10:\n",
        "  print(\"First\")\n",
        "elif x > 20 or (x%2==1):\n",
        "  print(\"Second\")\n",
        "elif x > 0 and (x - 1 < 13):\n",
        "  print(\"Third\")\n",
        "else:\n",
        "  print(\"Fourth\")\n",
        "```"
      ],
      "metadata": {
        "id": "68eCz3tu9xvV"
      }
    },
    {
      "cell_type": "code",
      "source": [],
      "metadata": {
        "id": "pBr9qEs69yB5"
      },
      "execution_count": null,
      "outputs": []
    },
    {
      "cell_type": "markdown",
      "source": [
        "**Q5**: What will the following program print out?\n",
        "\n",
        "```\n",
        "a = 10\n",
        "b = 20\n",
        "c = 5\n",
        "print((a > b) or ((b > c) and (a*2 == b)))\n",
        "print((c > b) and ((a > b) or (b != c) or (a != c)))\n",
        "print((c >= b) or (a < b) or (a == c) or (b == c))\n",
        "```"
      ],
      "metadata": {
        "id": "jjN_Bleg2n9w"
      }
    },
    {
      "cell_type": "code",
      "execution_count": null,
      "metadata": {
        "id": "Pyrau9iQyurx"
      },
      "outputs": [],
      "source": []
    },
    {
      "cell_type": "markdown",
      "source": [
        "**Q6**: What will the following code print out?\n",
        "```\n",
        "value = 52\n",
        "if value > 45:\n",
        "  print(\"First\", end='')\n",
        "if value > 40:\n",
        "  print(\"Second\", end='')\n",
        "if value > 35:\n",
        "  print(\"Third\", end='')\n",
        "else:\n",
        "  print(\"Fourth\", end='')\n",
        "```"
      ],
      "metadata": {
        "id": "uKkJpjfx3AHO"
      }
    },
    {
      "cell_type": "code",
      "source": [
        "\n",
        "\n",
        "\n",
        "\n"
      ],
      "metadata": {
        "id": "9VBkmXGWKclF"
      },
      "execution_count": null,
      "outputs": []
    },
    {
      "cell_type": "markdown",
      "source": [
        "**Q7**: Simple Calculator\n",
        "Develop a program that acts as a simple calculator.\n",
        "\n",
        "The program should take three inputs: two numbers and an operator (either `+`, `-`, `*`, or `/`).\n",
        "\n",
        "It should then output the result of the operation.\n",
        "\n",
        "Example\n",
        "```\n",
        "First number: 9\n",
        "Second number: 1\n",
        "Operator: +\n",
        "10\n",
        "```\n",
        "\n",
        "```\n",
        "First number: 4\n",
        "Second number: 2\n",
        "Operator: *\n",
        "8\n",
        "```"
      ],
      "metadata": {
        "id": "rRrn5nrb6oBa"
      }
    },
    {
      "cell_type": "code",
      "source": [
        "\n",
        "\n",
        "\n"
      ],
      "metadata": {
        "id": "l59CD3mk6niu"
      },
      "execution_count": null,
      "outputs": []
    },
    {
      "cell_type": "markdown",
      "source": [
        "**Q8**: Calculate BMI.\n",
        "Write a Python program that calculates Body Mass Index (BMI) and categorizes it based on the value:\n",
        "- Underweight: BMI < 18.5\n",
        "- Normal weight: 18.5 <= BMI < 25\n",
        "- Overweight: 25 <= BMI < 30\n",
        "- Obesity: BMI >= 30\n",
        "\n",
        "BMI is calculated as: $\\frac{\\text{weight (kg)}}{\\text{(height (m))}^2}$\n",
        "\n",
        "Input:\n",
        "* Weight in kg\n",
        "* Height in meter.\n",
        "\n",
        "Output:\n",
        "* BMI in two decimal places and the category.\n",
        "\n",
        "Example\n",
        "```\n",
        "Weight (kg): 70\n",
        "Height (meter): 1.75\n",
        "Your BMI is 22.86. Normal weight.\n",
        "```\n"
      ],
      "metadata": {
        "id": "PRdn1AJeEbXI"
      }
    },
    {
      "cell_type": "code",
      "source": [
        "\n",
        "\n",
        "\n"
      ],
      "metadata": {
        "id": "byKNdUkiEc1m"
      },
      "execution_count": null,
      "outputs": []
    },
    {
      "cell_type": "markdown",
      "source": [
        "**Q9**: Quadratic Solver\n",
        "\n",
        "Write a program that solves a quadratic equation of the form $ax^2 + bx + c = 0$. <br>\n",
        "The program should ask the user for the coefficients $a$, $b$, and $c$ and display the roots.\n",
        "\n",
        "The formula is $x = \\frac{-b \\pm \\sqrt{(b^2 - 4ac)}}{2a}$.\n",
        "\n",
        "Recall that the discriminant $D = b^2 - 4ac$ determines the nature of the roots:\n",
        "- If `D > 0`, the equation has two real and distinct roots.\n",
        "- If `D = 0`, the equation has one real root (repeated).\n",
        "- If `D < 0`, the equation has two complex roots. <br> For this condition, just simply print out 'no real number answers'.\n",
        "\n",
        "Input:\n",
        "* $a$, $b$, and $c$\n",
        "\n",
        "Output:\n",
        "* The roots of the quadratic equation. Two decimal places.\n",
        "\n",
        "Example:\n",
        "```\n",
        "Enter a: 1\n",
        "Enter b: 2\n",
        "Enter c: 1\n",
        "The answer is -1.\n",
        "```\n",
        "\n",
        "```\n",
        "Enter a: 2\n",
        "Enter b: 1\n",
        "Enter c: 2\n",
        "no real number answers.\n",
        "```\n",
        "\n",
        "```\n",
        "Enter a: 1\n",
        "Enter b: 3\n",
        "Enter c: 2\n",
        "Ther answer is -1  and -2.\n",
        "```"
      ],
      "metadata": {
        "id": "R09n9mipEdEc"
      }
    },
    {
      "cell_type": "code",
      "source": [
        "\n",
        "\n"
      ],
      "metadata": {
        "id": "ZSeJtxkCEea1"
      },
      "execution_count": null,
      "outputs": []
    },
    {
      "cell_type": "markdown",
      "source": [
        "**Q10**: Cashier Program v2\n",
        "\n",
        "Write a program that takes in the number of products that a customer buys. <br> There are three products: donut, cupcake, and popcorn. <br> The price of donut is 10 baht each; the price of cupcake is 20 baht each; and the price of popcorn is 40 baht each. <br> Calculate the total payment and apply the discount as listed below.\n",
        "\n",
        "* The customers receive 20% off donuts when they buy 20 or more donuts.\n",
        "* The customers receive 10% off cupcakes when they buy 10 or more donuts.\n",
        "* They receive a 50 baht discount when they buy 3 or more popcorns.\n",
        "\n",
        "**Input:**\n",
        "- The number of donut, cupcake, and popcorn.\n",
        "\n",
        "**Output:**\n",
        "- The original payment in two decimal.\n",
        "- The discounted payment.\n",
        "\n",
        "**Note:**\n",
        "- You must use **Named Constant**.\n",
        "- You don't need to worry about invalid inputs\n",
        "\n",
        "Example\n",
        "```\n",
        "Enter the number of donut: 30\n",
        "Enter the number of cupcake: 20\n",
        "Enter the number of popcorn:  5\n",
        "The total payment befor discount is 900.00 baht.\n",
        "The payment after discount is 750.00 baht.\n",
        "```\n",
        "\n",
        "```\n",
        "Enter the number of donut: 5\n",
        "Enter the number of cupcake: 20\n",
        "Enter the number of popcorn:  3\n",
        "The total payment befor discount is 570.00 baht.\n",
        "The payment after discount is 480.00 baht.\n",
        "```\n",
        "\n",
        "```\n",
        "Enter the number of donut: 10\n",
        "Enter the number of cupcake: 10\n",
        "Enter the number of popcorn:  5\n",
        "The total payment befor discount is 500.00 baht.\n",
        "The payment after discount is 430.00 baht.\n",
        "```"
      ],
      "metadata": {
        "id": "7l3tY68-a1yr"
      }
    },
    {
      "cell_type": "code",
      "source": [
        "\n",
        "\n",
        "\n"
      ],
      "metadata": {
        "id": "Nip1CM3ejueR"
      },
      "execution_count": null,
      "outputs": []
    }
  ]
}