{
  "nbformat": 4,
  "nbformat_minor": 0,
  "metadata": {
    "colab": {
      "provenance": [],
      "authorship_tag": "ABX9TyNBDq9blWguD76dqvrWTcXT",
      "include_colab_link": true
    },
    "kernelspec": {
      "name": "python3",
      "display_name": "Python 3"
    },
    "language_info": {
      "name": "python"
    },
    "widgets": {
      "application/vnd.jupyter.widget-state+json": {
        "c01067a6d0a545ca8a1d98780f4b27d5": {
          "model_module": "@jupyter-widgets/controls",
          "model_name": "VBoxModel",
          "model_module_version": "1.5.0",
          "state": {
            "_dom_classes": [],
            "_model_module": "@jupyter-widgets/controls",
            "_model_module_version": "1.5.0",
            "_model_name": "VBoxModel",
            "_view_count": null,
            "_view_module": "@jupyter-widgets/controls",
            "_view_module_version": "1.5.0",
            "_view_name": "VBoxView",
            "box_style": "",
            "children": [
              "IPY_MODEL_0be6b5a50268438fad8b5ce9677ada36",
              "IPY_MODEL_827ed0d9d2f94c18be39c0f6116e6ef7"
            ],
            "layout": "IPY_MODEL_0086186a3af741e886f6454da495d272"
          }
        },
        "0be6b5a50268438fad8b5ce9677ada36": {
          "model_module": "@jupyter-widgets/controls",
          "model_name": "ButtonModel",
          "model_module_version": "1.5.0",
          "state": {
            "_dom_classes": [],
            "_model_module": "@jupyter-widgets/controls",
            "_model_module_version": "1.5.0",
            "_model_name": "ButtonModel",
            "_view_count": null,
            "_view_module": "@jupyter-widgets/controls",
            "_view_module_version": "1.5.0",
            "_view_name": "ButtonView",
            "button_style": "",
            "description": "Show Hint",
            "disabled": false,
            "icon": "",
            "layout": "IPY_MODEL_1a381772b08c486c8fb0e6c82f5bf3be",
            "style": "IPY_MODEL_570cd06004b94e2684d556265fbc8b5b",
            "tooltip": ""
          }
        },
        "827ed0d9d2f94c18be39c0f6116e6ef7": {
          "model_module": "@jupyter-widgets/output",
          "model_name": "OutputModel",
          "model_module_version": "1.0.0",
          "state": {
            "_dom_classes": [],
            "_model_module": "@jupyter-widgets/output",
            "_model_module_version": "1.0.0",
            "_model_name": "OutputModel",
            "_view_count": null,
            "_view_module": "@jupyter-widgets/output",
            "_view_module_version": "1.0.0",
            "_view_name": "OutputView",
            "layout": "IPY_MODEL_e7ef41a8e5c740ed9b63f99cc6dfdbf8",
            "msg_id": "",
            "outputs": []
          }
        },
        "0086186a3af741e886f6454da495d272": {
          "model_module": "@jupyter-widgets/base",
          "model_name": "LayoutModel",
          "model_module_version": "1.2.0",
          "state": {
            "_model_module": "@jupyter-widgets/base",
            "_model_module_version": "1.2.0",
            "_model_name": "LayoutModel",
            "_view_count": null,
            "_view_module": "@jupyter-widgets/base",
            "_view_module_version": "1.2.0",
            "_view_name": "LayoutView",
            "align_content": null,
            "align_items": null,
            "align_self": null,
            "border": null,
            "bottom": null,
            "display": null,
            "flex": null,
            "flex_flow": null,
            "grid_area": null,
            "grid_auto_columns": null,
            "grid_auto_flow": null,
            "grid_auto_rows": null,
            "grid_column": null,
            "grid_gap": null,
            "grid_row": null,
            "grid_template_areas": null,
            "grid_template_columns": null,
            "grid_template_rows": null,
            "height": null,
            "justify_content": null,
            "justify_items": null,
            "left": null,
            "margin": null,
            "max_height": null,
            "max_width": null,
            "min_height": null,
            "min_width": null,
            "object_fit": null,
            "object_position": null,
            "order": null,
            "overflow": null,
            "overflow_x": null,
            "overflow_y": null,
            "padding": null,
            "right": null,
            "top": null,
            "visibility": null,
            "width": null
          }
        },
        "1a381772b08c486c8fb0e6c82f5bf3be": {
          "model_module": "@jupyter-widgets/base",
          "model_name": "LayoutModel",
          "model_module_version": "1.2.0",
          "state": {
            "_model_module": "@jupyter-widgets/base",
            "_model_module_version": "1.2.0",
            "_model_name": "LayoutModel",
            "_view_count": null,
            "_view_module": "@jupyter-widgets/base",
            "_view_module_version": "1.2.0",
            "_view_name": "LayoutView",
            "align_content": null,
            "align_items": null,
            "align_self": null,
            "border": null,
            "bottom": null,
            "display": null,
            "flex": null,
            "flex_flow": null,
            "grid_area": null,
            "grid_auto_columns": null,
            "grid_auto_flow": null,
            "grid_auto_rows": null,
            "grid_column": null,
            "grid_gap": null,
            "grid_row": null,
            "grid_template_areas": null,
            "grid_template_columns": null,
            "grid_template_rows": null,
            "height": null,
            "justify_content": null,
            "justify_items": null,
            "left": null,
            "margin": null,
            "max_height": null,
            "max_width": null,
            "min_height": null,
            "min_width": null,
            "object_fit": null,
            "object_position": null,
            "order": null,
            "overflow": null,
            "overflow_x": null,
            "overflow_y": null,
            "padding": null,
            "right": null,
            "top": null,
            "visibility": null,
            "width": null
          }
        },
        "570cd06004b94e2684d556265fbc8b5b": {
          "model_module": "@jupyter-widgets/controls",
          "model_name": "ButtonStyleModel",
          "model_module_version": "1.5.0",
          "state": {
            "_model_module": "@jupyter-widgets/controls",
            "_model_module_version": "1.5.0",
            "_model_name": "ButtonStyleModel",
            "_view_count": null,
            "_view_module": "@jupyter-widgets/base",
            "_view_module_version": "1.2.0",
            "_view_name": "StyleView",
            "button_color": null,
            "font_weight": ""
          }
        },
        "e7ef41a8e5c740ed9b63f99cc6dfdbf8": {
          "model_module": "@jupyter-widgets/base",
          "model_name": "LayoutModel",
          "model_module_version": "1.2.0",
          "state": {
            "_model_module": "@jupyter-widgets/base",
            "_model_module_version": "1.2.0",
            "_model_name": "LayoutModel",
            "_view_count": null,
            "_view_module": "@jupyter-widgets/base",
            "_view_module_version": "1.2.0",
            "_view_name": "LayoutView",
            "align_content": null,
            "align_items": null,
            "align_self": null,
            "border": null,
            "bottom": null,
            "display": null,
            "flex": null,
            "flex_flow": null,
            "grid_area": null,
            "grid_auto_columns": null,
            "grid_auto_flow": null,
            "grid_auto_rows": null,
            "grid_column": null,
            "grid_gap": null,
            "grid_row": null,
            "grid_template_areas": null,
            "grid_template_columns": null,
            "grid_template_rows": null,
            "height": null,
            "justify_content": null,
            "justify_items": null,
            "left": null,
            "margin": null,
            "max_height": null,
            "max_width": null,
            "min_height": null,
            "min_width": null,
            "object_fit": null,
            "object_position": null,
            "order": null,
            "overflow": null,
            "overflow_x": null,
            "overflow_y": null,
            "padding": null,
            "right": null,
            "top": null,
            "visibility": null,
            "width": null
          }
        },
        "52eb2932504f41d699adc6403e199328": {
          "model_module": "@jupyter-widgets/controls",
          "model_name": "VBoxModel",
          "model_module_version": "1.5.0",
          "state": {
            "_dom_classes": [],
            "_model_module": "@jupyter-widgets/controls",
            "_model_module_version": "1.5.0",
            "_model_name": "VBoxModel",
            "_view_count": null,
            "_view_module": "@jupyter-widgets/controls",
            "_view_module_version": "1.5.0",
            "_view_name": "VBoxView",
            "box_style": "",
            "children": [
              "IPY_MODEL_52c526bcbcfb466f9547bc5e54c9d64c",
              "IPY_MODEL_568f621d9d234e1dbc5da0cf186ba919"
            ],
            "layout": "IPY_MODEL_49539aa24f5943de83519551b25070f6"
          }
        },
        "52c526bcbcfb466f9547bc5e54c9d64c": {
          "model_module": "@jupyter-widgets/controls",
          "model_name": "ButtonModel",
          "model_module_version": "1.5.0",
          "state": {
            "_dom_classes": [],
            "_model_module": "@jupyter-widgets/controls",
            "_model_module_version": "1.5.0",
            "_model_name": "ButtonModel",
            "_view_count": null,
            "_view_module": "@jupyter-widgets/controls",
            "_view_module_version": "1.5.0",
            "_view_name": "ButtonView",
            "button_style": "",
            "description": "Show Hint",
            "disabled": false,
            "icon": "",
            "layout": "IPY_MODEL_da58f38717b44e44aeac72008f1eb29d",
            "style": "IPY_MODEL_a59c9dacbb554f15821bdcd474a41f44",
            "tooltip": ""
          }
        },
        "568f621d9d234e1dbc5da0cf186ba919": {
          "model_module": "@jupyter-widgets/output",
          "model_name": "OutputModel",
          "model_module_version": "1.0.0",
          "state": {
            "_dom_classes": [],
            "_model_module": "@jupyter-widgets/output",
            "_model_module_version": "1.0.0",
            "_model_name": "OutputModel",
            "_view_count": null,
            "_view_module": "@jupyter-widgets/output",
            "_view_module_version": "1.0.0",
            "_view_name": "OutputView",
            "layout": "IPY_MODEL_cd4852c6ce0e4698b69ec4ae544a4861",
            "msg_id": "",
            "outputs": []
          }
        },
        "49539aa24f5943de83519551b25070f6": {
          "model_module": "@jupyter-widgets/base",
          "model_name": "LayoutModel",
          "model_module_version": "1.2.0",
          "state": {
            "_model_module": "@jupyter-widgets/base",
            "_model_module_version": "1.2.0",
            "_model_name": "LayoutModel",
            "_view_count": null,
            "_view_module": "@jupyter-widgets/base",
            "_view_module_version": "1.2.0",
            "_view_name": "LayoutView",
            "align_content": null,
            "align_items": null,
            "align_self": null,
            "border": null,
            "bottom": null,
            "display": null,
            "flex": null,
            "flex_flow": null,
            "grid_area": null,
            "grid_auto_columns": null,
            "grid_auto_flow": null,
            "grid_auto_rows": null,
            "grid_column": null,
            "grid_gap": null,
            "grid_row": null,
            "grid_template_areas": null,
            "grid_template_columns": null,
            "grid_template_rows": null,
            "height": null,
            "justify_content": null,
            "justify_items": null,
            "left": null,
            "margin": null,
            "max_height": null,
            "max_width": null,
            "min_height": null,
            "min_width": null,
            "object_fit": null,
            "object_position": null,
            "order": null,
            "overflow": null,
            "overflow_x": null,
            "overflow_y": null,
            "padding": null,
            "right": null,
            "top": null,
            "visibility": null,
            "width": null
          }
        },
        "da58f38717b44e44aeac72008f1eb29d": {
          "model_module": "@jupyter-widgets/base",
          "model_name": "LayoutModel",
          "model_module_version": "1.2.0",
          "state": {
            "_model_module": "@jupyter-widgets/base",
            "_model_module_version": "1.2.0",
            "_model_name": "LayoutModel",
            "_view_count": null,
            "_view_module": "@jupyter-widgets/base",
            "_view_module_version": "1.2.0",
            "_view_name": "LayoutView",
            "align_content": null,
            "align_items": null,
            "align_self": null,
            "border": null,
            "bottom": null,
            "display": null,
            "flex": null,
            "flex_flow": null,
            "grid_area": null,
            "grid_auto_columns": null,
            "grid_auto_flow": null,
            "grid_auto_rows": null,
            "grid_column": null,
            "grid_gap": null,
            "grid_row": null,
            "grid_template_areas": null,
            "grid_template_columns": null,
            "grid_template_rows": null,
            "height": null,
            "justify_content": null,
            "justify_items": null,
            "left": null,
            "margin": null,
            "max_height": null,
            "max_width": null,
            "min_height": null,
            "min_width": null,
            "object_fit": null,
            "object_position": null,
            "order": null,
            "overflow": null,
            "overflow_x": null,
            "overflow_y": null,
            "padding": null,
            "right": null,
            "top": null,
            "visibility": null,
            "width": null
          }
        },
        "a59c9dacbb554f15821bdcd474a41f44": {
          "model_module": "@jupyter-widgets/controls",
          "model_name": "ButtonStyleModel",
          "model_module_version": "1.5.0",
          "state": {
            "_model_module": "@jupyter-widgets/controls",
            "_model_module_version": "1.5.0",
            "_model_name": "ButtonStyleModel",
            "_view_count": null,
            "_view_module": "@jupyter-widgets/base",
            "_view_module_version": "1.2.0",
            "_view_name": "StyleView",
            "button_color": null,
            "font_weight": ""
          }
        },
        "cd4852c6ce0e4698b69ec4ae544a4861": {
          "model_module": "@jupyter-widgets/base",
          "model_name": "LayoutModel",
          "model_module_version": "1.2.0",
          "state": {
            "_model_module": "@jupyter-widgets/base",
            "_model_module_version": "1.2.0",
            "_model_name": "LayoutModel",
            "_view_count": null,
            "_view_module": "@jupyter-widgets/base",
            "_view_module_version": "1.2.0",
            "_view_name": "LayoutView",
            "align_content": null,
            "align_items": null,
            "align_self": null,
            "border": null,
            "bottom": null,
            "display": null,
            "flex": null,
            "flex_flow": null,
            "grid_area": null,
            "grid_auto_columns": null,
            "grid_auto_flow": null,
            "grid_auto_rows": null,
            "grid_column": null,
            "grid_gap": null,
            "grid_row": null,
            "grid_template_areas": null,
            "grid_template_columns": null,
            "grid_template_rows": null,
            "height": null,
            "justify_content": null,
            "justify_items": null,
            "left": null,
            "margin": null,
            "max_height": null,
            "max_width": null,
            "min_height": null,
            "min_width": null,
            "object_fit": null,
            "object_position": null,
            "order": null,
            "overflow": null,
            "overflow_x": null,
            "overflow_y": null,
            "padding": null,
            "right": null,
            "top": null,
            "visibility": null,
            "width": null
          }
        }
      }
    }
  },
  "cells": [
    {
      "cell_type": "markdown",
      "metadata": {
        "id": "view-in-github",
        "colab_type": "text"
      },
      "source": [
        "<a href=\"https://colab.research.google.com/github/yongsa-nut/TU_Intro_Prog/blob/main/Chapter_4_Homework.ipynb\" target=\"_parent\"><img src=\"https://colab.research.google.com/assets/colab-badge.svg\" alt=\"Open In Colab\"/></a>"
      ]
    },
    {
      "cell_type": "markdown",
      "source": [
        "**Q1**: count_pow\n",
        "\n",
        "Fill in the function to find the largest integer $m$ such that $2^m < num$, <br>where $num$ is the target number between 1 and 1,000,000.  \n",
        "Solve this problem using while loop and integer division.\n",
        "\n",
        "Example:\n",
        "```\n",
        "count_pow(num=5)\n",
        "2\n",
        "```\n",
        "\n",
        "```\n",
        "count_pow(100)\n",
        "6\n",
        "```"
      ],
      "metadata": {
        "id": "VeV8veMHPKoY"
      }
    },
    {
      "cell_type": "code",
      "source": [
        "def count_pow(num):\n",
        "  # fill in your code below\n",
        "  total = 0\n",
        "\n",
        "  return total"
      ],
      "metadata": {
        "id": "D93uxXhjPKJi"
      },
      "execution_count": null,
      "outputs": []
    },
    {
      "cell_type": "code",
      "source": [
        "## Test cases. DO NOT CHANGE.\n",
        "assert count_pow(num=5) == 2, f\"Expect 2, Got {count_pow(num=5)}\"\n",
        "assert count_pow(num=100) == 6, f\"Expect 6, Got {count_pow(num=100)}\"\n",
        "assert count_pow(num=128) == 7, f\"Expect 7, Got {count_pow(num=128)}\"\n",
        "assert count_pow(num=1023) == 9, f\"Expect 9, Got {count_pow(num=1023)}\"\n",
        "assert count_pow(num=1000000) == 19, f\"Expect 19, Got {count_pow(num=1023)}\""
      ],
      "metadata": {
        "id": "acw3_Wk9otI5"
      },
      "execution_count": null,
      "outputs": []
    },
    {
      "cell_type": "markdown",
      "source": [
        "**Q2**: count_odd\n",
        "\n",
        "Fill in the function to count items in the list that are an odd number.\n",
        "\n",
        "The format for this is $\\texttt{for item in items:}$ and $\\texttt{items = [item1, item2, item3]}$"
      ],
      "metadata": {
        "id": "RyUp3JpkPOXM"
      }
    },
    {
      "cell_type": "code",
      "source": [
        "def count_odd(items):\n",
        "  ## Fill in the code below\n",
        "  count = 0\n",
        "\n",
        "  return count"
      ],
      "metadata": {
        "id": "NVUEoIyuPQig"
      },
      "execution_count": null,
      "outputs": []
    },
    {
      "cell_type": "code",
      "source": [
        "## Test cases. DO NOT CHANGE.\n",
        "count_odd([1,2,3,4,5,6,7]) == 4, f\"Expect 4, Got {count_odd([1,2,3,4,5,6,7])}\"\n",
        "count_odd([2,4,6,8,10]) == 0, f\"Expect 0, Got {count_odd([2,4,6,8,10])}\"\n",
        "count_odd([3, 9, 11, 21, 33]) == 5, f\"Expect 5, Got {count_odd([3, 9, 11, 21, 33])}\""
      ],
      "metadata": {
        "id": "tXi5Lr8LmyI9"
      },
      "execution_count": null,
      "outputs": []
    },
    {
      "cell_type": "markdown",
      "source": [
        "**Q3**: print_backward_triangle\n",
        "\n",
        "Fill in the function so that it prints out a triangle shown below.\n",
        "\n",
        "Example:\n",
        "```\n",
        "print_backward_triangle(n=1)\n",
        "*\n",
        "```\n",
        "\n",
        "```\n",
        "print_backward_triangle(n=3)\n",
        "***\n",
        "**\n",
        "*\n",
        "```\n",
        "\n",
        "```\n",
        "print_backward_triangle(n=5)\n",
        "*****\n",
        "****\n",
        "***\n",
        "**\n",
        "*\n",
        "```\n",
        "Note: There is no check for this problem. You need to visually inspect the outputs by yourself."
      ],
      "metadata": {
        "id": "d1mOKfM8PM-i"
      }
    },
    {
      "cell_type": "code",
      "execution_count": null,
      "metadata": {
        "id": "iF-NUQeYNGj2"
      },
      "outputs": [],
      "source": [
        "def print_backward_triangle(n)\n",
        "  ## Fill in your code here"
      ]
    },
    {
      "cell_type": "code",
      "source": [
        "## Test cases. DO NOT CHANGE.\n",
        "print_backward_triangle(n=1)\n",
        "print_backward_triangle(n=5)\n",
        "print_backward_triangle(n=7)"
      ],
      "metadata": {
        "id": "laDdPteinLf2"
      },
      "execution_count": null,
      "outputs": []
    },
    {
      "cell_type": "markdown",
      "source": [
        "**Q4** print_pyramid\n",
        "\n",
        "Fill in a function such that it prints out a pyramid as shown below.\n",
        "\n",
        "Example 1:\n",
        "```\n",
        "print_pyramid(n=1)\n",
        "*\n",
        "```\n",
        "\n",
        "Example 2:\n",
        "```\n",
        "print_pyramid(n=2)\n",
        " *\n",
        "***\n",
        "```\n",
        "\n",
        "Example 3:\n",
        "```\n",
        "print_pyramid(n=3)\n",
        "  *\n",
        " ***\n",
        "*****\n",
        "```\n",
        "\n",
        "Example 4:\n",
        "```\n",
        "print_pyramid(n=4)\n",
        "   *\n",
        "  ***\n",
        " *****\n",
        "*******\n",
        "```\n",
        "Note: there is no test case check for this. You will have to visually check the output yourself."
      ],
      "metadata": {
        "id": "aYZKgNgENv2h"
      }
    },
    {
      "cell_type": "code",
      "source": [
        "#@title Hint (click show hint below)\n",
        "from ipywidgets import widgets\n",
        "from IPython.display import display, Markdown\n",
        "\n",
        "def toggle_hint(hint_text):\n",
        "    hint_button = widgets.Button(description='Show Hint')\n",
        "    output_area = widgets.Output()\n",
        "\n",
        "    def on_button_clicked(b):\n",
        "        with output_area:\n",
        "            output_area.clear_output()\n",
        "            display(Markdown(hint_text))\n",
        "\n",
        "    hint_button.on_click(on_button_clicked)\n",
        "\n",
        "    display(widgets.VBox([hint_button, output_area]))\n",
        "\n",
        "# Example usage\n",
        "\n",
        "hint = \"\"\"\n",
        "The inner loop can be broken down into 3 loops\n",
        "1. The first loop is to print the leading empty space\n",
        "2. The second loop is to print *\n",
        "3. The third loop is to print the trailing empty space.\n",
        "4. use print(\" \", end=\"\") to print without \"\\n\"\n",
        "5. Range(start,end, step=1). if start >= end and step is positive, for loop won't do anything.\n",
        "\n",
        "Example: n = 3\n",
        "\n",
        "The first line = \" \"|\" \"|\"*\"|\" \"|\" \"\n",
        "1. First print out two empty spaces\n",
        "2. Then print out one *\n",
        "3. Lastly print out two empty spaces.\n",
        "\n",
        "The second line = \" \"|\"*\"|\"*\"|\"*\"|\" \"\n",
        "1. First print out one empty spaces.\n",
        "2. Then print out three *\n",
        "3. Lastly print out one empty spaces.\n",
        "\n",
        "The third line = \"*\"|\"*\"|\"*\"|\"*\"|\"*\"\n",
        "1. First print out nothing. (skip the loop e.g., range(0,0))\n",
        "2. Ten print out five *\n",
        "3. Finally print out nothing.\n",
        "\n",
        "Note: This is not the only way to solve this problem.\n",
        "\"\"\"\n",
        "toggle_hint(hint)"
      ],
      "metadata": {
        "colab": {
          "base_uri": "https://localhost:8080/",
          "height": 49,
          "referenced_widgets": [
            "52eb2932504f41d699adc6403e199328",
            "52c526bcbcfb466f9547bc5e54c9d64c",
            "568f621d9d234e1dbc5da0cf186ba919",
            "49539aa24f5943de83519551b25070f6",
            "da58f38717b44e44aeac72008f1eb29d",
            "a59c9dacbb554f15821bdcd474a41f44",
            "cd4852c6ce0e4698b69ec4ae544a4861"
          ]
        },
        "cellView": "form",
        "id": "bUJatVTeQj8u",
        "outputId": "2d1ede7f-87df-4f13-e4fd-bcb48d40ed60"
      },
      "execution_count": null,
      "outputs": [
        {
          "output_type": "display_data",
          "data": {
            "text/plain": [
              "VBox(children=(Button(description='Show Hint', style=ButtonStyle()), Output()))"
            ],
            "application/vnd.jupyter.widget-view+json": {
              "version_major": 2,
              "version_minor": 0,
              "model_id": "52eb2932504f41d699adc6403e199328"
            }
          },
          "metadata": {}
        }
      ]
    },
    {
      "cell_type": "code",
      "source": [
        "def print_pyramid(n):\n",
        "  ##Fill your code below\n",
        "  return"
      ],
      "metadata": {
        "id": "O3cgy5MvN6Wm"
      },
      "execution_count": null,
      "outputs": []
    },
    {
      "cell_type": "code",
      "source": [
        "## Test cases\n",
        "print_pyramid(1)\n",
        "print_pyramid(2)\n",
        "print_pyramid(3)\n",
        "print_pyramid(4)\n",
        "print_pyramid(5)\n",
        "print_pyramid(7)"
      ],
      "metadata": {
        "id": "Dby9UfkFmIp_"
      },
      "execution_count": null,
      "outputs": []
    },
    {
      "cell_type": "markdown",
      "source": [
        "**Q5**: squared_digit\n",
        "\n",
        "Fill in the function that calculates the sum of all digits squared.\n",
        "\n",
        "Input: 0 <= n <= 1,000,000. n is integer.\n",
        "\n",
        "Example1:\n",
        "```\n",
        "squared_digit(n= 89)\n",
        "145\n",
        "```\n",
        "Explanation $8^2 + 9^2 = 145$\n",
        "\n",
        "Example2:\n",
        "```\n",
        "squared_digit(n= 456890)\n",
        "222\n",
        "```\n",
        "Explanation: $4^2 + 5^2 + 6^2 + 8^2 + 9^2 + 0^2$"
      ],
      "metadata": {
        "id": "cjLEULQZOQTI"
      }
    },
    {
      "cell_type": "code",
      "source": [
        "#@title Hint (click show hint below)\n",
        "from ipywidgets import widgets\n",
        "from IPython.display import display, Markdown\n",
        "\n",
        "def toggle_hint(hint_text):\n",
        "    hint_button = widgets.Button(description='Show Hint')\n",
        "    output_area = widgets.Output()\n",
        "\n",
        "    def on_button_clicked(b):\n",
        "        with output_area:\n",
        "            output_area.clear_output()\n",
        "            display(Markdown(hint_text))\n",
        "\n",
        "    hint_button.on_click(on_button_clicked)\n",
        "\n",
        "    display(widgets.VBox([hint_button, output_area]))\n",
        "\n",
        "# Example usage\n",
        "\n",
        "hint = \"\"\"\n",
        "1. You can get the last digit using %\n",
        "2. Then you can repeatedly cut the last digit one at time using //$\n",
        "Note: this is not the only way to solve this problem.\n",
        "\"\"\"\n",
        "toggle_hint(hint)"
      ],
      "metadata": {
        "colab": {
          "base_uri": "https://localhost:8080/",
          "height": 49,
          "referenced_widgets": [
            "c01067a6d0a545ca8a1d98780f4b27d5",
            "0be6b5a50268438fad8b5ce9677ada36",
            "827ed0d9d2f94c18be39c0f6116e6ef7",
            "0086186a3af741e886f6454da495d272",
            "1a381772b08c486c8fb0e6c82f5bf3be",
            "570cd06004b94e2684d556265fbc8b5b",
            "e7ef41a8e5c740ed9b63f99cc6dfdbf8"
          ]
        },
        "cellView": "form",
        "id": "YJN1fwpkT774",
        "outputId": "57493812-fb79-4de7-ce14-f5ac60160e78"
      },
      "execution_count": null,
      "outputs": [
        {
          "output_type": "display_data",
          "data": {
            "text/plain": [
              "VBox(children=(Button(description='Show Hint', style=ButtonStyle()), Output()))"
            ],
            "application/vnd.jupyter.widget-view+json": {
              "version_major": 2,
              "version_minor": 0,
              "model_id": "c01067a6d0a545ca8a1d98780f4b27d5"
            }
          },
          "metadata": {}
        }
      ]
    },
    {
      "cell_type": "code",
      "source": [
        "def squared_digit(n):\n",
        "  ## Fill in your code below\n",
        "  total = 0\n",
        "\n",
        "  return total"
      ],
      "metadata": {
        "id": "CyGul294OPqp"
      },
      "execution_count": null,
      "outputs": []
    },
    {
      "cell_type": "code",
      "source": [
        "# Test cases. DO NOT CHANGE.\n",
        "assert squared_digit(n=89) == 145, f\"Expect 145, Got {squared_digit(n=89)}\"\n",
        "assert squared_digit(n=456890) == 222, f\"Expect 222, Got {squared_digit(n=456890)}\"\n",
        "assert squared_digit(n=456) == 77, f\"Expect 77, Got {squared_digit(n=456)}\"\n",
        "assert squared_digit(n=9999) == 324, f\"Expect 324, Got {squared_digit(n=9999)}\"\n",
        "assert squared_digit(n=101010) == 3, f\"Expect 3, Got {squared_digit(n=101010)}\"\n",
        "assert squared_digit(n=9) == 81, f\"Expect 81, Got {squared_digit(n=9)}\""
      ],
      "metadata": {
        "id": "tMoDE2vnVPgZ"
      },
      "execution_count": null,
      "outputs": []
    },
    {
      "cell_type": "markdown",
      "source": [
        "## Submission:\n",
        "\n",
        "* File > Download > Download.ipynb\n",
        "* Rename the file to \"sectionid_yourid_firstname_lastname_chap4homework\"\n",
        "  * Section id:\n",
        "    * Monday 9:30 - 12:30: 810002\n",
        "    * Thrusady 9:30 - 12:30: 320001\n",
        "    * Thrusday 13:30 - 16:30: 750003\n",
        "* Send it to ynutchan@engr.tu.ac.th"
      ],
      "metadata": {
        "id": "f3v15l4FiEas"
      }
    }
  ]
}