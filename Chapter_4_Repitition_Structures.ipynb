{
  "nbformat": 4,
  "nbformat_minor": 0,
  "metadata": {
    "colab": {
      "provenance": [],
      "collapsed_sections": [
        "VN-e5XFLlll1"
      ],
      "authorship_tag": "ABX9TyNi86b2gMf2qXWLNozuj0IG",
      "include_colab_link": true
    },
    "kernelspec": {
      "name": "python3",
      "display_name": "Python 3"
    },
    "language_info": {
      "name": "python"
    }
  },
  "cells": [
    {
      "cell_type": "markdown",
      "metadata": {
        "id": "view-in-github",
        "colab_type": "text"
      },
      "source": [
        "<a href=\"https://colab.research.google.com/github/yongsa-nut/TU_Intro_Prog/blob/main/Chapter_4_Repitition_Structures.ipynb\" target=\"_parent\"><img src=\"https://colab.research.google.com/assets/colab-badge.svg\" alt=\"Open In Colab\"/></a>"
      ]
    },
    {
      "cell_type": "markdown",
      "source": [
        "# Chapter 4 Repetition Structures"
      ],
      "metadata": {
        "id": "qRsez-reVhfR"
      }
    },
    {
      "cell_type": "markdown",
      "source": [
        "## Control Structure\n",
        "* **Control structure**: logical design that controls order in which set of statements execute\n",
        "  * **Sequence structure**: set of statements that execute in the order they appear\n",
        "  * **Decision structure**: specific action(s) performed only if a condition exists.\n",
        "  * **Repetition structure**: makes computer repeat included code as necessary"
      ],
      "metadata": {
        "id": "5PXM-T27kE4F"
      }
    },
    {
      "cell_type": "markdown",
      "source": [
        "## Introduction to Repetition Structures\n",
        "* Often have to write code that performs the same task multiple times\n",
        "* Disadvantages to duplicating code\n",
        "  * Makes program large\n",
        "  * Time consuming\n",
        "  * May need to be corrected in many places\n",
        "* **Repetition structure**: makes computer repeat included code as necessary\n",
        "  * Includes condition-controlled loops and count-controlled loops"
      ],
      "metadata": {
        "id": "uMIfuDvukHCO"
      }
    },
    {
      "cell_type": "markdown",
      "source": [
        "## The $\\texttt{while}$ loop: a condition-controlled loop\n",
        "* $\\texttt{while}$ loop: while condition is true, do something\n",
        "* Two parts:\n",
        "  * Condition tested for true or false value\n",
        "  * Statements repeated as long as condition is true\n",
        "* General format:\n",
        "  <br> $\\texttt{while condition:}$\n",
        "  <br> &emsp;$\\texttt{statement}$\n",
        "  <br> &emsp;$\\texttt{statement}$"
      ],
      "metadata": {
        "id": "zj8fK8d_kkdK"
      }
    },
    {
      "cell_type": "markdown",
      "source": [
        "## The  $\\texttt{while}$ loop: Flowchart\n",
        "\n",
        "![while flow.png](https://drive.google.com/uc?export=view&id=1Ni5Xcq-Lz8xkyt9fEi7RVmu2jZxvvmt2)"
      ],
      "metadata": {
        "id": "4dGUQn06lTRu"
      }
    },
    {
      "cell_type": "markdown",
      "source": [
        "## The $\\texttt{while}$ loop: a condition-controlled loop\n",
        "* In order for a loop to stop executing, something has to happen inside the <br> loop to make the condition false\n",
        "* **Iteration**: one execution of the body of a loop\n",
        "* $\\texttt{while}$ loop is known as a pretest loop\n",
        "  * Tests condition before performing an iteration\n",
        "  * Will never execute if condition is false to start with\n",
        "  * Requires performing some steps prior to the loop\n"
      ],
      "metadata": {
        "id": "VN-e5XFLlll1"
      }
    },
    {
      "cell_type": "code",
      "source": [
        "# while loop ex1: simple\n",
        "count = 0\n",
        "while count < 10:\n",
        "  print(count)\n",
        "  count = count + 1\n",
        "print(\"out of the loop\")\n",
        "print(count)"
      ],
      "metadata": {
        "id": "6F_cuDj4mBDV"
      },
      "execution_count": null,
      "outputs": []
    },
    {
      "cell_type": "code",
      "source": [
        "# while loop ex2: simple\n",
        "count = 5\n",
        "while count > 0:\n",
        "  print(count)\n",
        "  count = count - 1\n",
        "print(\"Boom!\")"
      ],
      "metadata": {
        "id": "IoCpRZFFp85C"
      },
      "execution_count": null,
      "outputs": []
    },
    {
      "cell_type": "code",
      "source": [
        "# while loop ex3: commission\n",
        "## Keep calculating the commission until the user enters 'n'\n",
        "\n",
        "# A variable to control the loop\n",
        "KEEP_GOING = 'y'\n",
        "\n",
        "# calculate a series of commission\n",
        "while keep_going == 'y':\n",
        "\n",
        "  ## Get sales and commision rate\n",
        "  sales = float(input(\"Enter the amount of sales: \"))\n",
        "  comm_rate = float(input(\"Enter the commision rate: \"))\n",
        "\n",
        "  ## Calculate the commision\n",
        "  commission = sales * comm_rate\n",
        "\n",
        "  ## display the commission\n",
        "  print(f\"The comssion is ${comission:.2}\")\n",
        "\n",
        "  ## Ask if the user wants to keep going\n",
        "  keep_going = input(\"Do you want to calculate another commission (y/n): \")"
      ],
      "metadata": {
        "id": "JdV4-Gk2mB3V"
      },
      "execution_count": null,
      "outputs": []
    },
    {
      "cell_type": "code",
      "source": [
        "# while loop ex4: temperature\n",
        "## Checkking a substance's temperature\n",
        "\n",
        "MAX_TEMP = 102.5\n",
        "\n",
        "temperature = float(input(\"Enter the substance's Celcius temperature: \"))\n",
        "\n",
        "# As long as necessary, instruct the user to adjust the thermostat\n",
        "while temperature > MAX_TEMP:\n",
        "  print(\"The temperature is too high.\")\n",
        "  print(\"Turn the themostats down and wait.\")\n",
        "  print(\"5 minutes. Then take the temperature again and enter it.\")\n",
        "  temperature = float(input(\"Enter the substance's Celcius temperature: \"))\n",
        "\n",
        "print(\"The temperature is acceptable.\")"
      ],
      "metadata": {
        "id": "HKGbe-dknOzD"
      },
      "execution_count": null,
      "outputs": []
    },
    {
      "cell_type": "markdown",
      "source": [
        "## Infinite Loop\n",
        "* Loops **must** contain within themselves a way to **terminate**.\n",
        "  * Something inside a $\\texttt{while}$ loop must eventually make the condition false\n",
        "* **Infinite loop**: loop that does not have a way of stopping\n",
        "  * Repeats until program is interrupted\n",
        "  * Occurs when programmer forgets to include stopping code in the loop\n"
      ],
      "metadata": {
        "id": "K_HaxB1hqMiQ"
      }
    },
    {
      "cell_type": "code",
      "source": [
        "# infinite loop example!\n",
        "count = 0\n",
        "while count >= 0:\n",
        "  count = count + 1\n",
        "  if count%100000==0:\n",
        "    print(count)"
      ],
      "metadata": {
        "id": "lS9RrijeqlZb"
      },
      "execution_count": null,
      "outputs": []
    },
    {
      "cell_type": "markdown",
      "source": [
        "## The $\\texttt{for}$ loop: a definite loop\n",
        "* Count-Controlled loop: Iterates a specific number of times.\n",
        "  * Use a $\\texttt{for}$  statement to write count-controlled loop\n",
        "  * Iterates through a sequence of items.\n",
        "* General format:\n",
        "  <br>$\\texttt{for variable in [val1, val2, etc]:}$\n",
        "  <br>&emsp;$\\texttt{statements}$\n",
        "* **Target variable**: the variable which is the target of the assignment at <br> the beginning of each iteration"
      ],
      "metadata": {
        "id": "a3mCSRFqrP5e"
      }
    },
    {
      "cell_type": "code",
      "source": [
        "# for loop ex1: simple\n",
        "for num in [1, 2, 3, 4, 5]:\n",
        "  print(num)"
      ],
      "metadata": {
        "id": "vy5UIOabtBxE"
      },
      "execution_count": null,
      "outputs": []
    },
    {
      "cell_type": "markdown",
      "source": [
        "![while flow.png](https://drive.google.com/uc?export=view&id=1NnObC-tz3HUuYQZCCurhLtZ0yw8o_9T5)"
      ],
      "metadata": {
        "id": "xNIqYQ5quANo"
      }
    },
    {
      "cell_type": "code",
      "source": [
        "# for loop ex2: simple\n",
        "## Looping through odd numbers from 1 to 9.\n",
        "for num in [1, 3, 5, 7, 9]:\n",
        "  print(num)"
      ],
      "metadata": {
        "id": "vn-2y4CathcE"
      },
      "execution_count": null,
      "outputs": []
    },
    {
      "cell_type": "code",
      "source": [
        "# for loop ex3: simple string\n",
        "for name in ['Winken', 'Blinken', 'Nod']:\n",
        "  print(name)"
      ],
      "metadata": {
        "id": "_zTC2Bl9t1MG"
      },
      "execution_count": null,
      "outputs": []
    },
    {
      "cell_type": "markdown",
      "source": [
        "## Using the $\\texttt{range}$ function with the $\\texttt{for}$ loop\n",
        "* $\\texttt{range}$ function returns an iterable object.\n",
        "  * iterable: contains a sequence of values that can be iterated over.\n",
        "* $\\texttt{range}$ characterics:\n",
        "  * One argument: used as an ending point.\n",
        "    * Starts from 0 and DOES NOT include the ending point.\n",
        "  * Two arguments: starting value (inclusive) and ending point (exclusive).\n",
        "  * Three arguments: starting value, ending point, and incremental/step value"
      ],
      "metadata": {
        "id": "yDquo_26uba8"
      }
    },
    {
      "cell_type": "code",
      "source": [
        "# for + range ex1:\n",
        "for num in range(5):\n",
        "  print(num)"
      ],
      "metadata": {
        "id": "tmRKVHjdv5bW"
      },
      "execution_count": null,
      "outputs": []
    },
    {
      "cell_type": "code",
      "source": [
        "# for + range ex2:\n",
        "for num in range(1, 5):\n",
        "  print(num)"
      ],
      "metadata": {
        "id": "UIndOICbv-KL"
      },
      "execution_count": null,
      "outputs": []
    },
    {
      "cell_type": "code",
      "source": [
        "# for + range ex3:\n",
        "for num in range(1, 10, 2):\n",
        "  print(num)"
      ],
      "metadata": {
        "id": "riNRjmdTwBal"
      },
      "execution_count": null,
      "outputs": []
    },
    {
      "cell_type": "code",
      "source": [
        "# for + range ex4:\n",
        "for num in range(5):\n",
        "  print(\"Hello World!\")"
      ],
      "metadata": {
        "id": "m23UucYHw41B"
      },
      "execution_count": null,
      "outputs": []
    },
    {
      "cell_type": "code",
      "source": [
        "# for + range ex5: using the target variable\n",
        "for num in range(1, 5):\n",
        "  print(f\"Number = {num}, Square = {num**2}\")"
      ],
      "metadata": {
        "id": "NRlvSx7VxA-y"
      },
      "execution_count": null,
      "outputs": []
    },
    {
      "cell_type": "code",
      "source": [
        "# for + range ex6: Let the user control the loop\n",
        "end = int(input(\"How high do you want to go?: \"))\n",
        "\n",
        "for num in range(1, end+1):\n",
        "  print(f\"Number = {num}, Square = {num**2}\")"
      ],
      "metadata": {
        "id": "3gRxd9iexP2L"
      },
      "execution_count": null,
      "outputs": []
    },
    {
      "cell_type": "code",
      "source": [
        "# for + range ex7: Let the user control the loop\n",
        "start = int(input(\"Enter the starting number: \"))\n",
        "end = int(input(\"Enter the ending number: \"))\n",
        "\n",
        "for num in range(start, end+1):\n",
        "  print(f\"Number = {num}, Square = {num**2}\")"
      ],
      "metadata": {
        "id": "WJHWdrfVxnqj"
      },
      "execution_count": null,
      "outputs": []
    },
    {
      "cell_type": "code",
      "source": [
        "# for + range ex8: Descending order!\n",
        "## step = -1 (or negative number)\n",
        "## start > end\n",
        "for num in range(5, 0, -1):\n",
        "  print(num)"
      ],
      "metadata": {
        "id": "hmyXhS_cyIaY"
      },
      "execution_count": null,
      "outputs": []
    },
    {
      "cell_type": "markdown",
      "source": [
        "## Calculating a Running Total\n",
        "* Programs often need to calculate a total of a series of numbers\n",
        "* Typically include two elements:\n",
        "  * A loop that reads each number in series\n",
        "  * An accumulator variable\n",
        "* Known as program that keeps a running total: [link text](https://)accumulates total and reads in series\n",
        "* At end of loop, accumulator will reference the total\n"
      ],
      "metadata": {
        "id": "Z4VYbeuhyr-p"
      }
    },
    {
      "cell_type": "markdown",
      "source": [
        "## Calculating a Running Total\n",
        "![accum loop.png](https://drive.google.com/uc?export=view&id=1NnqDu0OoYXxtYDaplU07SGDWKH0Zo_Px)"
      ],
      "metadata": {
        "id": "xT577uAky_Iu"
      }
    },
    {
      "cell_type": "code",
      "source": [
        "# Running total ex1:\n",
        "## Calculate the sum of a series of numbers\n",
        "total = 0\n",
        "end = 10\n",
        "\n",
        "for num in range(end):\n",
        "  total = total + num\n",
        "print(f\"The total is {total}\")"
      ],
      "metadata": {
        "id": "YGsVPbzXzWoY"
      },
      "execution_count": null,
      "outputs": []
    },
    {
      "cell_type": "code",
      "source": [
        "# Running total ex2:\n",
        "## Calculate the sum of a series of numbers\n",
        "total = 0\n",
        "\n",
        "for num in [1, 3, 5, 7, 9]:\n",
        "  total = total + num\n",
        "print(f\"The total is {total}\")"
      ],
      "metadata": {
        "id": "PIxFbwSF1A-D"
      },
      "execution_count": null,
      "outputs": []
    },
    {
      "cell_type": "code",
      "source": [
        "# Running total ex3:\n",
        "## Calculate the sum of a series of numbers entered by user\n",
        "total = 0\n",
        "end = 5\n",
        "\n",
        "for i in range(end):\n",
        "  number = int(input(\"Enter a number: \"))\n",
        "  total = total + number\n",
        "print(f\"The total is {total}\")"
      ],
      "metadata": {
        "id": "Ad-rMYSXz_IQ"
      },
      "execution_count": null,
      "outputs": []
    },
    {
      "cell_type": "markdown",
      "source": [
        "## The Augmented Assignment Operators\n",
        "* In many assignment statements, the variable on the left side of the = operator <br> also appears on the right side of the = operator\n",
        "* Augmented assignment operators: special set of shorthand operators designed <br> for this type of job.\n",
        "\n",
        "![augass.png](https://drive.google.com/uc?export=view&id=1Nqy4GN_vTpH5dZGnFnisb_L145_aw2cO)"
      ],
      "metadata": {
        "id": "Ws4Q0mme1uBB"
      }
    },
    {
      "cell_type": "code",
      "source": [
        "total = 0\n",
        "for num in range(10):\n",
        "  total += num\n",
        "print(total)"
      ],
      "metadata": {
        "id": "zSLxJJBC25Iu"
      },
      "execution_count": null,
      "outputs": []
    },
    {
      "cell_type": "markdown",
      "source": [
        "## General Loop Patterns\n",
        "* Often we use a $\\texttt{for}$ or $\\texttt{while}$ loop to go through a list of items and <br> we are looking for something such as the largest value of the data.\n",
        "* These loops are generally constructed by:\n",
        "\n",
        "  * Initializing one or more variables before the loop starts\n",
        "\n",
        "  * Performing some computation on each item in the loop body, <br> possibly changing the variables in the body of the loop\n",
        "\n",
        "  * Looking at the resulting variables when the loop completes"
      ],
      "metadata": {
        "id": "7SUmtWMm0TIE"
      }
    },
    {
      "cell_type": "code",
      "source": [
        "# General Loop patterns ex1: Finding Largest\n",
        "largest = -1\n",
        "print('Before:', largest)\n",
        "for num in [3, 41, 12, 9, 74, 15]:\n",
        "  if num > largest:\n",
        "    largest = num\n",
        "    print('Loop:', num, largest)\n",
        "print('Largest:', largest)"
      ],
      "metadata": {
        "id": "VPIowh7d1IW1"
      },
      "execution_count": null,
      "outputs": []
    },
    {
      "cell_type": "code",
      "source": [
        "# General Loop patterns ex2: Finding Largest\n",
        "largest = None # a reserved keyword for empty/no assignment\n",
        "print('Before:', largest)\n",
        "for num in [3, 41, 12, 9, 74, 15]:\n",
        "  if largest == None or num > largest:\n",
        "    largest = num\n",
        "    print('Loop:', num, largest)\n",
        "print('Largest:', largest)"
      ],
      "metadata": {
        "id": "tIEsPQWv1g4E"
      },
      "execution_count": null,
      "outputs": []
    },
    {
      "cell_type": "markdown",
      "source": [
        "### Other loop behaviors\n",
        "* **Sentinal**: a special value to determine the end of the loop\n",
        "* **Input Validation loop**: checking user's input whether or not it's appropriate or not."
      ],
      "metadata": {
        "id": "wdkl27aB2F8Y"
      }
    },
    {
      "cell_type": "code",
      "source": [
        "# Sentinal example: property_tax\n",
        "## This program displays property tax.\n",
        "\n",
        "TAX_FACTOR = 0.0065  # represents the tax factor\n",
        "\n",
        "# Get the first lot number\n",
        "print(\"Enter the property lot number or enter '0' to end\")\n",
        "lot = int(input(\"Lot number: \"))\n",
        "\n",
        "while lot != 0:\n",
        "  # Get the property value\n",
        "  value = float(input(\"Enter the property value: \"))\n",
        "\n",
        "  # Calcuate the property's tax\n",
        "  tax = value * TAX_FACTOR\n",
        "\n",
        "  # Display the tax.\n",
        "  print(f\"Property tax: ${tax:.2f}\")\n",
        "\n",
        "  # Get the next lot number\n",
        "  print(\"Enter the property lot number or enter '0' to end\")\n",
        "  lot = int(input(\"Lot number: \"))"
      ],
      "metadata": {
        "id": "9jTmYvjPCUOW"
      },
      "execution_count": null,
      "outputs": []
    },
    {
      "cell_type": "code",
      "source": [
        "# Input Validation example\n",
        "## The program calculates retail prices.\n",
        "\n",
        "MARK_UP = 2.5 # The markup percentage\n",
        "another = 'y' # Variable to control the loop\n",
        "\n",
        "while another == 'y' or another == 'Y':\n",
        "  # get the item's wholesale cost.\n",
        "  wholesale = float(input(\"Enter the item's wholesale cost: \"))\n",
        "\n",
        "  # Validate the wholesale cost.\n",
        "  while wholesale < 0:\n",
        "    print(\"Error: the cost cannot be negative.\")\n",
        "    wholesale = float(input(\"Enter the correct cost: \"))\n",
        "\n",
        "  # Calculate the retail price\n",
        "  retail = wholesale * MARK_UP\n",
        "  print(f\"Retial price: ${retail:.2f}\")\n",
        "\n",
        "  # Do this again?\n",
        "  another = input('Do you have another item? (y/n): ')\n"
      ],
      "metadata": {
        "id": "JScbOOmODJ7y"
      },
      "execution_count": null,
      "outputs": []
    },
    {
      "cell_type": "markdown",
      "source": [
        "## Nested Loops\n",
        "* **Nested loop**: loop that is contained inside another loop\n",
        "* Key points about nested loops:\n",
        " * Inner loop goes through all of its iterations for each iteration of outer loop\n",
        " * Inner loops complete their iterations faster than outer loops\n",
        " * Total number of iterations in nested loop: <br> $\\texttt{number_iterations_inner x \tnumber_iterations_outer}$\n"
      ],
      "metadata": {
        "id": "5FvToJC8FQTn"
      }
    },
    {
      "cell_type": "code",
      "source": [
        "# Nested Loop ex1: test score average\n",
        "## The program averages test scores for multiple students\n",
        "\n",
        "# Get the number of students\n",
        "num_students = int(input(\"How many students do you have? \"))\n",
        "\n",
        "# Get the number of test scores per student.\n",
        "num_test_scores = int(input(\"How many test scores per student? \"))\n",
        "\n",
        "# Determine each student's average test score\n",
        "for student in range(num_students):\n",
        "  total = 0\n",
        "\n",
        "  print('Student number', student+1)\n",
        "  for test_num in range(num_test_scores):\n",
        "    print('Test number', test_num + 1, end='')\n",
        "    score = float(input(': '))\n",
        "    # Add the score to the accumulator\n",
        "    total += score\n",
        "\n",
        "  #Calculate the average\n",
        "  average = total/num_test_scores\n",
        "  print(f\"The average for student number {student+1} is {average}.\")"
      ],
      "metadata": {
        "id": "P0OHFBalFllN"
      },
      "execution_count": null,
      "outputs": []
    },
    {
      "cell_type": "code",
      "source": [
        "# Nested Loop ex2: printing rectangular stars\n",
        "## The program displays a rectangular pattern\n",
        "\n",
        "rows = int(input(\"How many rows? \"))\n",
        "cols = int(input(\"How many columns? \"))\n",
        "\n",
        "for r in range(rows):\n",
        "  for c in range(cols):\n",
        "    print(\"*\", end='')\n",
        "  print()"
      ],
      "metadata": {
        "id": "U320EnBOF7l1"
      },
      "execution_count": null,
      "outputs": []
    },
    {
      "cell_type": "code",
      "source": [
        "# Nested Loop ex3: printing triangle stars\n",
        "## The program displays a triangle pattern\n",
        "BASE_SIZE = 8\n",
        "\n",
        "for r in range(BASE_SIZE):\n",
        "  for c in range(r + 1):\n",
        "    print(\"*\", end='')\n",
        "  print()"
      ],
      "metadata": {
        "id": "8_vY2GBoGnVF"
      },
      "execution_count": null,
      "outputs": []
    },
    {
      "cell_type": "code",
      "source": [
        "# Nested Loop ex2: printing rectangular stars\n",
        "## The program displays a rectangular pattern\n",
        "NUM_STEPS = 6\n",
        "\n",
        "for r in range(NUM_STEPS):\n",
        "  for c in range(r):\n",
        "    print(\" \", end='')\n",
        "  print('*')"
      ],
      "metadata": {
        "id": "6A0TFJrQG1UL"
      },
      "execution_count": null,
      "outputs": []
    },
    {
      "cell_type": "markdown",
      "source": [
        "## $\\texttt{break}$: Break out of the loop\n",
        "* use to break out of the loop"
      ],
      "metadata": {
        "id": "tE1BMdn9H3kj"
      }
    },
    {
      "cell_type": "code",
      "source": [
        "# break ex1:\n",
        "for i in [3, 5, 6, 7, 9]:\n",
        "  print(i)\n",
        "  if i % 2 == 0:\n",
        "    break"
      ],
      "metadata": {
        "id": "dXT8AYs3ICPQ"
      },
      "execution_count": null,
      "outputs": []
    },
    {
      "cell_type": "code",
      "source": [
        "# break ex2:\n",
        "while True:\n",
        "  line = input(\"> \")\n",
        "  if line == \"done\":\n",
        "    break\n",
        "  print(line)\n",
        "print(\"Done!\")"
      ],
      "metadata": {
        "id": "wqyj0_29IOjq"
      },
      "execution_count": null,
      "outputs": []
    },
    {
      "cell_type": "markdown",
      "source": [
        "## Summary\n",
        "* $\\texttt{while}$ loop: condition-controlled loop\n",
        "* $\\texttt{for}$ loop: count-controlled loop\n",
        "* $\\texttt{range}$ function\n",
        "* Loop patterns (counting and checking)"
      ],
      "metadata": {
        "id": "gWoMUGVSHJE3"
      }
    }
  ]
}