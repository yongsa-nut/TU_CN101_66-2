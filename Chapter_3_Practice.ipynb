{
  "nbformat": 4,
  "nbformat_minor": 0,
  "metadata": {
    "colab": {
      "provenance": [],
      "authorship_tag": "ABX9TyOGycrkajgdVdLtH8JDBIUS",
      "include_colab_link": true
    },
    "kernelspec": {
      "name": "python3",
      "display_name": "Python 3"
    },
    "language_info": {
      "name": "python"
    }
  },
  "cells": [
    {
      "cell_type": "markdown",
      "metadata": {
        "id": "view-in-github",
        "colab_type": "text"
      },
      "source": [
        "<a href=\"https://colab.research.google.com/github/yongsa-nut/TU_Intro_Prog/blob/main/Chapter_3_Practice.ipynb\" target=\"_parent\"><img src=\"https://colab.research.google.com/assets/colab-badge.svg\" alt=\"Open In Colab\"/></a>"
      ]
    },
    {
      "cell_type": "markdown",
      "source": [
        "**Q1**: What will the following code output?\n",
        "```\n",
        "x = 3\n",
        "y = 9\n",
        "if x**2/2 > y//2:\n",
        "  print(\"Greater\", end=\"\")\n",
        "print(\"Done\")\n",
        "```"
      ],
      "metadata": {
        "id": "HzHyRlyS6sbB"
      }
    },
    {
      "cell_type": "code",
      "source": [],
      "metadata": {
        "id": "_OAhAP6d6roe"
      },
      "execution_count": null,
      "outputs": []
    },
    {
      "cell_type": "markdown",
      "source": [
        "**Q2**: What will the following code print out?\n",
        "\n",
        "```\n",
        "x = 5\n",
        "y = 7\n",
        "z = 10\n",
        "print(f\"{x > z}, {z < y}, {x*2 == (y+z)}, {(x+z) != (1+y*2)}\")\n",
        "```"
      ],
      "metadata": {
        "id": "5k4yz58D7GOy"
      }
    },
    {
      "cell_type": "code",
      "source": [],
      "metadata": {
        "id": "09jwNnDq7F6N"
      },
      "execution_count": null,
      "outputs": []
    },
    {
      "cell_type": "markdown",
      "source": [
        "**Q3:** What will the following code print out?\n",
        "\n",
        "```\n",
        "a = True\n",
        "b = True\n",
        "c = False\n",
        "\n",
        "if a and not b and not c:\n",
        "  print(\"First\")\n",
        "elif not (b or not c) or a:\n",
        "  print(\"Second\")\n",
        "else:\n",
        "  print(\"Third\")\n",
        "```"
      ],
      "metadata": {
        "id": "7DYFU7xc8ESp"
      }
    },
    {
      "cell_type": "code",
      "source": [],
      "metadata": {
        "id": "G7737nMK8WJ1"
      },
      "execution_count": null,
      "outputs": []
    },
    {
      "cell_type": "markdown",
      "source": [
        "**Q4**: What will the following code print out?\n",
        "\n",
        "```\n",
        "first  = \"HelloWorld\"\n",
        "second = \"HowAreYou?\"\n",
        "third  = \"HereIam.\"\n",
        "\n",
        "print(f\"{first > second}, {second < third}, {first > third}\")\n",
        "```"
      ],
      "metadata": {
        "id": "U97HJJ_f8yxW"
      }
    },
    {
      "cell_type": "code",
      "source": [],
      "metadata": {
        "id": "vwT8XFgX8y_J"
      },
      "execution_count": null,
      "outputs": []
    },
    {
      "cell_type": "markdown",
      "source": [
        "**Q5**: What needs to be to make the following program output \"Third\"?\n",
        "\n",
        "```\n",
        "x = _\n",
        "if 1 <= x <= 10:\n",
        "  print(\"First\")\n",
        "elif x > 20 or (x%2==1):\n",
        "  print(\"Second\")\n",
        "elif x > 0 and (x - 1 < 13):\n",
        "  print(\"Third\")\n",
        "else:\n",
        "  print(\"Fourth\")\n",
        "```"
      ],
      "metadata": {
        "id": "68eCz3tu9xvV"
      }
    },
    {
      "cell_type": "code",
      "source": [],
      "metadata": {
        "id": "pBr9qEs69yB5"
      },
      "execution_count": null,
      "outputs": []
    },
    {
      "cell_type": "markdown",
      "source": [
        "**Q6**: What will the following program print out?\n",
        "\n",
        "```\n",
        "a = 10\n",
        "b = 20\n",
        "c = 5\n",
        "print((a > b) or ((b > c) and (a*2 == b)))\n",
        "print((c > b) and ((a > b) or (b != c) or (a != c)))\n",
        "print((c >= b) or (a < b) or (a == c) or (b == c))\n",
        "```"
      ],
      "metadata": {
        "id": "jjN_Bleg2n9w"
      }
    },
    {
      "cell_type": "code",
      "execution_count": null,
      "metadata": {
        "id": "Pyrau9iQyurx"
      },
      "outputs": [],
      "source": []
    },
    {
      "cell_type": "markdown",
      "source": [
        "**Q7**: What will the following code print out?\n",
        "```\n",
        "score = 91\n",
        "if score > 90:\n",
        "  print(\"A\")\n",
        "if score > 80:\n",
        "  print(\"B\")\n",
        "if score > 70:\n",
        "  print(\"C\")\n",
        "else:\n",
        "  print(\"D\")\n",
        "```"
      ],
      "metadata": {
        "id": "uKkJpjfx3AHO"
      }
    },
    {
      "cell_type": "code",
      "source": [],
      "metadata": {
        "id": "9VBkmXGWKclF"
      },
      "execution_count": null,
      "outputs": []
    },
    {
      "cell_type": "markdown",
      "source": [
        "**Q8**: Simple Calculator\n",
        "Develop a program that acts as a simple calculator.\n",
        "\n",
        "The program should take three inputs: two numbers and an operator (either `+`, `-`, `*`, or `/`).\n",
        "\n",
        "It should then output the result of the operation.\n",
        "\n",
        "Example\n",
        "```\n",
        "First number: 9\n",
        "Second number: 1\n",
        "Operator: +\n",
        "10\n",
        "```\n",
        "\n",
        "```\n",
        "First number: 4\n",
        "Second number: 2\n",
        "Operator: *\n",
        "8\n",
        "```"
      ],
      "metadata": {
        "id": "rRrn5nrb6oBa"
      }
    },
    {
      "cell_type": "code",
      "source": [],
      "metadata": {
        "id": "l59CD3mk6niu"
      },
      "execution_count": null,
      "outputs": []
    },
    {
      "cell_type": "markdown",
      "source": [
        "**Q9**: Calculate BMI.\n",
        "Write a Python program that calculates Body Mass Index (BMI) and categorizes it based on the value:\n",
        "- Underweight: BMI < 18.5\n",
        "- Normal weight: 18.5 <= BMI < 25\n",
        "- Overweight: 25 <= BMI < 30\n",
        "- Obesity: BMI >= 30\n",
        "\n",
        "BMI is calculated as: $\\frac{\\text{weight (kg)}}{\\text{(height (m))}^2}$\n",
        "\n",
        "Input:\n",
        "* Weight in kg\n",
        "* Height in meter.\n",
        "\n",
        "Output:\n",
        "* BMI in two decimal places and the category.\n",
        "\n",
        "Example\n",
        "```\n",
        "Weight (kg): 70\n",
        "Height (meter): 1.75\n",
        "Your BMI is 22.86. Normal weight.\n",
        "```\n"
      ],
      "metadata": {
        "id": "PRdn1AJeEbXI"
      }
    },
    {
      "cell_type": "code",
      "source": [],
      "metadata": {
        "id": "byKNdUkiEc1m"
      },
      "execution_count": null,
      "outputs": []
    },
    {
      "cell_type": "markdown",
      "source": [
        "**Q10**: Quadratic Solver\n",
        "\n",
        "Write a program that solves a quadratic equation of the form $ax^2 + bx + c = 0$. <br>\n",
        "The program should ask the user for the coefficients $a$, $b$, and $c$ and display the roots.\n",
        "\n",
        "The formula is $x = \\frac{-b \\pm \\sqrt{(b^2 - 4ac)}}{2a}$.\n",
        "\n",
        "Recall that the discriminant $D = b^2 - 4ac$ determines the nature of the roots:\n",
        "- If `D > 0`, the equation has two real and distinct roots.\n",
        "- If `D = 0`, the equation has one real root (repeated).\n",
        "- If `D < 0`, the equation has two complex roots. <br> For this condition, just simply print out 'no real number answers'.\n",
        "\n",
        "Input:\n",
        "* $a$, $b$, and $c$\n",
        "\n",
        "Output:\n",
        "* The roots of the quadratic equation. Two decimal places.\n",
        "\n",
        "Example:\n",
        "```\n",
        "Enter a: 1\n",
        "Enter b: 2\n",
        "Enter c: 1\n",
        "The answer is -1.\n",
        "```\n",
        "\n",
        "```\n",
        "Enter a: 2\n",
        "Enter b: 1\n",
        "Enter c: 2\n",
        "no real number answers.\n",
        "```\n",
        "\n",
        "```\n",
        "Enter a: 1\n",
        "Enter b: 3\n",
        "Enter c: 2\n",
        "Ther answer is -1  and -2.\n",
        "```"
      ],
      "metadata": {
        "id": "R09n9mipEdEc"
      }
    },
    {
      "cell_type": "code",
      "source": [],
      "metadata": {
        "id": "ZSeJtxkCEea1"
      },
      "execution_count": null,
      "outputs": []
    }
  ]
}