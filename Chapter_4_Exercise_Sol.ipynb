{
  "nbformat": 4,
  "nbformat_minor": 0,
  "metadata": {
    "colab": {
      "provenance": [],
      "authorship_tag": "ABX9TyP9hSJar42Wy6mMU8rsyKtc",
      "include_colab_link": true
    },
    "kernelspec": {
      "name": "python3",
      "display_name": "Python 3"
    },
    "language_info": {
      "name": "python"
    }
  },
  "cells": [
    {
      "cell_type": "markdown",
      "metadata": {
        "id": "view-in-github",
        "colab_type": "text"
      },
      "source": [
        "<a href=\"https://colab.research.google.com/github/yongsa-nut/TU_Intro_Prog/blob/main/Chapter_4_Exercise_Sol.ipynb\" target=\"_parent\"><img src=\"https://colab.research.google.com/assets/colab-badge.svg\" alt=\"Open In Colab\"/></a>"
      ]
    },
    {
      "cell_type": "markdown",
      "source": [
        "**Q1** What will the following code print out?\n",
        "\n",
        "```\n",
        "num = 10\n",
        "while num > 1:\n",
        " print(num, end=\"\")\n",
        " num -= 2\n",
        "```"
      ],
      "metadata": {
        "id": "-ccle5cmfCUv"
      }
    },
    {
      "cell_type": "code",
      "execution_count": null,
      "metadata": {
        "id": "JxToh3fRe51s"
      },
      "outputs": [],
      "source": [
        "108642"
      ]
    },
    {
      "cell_type": "markdown",
      "source": [
        "**Q2**: What will the following code print out?\n",
        "\n",
        "```\n",
        "total = 0\n",
        "for i in range(1,10,2):\n",
        "  total += i\n",
        "print(i)\n",
        "```"
      ],
      "metadata": {
        "id": "bIqgKmHYfp-D"
      }
    },
    {
      "cell_type": "code",
      "source": [
        "9"
      ],
      "metadata": {
        "id": "Ur-hlKzrfsGg"
      },
      "execution_count": null,
      "outputs": []
    },
    {
      "cell_type": "markdown",
      "source": [
        "**Q3**: What will the following code print out?\n",
        "\n",
        "```\n",
        "total = 0\n",
        "for num in [4, 5, 7, 9, 12]:\n",
        "  if num %2 == 0:\n",
        "    total += num\n",
        "  else:\n",
        "    total += 1\n",
        "print(total)\n",
        "```"
      ],
      "metadata": {
        "id": "ZMSvucC_fssT"
      }
    },
    {
      "cell_type": "code",
      "source": [
        "19"
      ],
      "metadata": {
        "id": "1cSfjsh7fvEp"
      },
      "execution_count": null,
      "outputs": []
    },
    {
      "cell_type": "markdown",
      "source": [
        "**Q4**: What will the following code print out?\n",
        "```\n",
        "lowest = -1\n",
        "for n in [10, 20, 30, 40, 50]:\n",
        "  if n < lowest:\n",
        "    lowest = n\n",
        "print(lowest)\n",
        "```"
      ],
      "metadata": {
        "id": "VQ0QwYqzfzsL"
      }
    },
    {
      "cell_type": "code",
      "source": [
        "-1"
      ],
      "metadata": {
        "id": "ITwkD9pMf35j"
      },
      "execution_count": null,
      "outputs": []
    },
    {
      "cell_type": "markdown",
      "source": [
        "**Q5**: What will the following code print out?\n",
        "\n",
        "```\n",
        "for i in range(5):\n",
        "  for j in range(1, i):\n",
        "    print(j, end='')\n",
        "```"
      ],
      "metadata": {
        "id": "lpWYJuW1f4Oj"
      }
    },
    {
      "cell_type": "code",
      "source": [
        "112123"
      ],
      "metadata": {
        "id": "AzeeywQxf7FP"
      },
      "execution_count": null,
      "outputs": []
    },
    {
      "cell_type": "markdown",
      "source": [
        "**Q6**: Fill in the blank with a number so that the program will print out 15.\n",
        "\n",
        "```\n",
        "x = 10\n",
        "y = 0\n",
        "while x > 0:\n",
        "  x -= 2\n",
        "  y += _\n",
        "print(y)\n",
        "```"
      ],
      "metadata": {
        "id": "ZaL51TnZ1JFm"
      }
    },
    {
      "cell_type": "code",
      "source": [
        "3"
      ],
      "metadata": {
        "id": "m143QTiIi0pp"
      },
      "execution_count": null,
      "outputs": []
    },
    {
      "cell_type": "markdown",
      "source": [
        "**Q7**: Fill in the blank with a number so that the program will print out 8.\n",
        "\n",
        "```\n",
        "count = 1\n",
        "for i in range(1,_):\n",
        "  count += count\n",
        "print(count)\n",
        "```"
      ],
      "metadata": {
        "id": "frWE1RkGi1FE"
      }
    },
    {
      "cell_type": "code",
      "source": [
        "4"
      ],
      "metadata": {
        "id": "r5-R-qiJjxUs"
      },
      "execution_count": null,
      "outputs": []
    },
    {
      "cell_type": "markdown",
      "source": [
        "**Q8**: What will the following code print out?\n",
        "\n",
        "```\n",
        "for i in range(0, 10, 3):\n",
        "  for j in range(5, i, - 3):\n",
        "     print(j, end='')  \n",
        "```"
      ],
      "metadata": {
        "id": "0Tt8nPkOjyCQ"
      }
    },
    {
      "cell_type": "code",
      "source": [
        "525"
      ],
      "metadata": {
        "id": "d1Pq2iMSjxko"
      },
      "execution_count": null,
      "outputs": []
    },
    {
      "cell_type": "markdown",
      "source": [
        "**Q9**: What will the following code print out?\n",
        "\n",
        "```\n",
        "total = 0\n",
        "for i in range(0, 8, 2):\n",
        "  for j in range(0, 3):\n",
        "    if i > j:\n",
        "      total += i\n",
        "    else:\n",
        "      total += 1\n",
        "print(total)\n",
        "```"
      ],
      "metadata": {
        "id": "FnshHPVRkouW"
      }
    },
    {
      "cell_type": "code",
      "source": [
        "38"
      ],
      "metadata": {
        "id": "uKYTnddpksAJ"
      },
      "execution_count": null,
      "outputs": []
    },
    {
      "cell_type": "markdown",
      "source": [
        "**Q10:** What will the following code print out?\n",
        "\n",
        "```\n",
        "num = 1\n",
        "count = 0\n",
        "while num <= 1024:\n",
        "  count += 1\n",
        "  num *= 2\n",
        "print(count)\n",
        "```"
      ],
      "metadata": {
        "id": "VwMx4brFksQ9"
      }
    },
    {
      "cell_type": "code",
      "source": [
        "11"
      ],
      "metadata": {
        "id": "idjI8ndBkzWP"
      },
      "execution_count": null,
      "outputs": []
    },
    {
      "cell_type": "markdown",
      "source": [
        "\n",
        "\n",
        "---\n",
        "\n"
      ],
      "metadata": {
        "id": "VLn-GBDXgCWw"
      }
    },
    {
      "cell_type": "markdown",
      "source": [
        "**Q11**:\n",
        "Write a program that repeatedly prompts a user for integer numbers until the user enters 'done'. <br> Once 'done' is entered, print out the largest and smallest of the numbers.\n",
        "\n",
        "Example:\n",
        "```\n",
        "Enter a number: 5\n",
        "Enter a number: 3\n",
        "Enter a number: 10\n",
        "Enter a number: done\n",
        "Maximum is 10\n",
        "Minimum is 3\n",
        "```"
      ],
      "metadata": {
        "id": "8voyjOiegDKY"
      }
    },
    {
      "cell_type": "code",
      "source": [
        "maximum = -999999\n",
        "minimum = 999999\n",
        "\n",
        "while True:\n",
        "  num = input('Enter a number: ')\n",
        "  if num == 'done':\n",
        "    break\n",
        "  num = int(num)\n",
        "  if num > maximum:\n",
        "    maximum = num\n",
        "  if num < minimum:\n",
        "    minimum = num\n",
        "print(f'Maximum is {maximum}')\n",
        "print(f'Minimum is {minimum}')"
      ],
      "metadata": {
        "id": "4XNy4b7SgGMU"
      },
      "execution_count": null,
      "outputs": []
    },
    {
      "cell_type": "markdown",
      "source": [
        "**Q12**:\n",
        "Write a program that take in two numbers $n$ and $m$ from a user. <br> Then print out a sequence of numbers from 1 to $n$ separated by commas. <br> If a number in the sequence is divisible by $m$, print 'D' instead.\n",
        "\n",
        "Do NOT print out any extra comma at the end.\n",
        "\n",
        "\n",
        "Example:\n",
        "\n",
        "```\n",
        "Enter n: 20\n",
        "Enter m: 4\n",
        "1,2,3,D,5,6,7,D,9,10,11,D,13,14,15,D,17,18,19,D\n",
        "```\n",
        "\n",
        "```\n",
        "Enter n: 100\n",
        "Enter m: 3\n",
        "1,2,D,4,5,D,7,8,D,10,11,D,13,14,D,16,17,D,19,20,D,22,23,D,25,26,D,28,29,D,31,32,D,34,35,D,37,38,D,40,41,D,43,44,D,46,47,D,49,50,D,52,53,D,55,56,D,58,59,D,61,62,D,64,65,D,67,68,D,70,71,D,73,74,D,76,77,D,79,80,D,82,83,D,85,86,D,88,89,D,91,92,D,94,95,D,97,98,D,100\n",
        "```"
      ],
      "metadata": {
        "id": "4gvg-YNEn-Y0"
      }
    },
    {
      "cell_type": "code",
      "source": [
        "n = int(input('Enter n: '))\n",
        "m = int(input('Enter m: '))\n",
        "\n",
        "for i in range(1, n + 1):\n",
        "\n",
        "  if i == n: # at the end/last number\n",
        "    if i % m == 0:\n",
        "      print('D', end='')\n",
        "    else:\n",
        "      print(i, end='')\n",
        "  else:\n",
        "    if i % m == 0:\n",
        "      print('D', end=',')\n",
        "    else:\n",
        "      print(i, end=',')\n"
      ],
      "metadata": {
        "id": "C7UenIYpn976"
      },
      "execution_count": null,
      "outputs": []
    },
    {
      "cell_type": "markdown",
      "source": [
        "**Q13**: Printing outer traingle\n",
        "\n",
        "Write a program that takes in an interger number from a user and then print out a traingle shown below.\n",
        "\n",
        "```\n",
        "Enter a number: 1\n",
        "*\n",
        "```\n",
        "\n",
        "```\n",
        "Enter a number: 2\n",
        "*\n",
        " *\n",
        "```\n",
        "```\n",
        "Enter a number: 3\n",
        "*\n",
        " *\n",
        "  *\n",
        "```\n",
        "```\n",
        "Enter a number: 6\n",
        "*\n",
        " *\n",
        "  *\n",
        "   *\n",
        "    *\n",
        "     *\n",
        "```"
      ],
      "metadata": {
        "id": "oaZn-j93r5sQ"
      }
    },
    {
      "cell_type": "code",
      "source": [
        "n = int(input('Enter a number: '))\n",
        "\n",
        "for r in range(n):\n",
        "  for c in range(r):\n",
        "    print(\" \", end='')\n",
        "  print(\"*\")"
      ],
      "metadata": {
        "id": "2QjM6SncgI9G"
      },
      "execution_count": null,
      "outputs": []
    },
    {
      "cell_type": "markdown",
      "source": [
        "## Submission:\n",
        "\n",
        "* File > Download > Download.ipynb\n",
        "* Upload it to Microsoft Team"
      ],
      "metadata": {
        "id": "IxaxxsGvjbus"
      }
    }
  ]
}