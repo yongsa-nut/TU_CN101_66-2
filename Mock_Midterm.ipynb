{
  "nbformat": 4,
  "nbformat_minor": 0,
  "metadata": {
    "colab": {
      "provenance": [],
      "authorship_tag": "ABX9TyOB/o60rVG3xMw0bmPf5pTy",
      "include_colab_link": true
    },
    "kernelspec": {
      "name": "python3",
      "display_name": "Python 3"
    },
    "language_info": {
      "name": "python"
    }
  },
  "cells": [
    {
      "cell_type": "markdown",
      "metadata": {
        "id": "view-in-github",
        "colab_type": "text"
      },
      "source": [
        "<a href=\"https://colab.research.google.com/github/yongsa-nut/TU_Intro_Prog/blob/main/Mock_Midterm.ipynb\" target=\"_parent\"><img src=\"https://colab.research.google.com/assets/colab-badge.svg\" alt=\"Open In Colab\"/></a>"
      ]
    },
    {
      "cell_type": "markdown",
      "source": [
        "**Q1**: Fill in the blank so that the program outputs like the examples below.\n",
        "\n",
        "\n",
        "```\n",
        "x = int(input(\"Enter n: \"))\n",
        "x = x____________\n",
        "print(\"x =\", x)\n",
        "```\n",
        "\n",
        "example 1:\n",
        "\n",
        "\n",
        "```\n",
        "Enter n: 500\n",
        "x = 5\n",
        "```\n",
        "\n",
        "example 2:\n",
        "\n",
        "```\n",
        "Enter n: 800\n",
        "x = 8\n",
        "```"
      ],
      "metadata": {
        "id": "yKl-NL9Pb3zq"
      }
    },
    {
      "cell_type": "code",
      "source": [],
      "metadata": {
        "id": "IDHphIGub5fs"
      },
      "execution_count": null,
      "outputs": []
    },
    {
      "cell_type": "markdown",
      "source": [
        "**Q2**: What will the following code print out?\n",
        "\n",
        "```\n",
        "first = 'AAAaaaa'\n",
        "second = \"AAAww\"\n",
        "third = 'aaaAAAA'\n",
        "\n",
        "print(f'{first > second}, {second > third}, {first > third}')\n",
        "```"
      ],
      "metadata": {
        "id": "Z6OdpzHccByH"
      }
    },
    {
      "cell_type": "code",
      "source": [],
      "metadata": {
        "id": "7Rytji50cBBq"
      },
      "execution_count": null,
      "outputs": []
    },
    {
      "cell_type": "markdown",
      "source": [
        "**Q3**: What will the following code print out?\n",
        "```\n",
        "x = 31356190\n",
        "y = 0.44\n",
        "print(f\"x = {x:,d}, y ={y:.1%}\")\n",
        "```"
      ],
      "metadata": {
        "id": "zthvn2pecJbT"
      }
    },
    {
      "cell_type": "code",
      "source": [],
      "metadata": {
        "id": "tz6zGqfYcKat"
      },
      "execution_count": null,
      "outputs": []
    },
    {
      "cell_type": "markdown",
      "source": [
        "**Q4**: What will the following program output?\n",
        "```\n",
        "num1 = 10\n",
        "num2 = 7\n",
        "num3 = 4\n",
        "\n",
        "if num1 < num2 and 10 / (num2-num2) > 0:\n",
        "  num2 = num2/2\n",
        "if num3 < num2 or num2 / (num1 * 0) != 0:\n",
        "  num1 = num1 * 2\n",
        "  num2 = num2 - num3\n",
        "  num3 = num2 + num3\n",
        "else:\n",
        "  num3 = num3 * 2\n",
        "  num1 = num3 - num1\n",
        "  num2 = num2 + num2\n",
        "\n",
        "print(num1, num2, num3)\n",
        "```"
      ],
      "metadata": {
        "id": "IgACYVoyap_T"
      }
    },
    {
      "cell_type": "code",
      "source": [],
      "metadata": {
        "id": "gKlRhswwariC"
      },
      "execution_count": null,
      "outputs": []
    },
    {
      "cell_type": "markdown",
      "source": [
        "**Q5**: What will the following code print out?\n",
        "```\n",
        "num = 10\n",
        "x = 5\n",
        "num = x + num ** 2 /5 - x * 3\n",
        "x = 10\n",
        "print(num)\n",
        "```"
      ],
      "metadata": {
        "id": "XbQ1MoMRcPMc"
      }
    },
    {
      "cell_type": "code",
      "source": [],
      "metadata": {
        "id": "xEY9XD96cO6u"
      },
      "execution_count": null,
      "outputs": []
    },
    {
      "cell_type": "markdown",
      "source": [
        "**Q6**: What will the following program output?\n",
        "\n",
        "```\n",
        "a = False\n",
        "b = False\n",
        "c = False\n",
        "\n",
        "if a and not b and not c:\n",
        "  print(\"First\")\n",
        "elif a or not b and not c:\n",
        "  print(\"Second\")\n",
        "else:\n",
        "  print(\"Third\")\n",
        "```"
      ],
      "metadata": {
        "id": "3xRANpZWawrt"
      }
    },
    {
      "cell_type": "code",
      "source": [],
      "metadata": {
        "id": "4gda0B-zaxcd"
      },
      "execution_count": null,
      "outputs": []
    },
    {
      "cell_type": "markdown",
      "source": [
        "**Q7**: What will the following program output?\n",
        "\n",
        "```\n",
        "x = 1\n",
        "for i in range(x, x*5, 2):\n",
        "  if i > x:\n",
        "    print(i, end='')\n",
        "for i in range(x*10+2, x, -2):\n",
        "  if i % 3 == 1:\n",
        "    print(i, end='')\n",
        "```"
      ],
      "metadata": {
        "id": "VPRYcNIraxrW"
      }
    },
    {
      "cell_type": "code",
      "source": [],
      "metadata": {
        "id": "HQyDU_tLazlt"
      },
      "execution_count": null,
      "outputs": []
    },
    {
      "cell_type": "markdown",
      "source": [
        "**Q8**: What will the following program output?\n",
        "```\n",
        "num1 = 7\n",
        "num2 = 11\n",
        "\n",
        "if num2 // num1 > num2 % num1:\n",
        "  print(\"First\")\n",
        "if num1*num2 > num1**num2:\n",
        "  print(\"Second\")\n",
        "else:\n",
        "  if num1 > num2 and num1 - num2 > 0:\n",
        "    print(\"Third\")\n",
        "  else:\n",
        "    print(\"Fourth\")\n",
        "```"
      ],
      "metadata": {
        "id": "NN5XMniva1nI"
      }
    },
    {
      "cell_type": "code",
      "source": [],
      "metadata": {
        "id": "TEKNbzYya1J2"
      },
      "execution_count": null,
      "outputs": []
    },
    {
      "cell_type": "markdown",
      "source": [
        "**Q9**: What $\\texttt{x}$ needs to be to make the following program output \"Third\"?\n",
        "\n",
        "```\n",
        "x = _\n",
        "if (x%5) > 10:\n",
        "  print(\"First\")\n",
        "elif (x**2) + 5 > 20:\n",
        "  print(\"Second\")\n",
        "elif (x%2==1) and (x+5) > 6:\n",
        "  print(\"Third\")\n",
        "else:\n",
        "  print(\"Fourth\")\n",
        "```"
      ],
      "metadata": {
        "id": "HDH4Bsm-a4Qw"
      }
    },
    {
      "cell_type": "code",
      "source": [],
      "metadata": {
        "id": "vdihjX8Ya41L"
      },
      "execution_count": null,
      "outputs": []
    },
    {
      "cell_type": "markdown",
      "source": [
        "**Q10**: What will the code below print out?\n",
        "\n",
        "```\n",
        "num1 = 123456789.09\n",
        "num2 = 3\n",
        "print(f\"{num1:,.3f}, {num2*3}\")\n",
        "```"
      ],
      "metadata": {
        "id": "r5Q8uvuYgcpx"
      }
    },
    {
      "cell_type": "code",
      "source": [],
      "metadata": {
        "id": "8xFlZYN2gcDN"
      },
      "execution_count": null,
      "outputs": []
    },
    {
      "cell_type": "markdown",
      "source": [
        "**Q11**:\n",
        "\n",
        "Write the output of the following program:\n",
        "\n",
        "```\n",
        "num = 10\n",
        "while num > 1:\n",
        "  if num%2 == 0:\n",
        "    print(num, end = \",\")\n",
        "  num -=1\n",
        "```"
      ],
      "metadata": {
        "id": "MJS0ib8OhPNu"
      }
    },
    {
      "cell_type": "code",
      "source": [],
      "metadata": {
        "id": "W6ltA6dPutJi"
      },
      "execution_count": null,
      "outputs": []
    },
    {
      "cell_type": "markdown",
      "source": [
        "**Q12**: Write the output of the following program:\n",
        "\n",
        "```\n",
        "total = 0\n",
        "for i in range(10):\n",
        "  while i > 5:\n",
        "    total += 1\n",
        "    i -= 1\n",
        "print(f\"{total:.2f}\")\n",
        "```"
      ],
      "metadata": {
        "id": "WB_TaxF4ulQF"
      }
    },
    {
      "cell_type": "code",
      "source": [],
      "metadata": {
        "id": "nkI-q5dFur1E"
      },
      "execution_count": null,
      "outputs": []
    },
    {
      "cell_type": "markdown",
      "source": [
        "**Q13**: Write the output of the following program:\n",
        "```\n",
        "x = 1\n",
        "for i in range(1, 12, 2):\n",
        "  for j in range(6, 0, -3):\n",
        "    x = x + 2\n",
        "print(f\"x = {x}\")\n",
        "```"
      ],
      "metadata": {
        "id": "Ci3h9-8UunnN"
      }
    },
    {
      "cell_type": "code",
      "source": [],
      "metadata": {
        "id": "FxrEXf52urm8"
      },
      "execution_count": null,
      "outputs": []
    },
    {
      "cell_type": "markdown",
      "source": [
        "**Q14**: Write the output of the following program:\n",
        "```\n",
        "x = 950\n",
        "y = 100\n",
        "\n",
        "while y != x:\n",
        "  if x > y:\n",
        "    x -= y\n",
        "  else:\n",
        "    y -= x\n",
        "print(x)\n",
        "```"
      ],
      "metadata": {
        "id": "8FI_cC3euqMz"
      }
    },
    {
      "cell_type": "code",
      "source": [],
      "metadata": {
        "id": "oC1eLQBbuthB"
      },
      "execution_count": null,
      "outputs": []
    },
    {
      "cell_type": "markdown",
      "source": [
        "**Q15**: There is a problem with the program below. Fix it.\n",
        "\n",
        "```\n",
        "n = 0\n",
        "while n < 10:\n",
        "  print(f\"{n+2}\")\n",
        "  n -= 1\n",
        "```"
      ],
      "metadata": {
        "id": "G8zJXe8fut8H"
      }
    },
    {
      "cell_type": "code",
      "source": [],
      "metadata": {
        "id": "1pgMML7Tuvb7"
      },
      "execution_count": null,
      "outputs": []
    },
    {
      "cell_type": "markdown",
      "source": [
        "\n",
        "\n",
        "---\n",
        "\n"
      ],
      "metadata": {
        "id": "CyNHvRi6edlF"
      }
    },
    {
      "cell_type": "markdown",
      "source": [
        "**Q16**:\n",
        "Write a program to classify the oldest person in the list based on the following criteria:\n",
        "\n",
        "* If age is below 12, \"Children\"\n",
        "* If age is between 12 and 18, \"Adolescence\"\n",
        "* If age is between 19 and 30, \"Young Adult\"\n",
        "* If age is between 31 and 60, \"Middle Aged\"\n",
        "* If age is greater than 60, \"Elderly\"\n",
        "\n",
        "**Input**\n",
        "* an interger $n$ for the number of people\n",
        "* $n$ integer numbers for people's age\n",
        "\n",
        "**Output**\n",
        "* print out the category.\n",
        "\n",
        "Example\n",
        "```\n",
        "Number of people: 3\n",
        "Enter age: 5\n",
        "Enter age: 12\n",
        "Enter age: 7\n",
        "The oldest person is Children.\n",
        "```\n",
        "\n",
        "```\n",
        "Number of people: 5\n",
        "Enter age: 31\n",
        "Enter age: 10\n",
        "Enter age: 25\n",
        "Enter age: 30\n",
        "Enter age: 17\n",
        "The oldest person is Middle Aged.\n",
        "```"
      ],
      "metadata": {
        "id": "x8v5xW3ja_qy"
      }
    },
    {
      "cell_type": "code",
      "source": [
        "\n",
        "\n",
        "\n",
        "\n",
        "\n",
        "\n",
        "\n",
        "\n",
        "\n",
        "\n",
        "\n"
      ],
      "metadata": {
        "id": "pcXwndsPbCN6"
      },
      "execution_count": null,
      "outputs": []
    },
    {
      "cell_type": "markdown",
      "source": [
        "**Q17** Cashier V4\n",
        "\n",
        "Welcome to another Cashier program. This time we are selling pizza (30 Baht per slice), pasta (80 Baht), and water (10 Baht).\n",
        "\n",
        "The promotions are as follow:\n",
        "\n",
        "* If you buy at least 10 slices of pizza, you get a 20% discount off pizza.\n",
        "* Pasta is buy one get one free. If you buy 2 pasta, you only pay 1. If you buy 5 pasta, you pay 3.\n",
        "* If your total payment after the both two promotions is at least 1,000 baht, you get an additional 100 baht discount.\n",
        "\n",
        "Finally, you have to pay a 10% sale tax of the total payment calculated after all the promotions.\n",
        "\n",
        "**input**\n",
        "* An interger number for the number of pizza slice.\n",
        "* An interger number for the number of pasta.\n",
        "* An interger number for the number of water.\n",
        "\n",
        "**Output**\n",
        "* The original payment before any discount in two decimal places.\n",
        "* The final payment in two decimal places.\n",
        "\n",
        "**Note**\n",
        "* Use Named Constant\n",
        "\n",
        "Examples\n",
        "```\n",
        "Enter the number of pizza: 5\n",
        "Enter the number of pasta: 1\n",
        "Enter the number of water: 5\n",
        "The original payment is 280.00 Baht.\n",
        "The final payment is 308.00 Baht.\n",
        "```\n",
        "\n",
        "```\n",
        "Enter the number of pizza: 10\n",
        "Enter the number of pasta: 2\n",
        "Enter the number of water: 10\n",
        "The original payment is 560.00 Baht.\n",
        "The final payment is 462.00 Baht.\n",
        "```\n",
        "\n",
        "```\n",
        "Enter the number of pizza: 5\n",
        "Enter the number of pasta: 5\n",
        "Enter the number of water: 5\n",
        "The original payment is 600.00 Baht.\n",
        "The final payment is 484.00 Baht.\n",
        "```\n",
        "\n",
        "```\n",
        "Enter the number of pizza: 20\n",
        "Enter the number of pasta: 10\n",
        "Enter the number of water: 10\n",
        "The original payment is 1500.00 Baht.\n",
        "The final payment is 1078.00 Baht.\n",
        "```"
      ],
      "metadata": {
        "id": "t42BaESpEmP9"
      }
    },
    {
      "cell_type": "code",
      "source": [
        "\n",
        "\n",
        "\n",
        "\n",
        "\n",
        "\n",
        "\n",
        "\n",
        "\n",
        "\n",
        "\n",
        "\n",
        "\n",
        "\n",
        "\n",
        "\n",
        "\n"
      ],
      "metadata": {
        "id": "VcubH50YlY82"
      },
      "execution_count": null,
      "outputs": []
    }
  ]
}