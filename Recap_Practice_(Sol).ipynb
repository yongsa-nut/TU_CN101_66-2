{
  "nbformat": 4,
  "nbformat_minor": 0,
  "metadata": {
    "colab": {
      "provenance": [],
      "authorship_tag": "ABX9TyPdcpq1uv1hg8jNaAsgYK6T",
      "include_colab_link": true
    },
    "kernelspec": {
      "name": "python3",
      "display_name": "Python 3"
    },
    "language_info": {
      "name": "python"
    }
  },
  "cells": [
    {
      "cell_type": "markdown",
      "metadata": {
        "id": "view-in-github",
        "colab_type": "text"
      },
      "source": [
        "<a href=\"https://colab.research.google.com/github/yongsa-nut/TU_Intro_Prog/blob/main/Recap_Practice_(Sol).ipynb\" target=\"_parent\"><img src=\"https://colab.research.google.com/assets/colab-badge.svg\" alt=\"Open In Colab\"/></a>"
      ]
    },
    {
      "cell_type": "markdown",
      "source": [
        "**Q1**:\n",
        "Fill in the blank so that the program output as shown below.\n",
        "\n",
        "```\n",
        "def multiple_items():\n",
        "  bridge = input(\"Which is your favorite bridge? \")\n",
        "  year = input(\"When was it constructed? \")\n",
        "return bridge, year\n",
        "\n",
        "def main():\n",
        "  __________________________________________\n",
        "  print(f\"My favorite bridge is '{brg}' and it was constructed in '{yr}'.\")\n",
        "main()\n",
        "```\n",
        "\n",
        "Example of output:\n",
        "```\n",
        "Which is your favorite bridge? Baltimore\n",
        "When was it constructed? 1972\n",
        "My favorite bridge is 'Baltimore' and it was constructed in '1972'.\n",
        "```"
      ],
      "metadata": {
        "id": "0GjWbtWPaTsg"
      }
    },
    {
      "cell_type": "code",
      "source": [
        "brg, yr = multiple_items()"
      ],
      "metadata": {
        "id": "Ifdx2m9krhPN"
      },
      "execution_count": null,
      "outputs": []
    },
    {
      "cell_type": "markdown",
      "source": [
        "**Q2**: What will the following program print out?\n",
        "```\n",
        "def funcx(n):\n",
        "  y = 1+n**2\n",
        "  return 2*y\n",
        "\n",
        "def main():\n",
        "  print(funcx(funcx(2)))\n",
        "  \n",
        "main()\n",
        "```"
      ],
      "metadata": {
        "id": "BE96U6kTejPV"
      }
    },
    {
      "cell_type": "code",
      "source": [
        "202"
      ],
      "metadata": {
        "id": "GQVeWQVkrg8q"
      },
      "execution_count": null,
      "outputs": []
    },
    {
      "cell_type": "markdown",
      "source": [
        "**Q3**:\n",
        "Fill in the blank to calculate the following equation: $y = \\frac{1}{2\\pi}e^{\\frac{-(x-\\mu)^2}{2}}$ (Note $\\mu$ = mu)\n",
        "\n",
        "```\n",
        "import math\n",
        "x = float(input('Enter x: ' ))\n",
        "mu = float(input('Enter mu: '))\n",
        "y = __________________________\n",
        "```"
      ],
      "metadata": {
        "id": "cU4bA5veYK34"
      }
    },
    {
      "cell_type": "code",
      "source": [
        "(1/(2*math.pi))*math.pow(math.e, (-(x-mu)**2)/2)"
      ],
      "metadata": {
        "id": "tx-IqTsIrgsR"
      },
      "execution_count": null,
      "outputs": []
    },
    {
      "cell_type": "markdown",
      "source": [
        "**Q4**\n",
        "Fill in the blank so that the program print out 7.\n",
        "\n",
        "```\n",
        "def y(x, ___ ):\n",
        "  return z+x;\n",
        "def main():\n",
        "  x = y(3)\n",
        "  print(x)\n",
        "main()\n",
        "```"
      ],
      "metadata": {
        "id": "nxL4uex4eUoM"
      }
    },
    {
      "cell_type": "code",
      "source": [
        "z=4"
      ],
      "metadata": {
        "id": "eNg7A1yMrgWG"
      },
      "execution_count": null,
      "outputs": []
    },
    {
      "cell_type": "markdown",
      "source": [
        "**Q5**: What will the following program print out?\n",
        "\n",
        "```\n",
        "def my_func(x=3, y=5):\n",
        " return x*y, x-y\n",
        "\n",
        "x, y = my_func(y=5, x=4)\n",
        "print(x, y)\n",
        "```"
      ],
      "metadata": {
        "id": "clV-J2QNqJxk"
      }
    },
    {
      "cell_type": "code",
      "source": [
        "20 -1"
      ],
      "metadata": {
        "id": "SixdlAgwrf_m"
      },
      "execution_count": null,
      "outputs": []
    },
    {
      "cell_type": "markdown",
      "source": [
        "**Q6**: What will the following program print out?\n",
        "```\n",
        "s = 0\n",
        "a = ['I', 'Like', 'Python']\n",
        "for i in range(len(a)):\n",
        "  if len(a[i]) > len(a[s]):\n",
        "    s = i\n",
        "a.reverse()\n",
        "print(s, a[0])\n",
        "```"
      ],
      "metadata": {
        "id": "PLEbps-2VQsl"
      }
    },
    {
      "cell_type": "code",
      "source": [
        "2 Python"
      ],
      "metadata": {
        "id": "9j3nThqRrfrQ"
      },
      "execution_count": null,
      "outputs": []
    },
    {
      "cell_type": "markdown",
      "source": [
        "**Q7**: What will the following program print out?\n",
        "```\n",
        "a = (1, 4, 6, 9)\n",
        "for x in range(1, len(a)):\n",
        "  b = a[x::-x]\n",
        "print(b)\n",
        "```"
      ],
      "metadata": {
        "id": "3x8ZEIIddcln"
      }
    },
    {
      "cell_type": "code",
      "source": [
        "(9, 1)"
      ],
      "metadata": {
        "id": "9DxQrT-3rfaG"
      },
      "execution_count": null,
      "outputs": []
    },
    {
      "cell_type": "markdown",
      "source": [
        "**Q8** Fill in the blank so that the program print out $\\texttt{[1, 3, 5, 5, 9, 9]}$\n",
        "```\n",
        "a = [1, 2, 4, 5, 8, 9]\n",
        "for i in range(len(a)):\n",
        "  if a[i] % 2 == 0:\n",
        "     _______________\n",
        "print(a)\n",
        "```"
      ],
      "metadata": {
        "id": "HYLV0MbRfeTJ"
      }
    },
    {
      "cell_type": "code",
      "source": [
        "a[i] += 1"
      ],
      "metadata": {
        "id": "ZXG5M8IirfI5"
      },
      "execution_count": null,
      "outputs": []
    },
    {
      "cell_type": "markdown",
      "source": [
        "**Q9**: What will the following program print out?\n",
        "```\n",
        "inflation_rate = 0.02\n",
        "def change_inflation_rate(new_rate):\n",
        "  global inflation_rate\n",
        "  inflation_rate = new_rate\n",
        "\n",
        "current_price = 1000\n",
        "\n",
        "a = current_price * (1 + inflation_rate)\n",
        "change_inflation_rate(0.03)\n",
        "b = current_price * (1 + inflation_rate)\n",
        "print(f\"{a:.0f} {b:.0f}\")\n",
        "```"
      ],
      "metadata": {
        "id": "eiTXORZrynyr"
      }
    },
    {
      "cell_type": "code",
      "source": [
        "1020 1030"
      ],
      "metadata": {
        "id": "OPJn4of4re0T"
      },
      "execution_count": null,
      "outputs": []
    },
    {
      "cell_type": "markdown",
      "source": [
        "**Q10**: Fill in the blank so that the program calculate the total sales of all saleperson\n",
        "```\n",
        "salespersons = [['Somsak',150,120,130],['Somsri',100,150], ['Adisak', 150]]\n",
        "total = 0\n",
        "for sale in salespersons:\n",
        "  total = ______________________\n",
        "print(f'Total = {total}')\n",
        "```\n",
        "\n",
        "Output:\n",
        "```\n",
        "Total = 800\n",
        "```"
      ],
      "metadata": {
        "id": "NXlKZj7aD9WS"
      }
    },
    {
      "cell_type": "code",
      "source": [
        "total + sum(sale[1:])"
      ],
      "metadata": {
        "id": "ZBb8fvXvref3"
      },
      "execution_count": null,
      "outputs": []
    },
    {
      "cell_type": "markdown",
      "source": [
        "**Q11**: What will the following program print out?\n",
        "\n",
        "```\n",
        "s1 = 0\n",
        "s2 = 0\n",
        "s3 = 0\n",
        "for c in \"I love python. Do you?\":\n",
        "  if c.isalpha():\n",
        "    s1 += 1\n",
        "  elif c.isspace():\n",
        "    s2 += 1\n",
        "  else:\n",
        "    s3 += 1\n",
        "print(s1, s2, s3)\n",
        "```"
      ],
      "metadata": {
        "id": "sKg-GOCGVmin"
      }
    },
    {
      "cell_type": "code",
      "source": [
        "16, 4, 2"
      ],
      "metadata": {
        "id": "aN5ivnGXreHh"
      },
      "execution_count": null,
      "outputs": []
    },
    {
      "cell_type": "markdown",
      "source": [
        "**Q12**: What will the following program print out?\n",
        "\n",
        "```\n",
        "def string_do(s):\n",
        "  str_result = s[-4:]\n",
        "  return str_result * 4\n",
        "print(string_do(\"Programming is easy.\"))\n",
        "```"
      ],
      "metadata": {
        "id": "fgeI-MPHdoLb"
      }
    },
    {
      "cell_type": "code",
      "source": [
        "asy.asy.asy.asy."
      ],
      "metadata": {
        "id": "VruVGkP0rdp9"
      },
      "execution_count": null,
      "outputs": []
    },
    {
      "cell_type": "markdown",
      "source": [
        "**Q13**: Fill the blank so that the program print out $\\texttt{HELLO}$\n",
        "```\n",
        "x = \"HHHhelloOOO\"\n",
        "y = x____________________\n",
        "print(y)\n",
        "```"
      ],
      "metadata": {
        "id": "Hqu9NDZ_ncBq"
      }
    },
    {
      "cell_type": "code",
      "source": [
        "x.rstrip('O').lstrip('H').upper()"
      ],
      "metadata": {
        "id": "s4-aqfJbrdY5"
      },
      "execution_count": null,
      "outputs": []
    },
    {
      "cell_type": "markdown",
      "source": [
        "**Q14**: What will the following program print out?\n",
        "\n",
        "```\n",
        "x = 10\n",
        "def fun1(x, y=5, z=10):\n",
        "  for i in range(y, z, x):\n",
        "    print(fun2(i), end=\" \")\n",
        "\n",
        "def fun2(x=1):\n",
        "  if x % 2 > 0:\n",
        "    return x % 4\n",
        "  else:\n",
        "    return x // 4\n",
        "\n",
        "fun1(1, z=9)\n",
        "```"
      ],
      "metadata": {
        "id": "5zoaXlpHexd4"
      }
    },
    {
      "cell_type": "code",
      "source": [
        "1 1 3 2"
      ],
      "metadata": {
        "id": "ocTccO1zrdEu"
      },
      "execution_count": null,
      "outputs": []
    },
    {
      "cell_type": "markdown",
      "source": [
        "**Q15**: What will the following program print out?\n",
        "```\n",
        "s1 = \"Difference between mechanical engineers and civil engineers\"\n",
        "s2 = \"Mechanical engineers build weapons\"\n",
        "s3 = \"Civil engineers build targets\"\n",
        "print(f\"{s1[30:39]} {s2[-13:-8]} {s3[6:12]}{s3[-1:]}\")\n",
        "```"
      ],
      "metadata": {
        "id": "XGelfwg52JUY"
      }
    },
    {
      "cell_type": "code",
      "source": [
        "engineers build engines"
      ],
      "metadata": {
        "id": "71tb-bbCrc1l"
      },
      "execution_count": null,
      "outputs": []
    },
    {
      "cell_type": "markdown",
      "source": [
        "\n",
        "\n",
        "---\n",
        "\n"
      ],
      "metadata": {
        "id": "zWKCR5tznVK1"
      }
    },
    {
      "cell_type": "markdown",
      "source": [
        "**Q16**: Fahrenheit to Celsius\n",
        "\n",
        "Write a program that first take an integer $n$ indicating the number of queries. The program then receives $n$ temperatures in Fahrenheit from the user. The program job is to turn Fahrenheit into Celsius, $C = (F-32)*5/9$, and print out the results in a list.\n",
        "\n",
        "Input:\n",
        "* An **integer** $n$ for the number of queries\n",
        "* $n$ **real numbers** for temperature in F.\n",
        "\n",
        "Output:\n",
        "* A list of $n$ real numbers.\n",
        "\n",
        "Note:\n",
        "* You must implement $\\texttt{FtoC}$ function which takes in one number for temperature in Fahrenheit and returns one number for temperature in Celsius.\n",
        "* Round a number down using $\\texttt{math.floor()}$\n",
        "\n",
        "Examples:\n",
        "\n",
        "```\n",
        "Enter n: 3\n",
        "Enter temperature (F):89\n",
        "Enter temperature (F):91\n",
        "Enter temperature (F):92\n",
        "[31, 32, 33]\n",
        "```\n",
        "\n",
        "```\n",
        "Enter n: 4\n",
        "Enter temperature (F):102\n",
        "Enter temperature (F):91\n",
        "Enter temperature (F):84\n",
        "Enter temperature (F):32\n",
        "[38, 32, 28, 0]\n",
        "```"
      ],
      "metadata": {
        "id": "4hWucPVghB00"
      }
    },
    {
      "cell_type": "code",
      "source": [
        "import math\n",
        "\n",
        "# 1) Implement FtoC function\n",
        "def FtoC(fah):\n",
        "  return math.floor( (fah - 32)*5/9 )\n",
        "\n",
        "# 2) Receive n from user.\n",
        "n = int(input('Enter n: '))\n",
        "\n",
        "# 3) Create an empty list.\n",
        "results = []\n",
        "\n",
        "# 4) For loop to get user and calculate FtoC\n",
        "for i in range(n):\n",
        "  f = float(input('Enter temperature (F):'))\n",
        "  results.append(FtoC(f))  # Call FtoC with f and append the result to the results.\n",
        "\n",
        "print(results)"
      ],
      "metadata": {
        "id": "tgdpc0RMue_K"
      },
      "execution_count": null,
      "outputs": []
    },
    {
      "cell_type": "markdown",
      "source": [
        "**Q17**: Count Vowel\n",
        "\n",
        "Write a program to count the numbers of vowels (a, e, i, o, u) in a sentence.\n",
        "\n",
        "Input:\n",
        "* A string. The sentence.\n",
        "\n",
        "Output:\n",
        "* An integer. The numbers of vowels.\n",
        "\n",
        "Example 1:\n",
        "```\n",
        "Enter a sentence: This is a cute cat.\n",
        "The number of vowels is 6\n",
        "```\n",
        "\n",
        "Example 2:\n",
        "```\n",
        "Enter a sentence: Hello World\n",
        "The number of vowel is 3\n",
        "```\n",
        "\n",
        "Example 3:\n",
        "```\n",
        "Enter a sentence: My rhythms fly\n",
        "The number of vowel is 0\n",
        "```"
      ],
      "metadata": {
        "id": "1pE9oiGvHis9"
      }
    },
    {
      "cell_type": "code",
      "source": [
        "# 1) Input from the user\n",
        "sentence = input('Enter a sentence: ')\n",
        "# sentence = sentence.lower()\n",
        "\n",
        "#2) For loop the sentence by character\n",
        "count = 0\n",
        "for char in sentence:\n",
        "  if char in 'aeiou':\n",
        "    count += 1\n",
        "\n",
        "print(count)"
      ],
      "metadata": {
        "id": "c5oOvUU6E5fz"
      },
      "execution_count": null,
      "outputs": []
    },
    {
      "cell_type": "markdown",
      "source": [
        "**Q18**: Summing two squared matrixes\n",
        "\n",
        "Write a program to add two squared matrixes of size $n \\times n$ together.\n",
        "\n",
        "Input:\n",
        "* An integer, $n$.\n",
        "* A sequence of $n \\times n$ numbers seperated by spaces for the first matrix.\n",
        "* A sequence of $n \\times n$ numbers seperated by spaces for the second matrix\n",
        "\n",
        "Output:\n",
        "* A 2d list of size $n \\times n$\n",
        "\n",
        "Note:\n",
        "* A $\\texttt{gen_squared_matrix}$ function is provided. It takes in a number $n$ and a list of numbers and returns a 2d list of size $n \\times $n. How do you want to use it is up to you.\n",
        "\n",
        "\n",
        "Example 1:\n",
        "\n",
        "```\n",
        "Enter the dimension (n): 2\n",
        "Enter the first matrix: 1 1 1 1\n",
        "Enter the second matrix: 2 2 2 2\n",
        "[[3, 3], [3, 3]]\n",
        "```\n",
        "\n",
        "Example 2:\n",
        "```\n",
        "Enter the dimension (n): 3\n",
        "Enter the first matrix: 1 2 3 1 2 3 1 2 3\n",
        "Enter the second matrix: 6 7 8 9 5 4 6 0 1\n",
        "[[7, 9, 11], [10, 7, 7] [7, 2, 4]]\n",
        "```\n",
        "\n",
        "Example 3:\n",
        "```\n",
        "Enter the dimension (n): 4\n",
        "Enter the first matrix: 1 2 2 1 3 2 1 5 1 2 3 4 0 1 0 2\n",
        "Enter the second matrix: 0 1 0 1 1 0 1 0 3 0 2 1 4 2 5 3\n",
        "[[1, 3, 2, 2], [4, 2, 2, 5], [4, 2, 5, 5], [4, 3, 5, 5]]\n",
        "```"
      ],
      "metadata": {
        "id": "TzCzxLmrIqEg"
      }
    },
    {
      "cell_type": "code",
      "source": [
        "# Turn 1d-matrix into n x n matrix\n",
        "# Example: gen_squared_matrix(n = 2, matrix = [1,2,3,4]) -> [[1,2],[3,4]]\n",
        "def gen_squared_matrix(n, matrix):\n",
        "  new_list = []\n",
        "  for i in range(n):\n",
        "    new_list.append(matrix[i*n:i*n + n])\n",
        "  return new_list\n",
        "\n",
        "# 1) get inputs from user\n",
        "n = int(input('Enter the dimension (n): '))\n",
        "m1 = input('Enter the first matrix: ')\n",
        "m2 = input('Enter the second matrix: ')\n",
        "\n",
        "# 2) split strings at space\n",
        "m1 = m1.split() # e.g., ['1', '1', '1', '1']\n",
        "m2 = m2.split() # e.g., ['2', '2', '2', '2']\n",
        "\n",
        "# 3) create a new list\n",
        "m3 = []\n",
        "\n",
        "# 4 & 5) loop through the lists and add them together\n",
        "for i in range(len(m1)):\n",
        "  result = int(m1[i]) + int(m2[i]) # First convert string to int and then add\n",
        "  m3.append(result)\n",
        "\n",
        "# 6) print out the answer\n",
        "print(gen_squared_matrix(n, m3))"
      ],
      "metadata": {
        "id": "2fE8BbQNIt28"
      },
      "execution_count": null,
      "outputs": []
    },
    {
      "cell_type": "markdown",
      "source": [
        "**Q19**: Gacha Simulation\n",
        "\n",
        "In this problem, you will write a program to simulate pulling a gacha banner. A user will input the number pulls, the probability of getting a specific character in the banner, and the number of time he/she wants to repeat the simulation (you can think of it as the number of people who will attempt this). You will output a list $\\texttt{outcomes}$ of length 10, where $\\texttt{outcomes[i]}$ corresponds to the number of simulations that the person that gets the character $i$ times.\n",
        "\n",
        "Example:\n",
        "* Assume the first simulation's outcome is 1, the second one is 1, the third one is 0, the fourth out is 2, the fifth one is 3, and the sixth one is 1. SO, the outcome of 0 one time, 1 three times, 2 one time, and 3 one time. The outcome = [1, 3, 1, 1, 0, 0, 0 ,0 ,0, 0].\n",
        "\n",
        "Input:\n",
        "* An integer $\\texttt{n}$. the number pulls.\n",
        "* A real number $\\texttt{p}$. the probability of getting a specific character.\n",
        "* An integer $\\texttt{m}$. the number of simulation.\n",
        "* An integer $\\texttt{seed}$. Seed number.\n",
        "\n",
        "Output:\n",
        "* A $\\texttt{outcome}$ list of length 10.\n",
        "\n",
        "Pseudocode:\n",
        "* First, you implement a $\\texttt{simulation}$ function, which takes in two numbers, the number of pulls and the probability, and returns the number of characters that you get.\n",
        "  * To deterimine whether or not you get a character, use the following logic, $\\texttt{random.random() < p}$.\n",
        "  * Create a loop to call $\\texttt{random.random() n}$ times.\n",
        "* Then, you implement a $\\texttt{main}$ function to receive inputs from the user.\n",
        "  * Create a loop to call $\\texttt{simulation}$ functions $m$ times\n",
        "  *   Let $\\texttt{count}$ be an outcome of one simulation. You can update the $\\texttt{outcome}$ list as follows: $\\texttt{outcome[count] += 1}.$ Make sure you understand this logic.\n",
        "\n",
        "Example1 :\n",
        "\n",
        "```\n",
        "Enter the number of pull: 200\n",
        "Enter the probability: 0.005\n",
        "Enter the number of simulation: 10\n",
        "Enter the seed number: 777\n",
        "Outcomes = [3, 4, 2, 1, 0, 0, 0, 0, 0, 0]\n",
        "```\n",
        "\n",
        "Exaple 2:\n",
        "\n",
        "```\n",
        "Enter the number of pull: 90\n",
        "Enter the probability: 0.016\n",
        "Enter the number of simulation: 100\n",
        "Enter the seed number: 77\n",
        "Outcomes = [22, 36, 29, 10, 3, 0, 0, 0, 0, 0]\n",
        "```"
      ],
      "metadata": {
        "id": "JklEOiITE6Mc"
      }
    },
    {
      "cell_type": "code",
      "source": [
        "import random\n",
        "\n",
        "# 1) pulling simulation function\n",
        "def simulation(n, p):\n",
        "  count = 0\n",
        "  for i in range(n):\n",
        "    if random.random() < p:\n",
        "      count += 1\n",
        "  return count\n",
        "\n",
        "# 2) implement main function\n",
        "def main():\n",
        "  # 3) get inputs from the users\n",
        "  n = int(input('Enter the number of pull: '))\n",
        "  p = float(input('Enter the probability: '))\n",
        "  m = int(input('Enter the number of simulation: '))\n",
        "  seed = int(input('Enter the seed number: '))\n",
        "  random.seed(seed) #set seed\n",
        "\n",
        "  outcome = [0] * 10 # [0, 0, 0, 0, 0, 0, 0, 0, 0, 0]\n",
        "  # 4) Repeat simulation m time\n",
        "  for i in range(m):\n",
        "    result = simulation(n, p)\n",
        "    outcome[result] += 1\n",
        "  print(outcome)\n",
        "\n",
        "main()"
      ],
      "metadata": {
        "id": "WG7qC8aGYqQi"
      },
      "execution_count": null,
      "outputs": []
    }
  ]
}