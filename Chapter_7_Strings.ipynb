{
  "nbformat": 4,
  "nbformat_minor": 0,
  "metadata": {
    "colab": {
      "provenance": [],
      "authorship_tag": "ABX9TyNYO4EuWivuP+oY/DxDCTIj",
      "include_colab_link": true
    },
    "kernelspec": {
      "name": "python3",
      "display_name": "Python 3"
    },
    "language_info": {
      "name": "python"
    }
  },
  "cells": [
    {
      "cell_type": "markdown",
      "metadata": {
        "id": "view-in-github",
        "colab_type": "text"
      },
      "source": [
        "<a href=\"https://colab.research.google.com/github/yongsa-nut/TU_Intro_Prog/blob/main/Chapter_7_Strings.ipynb\" target=\"_parent\"><img src=\"https://colab.research.google.com/assets/colab-badge.svg\" alt=\"Open In Colab\"/></a>"
      ]
    },
    {
      "cell_type": "markdown",
      "source": [
        "# Chapter 7 Strings\n",
        "\n",
        "https://github.com/yongsa-nut/TU_Intro_Prog/"
      ],
      "metadata": {
        "id": "PEDrdsNuX4m8"
      }
    },
    {
      "cell_type": "markdown",
      "source": [
        "## Basic String Operations\n",
        "\n",
        "* Many types of programs perform operations on strings\n",
        "\n",
        "* Many tools for examining and manipulating strings\n",
        "\n",
        "* Strings are sequences, so many of the tools that work with sequences work\n",
        "with strings\n",
        "\n",
        "* Display the character by using $\\texttt{print()}$ function\n",
        "\n",
        "* Assigning a string into a variable can be done by quotes.\n",
        "\n",
        "\n"
      ],
      "metadata": {
        "id": "XX4h7nAbZCFS"
      }
    },
    {
      "cell_type": "markdown",
      "source": [
        "## Accessing the Individual Characters in a String\n",
        "\n",
        "* Use $\\texttt{for}$ loop to access an individual character in a string\n",
        "  * Format: $\\texttt{for char in string:}$\n",
        "  * Useful when need to iterate over the whole string, such as to count <br> the occurrences of a specific character"
      ],
      "metadata": {
        "id": "ZfidEkv2ZggH"
      }
    },
    {
      "cell_type": "code",
      "execution_count": null,
      "metadata": {
        "id": "DQVZJg-LXZhb"
      },
      "outputs": [],
      "source": [
        "name = \"Juliet\"\n",
        "\n",
        "for char in name:\n",
        "  print(char)"
      ]
    },
    {
      "cell_type": "code",
      "source": [
        "# counts the number of times the target letter appears in a string\n",
        "\n",
        "TARGET = \"T\"\n",
        "\n",
        "my_string = input(\"Enter a sentence:\")\n",
        "\n",
        "count = 0\n",
        "for ch in my_string:\n",
        "  if ch == TARGET:\n",
        "    count += 1\n",
        "\n",
        "print(f\"The letter {TARGET} appears {count} times.\")"
      ],
      "metadata": {
        "id": "MD3Yb97ddB7K"
      },
      "execution_count": null,
      "outputs": []
    },
    {
      "cell_type": "markdown",
      "source": [
        "## Accessing the Individual Characters in a String\n",
        "\n",
        "* Use **indexing** to access an individual character in a string:\n",
        "\n",
        " * Each character has an index specifying its position in the string, starting at 0\n",
        "\n",
        " * Format: $\\texttt{character = my_string[i]}$\n",
        "\n",
        " * $\\texttt{IndexError}$ exception will occur, if you try to access an index that <br> is out of range for the string\n",
        "\n",
        "\n"
      ],
      "metadata": {
        "id": "9UHBM4Atdg-J"
      }
    },
    {
      "cell_type": "code",
      "source": [
        "my_string = \"Roses are red\"\n",
        "ch = my_string[6]\n",
        "print(ch)"
      ],
      "metadata": {
        "id": "0oBfNbGMdvB1"
      },
      "execution_count": null,
      "outputs": []
    },
    {
      "cell_type": "code",
      "source": [
        "my_string[20] # index error"
      ],
      "metadata": {
        "id": "2eBbYk1xeTuH"
      },
      "execution_count": null,
      "outputs": []
    },
    {
      "cell_type": "markdown",
      "source": [
        "## $\\texttt{len}$ to check string's length\n",
        "* $\\texttt{len(string)}$ function can be used to obtain the length of a string"
      ],
      "metadata": {
        "id": "hRqpPTErd9K1"
      }
    },
    {
      "cell_type": "code",
      "source": [
        "my_string = \"Roses are red\"\n",
        "print(len(my_string))"
      ],
      "metadata": {
        "id": "tkIAqy5Xg0Hp"
      },
      "execution_count": null,
      "outputs": []
    },
    {
      "cell_type": "markdown",
      "source": [
        "String Concatenation $\\texttt{+}$\n",
        "\n",
        "* Concatenation: appending one string to the end of another string\n",
        "\n",
        "* Use the $\\texttt{+}$ operator to produce a string that is a combination of its operands\n",
        "\n",
        "* The augmented assignment operator $\\texttt{+=}$ can also be used to concatenate strings\n"
      ],
      "metadata": {
        "id": "okD-w6Jxg6tc"
      }
    },
    {
      "cell_type": "code",
      "source": [
        "# concat ex1\n",
        "first_name = \"Emily\"\n",
        "last_name  = \"Yeager\"\n",
        "full_name = first_name + last_name\n",
        "print(full_name)"
      ],
      "metadata": {
        "id": "k8qa5PS_hK9P"
      },
      "execution_count": null,
      "outputs": []
    },
    {
      "cell_type": "code",
      "source": [
        "# concat ex2\n",
        "letters = \"abc\"\n",
        "letters += \"def\"\n",
        "print(letters)"
      ],
      "metadata": {
        "id": "wc8-zSu7hS8C"
      },
      "execution_count": null,
      "outputs": []
    },
    {
      "cell_type": "markdown",
      "source": [
        "## Strings are immutable!\n",
        "\n",
        "* Strings are immutable\n",
        "\n",
        "* Once they are created, they cannot be changed\n",
        "\n",
        "* Concatenation doesn’t actually change the existing string, but rather <br> creates a new string and assigns the new string to the previously used variable.\n",
        "\n",
        "* Cannot use an expression of the form $\\texttt{string[index] = new_character}$\n",
        "  * Statement of this type will raise an exception"
      ],
      "metadata": {
        "id": "6P09Ft5JhaAA"
      }
    },
    {
      "cell_type": "code",
      "source": [
        "my_text = \"this is a cat.\"\n",
        "my_text[0] = \"T\""
      ],
      "metadata": {
        "id": "yNnClEfohu7I"
      },
      "execution_count": null,
      "outputs": []
    },
    {
      "cell_type": "markdown",
      "source": [
        "## String Slicing\n",
        "* **Slice**: span of items taken from a sequence, known as substring\n",
        "\n",
        "* Slicing format: $\\texttt{string[start : end: step]}$\n",
        "\n",
        "  * Expression will return a string containing a copy of the characters from start up to, but not including, end\n",
        "\n",
        "  * If start is not specified, $\\texttt{0}$ is used for start index\n",
        "\n",
        "  * If end is not specified, $\\texttt{len(string)}$ is used for end index\n",
        "  \n",
        "  * If step is not specified, $\\texttt{1}$ is used for step value\n",
        "\n",
        "  * Negative indexes count from the end of string\n",
        "\n"
      ],
      "metadata": {
        "id": "W_zZzQC8h3Xr"
      }
    },
    {
      "cell_type": "code",
      "source": [
        "# Slicing Example\n",
        "full_name = \"Patty Lynn Smith\"\n",
        "\n",
        "middle_name = full_name[6:10]\n",
        "print(middle_name)\n",
        "\n",
        "first_name = full_name[:5]\n",
        "print(first_name)\n",
        "\n",
        "last_name = full_name[11:]\n",
        "print(last_name)"
      ],
      "metadata": {
        "id": "nj-LRt6iidhZ"
      },
      "execution_count": null,
      "outputs": []
    },
    {
      "cell_type": "code",
      "source": [
        "full_name = \"Patty Lynn Smith\"\n",
        "\n",
        "last_name = full_name[-5:]\n",
        "print(last_name)\n",
        "\n",
        "my_string = full_name[:]\n",
        "print(my_string)"
      ],
      "metadata": {
        "id": "u1ou5TbjixXt"
      },
      "execution_count": null,
      "outputs": []
    },
    {
      "cell_type": "code",
      "source": [
        "letters = \"ABCDEFGHIJKLMNOPQRSTUVWXYZ\"\n",
        "\n",
        "print(letters[0:26:2])"
      ],
      "metadata": {
        "id": "EEUTilJVi8sn"
      },
      "execution_count": null,
      "outputs": []
    },
    {
      "cell_type": "code",
      "source": [
        "print(letters[::2])"
      ],
      "metadata": {
        "id": "koCoIhH0jT2H"
      },
      "execution_count": null,
      "outputs": []
    },
    {
      "cell_type": "code",
      "source": [
        "print(letters[::-1])"
      ],
      "metadata": {
        "id": "O8Cxi_m1jVX2"
      },
      "execution_count": null,
      "outputs": []
    },
    {
      "cell_type": "markdown",
      "source": [
        "## Searching with $\\texttt{in}$ operator\n",
        "\n",
        "* Can use the $\\texttt{in}$ operator to determine whether one string is contained in  another string\n",
        "* Syntax: $\\texttt{ string1 in string2}$\n",
        "  * $\\texttt{string1}$ and $\\texttt{string2}$ can be string literals or variables referencing strings\n",
        "* Similarly you can use the $\\texttt{ not in }$ operator to determine whether <br> one string is not contained in another string\n"
      ],
      "metadata": {
        "id": "rsgHZ5OVjblO"
      }
    },
    {
      "cell_type": "code",
      "source": [
        "# in example\n",
        "text = \"Four score and seven years ago\"\n",
        "\n",
        "print(\"seven\" in text)\n",
        "print(\"four\" in text)"
      ],
      "metadata": {
        "id": "qpcYO5DikDbA"
      },
      "execution_count": null,
      "outputs": []
    },
    {
      "cell_type": "markdown",
      "source": [
        "## The repetition operator\n",
        "* Repetition operator: makes multiple copies of a string and joins them together\n",
        "* The $\\texttt{*}$ symbol is a repetition operator when applied to a string.\n",
        "* Syntax: $\\texttt{string_to_copy * n}$\n",
        "* Variable references a new string which contains multiple copies of the original string"
      ],
      "metadata": {
        "id": "J_0v2c1N9zwU"
      }
    },
    {
      "cell_type": "code",
      "source": [
        "# repetition ex1:\n",
        "my_string = 'w' * 5\n",
        "print(my_string)\n",
        "print(\"Hello\" * 5)"
      ],
      "metadata": {
        "id": "SrImgXwhBnHC"
      },
      "execution_count": null,
      "outputs": []
    },
    {
      "cell_type": "code",
      "source": [
        "# repetition ex2:\n",
        "\n",
        "def main():\n",
        "  # print nine rows increasing in length.\n",
        "  for count in range(1, 10):\n",
        "    print('Z' * count)\n",
        "\n",
        "  # print nine rows decreasing in length.\n",
        "  for count in range(8, 0, -1):\n",
        "    print('Z' * count)\n",
        "\n",
        "main()"
      ],
      "metadata": {
        "id": "NjAZRlwEBuxk"
      },
      "execution_count": null,
      "outputs": []
    },
    {
      "cell_type": "markdown",
      "source": [
        "## String Testing Methods\n",
        "* Syntax: $\\texttt{string.method(arguments)}$\n",
        "* String methods to test a string for specific characters\n",
        "  * $\\texttt{isalnum()}$  : return $\\texttt{True}$  if the string contains **only alphabetic letters or digits**. $\\texttt{False}$ otherwise.\n",
        "  \n",
        "  * $\\texttt{isalpha()}$  : return $\\texttt{True}$ if the string contains **only alphabetic letters**. $\\texttt{False}$ otherwise.\n",
        "  \n",
        "  * $\\texttt{isdigit()}$  : return $\\texttt{True}$ if the string contains **only digits**. $\\texttt{False}$ otherwise.\n",
        "  \n",
        "  * $\\texttt{islower()}$  : return $\\texttt{True}$ if the string contains **only lower cases**. $\\texttt{False}$ otherwise.\n",
        "  \n",
        "  * $\\texttt{isspace()}$  : return $\\texttt{True}$ if the string contains **only whitespace characters** (space, $\\texttt{\\n}$, $\\texttt{\\t}$). $\\texttt{False}$ otherwise.\n",
        "  \n",
        "  * $\\texttt{isupper()}$  : return $\\texttt{True}$ if the string contains **only upper cases**. $\\texttt{False}$ otherwise.\n",
        "  \n",
        "  * If string is empty (len = 0), return $\\texttt{False}$ in all cases.\n",
        "\n"
      ],
      "metadata": {
        "id": "AqyW9WfSkYl8"
      }
    },
    {
      "cell_type": "code",
      "source": [
        "# String testing method:\n",
        "\n",
        "def main():\n",
        "  # Get a string from the user\n",
        "  user_string = input(\"Enter a string: \")\n",
        "\n",
        "  print(\"This is what I found about the string: \")\n",
        "\n",
        "  # Test the string\n",
        "  if user_string.isalnum():\n",
        "    print(\"The string is alphanumeric.\")\n",
        "  if user_string.isalpha():\n",
        "    print(\"The string contains only alphabetic characters.\")\n",
        "  if user_string.isdigit():\n",
        "    print(\"The string contains only digits.\")\n",
        "  if user_string.ispace():\n",
        "    print(\"The string contains only whitespace characters.\")\n",
        "  if user_string.islower():\n",
        "    print(\"The letters in the string are all lowercases.\")\n",
        "  if user_string.isupper():\n",
        "    print(\"The letters in the string are all uppercases.\")\n",
        "\n",
        "main()"
      ],
      "metadata": {
        "id": "erA0v500mzF1"
      },
      "execution_count": null,
      "outputs": []
    },
    {
      "cell_type": "code",
      "source": [
        "dir(str)"
      ],
      "metadata": {
        "id": "rHozKtcBovTA"
      },
      "execution_count": null,
      "outputs": []
    },
    {
      "cell_type": "markdown",
      "source": [
        "## String Methods that return a new string\n",
        "\n",
        "* $\\texttt{lower()}$ : Return a copy of the string with all alphabetic letters **converted to lowercase**.\n",
        "* $\\texttt{upper()}$ : Return a copy of the string with all alphabetic letters **converted to uppercase**.\n",
        "\n",
        "* $\\texttt{lstrip()}$ : Return a copy of the string with all **leading whitespace characters** <br> (spaces, $\\texttt{\\n}$, $\\texttt{\\t}$) **removed**.\n",
        "  * strip left\n",
        "\n",
        "* $\\texttt{lstrip(char)}$ : Return a copy of the string with **all instances of <br> char that appear at the beginning of string removed**.\n",
        "\n",
        "* $\\texttt{rstrip()}$ : Return a copy of the string with **all trailing <br> whitespace characters removed**.\n",
        "  * strip right\n",
        "\n",
        "* $\\texttt{rstrip(char)}$ : Return a copy of the string with **all instances of<br> char that appear at the end of string removed**.\n",
        "\n",
        "* $\\texttt{strip()}$ : Return a copy of the string with **all leading and <br> trailing whitespace characters removed**.\n",
        "  * strip both ends\n",
        "\n",
        "* $\\texttt{strip(char)}$ : Return a copy of the string with **all instances of <br>char that appear at the beginning and the end of string removed**."
      ],
      "metadata": {
        "id": "4un66WBto32C"
      }
    },
    {
      "cell_type": "code",
      "source": [
        "# Upper ex:\n",
        "letters = \"WXYZ\"\n",
        "print(letters, letters.lower(), letters)"
      ],
      "metadata": {
        "id": "5TLzSbdAxy5i"
      },
      "execution_count": null,
      "outputs": []
    },
    {
      "cell_type": "code",
      "source": [
        "letters = \"WXYZ1234wyxz\"\n",
        "print(letters.lower())"
      ],
      "metadata": {
        "id": "nogfy9Rby0Ue"
      },
      "execution_count": null,
      "outputs": []
    },
    {
      "cell_type": "code",
      "source": [
        "# Lower ex:\n",
        "letters = \"abcd\"\n",
        "print(letters.upper())\n",
        "\n",
        "print(\"VvvvV\".upper())"
      ],
      "metadata": {
        "id": "CDN9peSWy5jo"
      },
      "execution_count": null,
      "outputs": []
    },
    {
      "cell_type": "code",
      "source": [
        "# strip ex1:\n",
        "letters = \"  middle  \"\n",
        "\n",
        "print(f\"lstrip: {letters.lstrip()}.\" )\n",
        "print(f\"rstrip: {letters.rstrip()}.\")\n",
        "print(f\"strip: {letters.strip()}.\")"
      ],
      "metadata": {
        "id": "n-FhktKMzGDg"
      },
      "execution_count": null,
      "outputs": []
    },
    {
      "cell_type": "code",
      "source": [
        "# strip with char:\n",
        "letters = \"mmmmidleeee\"\n",
        "\n",
        "print(f\"lstrip: {letters.lstrip('m')}.\" )\n",
        "print(f\"rstrip: {letters.rstrip('e')}.\")\n",
        "print(f\"strip: {letters.strip('m').strip('e')}.\") # can chain methods"
      ],
      "metadata": {
        "id": "DQBlkT23z0Iq"
      },
      "execution_count": null,
      "outputs": []
    },
    {
      "cell_type": "markdown",
      "source": [
        "## String searching method\n",
        "\n",
        "* Programs commonly need to search for substrings\n",
        "\n",
        "* $\\texttt{endswith(substring)}$: return $\\texttt{True}$ if the string ends with substring. <br> $\\texttt{False}$ otherwise.\n",
        "\n",
        "* $\\texttt{startswith(substring)}$: return $\\texttt{True}$ if the string starts with substring. <br> $\\texttt{False}$ otherwise."
      ],
      "metadata": {
        "id": "0MqKoVz82HR4"
      }
    },
    {
      "cell_type": "code",
      "source": [
        "# endswith ex:\n",
        "filename = input(\"Enter the filename: \")\n",
        "if filename.endswith(\".txt\"):\n",
        "  print(\"This is the name of a text file.\")\n",
        "elif filename.endswith(\".py\"):\n",
        "  print(\"This is the name of a Python source file.\")\n",
        "elif filename.endswith(\".doc\"):\n",
        "  print(\"That is the name of a word processing document.\")\n",
        "else:\n",
        "  print(\"Unknown file type.\")"
      ],
      "metadata": {
        "id": "3wJZKRIS3UKy"
      },
      "execution_count": null,
      "outputs": []
    },
    {
      "cell_type": "code",
      "source": [
        "# startswith ex:\n",
        "## Count emails from a specific person\n",
        "\n",
        "email_headers = [\"From: Marlin. Date: 10/09/2012\",\n",
        "                \"From: Adam. Date: 10/10/2012\",\n",
        "                \"From: Smith. Date: 12/09/2013\",\n",
        "                \"From: Adam. Date: 08/20/2014\"]\n",
        "\n",
        "target = \"From: Adam\"\n",
        "\n",
        "count = 0\n",
        "for email in email_headers:\n",
        "  if email.startswith(target):\n",
        "    count += 1\n",
        "\n",
        "print(f\"The number of email from Adam is {count}\")"
      ],
      "metadata": {
        "id": "9ckEWfLm4w6m"
      },
      "execution_count": null,
      "outputs": []
    },
    {
      "cell_type": "markdown",
      "source": [
        "## String searching methods\n",
        "\n",
        "* $\\texttt{find(substring)}$ : search for $\\texttt{substring}$ within the string\n",
        "  * Returns the lowest index of the substring. <br> If the $\\texttt{substring}$ is not in the string, return -1.\n",
        "* $\\texttt{replace(substring, new_string)}$ :\n",
        "  * Returns a copy of the string where **every instance** of $\\texttt{substring}$ <br> is replaced with $\\texttt{new_string}$"
      ],
      "metadata": {
        "id": "2v7aHY1v5pzS"
      }
    },
    {
      "cell_type": "code",
      "source": [
        "# find ex:\n",
        "string = \"Four score and seven years ago.\"\n",
        "position = string.find(\"seven\")\n",
        "\n",
        "if position != -1:\n",
        "  print(\"Found at\", position)\n",
        "else:\n",
        "  print(\"Not Found\")"
      ],
      "metadata": {
        "id": "iwLPKBfX7kLt"
      },
      "execution_count": null,
      "outputs": []
    },
    {
      "cell_type": "code",
      "source": [
        "# replace ex\n",
        "string = \"Four score and seven years ago.\"\n",
        "new_string = string.replace(\"years\", \"days\")\n",
        "print(new_string)"
      ],
      "metadata": {
        "id": "RyftdIXg71l3"
      },
      "execution_count": null,
      "outputs": []
    },
    {
      "cell_type": "markdown",
      "source": [
        "## String searching methods summary\n",
        "\n",
        "* $\\texttt{endswith(substring)}$: return $\\texttt{True}$ if the string ends with substring. <br> $\\texttt{False}$ otherwise.\n",
        "\n",
        "* $\\texttt{startswith(substring)}$: return $\\texttt{True}$ if the string starts with substring. <br> $\\texttt{False}$ otherwise.\n",
        "\n",
        "* $\\texttt{find(substring)}$ : search for $\\texttt{substring}$ within the string\n",
        "  * Returns the lowest index of the substring. <br> If the $\\texttt{substring}$ is not in the string, return -1.\n",
        "\n",
        "* $\\texttt{replace(substring, new_string)}$ :\n",
        "  * Returns a copy of the string where **every instance** of $\\texttt{substring}$ <br> is replaced with $\\texttt{new_string}$"
      ],
      "metadata": {
        "id": "1eXuejeL8Z6X"
      }
    },
    {
      "cell_type": "markdown",
      "source": [
        "## Splitting String\n",
        "* $\\texttt{split(params)}$ method: returns a list containing new strings by <br> splitting the string based on a separator.\n",
        "  * By default, uses space as a separator\n",
        "  \n",
        "  * Can specify a different separator by passing it as an argument to the $\\texttt{split}$ method"
      ],
      "metadata": {
        "id": "97StsCiR81Q0"
      }
    },
    {
      "cell_type": "code",
      "source": [
        "# split ex1:\n",
        "date_string = \"11/26/2018\"\n",
        "date_list = date_string.split(\"/\")\n",
        "print(date_list)\n",
        "\n",
        "print(\"Month: \", date_list[0])\n",
        "print(\"Day: \", date_list[1])\n",
        "print(\"Year: \", date_list[2])"
      ],
      "metadata": {
        "id": "yCWXeVR-9mMG"
      },
      "execution_count": null,
      "outputs": []
    },
    {
      "cell_type": "code",
      "source": [
        "# split ex2:\n",
        "\n",
        "def main():\n",
        "  # create a string with multiple words\n",
        "  my_string = \"One two three four\"\n",
        "\n",
        "  word_list = my_string.split()\n",
        "\n",
        "  print(word_list)\n",
        "\n",
        "main()"
      ],
      "metadata": {
        "id": "E2Gc2AixC5kF"
      },
      "execution_count": null,
      "outputs": []
    },
    {
      "cell_type": "code",
      "source": [
        "# split ex3: URL parsing\n",
        "\n",
        "## recover paramters ID, COND, SESSION\n",
        "\n",
        "my_url_arg = \"ID=5123sdf431%20COND=5%20SESSION=2%20\" # %20 = space in url\n",
        "\n",
        "params =  my_url_arg.split(\"%20\")\n",
        "id = params[0].split(\"=\")[1]\n",
        "cond = params[1].split(\"=\")[1]\n",
        "session = params[2].split(\"=\")[1]\n",
        "\n",
        "print(f\"ID = {id}, Condition = {cond}, Session = {session}.\")"
      ],
      "metadata": {
        "id": "La_7gR6pDHV3"
      },
      "execution_count": null,
      "outputs": []
    },
    {
      "cell_type": "markdown",
      "source": [
        "## String join\n",
        "\n",
        "* $\\texttt{join(iterable)}$ method : takes an iterable (list or tuple) and\n",
        "  *  returns a new string created by joining the elements of an iterable by <br> the original string."
      ],
      "metadata": {
        "id": "O7gObWU0DcoE"
      }
    },
    {
      "cell_type": "code",
      "source": [
        "# join ex1\n",
        "\n",
        "num_list = ['1','2','3','4']\n",
        "separator = ','\n",
        "print(separator.join(num_list))"
      ],
      "metadata": {
        "id": "BWQtqPKEEBnq"
      },
      "execution_count": null,
      "outputs": []
    },
    {
      "cell_type": "code",
      "source": [
        "# join ex2:\n",
        "texts = ('A','B','C')\n",
        "between = '-'\n",
        "print(between.join(texts))"
      ],
      "metadata": {
        "id": "dQU0d6VdEPmt"
      },
      "execution_count": null,
      "outputs": []
    },
    {
      "cell_type": "markdown",
      "source": [
        "## Summary\n",
        "* String is an immutable sequence of characters\n",
        "* indexing: method for iterating over strings\n",
        "* Operators: $\\texttt{+}$ (concat), $\\texttt{*}$ (repetition), $\\texttt{in}$ (searching)\n",
        "* Slicing: $\\texttt{[start:end:step]}$ (indexes can be negative)\n",
        "* String checking methods:\n",
        " * $\\texttt{isalnum}$ , $\\texttt{isalpha}$, $\\texttt{isdigit}$, $\\texttt{isupper}$, $\\texttt{islower}$, $\\texttt{isspace}$\n",
        "* String editting methods:\n",
        " * $\\texttt{upper}$, $\\texttt{lower}$, $\\texttt{lstrip}$, $\\texttt{rstrip}$, $\\texttt{strip}$\n",
        "* String searching methods:\n",
        " * $\\texttt{startswith}$, $\\texttt{endswith}$, $\\texttt{find}$, $\\texttt{replace}$\n",
        "* Splitting and joining string (string to list and list to string)\n",
        " * $\\texttt{split}$ and $\\texttt{join}$"
      ],
      "metadata": {
        "id": "wjJmTpPrEg_-"
      }
    }
  ]
}