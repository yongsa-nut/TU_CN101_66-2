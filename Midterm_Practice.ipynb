{
  "nbformat": 4,
  "nbformat_minor": 0,
  "metadata": {
    "colab": {
      "provenance": [],
      "authorship_tag": "ABX9TyNhx/apti1L/nZ09Srf8jiJ",
      "include_colab_link": true
    },
    "kernelspec": {
      "name": "python3",
      "display_name": "Python 3"
    },
    "language_info": {
      "name": "python"
    }
  },
  "cells": [
    {
      "cell_type": "markdown",
      "metadata": {
        "id": "view-in-github",
        "colab_type": "text"
      },
      "source": [
        "<a href=\"https://colab.research.google.com/github/yongsa-nut/TU_Intro_Prog/blob/main/Midterm_Practice.ipynb\" target=\"_parent\"><img src=\"https://colab.research.google.com/assets/colab-badge.svg\" alt=\"Open In Colab\"/></a>"
      ]
    },
    {
      "cell_type": "markdown",
      "source": [
        "**Q1**: What will the following program print out? Assume the user input 3 and 5.\n",
        "\n",
        "```\n",
        "x = int(input('Enter x: '))\n",
        "y = int(input('Enter y: '))\n",
        "\n",
        "print(f'{x+y+10*5:.2f}, {x+y**2/2:.3f}')\n",
        "```"
      ],
      "metadata": {
        "id": "7anfGvNn1LpJ"
      }
    },
    {
      "cell_type": "code",
      "execution_count": null,
      "metadata": {
        "id": "lTgvEBDf1FLJ"
      },
      "outputs": [],
      "source": []
    },
    {
      "cell_type": "markdown",
      "source": [
        "**Q2**: Fill in the blanks so that the statement below print out the following:\n",
        "\n",
        "```\n",
        "1 2 2.5 25\n",
        "```\n",
        "```\n",
        "print(5 __ 2, 5 __ 2, 5 __ 2, 5 __ 2)\n",
        "```"
      ],
      "metadata": {
        "id": "gCsk_Azj1N9K"
      }
    },
    {
      "cell_type": "code",
      "source": [],
      "metadata": {
        "id": "9JWYsBAm1QPU"
      },
      "execution_count": null,
      "outputs": []
    },
    {
      "cell_type": "markdown",
      "source": [
        "**Q3**: What will the following program output?\n",
        "\n",
        "```\n",
        "if 10 < 5:\n",
        "  print('a', end='')\n",
        "else:\n",
        "  print('b', end='')\n",
        "if 10 > 5 and 5 > 20:\n",
        "  print('c', end='')\n",
        "elif 7 == 5 or 6 > 3:\n",
        "  print('d', end='')\n",
        "if 3%2 == 1:\n",
        "  print('e', end='')\n",
        "```"
      ],
      "metadata": {
        "id": "cZbM7SiphAYi"
      }
    },
    {
      "cell_type": "code",
      "source": [],
      "metadata": {
        "id": "hTlal0lHhCkx"
      },
      "execution_count": null,
      "outputs": []
    },
    {
      "cell_type": "markdown",
      "source": [
        "**Q4**: Fill a number in the blank (__) so that the following program print out 'D'\n",
        "\n",
        "```\n",
        "num = __\n",
        "if num >= 49:\n",
        "  print('A')\n",
        "else:\n",
        "  if num < 45 or num > 60:\n",
        "    print('B')\n",
        "  elif num % 5 == 0 or num%2==0:\n",
        "    print('C')\n",
        "  else:\n",
        "    print('D')\n",
        "```"
      ],
      "metadata": {
        "id": "tmG9NkijhKLA"
      }
    },
    {
      "cell_type": "code",
      "source": [],
      "metadata": {
        "id": "uxOXpo8ThLsI"
      },
      "execution_count": null,
      "outputs": []
    },
    {
      "cell_type": "markdown",
      "source": [
        "**Q5**: What will the following program print out?\n",
        "\n",
        "```\n",
        "a = 'HELLO' == 'hello'\n",
        "b = 'There' > 'THERE'\n",
        "\n",
        "print(f'{a or not b}')\n",
        "```"
      ],
      "metadata": {
        "id": "Uy-RRBy3hMPb"
      }
    },
    {
      "cell_type": "code",
      "source": [],
      "metadata": {
        "id": "86fsjHTOhNfe"
      },
      "execution_count": null,
      "outputs": []
    },
    {
      "cell_type": "markdown",
      "source": [
        "**Q6**: Fill in the blank so that the code print out 7 4 1\n",
        "\n",
        "```\n",
        "for i in _____:\n",
        "  print(i, end=' ')\n",
        "```"
      ],
      "metadata": {
        "id": "8rsrFb7ShN7D"
      }
    },
    {
      "cell_type": "code",
      "source": [],
      "metadata": {
        "id": "gEvKuh8yhPPT"
      },
      "execution_count": null,
      "outputs": []
    },
    {
      "cell_type": "markdown",
      "source": [
        "**Q7**: What will the following code print out?\n",
        "\n",
        "```\n",
        "x = 0\n",
        "total = 0\n",
        "while x < 2:\n",
        "  x += 1\n",
        "  for i in range(x):\n",
        "    total += x\n",
        "print(total)\n",
        "```"
      ],
      "metadata": {
        "id": "5HysHqUMhPfO"
      }
    },
    {
      "cell_type": "code",
      "source": [],
      "metadata": {
        "id": "FQ3zRAuDhQwV"
      },
      "execution_count": null,
      "outputs": []
    },
    {
      "cell_type": "markdown",
      "source": [
        "**Q8**: What will the following code print out?\n",
        "\n",
        "```\n",
        "y = 0\n",
        "for num in [1, 5, 4, 7, 0]:\n",
        "  for i in range(num, 3):\n",
        "    y -= 1  \n",
        "print(y)\n",
        "```"
      ],
      "metadata": {
        "id": "OzuOTFI6hQ_9"
      }
    },
    {
      "cell_type": "code",
      "source": [],
      "metadata": {
        "id": "N44gjLV5hSbL"
      },
      "execution_count": null,
      "outputs": []
    },
    {
      "cell_type": "markdown",
      "source": [
        "**Q9**: Fix the error of the following code.\n",
        "\n",
        "```\n",
        "x = input('Enter x:')\n",
        "x /= 5\n",
        "print(x, x+1)\n",
        "```"
      ],
      "metadata": {
        "id": "qFy2SAwKhS2J"
      }
    },
    {
      "cell_type": "code",
      "source": [],
      "metadata": {
        "id": "69zXQSgP34jZ"
      },
      "execution_count": null,
      "outputs": []
    },
    {
      "cell_type": "markdown",
      "source": [
        "**Q10:** Fill in the blank (_) so that the program print out 8.\n",
        "\n",
        "```\n",
        "num = 10\n",
        "count = 0\n",
        "while num > 0:\n",
        "  num = num _ 2\n",
        "  count += num\n",
        "print(count)\n",
        "```"
      ],
      "metadata": {
        "id": "tu7lEqa-hUw1"
      }
    },
    {
      "cell_type": "code",
      "source": [],
      "metadata": {
        "id": "Kf3jO5PdhVuy"
      },
      "execution_count": null,
      "outputs": []
    },
    {
      "cell_type": "markdown",
      "source": [
        "**Q11**: What will the following program print out?\n",
        "\n",
        "```\n",
        "numbers = [5, 10, 15, 20, 77]\n",
        "count = 0\n",
        "for number in numbers:\n",
        "  if number % 5 == 0 and number % 2 == 0:\n",
        "    count += 3\n",
        "  elif number % 5 == 0:\n",
        "    count += 1\n",
        "  elif number % 2 == 0:\n",
        "    count -= 10\n",
        "print(count)\n",
        "```"
      ],
      "metadata": {
        "id": "tlvp9IfLhWGY"
      }
    },
    {
      "cell_type": "code",
      "source": [],
      "metadata": {
        "id": "zGzpgut1hXtY"
      },
      "execution_count": null,
      "outputs": []
    },
    {
      "cell_type": "markdown",
      "source": [
        "**Q12**: What will the following program print out?\n",
        "\n",
        "```\n",
        "target = 'j'  \n",
        "count = 0\n",
        "for word in ['a','A','z','Z','j','jJ']:\n",
        "  if word > target:\n",
        "    count += 1\n",
        "print(count)\n",
        "```"
      ],
      "metadata": {
        "id": "Jyp89ycxhX_4"
      }
    },
    {
      "cell_type": "code",
      "source": [],
      "metadata": {
        "id": "ziOdwIx0hZR1"
      },
      "execution_count": null,
      "outputs": []
    },
    {
      "cell_type": "markdown",
      "source": [
        "**Q13**: What will the following program print out?\n",
        "\n",
        "```\n",
        "x = 0\n",
        "\n",
        "while x < 3:\n",
        "  for i in range(x+6, x+x, -2):\n",
        "    print(i, end='- ')\n",
        "  for j in range(x, x+1, 1):\n",
        "    print(j, end='+ ')\n",
        "  x += 2\n",
        "```"
      ],
      "metadata": {
        "id": "WugfsBhQhZqj"
      }
    },
    {
      "cell_type": "code",
      "source": [],
      "metadata": {
        "id": "_7xnCrdZhau_"
      },
      "execution_count": null,
      "outputs": []
    },
    {
      "cell_type": "markdown",
      "source": [
        "**Q14**: What will the following program print out?\n",
        "\n",
        "```\n",
        "count = 0\n",
        "for i in range(5, 10, 2):\n",
        "  for j in range(10, 1, -3):\n",
        "    if (i + j)%2 == 0:\n",
        "      count+=1\n",
        "print(count)\n",
        "```"
      ],
      "metadata": {
        "id": "HZB2RFgWhdDX"
      }
    },
    {
      "cell_type": "code",
      "source": [],
      "metadata": {
        "id": "ghtwzClbhcUb"
      },
      "execution_count": null,
      "outputs": []
    },
    {
      "cell_type": "markdown",
      "source": [
        "**Q15**: What wil lthe following program print out?\n",
        "\n",
        "```\n",
        "for i in range(5):\n",
        "  if i < 3:\n",
        "    x = i\n",
        "    while x > 0:\n",
        "      print(f'{x}', end=' ')\n",
        "      x -= 1\n",
        "  else:\n",
        "    for j in range(i,i*2+1,2):\n",
        "      print(j, end=' ')\n",
        "```\n"
      ],
      "metadata": {
        "id": "xAxwpwOfhfSw"
      }
    },
    {
      "cell_type": "code",
      "source": [],
      "metadata": {
        "id": "EQgQliWUhc3S"
      },
      "execution_count": null,
      "outputs": []
    },
    {
      "cell_type": "markdown",
      "source": [
        "**Q16**:\n",
        "Write a program to calculate and classify a user's behavior score.\n",
        "\n",
        "The program first receives an initial behavior score.\n",
        "<br> Next, the program receives an integer $n$ for the number of times the user receives a penalty.\n",
        "<br> Afterward, the program receives $n$ integers for penalties. The initial behavior score is reduced by the total of all penalties.\n",
        "\n",
        "Finally, the remaining score is classified based on the following criteria:\n",
        "* If the score is at least 80, your grade is Excellent.\n",
        "* If the score is between 60 and 79 (inclusive), your grade is Good.\n",
        "* If the score is below 60, your grade is Bad.\n",
        "\n",
        "**Input**\n",
        "* An integer for the initial behavior score.\n",
        "* An integer $n$ for the number of test scores\n",
        "* $n$ integer numbers for test scores.\n",
        "\n",
        "**Output**\n",
        "* print out the remaining behavior score and the grade of your behavior score.\n",
        "\n",
        "Example\n",
        "```\n",
        "Enter the intial behavior score: 100\n",
        "Number of penalties: 3\n",
        "Enter penalty: 10\n",
        "Enter penalty: 10\n",
        "Enter penalty: 15\n",
        "The remaining behavior score is 65 and the grade is Good.\n",
        "```\n",
        "\n",
        "```\n",
        "Enter the intial behavior score: 120\n",
        "Number of penalties: 5\n",
        "Enter penalty: 20\n",
        "Enter penalty: 30\n",
        "Enter penalty: 15\n",
        "Enter penalty: 10\n",
        "Enter penalty: 5\n",
        "The remaining behavior score is 40 and the grade is Bad.\n",
        "```"
      ],
      "metadata": {
        "id": "LRfVdHajwu5a"
      }
    },
    {
      "cell_type": "code",
      "source": [
        "\n",
        "\n",
        "\n",
        "\n",
        "\n",
        "\n"
      ],
      "metadata": {
        "id": "ESVt7MeL58u6"
      },
      "execution_count": null,
      "outputs": []
    },
    {
      "cell_type": "markdown",
      "source": [
        "**Q17** Cashier Program Ver 3\n",
        "\n",
        "Welcome to another cashier program. This time we are selling food products as follows: eggs (5 baht each) and milks (20 baht each). Importantly, we are selling them in dozen (12 per order).\n",
        "\n",
        "The customers can get discounts based on the following conditions.\n",
        "\n",
        "* If they buy at least 50 eggs, they get a 30% discount on eggs.\n",
        "* If they buy at least 75 milks, they get a 20% discount on milks.\n",
        "* If they buy at least 100 eggs and 100 milks, they also get another 100 baht discount.\n",
        "\n",
        "Finally, the cusotmers have to pay a 10% sale tax of the total payment calculated after all the promotions.\n",
        "\n",
        "**Input**\n",
        "* Eggs (in dozen)\n",
        "* Milks (in dozen)\n",
        "\n",
        "**Output**\n",
        "* The total payment before any discounts and sale tax in two decimal places.\n",
        "* The payment after all the discounts but before sale tax in two decimal places.\n",
        "* The final payment after all the discounts and the sale tax.\n",
        "\n",
        "**Note**\n",
        "* Use Named Constant\n",
        "\n",
        "Example\n",
        "\n",
        "```\n",
        "Enter the number of eggs (dozen): 1\n",
        "Enter the number of milks (dozen): 5\n",
        "The original payment is 1260.00 Baht.\n",
        "The payment after discount is 1260.00 Bath.\n",
        "The final payment is 1386.00 Bath.\n",
        "```\n",
        "\n",
        "```\n",
        "Enter the number of eggs (dozen): 10\n",
        "Enter the number of milks (dozen): 10\n",
        "The original payment is 3000.00 Baht.\n",
        "The payment after discount is 2240.00 Baht.\n",
        "The final payment is 2464.00 Baht.\n",
        "```\n",
        "\n",
        "```\n",
        "Enter the number of eggs (dozen): 5\n",
        "Enter the number of milks (dozen): 5\n",
        "The original payment is 1500.00 Baht.\n",
        "The payment after discount is 1410.00 Baht.\n",
        "The final payment is 1551.00 Baht.\n",
        "```\n",
        "\n",
        "```\n",
        "Enter the number of eggs (dozen): 3\n",
        "Enter the number of milks (dozen): 10\n",
        "The original payment is 2580.00 Baht.\n",
        "The payment after discount is 2100.00 Baht.\n",
        "The final payment is 2310.00 Baht.\n",
        "```\n"
      ],
      "metadata": {
        "id": "jn_UOVW12fZS"
      }
    },
    {
      "cell_type": "code",
      "source": [
        "\n",
        "\n",
        "\n",
        "\n",
        "\n"
      ],
      "metadata": {
        "id": "5CdqrTo7574j"
      },
      "execution_count": null,
      "outputs": []
    },
    {
      "cell_type": "markdown",
      "source": [
        "**Q18**: Converting seconds to MM:SS\n",
        "\n",
        "Write a program that takes in second and convert it to HH:MM:SS format.\n",
        "\n",
        "**Input**\n",
        "* An integer between 0 - 3599. (Don't need to check)\n",
        "\n",
        "**Output**\n",
        "* print out 'MM:SS'\n",
        "\n",
        "\n",
        "Example:\n",
        "```\n",
        "Enter the second: 5\n",
        "00:05\n",
        "\n",
        "```\n",
        "\n",
        "```\n",
        "Enter the second: 67\n",
        "01:07\n",
        "```\n",
        "\n",
        "```\n",
        "Enter the second: 3599\n",
        "59:59\n",
        "```"
      ],
      "metadata": {
        "id": "dmKENvYy59dd"
      }
    },
    {
      "cell_type": "code",
      "source": [
        "\n",
        "\n",
        "\n",
        "\n"
      ],
      "metadata": {
        "id": "0JQUtkjnwxRE"
      },
      "execution_count": null,
      "outputs": []
    }
  ]
}