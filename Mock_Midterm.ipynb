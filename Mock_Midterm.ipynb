{
  "nbformat": 4,
  "nbformat_minor": 0,
  "metadata": {
    "colab": {
      "provenance": [],
      "authorship_tag": "ABX9TyPVCfqVd6haWgbwZUkYgB10",
      "include_colab_link": true
    },
    "kernelspec": {
      "name": "python3",
      "display_name": "Python 3"
    },
    "language_info": {
      "name": "python"
    }
  },
  "cells": [
    {
      "cell_type": "markdown",
      "metadata": {
        "id": "view-in-github",
        "colab_type": "text"
      },
      "source": [
        "<a href=\"https://colab.research.google.com/github/yongsa-nut/TU_Intro_Prog/blob/main/Mock_Midterm.ipynb\" target=\"_parent\"><img src=\"https://colab.research.google.com/assets/colab-badge.svg\" alt=\"Open In Colab\"/></a>"
      ]
    },
    {
      "cell_type": "markdown",
      "source": [
        "**Q1**: Fill in the blank so that the program outputs 9 and 6.\n",
        "\n",
        "```\n",
        "x = 69\n",
        "first = x _ 60\n",
        "second = x _ 10\n",
        "print(first, second)\n",
        "```"
      ],
      "metadata": {
        "id": "yKl-NL9Pb3zq"
      }
    },
    {
      "cell_type": "code",
      "source": [],
      "metadata": {
        "id": "IDHphIGub5fs"
      },
      "execution_count": null,
      "outputs": []
    },
    {
      "cell_type": "markdown",
      "source": [
        "**Q5**: What will the following code print out?\n",
        "```\n",
        "num = 10\n",
        "x = 5\n",
        "num = x + num ** 2 /5 - x * 3\n",
        "x = 10\n",
        "print(num)\n",
        "```"
      ],
      "metadata": {
        "id": "Z6OdpzHccByH"
      }
    },
    {
      "cell_type": "code",
      "source": [],
      "metadata": {
        "id": "7Rytji50cBBq"
      },
      "execution_count": null,
      "outputs": []
    },
    {
      "cell_type": "markdown",
      "source": [
        "**Q3**: What will the following code print out? Assume inputs are 2 and 4 respectively.\n",
        "```\n",
        "x = int(input('Enter a number '))\n",
        "y = int(input('Enter a number: '))\n",
        "print(f\"Output = {10-y**x+10*3:.2f}\")\n",
        "```"
      ],
      "metadata": {
        "id": "zthvn2pecJbT"
      }
    },
    {
      "cell_type": "code",
      "source": [],
      "metadata": {
        "id": "tz6zGqfYcKat"
      },
      "execution_count": null,
      "outputs": []
    },
    {
      "cell_type": "markdown",
      "source": [
        "**Q4**: What will the following program output?\n",
        "```\n",
        "num1 = 10\n",
        "num2 = 8\n",
        "num3 = 4\n",
        "\n",
        "if num1 > num2 and (num2-num2) == 0:\n",
        "  num2 = num2//2\n",
        "if num3 < num2 or num2 / num1 != 0:\n",
        "  num1 = num1 * 2\n",
        "  num2 = num2 - num3\n",
        "  num3 = num2 + num3\n",
        "else:\n",
        "  num3 = num3 * 2\n",
        "  num1 = num3 - num1\n",
        "  num2 = num2 + num2\n",
        "\n",
        "print(num1, num2, num3)\n",
        "```"
      ],
      "metadata": {
        "id": "IgACYVoyap_T"
      }
    },
    {
      "cell_type": "code",
      "source": [],
      "metadata": {
        "id": "gKlRhswwariC"
      },
      "execution_count": null,
      "outputs": []
    },
    {
      "cell_type": "markdown",
      "source": [
        "**Q5**: What will the following program output?\n",
        "\n",
        "```\n",
        "a = False\n",
        "b = False\n",
        "c = False\n",
        "\n",
        "if a and not b and not c:\n",
        "  print(\"First\")\n",
        "elif a or not b and not c:\n",
        "  print(\"Second\")\n",
        "else:\n",
        "  print(\"Third\")\n",
        "```"
      ],
      "metadata": {
        "id": "3xRANpZWawrt"
      }
    },
    {
      "cell_type": "code",
      "source": [],
      "metadata": {
        "id": "4gda0B-zaxcd"
      },
      "execution_count": null,
      "outputs": []
    },
    {
      "cell_type": "markdown",
      "source": [
        "**Q6**: What will the following program output?\n",
        "\n",
        "```\n",
        "x = 1\n",
        "for i in range(x, x*5, 2):\n",
        "  if i > x:\n",
        "    print(i, end=' ')\n",
        "for i in range(x*10+2, x, -2):\n",
        "  if i % 3 == 1:\n",
        "    print(i, end=' ')\n",
        "```"
      ],
      "metadata": {
        "id": "VPRYcNIraxrW"
      }
    },
    {
      "cell_type": "code",
      "source": [],
      "metadata": {
        "id": "HQyDU_tLazlt"
      },
      "execution_count": null,
      "outputs": []
    },
    {
      "cell_type": "markdown",
      "source": [
        "**Q7**: What will the following program print out?\n",
        "\n",
        "```\n",
        "LIMIT = 40\n",
        "\n",
        "num = 1\n",
        "total = 0\n",
        "count = 0\n",
        "\n",
        "while total + num < LIMIT:\n",
        "  total += num\n",
        "  count += 1\n",
        "  num *= 3\n",
        "\n",
        "print(f'{total} {count}')\n",
        "```"
      ],
      "metadata": {
        "id": "q9ogURXVDiV_"
      }
    },
    {
      "cell_type": "code",
      "source": [],
      "metadata": {
        "id": "dGo-fqyXDh6r"
      },
      "execution_count": null,
      "outputs": []
    },
    {
      "cell_type": "markdown",
      "source": [
        "**Q8**: What will the following program output?\n",
        "\n",
        "```\n",
        "total = 0\n",
        "for num in range(5, 5):\n",
        "  total += num\n",
        "for num in range(0, 12, 3):\n",
        "  total += num\n",
        "for num in range(5, 1, -2):\n",
        "  total += num\n",
        "print(total)\n",
        "```"
      ],
      "metadata": {
        "id": "NN5XMniva1nI"
      }
    },
    {
      "cell_type": "code",
      "source": [],
      "metadata": {
        "id": "TEKNbzYya1J2"
      },
      "execution_count": null,
      "outputs": []
    },
    {
      "cell_type": "markdown",
      "source": [
        "**Q9**: What $\\texttt{x}$ needs to be to make the following program output \"Third\"?\n",
        "\n",
        "```\n",
        "x = _\n",
        "if x > 10*2:\n",
        "  print(\"First\")\n",
        "elif (x**2) + 5 > 20:\n",
        "  print(\"Second\")\n",
        "elif (x%2==1) and (x+5) > 6:\n",
        "  print(\"Third\")\n",
        "else:\n",
        "  print(\"Fourth\")\n",
        "```"
      ],
      "metadata": {
        "id": "HDH4Bsm-a4Qw"
      }
    },
    {
      "cell_type": "code",
      "source": [],
      "metadata": {
        "id": "vdihjX8Ya41L"
      },
      "execution_count": null,
      "outputs": []
    },
    {
      "cell_type": "markdown",
      "source": [
        "**Q10**: What will the code below print out?\n",
        "\n",
        "```\n",
        "total = 0\n",
        "for var in [1, 7, 10, 17, 20]:\n",
        "  if var % 5 == 0:\n",
        "    total += var\n",
        "  else:\n",
        "    total += 7\n",
        "print(total)\n",
        "```"
      ],
      "metadata": {
        "id": "r5Q8uvuYgcpx"
      }
    },
    {
      "cell_type": "code",
      "source": [],
      "metadata": {
        "id": "8xFlZYN2gcDN"
      },
      "execution_count": null,
      "outputs": []
    },
    {
      "cell_type": "markdown",
      "source": [
        "**Q11**: Fill in the blank so that the program print out 4 2 0 -2 -4\n",
        "\n",
        "```\n",
        "for i in range(______):\n",
        "  print(i, end=' ')\n",
        "```"
      ],
      "metadata": {
        "id": "MJS0ib8OhPNu"
      }
    },
    {
      "cell_type": "code",
      "source": [],
      "metadata": {
        "id": "W6ltA6dPutJi"
      },
      "execution_count": null,
      "outputs": []
    },
    {
      "cell_type": "markdown",
      "source": [
        "**Q12**: Write the output of the following program:\n",
        "\n",
        "```\n",
        "n = 2\n",
        "\n",
        "while n >= 0:\n",
        "  for i in range(n, n*3+1, 3):\n",
        "    print(i, end=' ')\n",
        "  for j in range(n + 2, n - 2, -2):\n",
        "    print(j+1, end=' ')\n",
        "  n -= 2\n",
        "```"
      ],
      "metadata": {
        "id": "WB_TaxF4ulQF"
      }
    },
    {
      "cell_type": "code",
      "source": [],
      "metadata": {
        "id": "nkI-q5dFur1E"
      },
      "execution_count": null,
      "outputs": []
    },
    {
      "cell_type": "markdown",
      "source": [
        "**Q13**: Write the output of the following program:\n",
        "```\n",
        "count = 0\n",
        "for i in range(1, 7, 2):\n",
        "  for j in range(6, 0, -3):\n",
        "    if (i+j) >= 6:\n",
        "      count += 1\n",
        "print(f\"count = {count}\")\n",
        "```"
      ],
      "metadata": {
        "id": "Ci3h9-8UunnN"
      }
    },
    {
      "cell_type": "code",
      "source": [],
      "metadata": {
        "id": "FxrEXf52urm8"
      },
      "execution_count": null,
      "outputs": []
    },
    {
      "cell_type": "markdown",
      "source": [
        "**Q14**: Write the output of the following program:\n",
        "```\n",
        "count = 0\n",
        "names = ['Adam','Sophia','Noah','Mary','Nico','John']\n",
        "my_name = 'Nut'\n",
        "for name in names:\n",
        "  if my_name > names:\n",
        "     count += 1\n",
        "print(count)\n",
        "```"
      ],
      "metadata": {
        "id": "8FI_cC3euqMz"
      }
    },
    {
      "cell_type": "code",
      "source": [],
      "metadata": {
        "id": "oC1eLQBbuthB"
      },
      "execution_count": null,
      "outputs": []
    },
    {
      "cell_type": "markdown",
      "source": [
        "**Q15**: Write the output of the following program:\n",
        "\n",
        "```\n",
        "total = 0\n",
        "for i in range(1, 6):\n",
        "  if i % 2 == 0:\n",
        "     for j in range(i//2,i):\n",
        "        total += (i+j)%3\n",
        "print(total)\n",
        "```"
      ],
      "metadata": {
        "id": "G8zJXe8fut8H"
      }
    },
    {
      "cell_type": "code",
      "source": [],
      "metadata": {
        "id": "1pgMML7Tuvb7"
      },
      "execution_count": null,
      "outputs": []
    },
    {
      "cell_type": "markdown",
      "source": [
        "\n",
        "\n",
        "---\n",
        "\n"
      ],
      "metadata": {
        "id": "CyNHvRi6edlF"
      }
    },
    {
      "cell_type": "markdown",
      "source": [
        "**Q16**: Creating a mixed drink\n",
        "\n",
        "In this program, we are going to mix lots of random drinks together. <br> You are given a cylinder tank to mix a drink. The tank has a radius of 5 cm and a height of 30 cm. <br> Then you will receive one drink at a time to pour into the tank. You will always pour the whole bottle. <br> If you cannot pour the whole bottle into the tank (because it will overflow), you stop. <br> We want to know how many drinks you end up pouring into the tank without overflow and how much would it cost in total.\n",
        "\n",
        "\n",
        "**Input**:\n",
        "* A float number for the volumn of the drink in ml.\n",
        "* The price of the drink\n",
        "\n",
        "**Output**\n",
        "* After successfully pouring each drink, you will display the total volumn (ml) of all drinks so far in two decimals and the total cost so far.\n",
        "* Once you cannot pour any more drink, you will display the total volumn of the tank, the remaining volumn of the tank, and the total cost. All in 2 decimal places. Finally, print out the number of drink.\n",
        "\n",
        "**Note**\n",
        "* Use $\\pi$ = 3.14\n",
        "* Cylinder formula is $\\pi r^2h$\n",
        "* Use Named Constant\n",
        "\n",
        "Example\n",
        "```\n",
        "Enter the bottle's volumn: 500\n",
        "Enter the drink's price: 10\n",
        "Total drink's volumn = 500.00, Total cost = 10.00, Total drink = 1\n",
        "\n",
        "Enter the bottle's volumn: 550\n",
        "Enter the drink's price: 20\n",
        "Total drink's volumn = 1050.00, Total cost = 30.00, Total drink = 2\n",
        "\n",
        "Enter the bottle's volumn: 600\n",
        "Enter the drink's price: 30\n",
        "Total drink's volumn = 1650.00, Total cost = 60.00, Total drink = 3\n",
        "\n",
        "Enter the bottle's volumn: 550\n",
        "Enter the drink's price: 20\n",
        "Total drink's volumn = 2200.00, Total cost = 80.00, Total drink = 4\n",
        "\n",
        "Enter the bottle's volumn: 300\n",
        "Enter the drink's price: 30\n",
        "\n",
        "The total drink's volumn is 2200.00\n",
        "The remaining volumn of the tank is 155.00\n",
        "The total cost is 80.00\n",
        "The total number of bottle is 4\n",
        "```\n",
        "\n",
        "```\n",
        "Enter the bottle's volumn: 100\n",
        "Enter the drink's price: 100\n",
        "Total drink's volumn = 100.00, Total cost = 100.00, Total drink = 1\n",
        "\n",
        "Enter the bottle's volumn: 1000\n",
        "Enter the drink's price: 200\n",
        "Total drink's volumn = 1100.00, Total cost = 300.00, Total drink = 2\n",
        "\n",
        "Enter the bottle's volumn: 1200\n",
        "Enter the drink's price: 250\n",
        "Total drink's volumn = 2300.00, Total cost = 550.00, Total drink = 3\n",
        "\n",
        "Enter the bottle's volumn: 500\n",
        "Enter the drink's price: 10\n",
        "\n",
        "The total drink's volumn is 2300.00\n",
        "The remaining volumn of the tank is 55.00\n",
        "The total cost is 550.00\n",
        "The total number of bottle is 3\n",
        "```\n",
        "\n",
        "```\n",
        "Enter the bottle's volumn: 2500\n",
        "Enter the drink's price: 300\n",
        "\n",
        "The total drink's volumn is 0.00\n",
        "The remaining volumn of the tank is 2355.00\n",
        "The total cost is 0.00\n",
        "The total number of bottle is 0\n",
        "```"
      ],
      "metadata": {
        "id": "x8v5xW3ja_qy"
      }
    },
    {
      "cell_type": "code",
      "source": [
        "# Named Constant\n",
        "\n",
        "\n",
        "\n",
        "# Initial Accumulator Variables\n",
        "count = 0\n",
        "\n",
        "\n",
        "tank_volumn =          #Calculate the cylinder volumn\n",
        "\n",
        "# Input\n",
        "\n",
        "\n",
        "while  #check you can pour the whole new drink to the tank\n",
        "  ## Update accumulator variables\n",
        "  total_vol   =\n",
        "  total_cost  =\n",
        "  count      += 1\n",
        "  print(f\"Total drink's volumn = {total_vol:.2f}, Total cost = {total_cost:.2f}, Total drink = {count}\")\n",
        "  print()\n",
        "  # New input\n",
        "\n",
        "\n",
        "#Output\n",
        "\n",
        "\n",
        "\n"
      ],
      "metadata": {
        "id": "pcXwndsPbCN6"
      },
      "execution_count": null,
      "outputs": []
    },
    {
      "cell_type": "markdown",
      "source": [
        "**Q17** Let's make milk puddings\n",
        "\n",
        "Let's buy some more eggs and milk to make some milk puddings this time!\n",
        "To make one BIG pudding, it requires 10 eggs and 3 bottles of milk. This time the inputs will be the price of egg and the price of milk and the number of pudding we want to make. As usual, you will get some discount if you buy a lot of eggs and milks as follow.\n",
        "\n",
        "* If you buy at least 30 eggs, you will get 20% discount on eggs.\n",
        "* If you buy at least 20 bottles of milks, you will get 10% discount on milk.\n",
        "\n",
        "Print out the total cost.\n",
        "\n",
        "**input**\n",
        "* The price of egg\n",
        "* The price of milk\n",
        "* The number of puddings to be made\n",
        "\n",
        "**Output**\n",
        "* The original total cost in two decimal places.\n",
        "* The discounted cost in two decimal places.\n",
        "\n",
        "**Note**\n",
        "* Use Named Constant\n",
        "\n",
        "Examples\n",
        "```\n",
        "Enter the price of an egg: 5\n",
        "Enter the price of milk: 20\n",
        "Enter the number of pudding to be made: 10\n",
        "The original cost is 1100.00\n",
        "The discounted cost is 940.00\n",
        "```\n",
        "\n",
        "```\n",
        "Enter the price of an egg: 10\n",
        "Enter the price of milk: 20\n",
        "Enter the number of pudding to be made: 2\n",
        "The original cost is 320.00\n",
        "The discounted cost is 320.00\n",
        "```\n",
        "\n",
        "```\n",
        "Enter the price of an egg: 10\n",
        "Enter the price of milk: 30\n",
        "Enter the number of pudding to be made: 20\n",
        "The original cost is 3800.00\n",
        "The discounted cost is 3220.00\n",
        "```"
      ],
      "metadata": {
        "id": "t42BaESpEmP9"
      }
    },
    {
      "cell_type": "code",
      "source": [],
      "metadata": {
        "id": "VcubH50YlY82"
      },
      "execution_count": null,
      "outputs": []
    }
  ]
}